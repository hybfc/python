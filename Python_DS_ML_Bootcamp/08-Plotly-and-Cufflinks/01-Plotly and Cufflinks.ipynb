{
 "cells": [
  {
   "cell_type": "markdown",
   "metadata": {},
   "source": [
    "___\n",
    "\n",
    "<a href='http://www.pieriandata.com'> <img src='../Pierian_Data_Logo.png' /></a>\n",
    "___\n",
    "# Plotly and Cufflinks"
   ]
  },
  {
   "cell_type": "markdown",
   "metadata": {},
   "source": [
    "Plotly is a library that allows you to create interactive plots that you can use in dashboards or websites (you can save them as html files or static images).\n",
    "\n",
    "## Installation\n",
    "\n",
    "In order for this all to work, you'll need to install plotly and cufflinks to call plots directly off of a pandas dataframe. These libraries are not currently available through **conda** but are available through **pip**. Install the libraries at your command line/terminal using:\n",
    "\n",
    "    pip install plotly\n",
    "    pip install cufflinks\n",
    "\n",
    "** NOTE: Make sure you only have one installation of Python on your computer when you do this, otherwise the installation may not work. **\n",
    "\n",
    "## Imports and Set-up"
   ]
  },
  {
   "cell_type": "code",
   "execution_count": 21,
   "metadata": {},
   "outputs": [],
   "source": [
    "import pandas as pd\n",
    "import numpy as np\n",
    "%matplotlib inline"
   ]
  },
  {
   "cell_type": "code",
   "execution_count": 22,
   "metadata": {},
   "outputs": [],
   "source": [
    "#!pip install plotly\n",
    "#!pip install cufflinks"
   ]
  },
  {
   "cell_type": "code",
   "execution_count": 23,
   "metadata": {},
   "outputs": [
    {
     "name": "stdout",
     "output_type": "stream",
     "text": [
      "5.5.0\n"
     ]
    }
   ],
   "source": [
    "from plotly import __version__\n",
    "from plotly.offline import download_plotlyjs, init_notebook_mode, plot, iplot\n",
    "\n",
    "print(__version__) # requires version >= 1.9.0"
   ]
  },
  {
   "cell_type": "code",
   "execution_count": 24,
   "metadata": {},
   "outputs": [],
   "source": [
    "import cufflinks as cf"
   ]
  },
  {
   "cell_type": "code",
   "execution_count": 25,
   "metadata": {},
   "outputs": [
    {
     "data": {
      "text/html": [
       "        <script type=\"text/javascript\">\n",
       "        window.PlotlyConfig = {MathJaxConfig: 'local'};\n",
       "        if (window.MathJax) {MathJax.Hub.Config({SVG: {font: \"STIX-Web\"}});}\n",
       "        if (typeof require !== 'undefined') {\n",
       "        require.undef(\"plotly\");\n",
       "        requirejs.config({\n",
       "            paths: {\n",
       "                'plotly': ['https://cdn.plot.ly/plotly-2.8.3.min']\n",
       "            }\n",
       "        });\n",
       "        require(['plotly'], function(Plotly) {\n",
       "            window._Plotly = Plotly;\n",
       "        });\n",
       "        }\n",
       "        </script>\n",
       "        "
      ]
     },
     "metadata": {},
     "output_type": "display_data"
    }
   ],
   "source": [
    "# For Notebooks\n",
    "init_notebook_mode(connected=True)"
   ]
  },
  {
   "cell_type": "code",
   "execution_count": 26,
   "metadata": {},
   "outputs": [
    {
     "data": {
      "text/html": [
       "        <script type=\"text/javascript\">\n",
       "        window.PlotlyConfig = {MathJaxConfig: 'local'};\n",
       "        if (window.MathJax) {MathJax.Hub.Config({SVG: {font: \"STIX-Web\"}});}\n",
       "        if (typeof require !== 'undefined') {\n",
       "        require.undef(\"plotly\");\n",
       "        requirejs.config({\n",
       "            paths: {\n",
       "                'plotly': ['https://cdn.plot.ly/plotly-2.8.3.min']\n",
       "            }\n",
       "        });\n",
       "        require(['plotly'], function(Plotly) {\n",
       "            window._Plotly = Plotly;\n",
       "        });\n",
       "        }\n",
       "        </script>\n",
       "        "
      ]
     },
     "metadata": {},
     "output_type": "display_data"
    }
   ],
   "source": [
    "# For offline use\n",
    "cf.go_offline()"
   ]
  },
  {
   "cell_type": "markdown",
   "metadata": {},
   "source": [
    "### Fake Data"
   ]
  },
  {
   "cell_type": "code",
   "execution_count": 27,
   "metadata": {},
   "outputs": [],
   "source": [
    "df = pd.DataFrame(np.random.randn(100,4),columns='A B C D'.split())"
   ]
  },
  {
   "cell_type": "code",
   "execution_count": 28,
   "metadata": {},
   "outputs": [
    {
     "data": {
      "text/html": [
       "<div>\n",
       "<style scoped>\n",
       "    .dataframe tbody tr th:only-of-type {\n",
       "        vertical-align: middle;\n",
       "    }\n",
       "\n",
       "    .dataframe tbody tr th {\n",
       "        vertical-align: top;\n",
       "    }\n",
       "\n",
       "    .dataframe thead th {\n",
       "        text-align: right;\n",
       "    }\n",
       "</style>\n",
       "<table border=\"1\" class=\"dataframe\">\n",
       "  <thead>\n",
       "    <tr style=\"text-align: right;\">\n",
       "      <th></th>\n",
       "      <th>A</th>\n",
       "      <th>B</th>\n",
       "      <th>C</th>\n",
       "      <th>D</th>\n",
       "    </tr>\n",
       "  </thead>\n",
       "  <tbody>\n",
       "    <tr>\n",
       "      <th>0</th>\n",
       "      <td>-1.361396</td>\n",
       "      <td>0.594578</td>\n",
       "      <td>-1.465657</td>\n",
       "      <td>-0.748414</td>\n",
       "    </tr>\n",
       "    <tr>\n",
       "      <th>1</th>\n",
       "      <td>-1.704222</td>\n",
       "      <td>0.660705</td>\n",
       "      <td>0.253199</td>\n",
       "      <td>1.463158</td>\n",
       "    </tr>\n",
       "    <tr>\n",
       "      <th>2</th>\n",
       "      <td>0.329859</td>\n",
       "      <td>-0.843704</td>\n",
       "      <td>-0.669162</td>\n",
       "      <td>-0.138275</td>\n",
       "    </tr>\n",
       "    <tr>\n",
       "      <th>3</th>\n",
       "      <td>2.562389</td>\n",
       "      <td>-1.019648</td>\n",
       "      <td>1.199305</td>\n",
       "      <td>-1.719520</td>\n",
       "    </tr>\n",
       "    <tr>\n",
       "      <th>4</th>\n",
       "      <td>0.596708</td>\n",
       "      <td>-1.645194</td>\n",
       "      <td>-0.209974</td>\n",
       "      <td>1.495075</td>\n",
       "    </tr>\n",
       "  </tbody>\n",
       "</table>\n",
       "</div>"
      ],
      "text/plain": [
       "          A         B         C         D\n",
       "0 -1.361396  0.594578 -1.465657 -0.748414\n",
       "1 -1.704222  0.660705  0.253199  1.463158\n",
       "2  0.329859 -0.843704 -0.669162 -0.138275\n",
       "3  2.562389 -1.019648  1.199305 -1.719520\n",
       "4  0.596708 -1.645194 -0.209974  1.495075"
      ]
     },
     "execution_count": 28,
     "metadata": {},
     "output_type": "execute_result"
    }
   ],
   "source": [
    "df.head()"
   ]
  },
  {
   "cell_type": "code",
   "execution_count": 29,
   "metadata": {},
   "outputs": [],
   "source": [
    "df2 = pd.DataFrame({'Category':['A','B','C'],'Values':[32,43,50]})"
   ]
  },
  {
   "cell_type": "code",
   "execution_count": 30,
   "metadata": {},
   "outputs": [
    {
     "data": {
      "text/html": [
       "<div>\n",
       "<style scoped>\n",
       "    .dataframe tbody tr th:only-of-type {\n",
       "        vertical-align: middle;\n",
       "    }\n",
       "\n",
       "    .dataframe tbody tr th {\n",
       "        vertical-align: top;\n",
       "    }\n",
       "\n",
       "    .dataframe thead th {\n",
       "        text-align: right;\n",
       "    }\n",
       "</style>\n",
       "<table border=\"1\" class=\"dataframe\">\n",
       "  <thead>\n",
       "    <tr style=\"text-align: right;\">\n",
       "      <th></th>\n",
       "      <th>Category</th>\n",
       "      <th>Values</th>\n",
       "    </tr>\n",
       "  </thead>\n",
       "  <tbody>\n",
       "    <tr>\n",
       "      <th>0</th>\n",
       "      <td>A</td>\n",
       "      <td>32</td>\n",
       "    </tr>\n",
       "    <tr>\n",
       "      <th>1</th>\n",
       "      <td>B</td>\n",
       "      <td>43</td>\n",
       "    </tr>\n",
       "    <tr>\n",
       "      <th>2</th>\n",
       "      <td>C</td>\n",
       "      <td>50</td>\n",
       "    </tr>\n",
       "  </tbody>\n",
       "</table>\n",
       "</div>"
      ],
      "text/plain": [
       "  Category  Values\n",
       "0        A      32\n",
       "1        B      43\n",
       "2        C      50"
      ]
     },
     "execution_count": 30,
     "metadata": {},
     "output_type": "execute_result"
    }
   ],
   "source": [
    "df2.head()"
   ]
  },
  {
   "cell_type": "markdown",
   "metadata": {},
   "source": [
    "## Using Cufflinks and iplot()\n",
    "\n",
    "* scatter\n",
    "* bar\n",
    "* box\n",
    "* spread\n",
    "* ratio\n",
    "* heatmap\n",
    "* surface\n",
    "* histogram\n",
    "* bubble"
   ]
  },
  {
   "cell_type": "markdown",
   "metadata": {},
   "source": [
    "## Scatter"
   ]
  },
  {
   "cell_type": "code",
   "execution_count": 31,
   "metadata": {},
   "outputs": [
    {
     "data": {
      "application/vnd.plotly.v1+json": {
       "config": {
        "linkText": "Export to plot.ly",
        "plotlyServerURL": "https://plot.ly",
        "showLink": true
       },
       "data": [
        {
         "line": {
          "color": "rgba(255, 153, 51, 1.0)",
          "dash": "solid",
          "shape": "linear",
          "width": 1.3
         },
         "marker": {
          "size": 10,
          "symbol": "circle"
         },
         "mode": "markers",
         "name": "B",
         "text": "",
         "type": "scatter",
         "x": [
          -1.3613958313944696,
          -1.7042221110976603,
          0.32985945180706433,
          2.5623890066126087,
          0.596708286995235,
          0.38800319766771085,
          2.1317524293432273,
          0.35760794338784785,
          -0.9628933232790114,
          0.38627088480549726,
          0.8896635293826508,
          -1.6302468945724502,
          0.07386680436135416,
          -1.1151510355216823,
          -0.6155421365917353,
          0.6275213279324287,
          -2.4556222736347264,
          -0.08383417273924389,
          1.847724973514263,
          0.64828877590923,
          0.430821002965215,
          0.0819772131258825,
          -0.6954113317997281,
          0.5538137837765824,
          0.10652690868782426,
          0.04367543362827007,
          -0.20957555068664904,
          -0.5725838163454393,
          -1.0763236563997898,
          1.04319273438166,
          0.09258642242772724,
          0.43225507242988825,
          -0.26869321023897175,
          0.041921896996645565,
          -0.32467323207099424,
          -0.7344957992000319,
          -0.9651885449086609,
          -0.6928258307206157,
          1.4808093570403447,
          -0.21072455136641977,
          -1.1143284029071931,
          0.8303048542893865,
          -1.5015722000932357,
          -0.29322894226469476,
          -0.23333041712316752,
          -0.168616155934447,
          -0.0271817210700922,
          1.872542104905962,
          -1.6977709989879104,
          0.414742769773524,
          2.071641724035386,
          0.5919031481223098,
          0.5820259839526,
          0.5214316695874449,
          -0.0832753383668695,
          -0.06956414481057287,
          1.2573832426419724,
          0.5715406037601274,
          -0.4846214406997435,
          -0.25372772850065495,
          0.28854050925277164,
          -0.9485596057710541,
          -1.373777834596028,
          0.27310234363151625,
          -0.9274567404138778,
          1.8607477689148155,
          -0.12484594696679062,
          -1.3439311228394724,
          -0.11484077135462872,
          0.8017107460689338,
          0.640775263433574,
          0.916133496593308,
          -0.5596523377142191,
          0.05929968987011562,
          1.1864731493239193,
          0.5611307949848579,
          0.800800212473385,
          -0.09951818454244196,
          0.06500464655182343,
          -1.3951425978495366,
          -1.5958720331315634,
          0.20369461892878676,
          -1.6652398198832319,
          1.3027571052385063,
          0.2238913383343826,
          0.7469083076274575,
          2.267347947251838,
          2.8703939957693745,
          0.8917597412888287,
          -0.7978904664063126,
          -0.23061901045987301,
          -0.9745725069408219,
          0.8032453264788344,
          0.3461516187280765,
          -0.3616850225889013,
          0.4820547726197181,
          0.8401747022821484,
          1.7080331076772783,
          0.6047580310416393,
          0.9732342431018266
         ],
         "y": [
          0.5945775940443155,
          0.6607047336210673,
          -0.8437041903517836,
          -1.0196475922865398,
          -1.6451940305020725,
          -0.9446778062983598,
          0.05140155149481968,
          -0.8253283431547772,
          -0.5440246470940526,
          -0.16694991002148946,
          -0.12849130965374328,
          -1.0522802451600277,
          -0.943176486637258,
          0.6585327435913522,
          0.5076321513876402,
          -0.09621350675701539,
          0.06868110258768582,
          0.3476254929970094,
          -2.1431397484291086,
          -0.9387651609970239,
          1.4091397671983448,
          0.2926978088249191,
          -2.1235879008892145,
          0.36327572536982977,
          -0.848354295132973,
          -0.16446259168780344,
          1.2233453232620783,
          0.7067666690064024,
          1.335405255140897,
          -0.21415356728892843,
          2.135913148851817,
          -0.07745701729422907,
          0.3213178737468516,
          0.05789801136274323,
          1.4904483068863459,
          -0.27459455717721004,
          -0.6734311352156884,
          0.9048550556107424,
          -1.3906645263897837,
          0.20638710371462188,
          1.0700126783391883,
          0.6520912210548786,
          0.2613971111990068,
          0.7054751114868026,
          -2.241042310534278,
          -0.41284311642952093,
          -0.7961232428958736,
          0.1997007007933289,
          1.1901758428571312,
          -0.39554841374028377,
          -1.7551993694932317,
          -0.3486273764841329,
          1.1267606945858755,
          0.13012150884818804,
          0.6375379958536724,
          -0.7060441750522917,
          0.548794817445413,
          -0.9872537208030995,
          1.8331957173057893,
          0.26343275393885734,
          -1.6493315043256271,
          -0.7423158379419897,
          1.9854935315238043,
          -1.406987489252971,
          1.140856398857627,
          -0.2255926670844332,
          -0.02364392381469881,
          -0.3254822099227199,
          -0.6586788866254313,
          0.6624835540455175,
          -0.40596082091934554,
          0.43014499556221786,
          -0.9180661498922534,
          -0.4196048268973363,
          -0.9328704189872478,
          -0.6661886158711042,
          0.11929323686103088,
          0.22856068775428448,
          0.17743200548477933,
          1.1101163779191947,
          0.27385209562688806,
          -1.041666486628943,
          -0.042098019402314564,
          1.75048347226908,
          0.14845297679328504,
          -0.0903634355093191,
          0.7744733034147091,
          -0.42150008681574186,
          0.6772434890254551,
          1.3540059004049954,
          -0.9284870681669611,
          -0.7098539426580581,
          0.5124495849944696,
          -0.024446337603381302,
          -0.09090482641493863,
          2.53161705160511,
          0.8234278987271646,
          0.5317671802891296,
          -1.2733682617714959,
          1.1793118405149896
         ]
        }
       ],
       "layout": {
        "legend": {
         "bgcolor": "#F5F6F9",
         "font": {
          "color": "#4D5663"
         }
        },
        "paper_bgcolor": "#F5F6F9",
        "plot_bgcolor": "#F5F6F9",
        "template": {
         "data": {
          "bar": [
           {
            "error_x": {
             "color": "#2a3f5f"
            },
            "error_y": {
             "color": "#2a3f5f"
            },
            "marker": {
             "line": {
              "color": "#E5ECF6",
              "width": 0.5
             },
             "pattern": {
              "fillmode": "overlay",
              "size": 10,
              "solidity": 0.2
             }
            },
            "type": "bar"
           }
          ],
          "barpolar": [
           {
            "marker": {
             "line": {
              "color": "#E5ECF6",
              "width": 0.5
             },
             "pattern": {
              "fillmode": "overlay",
              "size": 10,
              "solidity": 0.2
             }
            },
            "type": "barpolar"
           }
          ],
          "carpet": [
           {
            "aaxis": {
             "endlinecolor": "#2a3f5f",
             "gridcolor": "white",
             "linecolor": "white",
             "minorgridcolor": "white",
             "startlinecolor": "#2a3f5f"
            },
            "baxis": {
             "endlinecolor": "#2a3f5f",
             "gridcolor": "white",
             "linecolor": "white",
             "minorgridcolor": "white",
             "startlinecolor": "#2a3f5f"
            },
            "type": "carpet"
           }
          ],
          "choropleth": [
           {
            "colorbar": {
             "outlinewidth": 0,
             "ticks": ""
            },
            "type": "choropleth"
           }
          ],
          "contour": [
           {
            "colorbar": {
             "outlinewidth": 0,
             "ticks": ""
            },
            "colorscale": [
             [
              0,
              "#0d0887"
             ],
             [
              0.1111111111111111,
              "#46039f"
             ],
             [
              0.2222222222222222,
              "#7201a8"
             ],
             [
              0.3333333333333333,
              "#9c179e"
             ],
             [
              0.4444444444444444,
              "#bd3786"
             ],
             [
              0.5555555555555556,
              "#d8576b"
             ],
             [
              0.6666666666666666,
              "#ed7953"
             ],
             [
              0.7777777777777778,
              "#fb9f3a"
             ],
             [
              0.8888888888888888,
              "#fdca26"
             ],
             [
              1,
              "#f0f921"
             ]
            ],
            "type": "contour"
           }
          ],
          "contourcarpet": [
           {
            "colorbar": {
             "outlinewidth": 0,
             "ticks": ""
            },
            "type": "contourcarpet"
           }
          ],
          "heatmap": [
           {
            "colorbar": {
             "outlinewidth": 0,
             "ticks": ""
            },
            "colorscale": [
             [
              0,
              "#0d0887"
             ],
             [
              0.1111111111111111,
              "#46039f"
             ],
             [
              0.2222222222222222,
              "#7201a8"
             ],
             [
              0.3333333333333333,
              "#9c179e"
             ],
             [
              0.4444444444444444,
              "#bd3786"
             ],
             [
              0.5555555555555556,
              "#d8576b"
             ],
             [
              0.6666666666666666,
              "#ed7953"
             ],
             [
              0.7777777777777778,
              "#fb9f3a"
             ],
             [
              0.8888888888888888,
              "#fdca26"
             ],
             [
              1,
              "#f0f921"
             ]
            ],
            "type": "heatmap"
           }
          ],
          "heatmapgl": [
           {
            "colorbar": {
             "outlinewidth": 0,
             "ticks": ""
            },
            "colorscale": [
             [
              0,
              "#0d0887"
             ],
             [
              0.1111111111111111,
              "#46039f"
             ],
             [
              0.2222222222222222,
              "#7201a8"
             ],
             [
              0.3333333333333333,
              "#9c179e"
             ],
             [
              0.4444444444444444,
              "#bd3786"
             ],
             [
              0.5555555555555556,
              "#d8576b"
             ],
             [
              0.6666666666666666,
              "#ed7953"
             ],
             [
              0.7777777777777778,
              "#fb9f3a"
             ],
             [
              0.8888888888888888,
              "#fdca26"
             ],
             [
              1,
              "#f0f921"
             ]
            ],
            "type": "heatmapgl"
           }
          ],
          "histogram": [
           {
            "marker": {
             "pattern": {
              "fillmode": "overlay",
              "size": 10,
              "solidity": 0.2
             }
            },
            "type": "histogram"
           }
          ],
          "histogram2d": [
           {
            "colorbar": {
             "outlinewidth": 0,
             "ticks": ""
            },
            "colorscale": [
             [
              0,
              "#0d0887"
             ],
             [
              0.1111111111111111,
              "#46039f"
             ],
             [
              0.2222222222222222,
              "#7201a8"
             ],
             [
              0.3333333333333333,
              "#9c179e"
             ],
             [
              0.4444444444444444,
              "#bd3786"
             ],
             [
              0.5555555555555556,
              "#d8576b"
             ],
             [
              0.6666666666666666,
              "#ed7953"
             ],
             [
              0.7777777777777778,
              "#fb9f3a"
             ],
             [
              0.8888888888888888,
              "#fdca26"
             ],
             [
              1,
              "#f0f921"
             ]
            ],
            "type": "histogram2d"
           }
          ],
          "histogram2dcontour": [
           {
            "colorbar": {
             "outlinewidth": 0,
             "ticks": ""
            },
            "colorscale": [
             [
              0,
              "#0d0887"
             ],
             [
              0.1111111111111111,
              "#46039f"
             ],
             [
              0.2222222222222222,
              "#7201a8"
             ],
             [
              0.3333333333333333,
              "#9c179e"
             ],
             [
              0.4444444444444444,
              "#bd3786"
             ],
             [
              0.5555555555555556,
              "#d8576b"
             ],
             [
              0.6666666666666666,
              "#ed7953"
             ],
             [
              0.7777777777777778,
              "#fb9f3a"
             ],
             [
              0.8888888888888888,
              "#fdca26"
             ],
             [
              1,
              "#f0f921"
             ]
            ],
            "type": "histogram2dcontour"
           }
          ],
          "mesh3d": [
           {
            "colorbar": {
             "outlinewidth": 0,
             "ticks": ""
            },
            "type": "mesh3d"
           }
          ],
          "parcoords": [
           {
            "line": {
             "colorbar": {
              "outlinewidth": 0,
              "ticks": ""
             }
            },
            "type": "parcoords"
           }
          ],
          "pie": [
           {
            "automargin": true,
            "type": "pie"
           }
          ],
          "scatter": [
           {
            "marker": {
             "colorbar": {
              "outlinewidth": 0,
              "ticks": ""
             }
            },
            "type": "scatter"
           }
          ],
          "scatter3d": [
           {
            "line": {
             "colorbar": {
              "outlinewidth": 0,
              "ticks": ""
             }
            },
            "marker": {
             "colorbar": {
              "outlinewidth": 0,
              "ticks": ""
             }
            },
            "type": "scatter3d"
           }
          ],
          "scattercarpet": [
           {
            "marker": {
             "colorbar": {
              "outlinewidth": 0,
              "ticks": ""
             }
            },
            "type": "scattercarpet"
           }
          ],
          "scattergeo": [
           {
            "marker": {
             "colorbar": {
              "outlinewidth": 0,
              "ticks": ""
             }
            },
            "type": "scattergeo"
           }
          ],
          "scattergl": [
           {
            "marker": {
             "colorbar": {
              "outlinewidth": 0,
              "ticks": ""
             }
            },
            "type": "scattergl"
           }
          ],
          "scattermapbox": [
           {
            "marker": {
             "colorbar": {
              "outlinewidth": 0,
              "ticks": ""
             }
            },
            "type": "scattermapbox"
           }
          ],
          "scatterpolar": [
           {
            "marker": {
             "colorbar": {
              "outlinewidth": 0,
              "ticks": ""
             }
            },
            "type": "scatterpolar"
           }
          ],
          "scatterpolargl": [
           {
            "marker": {
             "colorbar": {
              "outlinewidth": 0,
              "ticks": ""
             }
            },
            "type": "scatterpolargl"
           }
          ],
          "scatterternary": [
           {
            "marker": {
             "colorbar": {
              "outlinewidth": 0,
              "ticks": ""
             }
            },
            "type": "scatterternary"
           }
          ],
          "surface": [
           {
            "colorbar": {
             "outlinewidth": 0,
             "ticks": ""
            },
            "colorscale": [
             [
              0,
              "#0d0887"
             ],
             [
              0.1111111111111111,
              "#46039f"
             ],
             [
              0.2222222222222222,
              "#7201a8"
             ],
             [
              0.3333333333333333,
              "#9c179e"
             ],
             [
              0.4444444444444444,
              "#bd3786"
             ],
             [
              0.5555555555555556,
              "#d8576b"
             ],
             [
              0.6666666666666666,
              "#ed7953"
             ],
             [
              0.7777777777777778,
              "#fb9f3a"
             ],
             [
              0.8888888888888888,
              "#fdca26"
             ],
             [
              1,
              "#f0f921"
             ]
            ],
            "type": "surface"
           }
          ],
          "table": [
           {
            "cells": {
             "fill": {
              "color": "#EBF0F8"
             },
             "line": {
              "color": "white"
             }
            },
            "header": {
             "fill": {
              "color": "#C8D4E3"
             },
             "line": {
              "color": "white"
             }
            },
            "type": "table"
           }
          ]
         },
         "layout": {
          "annotationdefaults": {
           "arrowcolor": "#2a3f5f",
           "arrowhead": 0,
           "arrowwidth": 1
          },
          "autotypenumbers": "strict",
          "coloraxis": {
           "colorbar": {
            "outlinewidth": 0,
            "ticks": ""
           }
          },
          "colorscale": {
           "diverging": [
            [
             0,
             "#8e0152"
            ],
            [
             0.1,
             "#c51b7d"
            ],
            [
             0.2,
             "#de77ae"
            ],
            [
             0.3,
             "#f1b6da"
            ],
            [
             0.4,
             "#fde0ef"
            ],
            [
             0.5,
             "#f7f7f7"
            ],
            [
             0.6,
             "#e6f5d0"
            ],
            [
             0.7,
             "#b8e186"
            ],
            [
             0.8,
             "#7fbc41"
            ],
            [
             0.9,
             "#4d9221"
            ],
            [
             1,
             "#276419"
            ]
           ],
           "sequential": [
            [
             0,
             "#0d0887"
            ],
            [
             0.1111111111111111,
             "#46039f"
            ],
            [
             0.2222222222222222,
             "#7201a8"
            ],
            [
             0.3333333333333333,
             "#9c179e"
            ],
            [
             0.4444444444444444,
             "#bd3786"
            ],
            [
             0.5555555555555556,
             "#d8576b"
            ],
            [
             0.6666666666666666,
             "#ed7953"
            ],
            [
             0.7777777777777778,
             "#fb9f3a"
            ],
            [
             0.8888888888888888,
             "#fdca26"
            ],
            [
             1,
             "#f0f921"
            ]
           ],
           "sequentialminus": [
            [
             0,
             "#0d0887"
            ],
            [
             0.1111111111111111,
             "#46039f"
            ],
            [
             0.2222222222222222,
             "#7201a8"
            ],
            [
             0.3333333333333333,
             "#9c179e"
            ],
            [
             0.4444444444444444,
             "#bd3786"
            ],
            [
             0.5555555555555556,
             "#d8576b"
            ],
            [
             0.6666666666666666,
             "#ed7953"
            ],
            [
             0.7777777777777778,
             "#fb9f3a"
            ],
            [
             0.8888888888888888,
             "#fdca26"
            ],
            [
             1,
             "#f0f921"
            ]
           ]
          },
          "colorway": [
           "#636efa",
           "#EF553B",
           "#00cc96",
           "#ab63fa",
           "#FFA15A",
           "#19d3f3",
           "#FF6692",
           "#B6E880",
           "#FF97FF",
           "#FECB52"
          ],
          "font": {
           "color": "#2a3f5f"
          },
          "geo": {
           "bgcolor": "white",
           "lakecolor": "white",
           "landcolor": "#E5ECF6",
           "showlakes": true,
           "showland": true,
           "subunitcolor": "white"
          },
          "hoverlabel": {
           "align": "left"
          },
          "hovermode": "closest",
          "mapbox": {
           "style": "light"
          },
          "paper_bgcolor": "white",
          "plot_bgcolor": "#E5ECF6",
          "polar": {
           "angularaxis": {
            "gridcolor": "white",
            "linecolor": "white",
            "ticks": ""
           },
           "bgcolor": "#E5ECF6",
           "radialaxis": {
            "gridcolor": "white",
            "linecolor": "white",
            "ticks": ""
           }
          },
          "scene": {
           "xaxis": {
            "backgroundcolor": "#E5ECF6",
            "gridcolor": "white",
            "gridwidth": 2,
            "linecolor": "white",
            "showbackground": true,
            "ticks": "",
            "zerolinecolor": "white"
           },
           "yaxis": {
            "backgroundcolor": "#E5ECF6",
            "gridcolor": "white",
            "gridwidth": 2,
            "linecolor": "white",
            "showbackground": true,
            "ticks": "",
            "zerolinecolor": "white"
           },
           "zaxis": {
            "backgroundcolor": "#E5ECF6",
            "gridcolor": "white",
            "gridwidth": 2,
            "linecolor": "white",
            "showbackground": true,
            "ticks": "",
            "zerolinecolor": "white"
           }
          },
          "shapedefaults": {
           "line": {
            "color": "#2a3f5f"
           }
          },
          "ternary": {
           "aaxis": {
            "gridcolor": "white",
            "linecolor": "white",
            "ticks": ""
           },
           "baxis": {
            "gridcolor": "white",
            "linecolor": "white",
            "ticks": ""
           },
           "bgcolor": "#E5ECF6",
           "caxis": {
            "gridcolor": "white",
            "linecolor": "white",
            "ticks": ""
           }
          },
          "title": {
           "x": 0.05
          },
          "xaxis": {
           "automargin": true,
           "gridcolor": "white",
           "linecolor": "white",
           "ticks": "",
           "title": {
            "standoff": 15
           },
           "zerolinecolor": "white",
           "zerolinewidth": 2
          },
          "yaxis": {
           "automargin": true,
           "gridcolor": "white",
           "linecolor": "white",
           "ticks": "",
           "title": {
            "standoff": 15
           },
           "zerolinecolor": "white",
           "zerolinewidth": 2
          }
         }
        },
        "title": {
         "font": {
          "color": "#4D5663"
         }
        },
        "xaxis": {
         "gridcolor": "#E1E5ED",
         "showgrid": true,
         "tickfont": {
          "color": "#4D5663"
         },
         "title": {
          "font": {
           "color": "#4D5663"
          },
          "text": ""
         },
         "zerolinecolor": "#E1E5ED"
        },
        "yaxis": {
         "gridcolor": "#E1E5ED",
         "showgrid": true,
         "tickfont": {
          "color": "#4D5663"
         },
         "title": {
          "font": {
           "color": "#4D5663"
          },
          "text": ""
         },
         "zerolinecolor": "#E1E5ED"
        }
       }
      },
      "text/html": [
       "<div>                            <div id=\"3e3db473-bf01-4a9b-91c8-42616831c851\" class=\"plotly-graph-div\" style=\"height:525px; width:100%;\"></div>            <script type=\"text/javascript\">                require([\"plotly\"], function(Plotly) {                    window.PLOTLYENV=window.PLOTLYENV || {};\n",
       "                    window.PLOTLYENV.BASE_URL='https://plot.ly';                                    if (document.getElementById(\"3e3db473-bf01-4a9b-91c8-42616831c851\")) {                    Plotly.newPlot(                        \"3e3db473-bf01-4a9b-91c8-42616831c851\",                        [{\"line\":{\"color\":\"rgba(255, 153, 51, 1.0)\",\"dash\":\"solid\",\"shape\":\"linear\",\"width\":1.3},\"marker\":{\"size\":10,\"symbol\":\"circle\"},\"mode\":\"markers\",\"name\":\"B\",\"text\":\"\",\"x\":[-1.3613958313944696,-1.7042221110976603,0.32985945180706433,2.5623890066126087,0.596708286995235,0.38800319766771085,2.1317524293432273,0.35760794338784785,-0.9628933232790114,0.38627088480549726,0.8896635293826508,-1.6302468945724502,0.07386680436135416,-1.1151510355216823,-0.6155421365917353,0.6275213279324287,-2.4556222736347264,-0.08383417273924389,1.847724973514263,0.64828877590923,0.430821002965215,0.0819772131258825,-0.6954113317997281,0.5538137837765824,0.10652690868782426,0.04367543362827007,-0.20957555068664904,-0.5725838163454393,-1.0763236563997898,1.04319273438166,0.09258642242772724,0.43225507242988825,-0.26869321023897175,0.041921896996645565,-0.32467323207099424,-0.7344957992000319,-0.9651885449086609,-0.6928258307206157,1.4808093570403447,-0.21072455136641977,-1.1143284029071931,0.8303048542893865,-1.5015722000932357,-0.29322894226469476,-0.23333041712316752,-0.168616155934447,-0.0271817210700922,1.872542104905962,-1.6977709989879104,0.414742769773524,2.071641724035386,0.5919031481223098,0.5820259839526,0.5214316695874449,-0.0832753383668695,-0.06956414481057287,1.2573832426419724,0.5715406037601274,-0.4846214406997435,-0.25372772850065495,0.28854050925277164,-0.9485596057710541,-1.373777834596028,0.27310234363151625,-0.9274567404138778,1.8607477689148155,-0.12484594696679062,-1.3439311228394724,-0.11484077135462872,0.8017107460689338,0.640775263433574,0.916133496593308,-0.5596523377142191,0.05929968987011562,1.1864731493239193,0.5611307949848579,0.800800212473385,-0.09951818454244196,0.06500464655182343,-1.3951425978495366,-1.5958720331315634,0.20369461892878676,-1.6652398198832319,1.3027571052385063,0.2238913383343826,0.7469083076274575,2.267347947251838,2.8703939957693745,0.8917597412888287,-0.7978904664063126,-0.23061901045987301,-0.9745725069408219,0.8032453264788344,0.3461516187280765,-0.3616850225889013,0.4820547726197181,0.8401747022821484,1.7080331076772783,0.6047580310416393,0.9732342431018266],\"y\":[0.5945775940443155,0.6607047336210673,-0.8437041903517836,-1.0196475922865398,-1.6451940305020725,-0.9446778062983598,0.05140155149481968,-0.8253283431547772,-0.5440246470940526,-0.16694991002148946,-0.12849130965374328,-1.0522802451600277,-0.943176486637258,0.6585327435913522,0.5076321513876402,-0.09621350675701539,0.06868110258768582,0.3476254929970094,-2.1431397484291086,-0.9387651609970239,1.4091397671983448,0.2926978088249191,-2.1235879008892145,0.36327572536982977,-0.848354295132973,-0.16446259168780344,1.2233453232620783,0.7067666690064024,1.335405255140897,-0.21415356728892843,2.135913148851817,-0.07745701729422907,0.3213178737468516,0.05789801136274323,1.4904483068863459,-0.27459455717721004,-0.6734311352156884,0.9048550556107424,-1.3906645263897837,0.20638710371462188,1.0700126783391883,0.6520912210548786,0.2613971111990068,0.7054751114868026,-2.241042310534278,-0.41284311642952093,-0.7961232428958736,0.1997007007933289,1.1901758428571312,-0.39554841374028377,-1.7551993694932317,-0.3486273764841329,1.1267606945858755,0.13012150884818804,0.6375379958536724,-0.7060441750522917,0.548794817445413,-0.9872537208030995,1.8331957173057893,0.26343275393885734,-1.6493315043256271,-0.7423158379419897,1.9854935315238043,-1.406987489252971,1.140856398857627,-0.2255926670844332,-0.02364392381469881,-0.3254822099227199,-0.6586788866254313,0.6624835540455175,-0.40596082091934554,0.43014499556221786,-0.9180661498922534,-0.4196048268973363,-0.9328704189872478,-0.6661886158711042,0.11929323686103088,0.22856068775428448,0.17743200548477933,1.1101163779191947,0.27385209562688806,-1.041666486628943,-0.042098019402314564,1.75048347226908,0.14845297679328504,-0.0903634355093191,0.7744733034147091,-0.42150008681574186,0.6772434890254551,1.3540059004049954,-0.9284870681669611,-0.7098539426580581,0.5124495849944696,-0.024446337603381302,-0.09090482641493863,2.53161705160511,0.8234278987271646,0.5317671802891296,-1.2733682617714959,1.1793118405149896],\"type\":\"scatter\"}],                        {\"legend\":{\"bgcolor\":\"#F5F6F9\",\"font\":{\"color\":\"#4D5663\"}},\"paper_bgcolor\":\"#F5F6F9\",\"plot_bgcolor\":\"#F5F6F9\",\"template\":{\"data\":{\"barpolar\":[{\"marker\":{\"line\":{\"color\":\"#E5ECF6\",\"width\":0.5},\"pattern\":{\"fillmode\":\"overlay\",\"size\":10,\"solidity\":0.2}},\"type\":\"barpolar\"}],\"bar\":[{\"error_x\":{\"color\":\"#2a3f5f\"},\"error_y\":{\"color\":\"#2a3f5f\"},\"marker\":{\"line\":{\"color\":\"#E5ECF6\",\"width\":0.5},\"pattern\":{\"fillmode\":\"overlay\",\"size\":10,\"solidity\":0.2}},\"type\":\"bar\"}],\"carpet\":[{\"aaxis\":{\"endlinecolor\":\"#2a3f5f\",\"gridcolor\":\"white\",\"linecolor\":\"white\",\"minorgridcolor\":\"white\",\"startlinecolor\":\"#2a3f5f\"},\"baxis\":{\"endlinecolor\":\"#2a3f5f\",\"gridcolor\":\"white\",\"linecolor\":\"white\",\"minorgridcolor\":\"white\",\"startlinecolor\":\"#2a3f5f\"},\"type\":\"carpet\"}],\"choropleth\":[{\"colorbar\":{\"outlinewidth\":0,\"ticks\":\"\"},\"type\":\"choropleth\"}],\"contourcarpet\":[{\"colorbar\":{\"outlinewidth\":0,\"ticks\":\"\"},\"type\":\"contourcarpet\"}],\"contour\":[{\"colorbar\":{\"outlinewidth\":0,\"ticks\":\"\"},\"colorscale\":[[0.0,\"#0d0887\"],[0.1111111111111111,\"#46039f\"],[0.2222222222222222,\"#7201a8\"],[0.3333333333333333,\"#9c179e\"],[0.4444444444444444,\"#bd3786\"],[0.5555555555555556,\"#d8576b\"],[0.6666666666666666,\"#ed7953\"],[0.7777777777777778,\"#fb9f3a\"],[0.8888888888888888,\"#fdca26\"],[1.0,\"#f0f921\"]],\"type\":\"contour\"}],\"heatmapgl\":[{\"colorbar\":{\"outlinewidth\":0,\"ticks\":\"\"},\"colorscale\":[[0.0,\"#0d0887\"],[0.1111111111111111,\"#46039f\"],[0.2222222222222222,\"#7201a8\"],[0.3333333333333333,\"#9c179e\"],[0.4444444444444444,\"#bd3786\"],[0.5555555555555556,\"#d8576b\"],[0.6666666666666666,\"#ed7953\"],[0.7777777777777778,\"#fb9f3a\"],[0.8888888888888888,\"#fdca26\"],[1.0,\"#f0f921\"]],\"type\":\"heatmapgl\"}],\"heatmap\":[{\"colorbar\":{\"outlinewidth\":0,\"ticks\":\"\"},\"colorscale\":[[0.0,\"#0d0887\"],[0.1111111111111111,\"#46039f\"],[0.2222222222222222,\"#7201a8\"],[0.3333333333333333,\"#9c179e\"],[0.4444444444444444,\"#bd3786\"],[0.5555555555555556,\"#d8576b\"],[0.6666666666666666,\"#ed7953\"],[0.7777777777777778,\"#fb9f3a\"],[0.8888888888888888,\"#fdca26\"],[1.0,\"#f0f921\"]],\"type\":\"heatmap\"}],\"histogram2dcontour\":[{\"colorbar\":{\"outlinewidth\":0,\"ticks\":\"\"},\"colorscale\":[[0.0,\"#0d0887\"],[0.1111111111111111,\"#46039f\"],[0.2222222222222222,\"#7201a8\"],[0.3333333333333333,\"#9c179e\"],[0.4444444444444444,\"#bd3786\"],[0.5555555555555556,\"#d8576b\"],[0.6666666666666666,\"#ed7953\"],[0.7777777777777778,\"#fb9f3a\"],[0.8888888888888888,\"#fdca26\"],[1.0,\"#f0f921\"]],\"type\":\"histogram2dcontour\"}],\"histogram2d\":[{\"colorbar\":{\"outlinewidth\":0,\"ticks\":\"\"},\"colorscale\":[[0.0,\"#0d0887\"],[0.1111111111111111,\"#46039f\"],[0.2222222222222222,\"#7201a8\"],[0.3333333333333333,\"#9c179e\"],[0.4444444444444444,\"#bd3786\"],[0.5555555555555556,\"#d8576b\"],[0.6666666666666666,\"#ed7953\"],[0.7777777777777778,\"#fb9f3a\"],[0.8888888888888888,\"#fdca26\"],[1.0,\"#f0f921\"]],\"type\":\"histogram2d\"}],\"histogram\":[{\"marker\":{\"pattern\":{\"fillmode\":\"overlay\",\"size\":10,\"solidity\":0.2}},\"type\":\"histogram\"}],\"mesh3d\":[{\"colorbar\":{\"outlinewidth\":0,\"ticks\":\"\"},\"type\":\"mesh3d\"}],\"parcoords\":[{\"line\":{\"colorbar\":{\"outlinewidth\":0,\"ticks\":\"\"}},\"type\":\"parcoords\"}],\"pie\":[{\"automargin\":true,\"type\":\"pie\"}],\"scatter3d\":[{\"line\":{\"colorbar\":{\"outlinewidth\":0,\"ticks\":\"\"}},\"marker\":{\"colorbar\":{\"outlinewidth\":0,\"ticks\":\"\"}},\"type\":\"scatter3d\"}],\"scattercarpet\":[{\"marker\":{\"colorbar\":{\"outlinewidth\":0,\"ticks\":\"\"}},\"type\":\"scattercarpet\"}],\"scattergeo\":[{\"marker\":{\"colorbar\":{\"outlinewidth\":0,\"ticks\":\"\"}},\"type\":\"scattergeo\"}],\"scattergl\":[{\"marker\":{\"colorbar\":{\"outlinewidth\":0,\"ticks\":\"\"}},\"type\":\"scattergl\"}],\"scattermapbox\":[{\"marker\":{\"colorbar\":{\"outlinewidth\":0,\"ticks\":\"\"}},\"type\":\"scattermapbox\"}],\"scatterpolargl\":[{\"marker\":{\"colorbar\":{\"outlinewidth\":0,\"ticks\":\"\"}},\"type\":\"scatterpolargl\"}],\"scatterpolar\":[{\"marker\":{\"colorbar\":{\"outlinewidth\":0,\"ticks\":\"\"}},\"type\":\"scatterpolar\"}],\"scatter\":[{\"marker\":{\"colorbar\":{\"outlinewidth\":0,\"ticks\":\"\"}},\"type\":\"scatter\"}],\"scatterternary\":[{\"marker\":{\"colorbar\":{\"outlinewidth\":0,\"ticks\":\"\"}},\"type\":\"scatterternary\"}],\"surface\":[{\"colorbar\":{\"outlinewidth\":0,\"ticks\":\"\"},\"colorscale\":[[0.0,\"#0d0887\"],[0.1111111111111111,\"#46039f\"],[0.2222222222222222,\"#7201a8\"],[0.3333333333333333,\"#9c179e\"],[0.4444444444444444,\"#bd3786\"],[0.5555555555555556,\"#d8576b\"],[0.6666666666666666,\"#ed7953\"],[0.7777777777777778,\"#fb9f3a\"],[0.8888888888888888,\"#fdca26\"],[1.0,\"#f0f921\"]],\"type\":\"surface\"}],\"table\":[{\"cells\":{\"fill\":{\"color\":\"#EBF0F8\"},\"line\":{\"color\":\"white\"}},\"header\":{\"fill\":{\"color\":\"#C8D4E3\"},\"line\":{\"color\":\"white\"}},\"type\":\"table\"}]},\"layout\":{\"annotationdefaults\":{\"arrowcolor\":\"#2a3f5f\",\"arrowhead\":0,\"arrowwidth\":1},\"autotypenumbers\":\"strict\",\"coloraxis\":{\"colorbar\":{\"outlinewidth\":0,\"ticks\":\"\"}},\"colorscale\":{\"diverging\":[[0,\"#8e0152\"],[0.1,\"#c51b7d\"],[0.2,\"#de77ae\"],[0.3,\"#f1b6da\"],[0.4,\"#fde0ef\"],[0.5,\"#f7f7f7\"],[0.6,\"#e6f5d0\"],[0.7,\"#b8e186\"],[0.8,\"#7fbc41\"],[0.9,\"#4d9221\"],[1,\"#276419\"]],\"sequential\":[[0.0,\"#0d0887\"],[0.1111111111111111,\"#46039f\"],[0.2222222222222222,\"#7201a8\"],[0.3333333333333333,\"#9c179e\"],[0.4444444444444444,\"#bd3786\"],[0.5555555555555556,\"#d8576b\"],[0.6666666666666666,\"#ed7953\"],[0.7777777777777778,\"#fb9f3a\"],[0.8888888888888888,\"#fdca26\"],[1.0,\"#f0f921\"]],\"sequentialminus\":[[0.0,\"#0d0887\"],[0.1111111111111111,\"#46039f\"],[0.2222222222222222,\"#7201a8\"],[0.3333333333333333,\"#9c179e\"],[0.4444444444444444,\"#bd3786\"],[0.5555555555555556,\"#d8576b\"],[0.6666666666666666,\"#ed7953\"],[0.7777777777777778,\"#fb9f3a\"],[0.8888888888888888,\"#fdca26\"],[1.0,\"#f0f921\"]]},\"colorway\":[\"#636efa\",\"#EF553B\",\"#00cc96\",\"#ab63fa\",\"#FFA15A\",\"#19d3f3\",\"#FF6692\",\"#B6E880\",\"#FF97FF\",\"#FECB52\"],\"font\":{\"color\":\"#2a3f5f\"},\"geo\":{\"bgcolor\":\"white\",\"lakecolor\":\"white\",\"landcolor\":\"#E5ECF6\",\"showlakes\":true,\"showland\":true,\"subunitcolor\":\"white\"},\"hoverlabel\":{\"align\":\"left\"},\"hovermode\":\"closest\",\"mapbox\":{\"style\":\"light\"},\"paper_bgcolor\":\"white\",\"plot_bgcolor\":\"#E5ECF6\",\"polar\":{\"angularaxis\":{\"gridcolor\":\"white\",\"linecolor\":\"white\",\"ticks\":\"\"},\"bgcolor\":\"#E5ECF6\",\"radialaxis\":{\"gridcolor\":\"white\",\"linecolor\":\"white\",\"ticks\":\"\"}},\"scene\":{\"xaxis\":{\"backgroundcolor\":\"#E5ECF6\",\"gridcolor\":\"white\",\"gridwidth\":2,\"linecolor\":\"white\",\"showbackground\":true,\"ticks\":\"\",\"zerolinecolor\":\"white\"},\"yaxis\":{\"backgroundcolor\":\"#E5ECF6\",\"gridcolor\":\"white\",\"gridwidth\":2,\"linecolor\":\"white\",\"showbackground\":true,\"ticks\":\"\",\"zerolinecolor\":\"white\"},\"zaxis\":{\"backgroundcolor\":\"#E5ECF6\",\"gridcolor\":\"white\",\"gridwidth\":2,\"linecolor\":\"white\",\"showbackground\":true,\"ticks\":\"\",\"zerolinecolor\":\"white\"}},\"shapedefaults\":{\"line\":{\"color\":\"#2a3f5f\"}},\"ternary\":{\"aaxis\":{\"gridcolor\":\"white\",\"linecolor\":\"white\",\"ticks\":\"\"},\"baxis\":{\"gridcolor\":\"white\",\"linecolor\":\"white\",\"ticks\":\"\"},\"bgcolor\":\"#E5ECF6\",\"caxis\":{\"gridcolor\":\"white\",\"linecolor\":\"white\",\"ticks\":\"\"}},\"title\":{\"x\":0.05},\"xaxis\":{\"automargin\":true,\"gridcolor\":\"white\",\"linecolor\":\"white\",\"ticks\":\"\",\"title\":{\"standoff\":15},\"zerolinecolor\":\"white\",\"zerolinewidth\":2},\"yaxis\":{\"automargin\":true,\"gridcolor\":\"white\",\"linecolor\":\"white\",\"ticks\":\"\",\"title\":{\"standoff\":15},\"zerolinecolor\":\"white\",\"zerolinewidth\":2}}},\"title\":{\"font\":{\"color\":\"#4D5663\"}},\"xaxis\":{\"gridcolor\":\"#E1E5ED\",\"showgrid\":true,\"tickfont\":{\"color\":\"#4D5663\"},\"title\":{\"font\":{\"color\":\"#4D5663\"},\"text\":\"\"},\"zerolinecolor\":\"#E1E5ED\"},\"yaxis\":{\"gridcolor\":\"#E1E5ED\",\"showgrid\":true,\"tickfont\":{\"color\":\"#4D5663\"},\"title\":{\"font\":{\"color\":\"#4D5663\"},\"text\":\"\"},\"zerolinecolor\":\"#E1E5ED\"}},                        {\"showLink\": true, \"linkText\": \"Export to plot.ly\", \"plotlyServerURL\": \"https://plot.ly\", \"responsive\": true}                    ).then(function(){\n",
       "                            \n",
       "var gd = document.getElementById('3e3db473-bf01-4a9b-91c8-42616831c851');\n",
       "var x = new MutationObserver(function (mutations, observer) {{\n",
       "        var display = window.getComputedStyle(gd).display;\n",
       "        if (!display || display === 'none') {{\n",
       "            console.log([gd, 'removed!']);\n",
       "            Plotly.purge(gd);\n",
       "            observer.disconnect();\n",
       "        }}\n",
       "}});\n",
       "\n",
       "// Listen for the removal of the full notebook cells\n",
       "var notebookContainer = gd.closest('#notebook-container');\n",
       "if (notebookContainer) {{\n",
       "    x.observe(notebookContainer, {childList: true});\n",
       "}}\n",
       "\n",
       "// Listen for the clearing of the current output cell\n",
       "var outputEl = gd.closest('.output');\n",
       "if (outputEl) {{\n",
       "    x.observe(outputEl, {childList: true});\n",
       "}}\n",
       "\n",
       "                        })                };                });            </script>        </div>"
      ]
     },
     "metadata": {},
     "output_type": "display_data"
    }
   ],
   "source": [
    "df.iplot(kind='scatter',x='A',y='B',mode='markers',size=10)"
   ]
  },
  {
   "cell_type": "markdown",
   "metadata": {},
   "source": [
    "## Bar Plots"
   ]
  },
  {
   "cell_type": "code",
   "execution_count": 32,
   "metadata": {},
   "outputs": [
    {
     "data": {
      "application/vnd.plotly.v1+json": {
       "config": {
        "linkText": "Export to plot.ly",
        "plotlyServerURL": "https://plot.ly",
        "showLink": true
       },
       "data": [
        {
         "marker": {
          "color": "rgba(255, 153, 51, 0.6)",
          "line": {
           "color": "rgba(255, 153, 51, 1.0)",
           "width": 1
          }
         },
         "name": "Values",
         "orientation": "v",
         "text": "",
         "type": "bar",
         "x": [
          "A",
          "B",
          "C"
         ],
         "y": [
          32,
          43,
          50
         ]
        }
       ],
       "layout": {
        "legend": {
         "bgcolor": "#F5F6F9",
         "font": {
          "color": "#4D5663"
         }
        },
        "paper_bgcolor": "#F5F6F9",
        "plot_bgcolor": "#F5F6F9",
        "template": {
         "data": {
          "bar": [
           {
            "error_x": {
             "color": "#2a3f5f"
            },
            "error_y": {
             "color": "#2a3f5f"
            },
            "marker": {
             "line": {
              "color": "#E5ECF6",
              "width": 0.5
             },
             "pattern": {
              "fillmode": "overlay",
              "size": 10,
              "solidity": 0.2
             }
            },
            "type": "bar"
           }
          ],
          "barpolar": [
           {
            "marker": {
             "line": {
              "color": "#E5ECF6",
              "width": 0.5
             },
             "pattern": {
              "fillmode": "overlay",
              "size": 10,
              "solidity": 0.2
             }
            },
            "type": "barpolar"
           }
          ],
          "carpet": [
           {
            "aaxis": {
             "endlinecolor": "#2a3f5f",
             "gridcolor": "white",
             "linecolor": "white",
             "minorgridcolor": "white",
             "startlinecolor": "#2a3f5f"
            },
            "baxis": {
             "endlinecolor": "#2a3f5f",
             "gridcolor": "white",
             "linecolor": "white",
             "minorgridcolor": "white",
             "startlinecolor": "#2a3f5f"
            },
            "type": "carpet"
           }
          ],
          "choropleth": [
           {
            "colorbar": {
             "outlinewidth": 0,
             "ticks": ""
            },
            "type": "choropleth"
           }
          ],
          "contour": [
           {
            "colorbar": {
             "outlinewidth": 0,
             "ticks": ""
            },
            "colorscale": [
             [
              0,
              "#0d0887"
             ],
             [
              0.1111111111111111,
              "#46039f"
             ],
             [
              0.2222222222222222,
              "#7201a8"
             ],
             [
              0.3333333333333333,
              "#9c179e"
             ],
             [
              0.4444444444444444,
              "#bd3786"
             ],
             [
              0.5555555555555556,
              "#d8576b"
             ],
             [
              0.6666666666666666,
              "#ed7953"
             ],
             [
              0.7777777777777778,
              "#fb9f3a"
             ],
             [
              0.8888888888888888,
              "#fdca26"
             ],
             [
              1,
              "#f0f921"
             ]
            ],
            "type": "contour"
           }
          ],
          "contourcarpet": [
           {
            "colorbar": {
             "outlinewidth": 0,
             "ticks": ""
            },
            "type": "contourcarpet"
           }
          ],
          "heatmap": [
           {
            "colorbar": {
             "outlinewidth": 0,
             "ticks": ""
            },
            "colorscale": [
             [
              0,
              "#0d0887"
             ],
             [
              0.1111111111111111,
              "#46039f"
             ],
             [
              0.2222222222222222,
              "#7201a8"
             ],
             [
              0.3333333333333333,
              "#9c179e"
             ],
             [
              0.4444444444444444,
              "#bd3786"
             ],
             [
              0.5555555555555556,
              "#d8576b"
             ],
             [
              0.6666666666666666,
              "#ed7953"
             ],
             [
              0.7777777777777778,
              "#fb9f3a"
             ],
             [
              0.8888888888888888,
              "#fdca26"
             ],
             [
              1,
              "#f0f921"
             ]
            ],
            "type": "heatmap"
           }
          ],
          "heatmapgl": [
           {
            "colorbar": {
             "outlinewidth": 0,
             "ticks": ""
            },
            "colorscale": [
             [
              0,
              "#0d0887"
             ],
             [
              0.1111111111111111,
              "#46039f"
             ],
             [
              0.2222222222222222,
              "#7201a8"
             ],
             [
              0.3333333333333333,
              "#9c179e"
             ],
             [
              0.4444444444444444,
              "#bd3786"
             ],
             [
              0.5555555555555556,
              "#d8576b"
             ],
             [
              0.6666666666666666,
              "#ed7953"
             ],
             [
              0.7777777777777778,
              "#fb9f3a"
             ],
             [
              0.8888888888888888,
              "#fdca26"
             ],
             [
              1,
              "#f0f921"
             ]
            ],
            "type": "heatmapgl"
           }
          ],
          "histogram": [
           {
            "marker": {
             "pattern": {
              "fillmode": "overlay",
              "size": 10,
              "solidity": 0.2
             }
            },
            "type": "histogram"
           }
          ],
          "histogram2d": [
           {
            "colorbar": {
             "outlinewidth": 0,
             "ticks": ""
            },
            "colorscale": [
             [
              0,
              "#0d0887"
             ],
             [
              0.1111111111111111,
              "#46039f"
             ],
             [
              0.2222222222222222,
              "#7201a8"
             ],
             [
              0.3333333333333333,
              "#9c179e"
             ],
             [
              0.4444444444444444,
              "#bd3786"
             ],
             [
              0.5555555555555556,
              "#d8576b"
             ],
             [
              0.6666666666666666,
              "#ed7953"
             ],
             [
              0.7777777777777778,
              "#fb9f3a"
             ],
             [
              0.8888888888888888,
              "#fdca26"
             ],
             [
              1,
              "#f0f921"
             ]
            ],
            "type": "histogram2d"
           }
          ],
          "histogram2dcontour": [
           {
            "colorbar": {
             "outlinewidth": 0,
             "ticks": ""
            },
            "colorscale": [
             [
              0,
              "#0d0887"
             ],
             [
              0.1111111111111111,
              "#46039f"
             ],
             [
              0.2222222222222222,
              "#7201a8"
             ],
             [
              0.3333333333333333,
              "#9c179e"
             ],
             [
              0.4444444444444444,
              "#bd3786"
             ],
             [
              0.5555555555555556,
              "#d8576b"
             ],
             [
              0.6666666666666666,
              "#ed7953"
             ],
             [
              0.7777777777777778,
              "#fb9f3a"
             ],
             [
              0.8888888888888888,
              "#fdca26"
             ],
             [
              1,
              "#f0f921"
             ]
            ],
            "type": "histogram2dcontour"
           }
          ],
          "mesh3d": [
           {
            "colorbar": {
             "outlinewidth": 0,
             "ticks": ""
            },
            "type": "mesh3d"
           }
          ],
          "parcoords": [
           {
            "line": {
             "colorbar": {
              "outlinewidth": 0,
              "ticks": ""
             }
            },
            "type": "parcoords"
           }
          ],
          "pie": [
           {
            "automargin": true,
            "type": "pie"
           }
          ],
          "scatter": [
           {
            "marker": {
             "colorbar": {
              "outlinewidth": 0,
              "ticks": ""
             }
            },
            "type": "scatter"
           }
          ],
          "scatter3d": [
           {
            "line": {
             "colorbar": {
              "outlinewidth": 0,
              "ticks": ""
             }
            },
            "marker": {
             "colorbar": {
              "outlinewidth": 0,
              "ticks": ""
             }
            },
            "type": "scatter3d"
           }
          ],
          "scattercarpet": [
           {
            "marker": {
             "colorbar": {
              "outlinewidth": 0,
              "ticks": ""
             }
            },
            "type": "scattercarpet"
           }
          ],
          "scattergeo": [
           {
            "marker": {
             "colorbar": {
              "outlinewidth": 0,
              "ticks": ""
             }
            },
            "type": "scattergeo"
           }
          ],
          "scattergl": [
           {
            "marker": {
             "colorbar": {
              "outlinewidth": 0,
              "ticks": ""
             }
            },
            "type": "scattergl"
           }
          ],
          "scattermapbox": [
           {
            "marker": {
             "colorbar": {
              "outlinewidth": 0,
              "ticks": ""
             }
            },
            "type": "scattermapbox"
           }
          ],
          "scatterpolar": [
           {
            "marker": {
             "colorbar": {
              "outlinewidth": 0,
              "ticks": ""
             }
            },
            "type": "scatterpolar"
           }
          ],
          "scatterpolargl": [
           {
            "marker": {
             "colorbar": {
              "outlinewidth": 0,
              "ticks": ""
             }
            },
            "type": "scatterpolargl"
           }
          ],
          "scatterternary": [
           {
            "marker": {
             "colorbar": {
              "outlinewidth": 0,
              "ticks": ""
             }
            },
            "type": "scatterternary"
           }
          ],
          "surface": [
           {
            "colorbar": {
             "outlinewidth": 0,
             "ticks": ""
            },
            "colorscale": [
             [
              0,
              "#0d0887"
             ],
             [
              0.1111111111111111,
              "#46039f"
             ],
             [
              0.2222222222222222,
              "#7201a8"
             ],
             [
              0.3333333333333333,
              "#9c179e"
             ],
             [
              0.4444444444444444,
              "#bd3786"
             ],
             [
              0.5555555555555556,
              "#d8576b"
             ],
             [
              0.6666666666666666,
              "#ed7953"
             ],
             [
              0.7777777777777778,
              "#fb9f3a"
             ],
             [
              0.8888888888888888,
              "#fdca26"
             ],
             [
              1,
              "#f0f921"
             ]
            ],
            "type": "surface"
           }
          ],
          "table": [
           {
            "cells": {
             "fill": {
              "color": "#EBF0F8"
             },
             "line": {
              "color": "white"
             }
            },
            "header": {
             "fill": {
              "color": "#C8D4E3"
             },
             "line": {
              "color": "white"
             }
            },
            "type": "table"
           }
          ]
         },
         "layout": {
          "annotationdefaults": {
           "arrowcolor": "#2a3f5f",
           "arrowhead": 0,
           "arrowwidth": 1
          },
          "autotypenumbers": "strict",
          "coloraxis": {
           "colorbar": {
            "outlinewidth": 0,
            "ticks": ""
           }
          },
          "colorscale": {
           "diverging": [
            [
             0,
             "#8e0152"
            ],
            [
             0.1,
             "#c51b7d"
            ],
            [
             0.2,
             "#de77ae"
            ],
            [
             0.3,
             "#f1b6da"
            ],
            [
             0.4,
             "#fde0ef"
            ],
            [
             0.5,
             "#f7f7f7"
            ],
            [
             0.6,
             "#e6f5d0"
            ],
            [
             0.7,
             "#b8e186"
            ],
            [
             0.8,
             "#7fbc41"
            ],
            [
             0.9,
             "#4d9221"
            ],
            [
             1,
             "#276419"
            ]
           ],
           "sequential": [
            [
             0,
             "#0d0887"
            ],
            [
             0.1111111111111111,
             "#46039f"
            ],
            [
             0.2222222222222222,
             "#7201a8"
            ],
            [
             0.3333333333333333,
             "#9c179e"
            ],
            [
             0.4444444444444444,
             "#bd3786"
            ],
            [
             0.5555555555555556,
             "#d8576b"
            ],
            [
             0.6666666666666666,
             "#ed7953"
            ],
            [
             0.7777777777777778,
             "#fb9f3a"
            ],
            [
             0.8888888888888888,
             "#fdca26"
            ],
            [
             1,
             "#f0f921"
            ]
           ],
           "sequentialminus": [
            [
             0,
             "#0d0887"
            ],
            [
             0.1111111111111111,
             "#46039f"
            ],
            [
             0.2222222222222222,
             "#7201a8"
            ],
            [
             0.3333333333333333,
             "#9c179e"
            ],
            [
             0.4444444444444444,
             "#bd3786"
            ],
            [
             0.5555555555555556,
             "#d8576b"
            ],
            [
             0.6666666666666666,
             "#ed7953"
            ],
            [
             0.7777777777777778,
             "#fb9f3a"
            ],
            [
             0.8888888888888888,
             "#fdca26"
            ],
            [
             1,
             "#f0f921"
            ]
           ]
          },
          "colorway": [
           "#636efa",
           "#EF553B",
           "#00cc96",
           "#ab63fa",
           "#FFA15A",
           "#19d3f3",
           "#FF6692",
           "#B6E880",
           "#FF97FF",
           "#FECB52"
          ],
          "font": {
           "color": "#2a3f5f"
          },
          "geo": {
           "bgcolor": "white",
           "lakecolor": "white",
           "landcolor": "#E5ECF6",
           "showlakes": true,
           "showland": true,
           "subunitcolor": "white"
          },
          "hoverlabel": {
           "align": "left"
          },
          "hovermode": "closest",
          "mapbox": {
           "style": "light"
          },
          "paper_bgcolor": "white",
          "plot_bgcolor": "#E5ECF6",
          "polar": {
           "angularaxis": {
            "gridcolor": "white",
            "linecolor": "white",
            "ticks": ""
           },
           "bgcolor": "#E5ECF6",
           "radialaxis": {
            "gridcolor": "white",
            "linecolor": "white",
            "ticks": ""
           }
          },
          "scene": {
           "xaxis": {
            "backgroundcolor": "#E5ECF6",
            "gridcolor": "white",
            "gridwidth": 2,
            "linecolor": "white",
            "showbackground": true,
            "ticks": "",
            "zerolinecolor": "white"
           },
           "yaxis": {
            "backgroundcolor": "#E5ECF6",
            "gridcolor": "white",
            "gridwidth": 2,
            "linecolor": "white",
            "showbackground": true,
            "ticks": "",
            "zerolinecolor": "white"
           },
           "zaxis": {
            "backgroundcolor": "#E5ECF6",
            "gridcolor": "white",
            "gridwidth": 2,
            "linecolor": "white",
            "showbackground": true,
            "ticks": "",
            "zerolinecolor": "white"
           }
          },
          "shapedefaults": {
           "line": {
            "color": "#2a3f5f"
           }
          },
          "ternary": {
           "aaxis": {
            "gridcolor": "white",
            "linecolor": "white",
            "ticks": ""
           },
           "baxis": {
            "gridcolor": "white",
            "linecolor": "white",
            "ticks": ""
           },
           "bgcolor": "#E5ECF6",
           "caxis": {
            "gridcolor": "white",
            "linecolor": "white",
            "ticks": ""
           }
          },
          "title": {
           "x": 0.05
          },
          "xaxis": {
           "automargin": true,
           "gridcolor": "white",
           "linecolor": "white",
           "ticks": "",
           "title": {
            "standoff": 15
           },
           "zerolinecolor": "white",
           "zerolinewidth": 2
          },
          "yaxis": {
           "automargin": true,
           "gridcolor": "white",
           "linecolor": "white",
           "ticks": "",
           "title": {
            "standoff": 15
           },
           "zerolinecolor": "white",
           "zerolinewidth": 2
          }
         }
        },
        "title": {
         "font": {
          "color": "#4D5663"
         }
        },
        "xaxis": {
         "gridcolor": "#E1E5ED",
         "showgrid": true,
         "tickfont": {
          "color": "#4D5663"
         },
         "title": {
          "font": {
           "color": "#4D5663"
          },
          "text": ""
         },
         "zerolinecolor": "#E1E5ED"
        },
        "yaxis": {
         "gridcolor": "#E1E5ED",
         "showgrid": true,
         "tickfont": {
          "color": "#4D5663"
         },
         "title": {
          "font": {
           "color": "#4D5663"
          },
          "text": ""
         },
         "zerolinecolor": "#E1E5ED"
        }
       }
      },
      "text/html": [
       "<div>                            <div id=\"cc8b3681-477a-46ac-8976-9bc6b28718f4\" class=\"plotly-graph-div\" style=\"height:525px; width:100%;\"></div>            <script type=\"text/javascript\">                require([\"plotly\"], function(Plotly) {                    window.PLOTLYENV=window.PLOTLYENV || {};\n",
       "                    window.PLOTLYENV.BASE_URL='https://plot.ly';                                    if (document.getElementById(\"cc8b3681-477a-46ac-8976-9bc6b28718f4\")) {                    Plotly.newPlot(                        \"cc8b3681-477a-46ac-8976-9bc6b28718f4\",                        [{\"marker\":{\"color\":\"rgba(255, 153, 51, 0.6)\",\"line\":{\"color\":\"rgba(255, 153, 51, 1.0)\",\"width\":1}},\"name\":\"Values\",\"orientation\":\"v\",\"text\":\"\",\"x\":[\"A\",\"B\",\"C\"],\"y\":[32,43,50],\"type\":\"bar\"}],                        {\"legend\":{\"bgcolor\":\"#F5F6F9\",\"font\":{\"color\":\"#4D5663\"}},\"paper_bgcolor\":\"#F5F6F9\",\"plot_bgcolor\":\"#F5F6F9\",\"template\":{\"data\":{\"barpolar\":[{\"marker\":{\"line\":{\"color\":\"#E5ECF6\",\"width\":0.5},\"pattern\":{\"fillmode\":\"overlay\",\"size\":10,\"solidity\":0.2}},\"type\":\"barpolar\"}],\"bar\":[{\"error_x\":{\"color\":\"#2a3f5f\"},\"error_y\":{\"color\":\"#2a3f5f\"},\"marker\":{\"line\":{\"color\":\"#E5ECF6\",\"width\":0.5},\"pattern\":{\"fillmode\":\"overlay\",\"size\":10,\"solidity\":0.2}},\"type\":\"bar\"}],\"carpet\":[{\"aaxis\":{\"endlinecolor\":\"#2a3f5f\",\"gridcolor\":\"white\",\"linecolor\":\"white\",\"minorgridcolor\":\"white\",\"startlinecolor\":\"#2a3f5f\"},\"baxis\":{\"endlinecolor\":\"#2a3f5f\",\"gridcolor\":\"white\",\"linecolor\":\"white\",\"minorgridcolor\":\"white\",\"startlinecolor\":\"#2a3f5f\"},\"type\":\"carpet\"}],\"choropleth\":[{\"colorbar\":{\"outlinewidth\":0,\"ticks\":\"\"},\"type\":\"choropleth\"}],\"contourcarpet\":[{\"colorbar\":{\"outlinewidth\":0,\"ticks\":\"\"},\"type\":\"contourcarpet\"}],\"contour\":[{\"colorbar\":{\"outlinewidth\":0,\"ticks\":\"\"},\"colorscale\":[[0.0,\"#0d0887\"],[0.1111111111111111,\"#46039f\"],[0.2222222222222222,\"#7201a8\"],[0.3333333333333333,\"#9c179e\"],[0.4444444444444444,\"#bd3786\"],[0.5555555555555556,\"#d8576b\"],[0.6666666666666666,\"#ed7953\"],[0.7777777777777778,\"#fb9f3a\"],[0.8888888888888888,\"#fdca26\"],[1.0,\"#f0f921\"]],\"type\":\"contour\"}],\"heatmapgl\":[{\"colorbar\":{\"outlinewidth\":0,\"ticks\":\"\"},\"colorscale\":[[0.0,\"#0d0887\"],[0.1111111111111111,\"#46039f\"],[0.2222222222222222,\"#7201a8\"],[0.3333333333333333,\"#9c179e\"],[0.4444444444444444,\"#bd3786\"],[0.5555555555555556,\"#d8576b\"],[0.6666666666666666,\"#ed7953\"],[0.7777777777777778,\"#fb9f3a\"],[0.8888888888888888,\"#fdca26\"],[1.0,\"#f0f921\"]],\"type\":\"heatmapgl\"}],\"heatmap\":[{\"colorbar\":{\"outlinewidth\":0,\"ticks\":\"\"},\"colorscale\":[[0.0,\"#0d0887\"],[0.1111111111111111,\"#46039f\"],[0.2222222222222222,\"#7201a8\"],[0.3333333333333333,\"#9c179e\"],[0.4444444444444444,\"#bd3786\"],[0.5555555555555556,\"#d8576b\"],[0.6666666666666666,\"#ed7953\"],[0.7777777777777778,\"#fb9f3a\"],[0.8888888888888888,\"#fdca26\"],[1.0,\"#f0f921\"]],\"type\":\"heatmap\"}],\"histogram2dcontour\":[{\"colorbar\":{\"outlinewidth\":0,\"ticks\":\"\"},\"colorscale\":[[0.0,\"#0d0887\"],[0.1111111111111111,\"#46039f\"],[0.2222222222222222,\"#7201a8\"],[0.3333333333333333,\"#9c179e\"],[0.4444444444444444,\"#bd3786\"],[0.5555555555555556,\"#d8576b\"],[0.6666666666666666,\"#ed7953\"],[0.7777777777777778,\"#fb9f3a\"],[0.8888888888888888,\"#fdca26\"],[1.0,\"#f0f921\"]],\"type\":\"histogram2dcontour\"}],\"histogram2d\":[{\"colorbar\":{\"outlinewidth\":0,\"ticks\":\"\"},\"colorscale\":[[0.0,\"#0d0887\"],[0.1111111111111111,\"#46039f\"],[0.2222222222222222,\"#7201a8\"],[0.3333333333333333,\"#9c179e\"],[0.4444444444444444,\"#bd3786\"],[0.5555555555555556,\"#d8576b\"],[0.6666666666666666,\"#ed7953\"],[0.7777777777777778,\"#fb9f3a\"],[0.8888888888888888,\"#fdca26\"],[1.0,\"#f0f921\"]],\"type\":\"histogram2d\"}],\"histogram\":[{\"marker\":{\"pattern\":{\"fillmode\":\"overlay\",\"size\":10,\"solidity\":0.2}},\"type\":\"histogram\"}],\"mesh3d\":[{\"colorbar\":{\"outlinewidth\":0,\"ticks\":\"\"},\"type\":\"mesh3d\"}],\"parcoords\":[{\"line\":{\"colorbar\":{\"outlinewidth\":0,\"ticks\":\"\"}},\"type\":\"parcoords\"}],\"pie\":[{\"automargin\":true,\"type\":\"pie\"}],\"scatter3d\":[{\"line\":{\"colorbar\":{\"outlinewidth\":0,\"ticks\":\"\"}},\"marker\":{\"colorbar\":{\"outlinewidth\":0,\"ticks\":\"\"}},\"type\":\"scatter3d\"}],\"scattercarpet\":[{\"marker\":{\"colorbar\":{\"outlinewidth\":0,\"ticks\":\"\"}},\"type\":\"scattercarpet\"}],\"scattergeo\":[{\"marker\":{\"colorbar\":{\"outlinewidth\":0,\"ticks\":\"\"}},\"type\":\"scattergeo\"}],\"scattergl\":[{\"marker\":{\"colorbar\":{\"outlinewidth\":0,\"ticks\":\"\"}},\"type\":\"scattergl\"}],\"scattermapbox\":[{\"marker\":{\"colorbar\":{\"outlinewidth\":0,\"ticks\":\"\"}},\"type\":\"scattermapbox\"}],\"scatterpolargl\":[{\"marker\":{\"colorbar\":{\"outlinewidth\":0,\"ticks\":\"\"}},\"type\":\"scatterpolargl\"}],\"scatterpolar\":[{\"marker\":{\"colorbar\":{\"outlinewidth\":0,\"ticks\":\"\"}},\"type\":\"scatterpolar\"}],\"scatter\":[{\"marker\":{\"colorbar\":{\"outlinewidth\":0,\"ticks\":\"\"}},\"type\":\"scatter\"}],\"scatterternary\":[{\"marker\":{\"colorbar\":{\"outlinewidth\":0,\"ticks\":\"\"}},\"type\":\"scatterternary\"}],\"surface\":[{\"colorbar\":{\"outlinewidth\":0,\"ticks\":\"\"},\"colorscale\":[[0.0,\"#0d0887\"],[0.1111111111111111,\"#46039f\"],[0.2222222222222222,\"#7201a8\"],[0.3333333333333333,\"#9c179e\"],[0.4444444444444444,\"#bd3786\"],[0.5555555555555556,\"#d8576b\"],[0.6666666666666666,\"#ed7953\"],[0.7777777777777778,\"#fb9f3a\"],[0.8888888888888888,\"#fdca26\"],[1.0,\"#f0f921\"]],\"type\":\"surface\"}],\"table\":[{\"cells\":{\"fill\":{\"color\":\"#EBF0F8\"},\"line\":{\"color\":\"white\"}},\"header\":{\"fill\":{\"color\":\"#C8D4E3\"},\"line\":{\"color\":\"white\"}},\"type\":\"table\"}]},\"layout\":{\"annotationdefaults\":{\"arrowcolor\":\"#2a3f5f\",\"arrowhead\":0,\"arrowwidth\":1},\"autotypenumbers\":\"strict\",\"coloraxis\":{\"colorbar\":{\"outlinewidth\":0,\"ticks\":\"\"}},\"colorscale\":{\"diverging\":[[0,\"#8e0152\"],[0.1,\"#c51b7d\"],[0.2,\"#de77ae\"],[0.3,\"#f1b6da\"],[0.4,\"#fde0ef\"],[0.5,\"#f7f7f7\"],[0.6,\"#e6f5d0\"],[0.7,\"#b8e186\"],[0.8,\"#7fbc41\"],[0.9,\"#4d9221\"],[1,\"#276419\"]],\"sequential\":[[0.0,\"#0d0887\"],[0.1111111111111111,\"#46039f\"],[0.2222222222222222,\"#7201a8\"],[0.3333333333333333,\"#9c179e\"],[0.4444444444444444,\"#bd3786\"],[0.5555555555555556,\"#d8576b\"],[0.6666666666666666,\"#ed7953\"],[0.7777777777777778,\"#fb9f3a\"],[0.8888888888888888,\"#fdca26\"],[1.0,\"#f0f921\"]],\"sequentialminus\":[[0.0,\"#0d0887\"],[0.1111111111111111,\"#46039f\"],[0.2222222222222222,\"#7201a8\"],[0.3333333333333333,\"#9c179e\"],[0.4444444444444444,\"#bd3786\"],[0.5555555555555556,\"#d8576b\"],[0.6666666666666666,\"#ed7953\"],[0.7777777777777778,\"#fb9f3a\"],[0.8888888888888888,\"#fdca26\"],[1.0,\"#f0f921\"]]},\"colorway\":[\"#636efa\",\"#EF553B\",\"#00cc96\",\"#ab63fa\",\"#FFA15A\",\"#19d3f3\",\"#FF6692\",\"#B6E880\",\"#FF97FF\",\"#FECB52\"],\"font\":{\"color\":\"#2a3f5f\"},\"geo\":{\"bgcolor\":\"white\",\"lakecolor\":\"white\",\"landcolor\":\"#E5ECF6\",\"showlakes\":true,\"showland\":true,\"subunitcolor\":\"white\"},\"hoverlabel\":{\"align\":\"left\"},\"hovermode\":\"closest\",\"mapbox\":{\"style\":\"light\"},\"paper_bgcolor\":\"white\",\"plot_bgcolor\":\"#E5ECF6\",\"polar\":{\"angularaxis\":{\"gridcolor\":\"white\",\"linecolor\":\"white\",\"ticks\":\"\"},\"bgcolor\":\"#E5ECF6\",\"radialaxis\":{\"gridcolor\":\"white\",\"linecolor\":\"white\",\"ticks\":\"\"}},\"scene\":{\"xaxis\":{\"backgroundcolor\":\"#E5ECF6\",\"gridcolor\":\"white\",\"gridwidth\":2,\"linecolor\":\"white\",\"showbackground\":true,\"ticks\":\"\",\"zerolinecolor\":\"white\"},\"yaxis\":{\"backgroundcolor\":\"#E5ECF6\",\"gridcolor\":\"white\",\"gridwidth\":2,\"linecolor\":\"white\",\"showbackground\":true,\"ticks\":\"\",\"zerolinecolor\":\"white\"},\"zaxis\":{\"backgroundcolor\":\"#E5ECF6\",\"gridcolor\":\"white\",\"gridwidth\":2,\"linecolor\":\"white\",\"showbackground\":true,\"ticks\":\"\",\"zerolinecolor\":\"white\"}},\"shapedefaults\":{\"line\":{\"color\":\"#2a3f5f\"}},\"ternary\":{\"aaxis\":{\"gridcolor\":\"white\",\"linecolor\":\"white\",\"ticks\":\"\"},\"baxis\":{\"gridcolor\":\"white\",\"linecolor\":\"white\",\"ticks\":\"\"},\"bgcolor\":\"#E5ECF6\",\"caxis\":{\"gridcolor\":\"white\",\"linecolor\":\"white\",\"ticks\":\"\"}},\"title\":{\"x\":0.05},\"xaxis\":{\"automargin\":true,\"gridcolor\":\"white\",\"linecolor\":\"white\",\"ticks\":\"\",\"title\":{\"standoff\":15},\"zerolinecolor\":\"white\",\"zerolinewidth\":2},\"yaxis\":{\"automargin\":true,\"gridcolor\":\"white\",\"linecolor\":\"white\",\"ticks\":\"\",\"title\":{\"standoff\":15},\"zerolinecolor\":\"white\",\"zerolinewidth\":2}}},\"title\":{\"font\":{\"color\":\"#4D5663\"}},\"xaxis\":{\"gridcolor\":\"#E1E5ED\",\"showgrid\":true,\"tickfont\":{\"color\":\"#4D5663\"},\"title\":{\"font\":{\"color\":\"#4D5663\"},\"text\":\"\"},\"zerolinecolor\":\"#E1E5ED\"},\"yaxis\":{\"gridcolor\":\"#E1E5ED\",\"showgrid\":true,\"tickfont\":{\"color\":\"#4D5663\"},\"title\":{\"font\":{\"color\":\"#4D5663\"},\"text\":\"\"},\"zerolinecolor\":\"#E1E5ED\"}},                        {\"showLink\": true, \"linkText\": \"Export to plot.ly\", \"plotlyServerURL\": \"https://plot.ly\", \"responsive\": true}                    ).then(function(){\n",
       "                            \n",
       "var gd = document.getElementById('cc8b3681-477a-46ac-8976-9bc6b28718f4');\n",
       "var x = new MutationObserver(function (mutations, observer) {{\n",
       "        var display = window.getComputedStyle(gd).display;\n",
       "        if (!display || display === 'none') {{\n",
       "            console.log([gd, 'removed!']);\n",
       "            Plotly.purge(gd);\n",
       "            observer.disconnect();\n",
       "        }}\n",
       "}});\n",
       "\n",
       "// Listen for the removal of the full notebook cells\n",
       "var notebookContainer = gd.closest('#notebook-container');\n",
       "if (notebookContainer) {{\n",
       "    x.observe(notebookContainer, {childList: true});\n",
       "}}\n",
       "\n",
       "// Listen for the clearing of the current output cell\n",
       "var outputEl = gd.closest('.output');\n",
       "if (outputEl) {{\n",
       "    x.observe(outputEl, {childList: true});\n",
       "}}\n",
       "\n",
       "                        })                };                });            </script>        </div>"
      ]
     },
     "metadata": {},
     "output_type": "display_data"
    }
   ],
   "source": [
    "df2.iplot(kind='bar',x='Category',y='Values')"
   ]
  },
  {
   "cell_type": "code",
   "execution_count": 14,
   "metadata": {},
   "outputs": [
    {
     "data": {
      "application/vnd.plotly.v1+json": {
       "config": {
        "linkText": "Export to plot.ly",
        "plotlyServerURL": "https://plot.ly",
        "showLink": true
       },
       "data": [
        {
         "marker": {
          "color": "rgba(255, 153, 51, 0.6)",
          "line": {
           "color": "rgba(255, 153, 51, 1.0)",
           "width": 1
          }
         },
         "name": "None",
         "orientation": "v",
         "text": "",
         "type": "bar",
         "x": [
          "A",
          "B",
          "C",
          "D"
         ],
         "y": [
          100,
          100,
          100,
          100
         ]
        }
       ],
       "layout": {
        "legend": {
         "bgcolor": "#F5F6F9",
         "font": {
          "color": "#4D5663"
         }
        },
        "paper_bgcolor": "#F5F6F9",
        "plot_bgcolor": "#F5F6F9",
        "template": {
         "data": {
          "bar": [
           {
            "error_x": {
             "color": "#2a3f5f"
            },
            "error_y": {
             "color": "#2a3f5f"
            },
            "marker": {
             "line": {
              "color": "#E5ECF6",
              "width": 0.5
             },
             "pattern": {
              "fillmode": "overlay",
              "size": 10,
              "solidity": 0.2
             }
            },
            "type": "bar"
           }
          ],
          "barpolar": [
           {
            "marker": {
             "line": {
              "color": "#E5ECF6",
              "width": 0.5
             },
             "pattern": {
              "fillmode": "overlay",
              "size": 10,
              "solidity": 0.2
             }
            },
            "type": "barpolar"
           }
          ],
          "carpet": [
           {
            "aaxis": {
             "endlinecolor": "#2a3f5f",
             "gridcolor": "white",
             "linecolor": "white",
             "minorgridcolor": "white",
             "startlinecolor": "#2a3f5f"
            },
            "baxis": {
             "endlinecolor": "#2a3f5f",
             "gridcolor": "white",
             "linecolor": "white",
             "minorgridcolor": "white",
             "startlinecolor": "#2a3f5f"
            },
            "type": "carpet"
           }
          ],
          "choropleth": [
           {
            "colorbar": {
             "outlinewidth": 0,
             "ticks": ""
            },
            "type": "choropleth"
           }
          ],
          "contour": [
           {
            "colorbar": {
             "outlinewidth": 0,
             "ticks": ""
            },
            "colorscale": [
             [
              0,
              "#0d0887"
             ],
             [
              0.1111111111111111,
              "#46039f"
             ],
             [
              0.2222222222222222,
              "#7201a8"
             ],
             [
              0.3333333333333333,
              "#9c179e"
             ],
             [
              0.4444444444444444,
              "#bd3786"
             ],
             [
              0.5555555555555556,
              "#d8576b"
             ],
             [
              0.6666666666666666,
              "#ed7953"
             ],
             [
              0.7777777777777778,
              "#fb9f3a"
             ],
             [
              0.8888888888888888,
              "#fdca26"
             ],
             [
              1,
              "#f0f921"
             ]
            ],
            "type": "contour"
           }
          ],
          "contourcarpet": [
           {
            "colorbar": {
             "outlinewidth": 0,
             "ticks": ""
            },
            "type": "contourcarpet"
           }
          ],
          "heatmap": [
           {
            "colorbar": {
             "outlinewidth": 0,
             "ticks": ""
            },
            "colorscale": [
             [
              0,
              "#0d0887"
             ],
             [
              0.1111111111111111,
              "#46039f"
             ],
             [
              0.2222222222222222,
              "#7201a8"
             ],
             [
              0.3333333333333333,
              "#9c179e"
             ],
             [
              0.4444444444444444,
              "#bd3786"
             ],
             [
              0.5555555555555556,
              "#d8576b"
             ],
             [
              0.6666666666666666,
              "#ed7953"
             ],
             [
              0.7777777777777778,
              "#fb9f3a"
             ],
             [
              0.8888888888888888,
              "#fdca26"
             ],
             [
              1,
              "#f0f921"
             ]
            ],
            "type": "heatmap"
           }
          ],
          "heatmapgl": [
           {
            "colorbar": {
             "outlinewidth": 0,
             "ticks": ""
            },
            "colorscale": [
             [
              0,
              "#0d0887"
             ],
             [
              0.1111111111111111,
              "#46039f"
             ],
             [
              0.2222222222222222,
              "#7201a8"
             ],
             [
              0.3333333333333333,
              "#9c179e"
             ],
             [
              0.4444444444444444,
              "#bd3786"
             ],
             [
              0.5555555555555556,
              "#d8576b"
             ],
             [
              0.6666666666666666,
              "#ed7953"
             ],
             [
              0.7777777777777778,
              "#fb9f3a"
             ],
             [
              0.8888888888888888,
              "#fdca26"
             ],
             [
              1,
              "#f0f921"
             ]
            ],
            "type": "heatmapgl"
           }
          ],
          "histogram": [
           {
            "marker": {
             "pattern": {
              "fillmode": "overlay",
              "size": 10,
              "solidity": 0.2
             }
            },
            "type": "histogram"
           }
          ],
          "histogram2d": [
           {
            "colorbar": {
             "outlinewidth": 0,
             "ticks": ""
            },
            "colorscale": [
             [
              0,
              "#0d0887"
             ],
             [
              0.1111111111111111,
              "#46039f"
             ],
             [
              0.2222222222222222,
              "#7201a8"
             ],
             [
              0.3333333333333333,
              "#9c179e"
             ],
             [
              0.4444444444444444,
              "#bd3786"
             ],
             [
              0.5555555555555556,
              "#d8576b"
             ],
             [
              0.6666666666666666,
              "#ed7953"
             ],
             [
              0.7777777777777778,
              "#fb9f3a"
             ],
             [
              0.8888888888888888,
              "#fdca26"
             ],
             [
              1,
              "#f0f921"
             ]
            ],
            "type": "histogram2d"
           }
          ],
          "histogram2dcontour": [
           {
            "colorbar": {
             "outlinewidth": 0,
             "ticks": ""
            },
            "colorscale": [
             [
              0,
              "#0d0887"
             ],
             [
              0.1111111111111111,
              "#46039f"
             ],
             [
              0.2222222222222222,
              "#7201a8"
             ],
             [
              0.3333333333333333,
              "#9c179e"
             ],
             [
              0.4444444444444444,
              "#bd3786"
             ],
             [
              0.5555555555555556,
              "#d8576b"
             ],
             [
              0.6666666666666666,
              "#ed7953"
             ],
             [
              0.7777777777777778,
              "#fb9f3a"
             ],
             [
              0.8888888888888888,
              "#fdca26"
             ],
             [
              1,
              "#f0f921"
             ]
            ],
            "type": "histogram2dcontour"
           }
          ],
          "mesh3d": [
           {
            "colorbar": {
             "outlinewidth": 0,
             "ticks": ""
            },
            "type": "mesh3d"
           }
          ],
          "parcoords": [
           {
            "line": {
             "colorbar": {
              "outlinewidth": 0,
              "ticks": ""
             }
            },
            "type": "parcoords"
           }
          ],
          "pie": [
           {
            "automargin": true,
            "type": "pie"
           }
          ],
          "scatter": [
           {
            "marker": {
             "colorbar": {
              "outlinewidth": 0,
              "ticks": ""
             }
            },
            "type": "scatter"
           }
          ],
          "scatter3d": [
           {
            "line": {
             "colorbar": {
              "outlinewidth": 0,
              "ticks": ""
             }
            },
            "marker": {
             "colorbar": {
              "outlinewidth": 0,
              "ticks": ""
             }
            },
            "type": "scatter3d"
           }
          ],
          "scattercarpet": [
           {
            "marker": {
             "colorbar": {
              "outlinewidth": 0,
              "ticks": ""
             }
            },
            "type": "scattercarpet"
           }
          ],
          "scattergeo": [
           {
            "marker": {
             "colorbar": {
              "outlinewidth": 0,
              "ticks": ""
             }
            },
            "type": "scattergeo"
           }
          ],
          "scattergl": [
           {
            "marker": {
             "colorbar": {
              "outlinewidth": 0,
              "ticks": ""
             }
            },
            "type": "scattergl"
           }
          ],
          "scattermapbox": [
           {
            "marker": {
             "colorbar": {
              "outlinewidth": 0,
              "ticks": ""
             }
            },
            "type": "scattermapbox"
           }
          ],
          "scatterpolar": [
           {
            "marker": {
             "colorbar": {
              "outlinewidth": 0,
              "ticks": ""
             }
            },
            "type": "scatterpolar"
           }
          ],
          "scatterpolargl": [
           {
            "marker": {
             "colorbar": {
              "outlinewidth": 0,
              "ticks": ""
             }
            },
            "type": "scatterpolargl"
           }
          ],
          "scatterternary": [
           {
            "marker": {
             "colorbar": {
              "outlinewidth": 0,
              "ticks": ""
             }
            },
            "type": "scatterternary"
           }
          ],
          "surface": [
           {
            "colorbar": {
             "outlinewidth": 0,
             "ticks": ""
            },
            "colorscale": [
             [
              0,
              "#0d0887"
             ],
             [
              0.1111111111111111,
              "#46039f"
             ],
             [
              0.2222222222222222,
              "#7201a8"
             ],
             [
              0.3333333333333333,
              "#9c179e"
             ],
             [
              0.4444444444444444,
              "#bd3786"
             ],
             [
              0.5555555555555556,
              "#d8576b"
             ],
             [
              0.6666666666666666,
              "#ed7953"
             ],
             [
              0.7777777777777778,
              "#fb9f3a"
             ],
             [
              0.8888888888888888,
              "#fdca26"
             ],
             [
              1,
              "#f0f921"
             ]
            ],
            "type": "surface"
           }
          ],
          "table": [
           {
            "cells": {
             "fill": {
              "color": "#EBF0F8"
             },
             "line": {
              "color": "white"
             }
            },
            "header": {
             "fill": {
              "color": "#C8D4E3"
             },
             "line": {
              "color": "white"
             }
            },
            "type": "table"
           }
          ]
         },
         "layout": {
          "annotationdefaults": {
           "arrowcolor": "#2a3f5f",
           "arrowhead": 0,
           "arrowwidth": 1
          },
          "autotypenumbers": "strict",
          "coloraxis": {
           "colorbar": {
            "outlinewidth": 0,
            "ticks": ""
           }
          },
          "colorscale": {
           "diverging": [
            [
             0,
             "#8e0152"
            ],
            [
             0.1,
             "#c51b7d"
            ],
            [
             0.2,
             "#de77ae"
            ],
            [
             0.3,
             "#f1b6da"
            ],
            [
             0.4,
             "#fde0ef"
            ],
            [
             0.5,
             "#f7f7f7"
            ],
            [
             0.6,
             "#e6f5d0"
            ],
            [
             0.7,
             "#b8e186"
            ],
            [
             0.8,
             "#7fbc41"
            ],
            [
             0.9,
             "#4d9221"
            ],
            [
             1,
             "#276419"
            ]
           ],
           "sequential": [
            [
             0,
             "#0d0887"
            ],
            [
             0.1111111111111111,
             "#46039f"
            ],
            [
             0.2222222222222222,
             "#7201a8"
            ],
            [
             0.3333333333333333,
             "#9c179e"
            ],
            [
             0.4444444444444444,
             "#bd3786"
            ],
            [
             0.5555555555555556,
             "#d8576b"
            ],
            [
             0.6666666666666666,
             "#ed7953"
            ],
            [
             0.7777777777777778,
             "#fb9f3a"
            ],
            [
             0.8888888888888888,
             "#fdca26"
            ],
            [
             1,
             "#f0f921"
            ]
           ],
           "sequentialminus": [
            [
             0,
             "#0d0887"
            ],
            [
             0.1111111111111111,
             "#46039f"
            ],
            [
             0.2222222222222222,
             "#7201a8"
            ],
            [
             0.3333333333333333,
             "#9c179e"
            ],
            [
             0.4444444444444444,
             "#bd3786"
            ],
            [
             0.5555555555555556,
             "#d8576b"
            ],
            [
             0.6666666666666666,
             "#ed7953"
            ],
            [
             0.7777777777777778,
             "#fb9f3a"
            ],
            [
             0.8888888888888888,
             "#fdca26"
            ],
            [
             1,
             "#f0f921"
            ]
           ]
          },
          "colorway": [
           "#636efa",
           "#EF553B",
           "#00cc96",
           "#ab63fa",
           "#FFA15A",
           "#19d3f3",
           "#FF6692",
           "#B6E880",
           "#FF97FF",
           "#FECB52"
          ],
          "font": {
           "color": "#2a3f5f"
          },
          "geo": {
           "bgcolor": "white",
           "lakecolor": "white",
           "landcolor": "#E5ECF6",
           "showlakes": true,
           "showland": true,
           "subunitcolor": "white"
          },
          "hoverlabel": {
           "align": "left"
          },
          "hovermode": "closest",
          "mapbox": {
           "style": "light"
          },
          "paper_bgcolor": "white",
          "plot_bgcolor": "#E5ECF6",
          "polar": {
           "angularaxis": {
            "gridcolor": "white",
            "linecolor": "white",
            "ticks": ""
           },
           "bgcolor": "#E5ECF6",
           "radialaxis": {
            "gridcolor": "white",
            "linecolor": "white",
            "ticks": ""
           }
          },
          "scene": {
           "xaxis": {
            "backgroundcolor": "#E5ECF6",
            "gridcolor": "white",
            "gridwidth": 2,
            "linecolor": "white",
            "showbackground": true,
            "ticks": "",
            "zerolinecolor": "white"
           },
           "yaxis": {
            "backgroundcolor": "#E5ECF6",
            "gridcolor": "white",
            "gridwidth": 2,
            "linecolor": "white",
            "showbackground": true,
            "ticks": "",
            "zerolinecolor": "white"
           },
           "zaxis": {
            "backgroundcolor": "#E5ECF6",
            "gridcolor": "white",
            "gridwidth": 2,
            "linecolor": "white",
            "showbackground": true,
            "ticks": "",
            "zerolinecolor": "white"
           }
          },
          "shapedefaults": {
           "line": {
            "color": "#2a3f5f"
           }
          },
          "ternary": {
           "aaxis": {
            "gridcolor": "white",
            "linecolor": "white",
            "ticks": ""
           },
           "baxis": {
            "gridcolor": "white",
            "linecolor": "white",
            "ticks": ""
           },
           "bgcolor": "#E5ECF6",
           "caxis": {
            "gridcolor": "white",
            "linecolor": "white",
            "ticks": ""
           }
          },
          "title": {
           "x": 0.05
          },
          "xaxis": {
           "automargin": true,
           "gridcolor": "white",
           "linecolor": "white",
           "ticks": "",
           "title": {
            "standoff": 15
           },
           "zerolinecolor": "white",
           "zerolinewidth": 2
          },
          "yaxis": {
           "automargin": true,
           "gridcolor": "white",
           "linecolor": "white",
           "ticks": "",
           "title": {
            "standoff": 15
           },
           "zerolinecolor": "white",
           "zerolinewidth": 2
          }
         }
        },
        "title": {
         "font": {
          "color": "#4D5663"
         }
        },
        "xaxis": {
         "gridcolor": "#E1E5ED",
         "showgrid": true,
         "tickfont": {
          "color": "#4D5663"
         },
         "title": {
          "font": {
           "color": "#4D5663"
          },
          "text": ""
         },
         "zerolinecolor": "#E1E5ED"
        },
        "yaxis": {
         "gridcolor": "#E1E5ED",
         "showgrid": true,
         "tickfont": {
          "color": "#4D5663"
         },
         "title": {
          "font": {
           "color": "#4D5663"
          },
          "text": ""
         },
         "zerolinecolor": "#E1E5ED"
        }
       }
      },
      "text/html": [
       "<div>                            <div id=\"8fd2f713-84d2-4aa7-9261-ca60fac0e749\" class=\"plotly-graph-div\" style=\"height:525px; width:100%;\"></div>            <script type=\"text/javascript\">                require([\"plotly\"], function(Plotly) {                    window.PLOTLYENV=window.PLOTLYENV || {};\n",
       "                    window.PLOTLYENV.BASE_URL='https://plot.ly';                                    if (document.getElementById(\"8fd2f713-84d2-4aa7-9261-ca60fac0e749\")) {                    Plotly.newPlot(                        \"8fd2f713-84d2-4aa7-9261-ca60fac0e749\",                        [{\"marker\":{\"color\":\"rgba(255, 153, 51, 0.6)\",\"line\":{\"color\":\"rgba(255, 153, 51, 1.0)\",\"width\":1}},\"name\":\"None\",\"orientation\":\"v\",\"text\":\"\",\"x\":[\"A\",\"B\",\"C\",\"D\"],\"y\":[100,100,100,100],\"type\":\"bar\"}],                        {\"legend\":{\"bgcolor\":\"#F5F6F9\",\"font\":{\"color\":\"#4D5663\"}},\"paper_bgcolor\":\"#F5F6F9\",\"plot_bgcolor\":\"#F5F6F9\",\"template\":{\"data\":{\"barpolar\":[{\"marker\":{\"line\":{\"color\":\"#E5ECF6\",\"width\":0.5},\"pattern\":{\"fillmode\":\"overlay\",\"size\":10,\"solidity\":0.2}},\"type\":\"barpolar\"}],\"bar\":[{\"error_x\":{\"color\":\"#2a3f5f\"},\"error_y\":{\"color\":\"#2a3f5f\"},\"marker\":{\"line\":{\"color\":\"#E5ECF6\",\"width\":0.5},\"pattern\":{\"fillmode\":\"overlay\",\"size\":10,\"solidity\":0.2}},\"type\":\"bar\"}],\"carpet\":[{\"aaxis\":{\"endlinecolor\":\"#2a3f5f\",\"gridcolor\":\"white\",\"linecolor\":\"white\",\"minorgridcolor\":\"white\",\"startlinecolor\":\"#2a3f5f\"},\"baxis\":{\"endlinecolor\":\"#2a3f5f\",\"gridcolor\":\"white\",\"linecolor\":\"white\",\"minorgridcolor\":\"white\",\"startlinecolor\":\"#2a3f5f\"},\"type\":\"carpet\"}],\"choropleth\":[{\"colorbar\":{\"outlinewidth\":0,\"ticks\":\"\"},\"type\":\"choropleth\"}],\"contourcarpet\":[{\"colorbar\":{\"outlinewidth\":0,\"ticks\":\"\"},\"type\":\"contourcarpet\"}],\"contour\":[{\"colorbar\":{\"outlinewidth\":0,\"ticks\":\"\"},\"colorscale\":[[0.0,\"#0d0887\"],[0.1111111111111111,\"#46039f\"],[0.2222222222222222,\"#7201a8\"],[0.3333333333333333,\"#9c179e\"],[0.4444444444444444,\"#bd3786\"],[0.5555555555555556,\"#d8576b\"],[0.6666666666666666,\"#ed7953\"],[0.7777777777777778,\"#fb9f3a\"],[0.8888888888888888,\"#fdca26\"],[1.0,\"#f0f921\"]],\"type\":\"contour\"}],\"heatmapgl\":[{\"colorbar\":{\"outlinewidth\":0,\"ticks\":\"\"},\"colorscale\":[[0.0,\"#0d0887\"],[0.1111111111111111,\"#46039f\"],[0.2222222222222222,\"#7201a8\"],[0.3333333333333333,\"#9c179e\"],[0.4444444444444444,\"#bd3786\"],[0.5555555555555556,\"#d8576b\"],[0.6666666666666666,\"#ed7953\"],[0.7777777777777778,\"#fb9f3a\"],[0.8888888888888888,\"#fdca26\"],[1.0,\"#f0f921\"]],\"type\":\"heatmapgl\"}],\"heatmap\":[{\"colorbar\":{\"outlinewidth\":0,\"ticks\":\"\"},\"colorscale\":[[0.0,\"#0d0887\"],[0.1111111111111111,\"#46039f\"],[0.2222222222222222,\"#7201a8\"],[0.3333333333333333,\"#9c179e\"],[0.4444444444444444,\"#bd3786\"],[0.5555555555555556,\"#d8576b\"],[0.6666666666666666,\"#ed7953\"],[0.7777777777777778,\"#fb9f3a\"],[0.8888888888888888,\"#fdca26\"],[1.0,\"#f0f921\"]],\"type\":\"heatmap\"}],\"histogram2dcontour\":[{\"colorbar\":{\"outlinewidth\":0,\"ticks\":\"\"},\"colorscale\":[[0.0,\"#0d0887\"],[0.1111111111111111,\"#46039f\"],[0.2222222222222222,\"#7201a8\"],[0.3333333333333333,\"#9c179e\"],[0.4444444444444444,\"#bd3786\"],[0.5555555555555556,\"#d8576b\"],[0.6666666666666666,\"#ed7953\"],[0.7777777777777778,\"#fb9f3a\"],[0.8888888888888888,\"#fdca26\"],[1.0,\"#f0f921\"]],\"type\":\"histogram2dcontour\"}],\"histogram2d\":[{\"colorbar\":{\"outlinewidth\":0,\"ticks\":\"\"},\"colorscale\":[[0.0,\"#0d0887\"],[0.1111111111111111,\"#46039f\"],[0.2222222222222222,\"#7201a8\"],[0.3333333333333333,\"#9c179e\"],[0.4444444444444444,\"#bd3786\"],[0.5555555555555556,\"#d8576b\"],[0.6666666666666666,\"#ed7953\"],[0.7777777777777778,\"#fb9f3a\"],[0.8888888888888888,\"#fdca26\"],[1.0,\"#f0f921\"]],\"type\":\"histogram2d\"}],\"histogram\":[{\"marker\":{\"pattern\":{\"fillmode\":\"overlay\",\"size\":10,\"solidity\":0.2}},\"type\":\"histogram\"}],\"mesh3d\":[{\"colorbar\":{\"outlinewidth\":0,\"ticks\":\"\"},\"type\":\"mesh3d\"}],\"parcoords\":[{\"line\":{\"colorbar\":{\"outlinewidth\":0,\"ticks\":\"\"}},\"type\":\"parcoords\"}],\"pie\":[{\"automargin\":true,\"type\":\"pie\"}],\"scatter3d\":[{\"line\":{\"colorbar\":{\"outlinewidth\":0,\"ticks\":\"\"}},\"marker\":{\"colorbar\":{\"outlinewidth\":0,\"ticks\":\"\"}},\"type\":\"scatter3d\"}],\"scattercarpet\":[{\"marker\":{\"colorbar\":{\"outlinewidth\":0,\"ticks\":\"\"}},\"type\":\"scattercarpet\"}],\"scattergeo\":[{\"marker\":{\"colorbar\":{\"outlinewidth\":0,\"ticks\":\"\"}},\"type\":\"scattergeo\"}],\"scattergl\":[{\"marker\":{\"colorbar\":{\"outlinewidth\":0,\"ticks\":\"\"}},\"type\":\"scattergl\"}],\"scattermapbox\":[{\"marker\":{\"colorbar\":{\"outlinewidth\":0,\"ticks\":\"\"}},\"type\":\"scattermapbox\"}],\"scatterpolargl\":[{\"marker\":{\"colorbar\":{\"outlinewidth\":0,\"ticks\":\"\"}},\"type\":\"scatterpolargl\"}],\"scatterpolar\":[{\"marker\":{\"colorbar\":{\"outlinewidth\":0,\"ticks\":\"\"}},\"type\":\"scatterpolar\"}],\"scatter\":[{\"marker\":{\"colorbar\":{\"outlinewidth\":0,\"ticks\":\"\"}},\"type\":\"scatter\"}],\"scatterternary\":[{\"marker\":{\"colorbar\":{\"outlinewidth\":0,\"ticks\":\"\"}},\"type\":\"scatterternary\"}],\"surface\":[{\"colorbar\":{\"outlinewidth\":0,\"ticks\":\"\"},\"colorscale\":[[0.0,\"#0d0887\"],[0.1111111111111111,\"#46039f\"],[0.2222222222222222,\"#7201a8\"],[0.3333333333333333,\"#9c179e\"],[0.4444444444444444,\"#bd3786\"],[0.5555555555555556,\"#d8576b\"],[0.6666666666666666,\"#ed7953\"],[0.7777777777777778,\"#fb9f3a\"],[0.8888888888888888,\"#fdca26\"],[1.0,\"#f0f921\"]],\"type\":\"surface\"}],\"table\":[{\"cells\":{\"fill\":{\"color\":\"#EBF0F8\"},\"line\":{\"color\":\"white\"}},\"header\":{\"fill\":{\"color\":\"#C8D4E3\"},\"line\":{\"color\":\"white\"}},\"type\":\"table\"}]},\"layout\":{\"annotationdefaults\":{\"arrowcolor\":\"#2a3f5f\",\"arrowhead\":0,\"arrowwidth\":1},\"autotypenumbers\":\"strict\",\"coloraxis\":{\"colorbar\":{\"outlinewidth\":0,\"ticks\":\"\"}},\"colorscale\":{\"diverging\":[[0,\"#8e0152\"],[0.1,\"#c51b7d\"],[0.2,\"#de77ae\"],[0.3,\"#f1b6da\"],[0.4,\"#fde0ef\"],[0.5,\"#f7f7f7\"],[0.6,\"#e6f5d0\"],[0.7,\"#b8e186\"],[0.8,\"#7fbc41\"],[0.9,\"#4d9221\"],[1,\"#276419\"]],\"sequential\":[[0.0,\"#0d0887\"],[0.1111111111111111,\"#46039f\"],[0.2222222222222222,\"#7201a8\"],[0.3333333333333333,\"#9c179e\"],[0.4444444444444444,\"#bd3786\"],[0.5555555555555556,\"#d8576b\"],[0.6666666666666666,\"#ed7953\"],[0.7777777777777778,\"#fb9f3a\"],[0.8888888888888888,\"#fdca26\"],[1.0,\"#f0f921\"]],\"sequentialminus\":[[0.0,\"#0d0887\"],[0.1111111111111111,\"#46039f\"],[0.2222222222222222,\"#7201a8\"],[0.3333333333333333,\"#9c179e\"],[0.4444444444444444,\"#bd3786\"],[0.5555555555555556,\"#d8576b\"],[0.6666666666666666,\"#ed7953\"],[0.7777777777777778,\"#fb9f3a\"],[0.8888888888888888,\"#fdca26\"],[1.0,\"#f0f921\"]]},\"colorway\":[\"#636efa\",\"#EF553B\",\"#00cc96\",\"#ab63fa\",\"#FFA15A\",\"#19d3f3\",\"#FF6692\",\"#B6E880\",\"#FF97FF\",\"#FECB52\"],\"font\":{\"color\":\"#2a3f5f\"},\"geo\":{\"bgcolor\":\"white\",\"lakecolor\":\"white\",\"landcolor\":\"#E5ECF6\",\"showlakes\":true,\"showland\":true,\"subunitcolor\":\"white\"},\"hoverlabel\":{\"align\":\"left\"},\"hovermode\":\"closest\",\"mapbox\":{\"style\":\"light\"},\"paper_bgcolor\":\"white\",\"plot_bgcolor\":\"#E5ECF6\",\"polar\":{\"angularaxis\":{\"gridcolor\":\"white\",\"linecolor\":\"white\",\"ticks\":\"\"},\"bgcolor\":\"#E5ECF6\",\"radialaxis\":{\"gridcolor\":\"white\",\"linecolor\":\"white\",\"ticks\":\"\"}},\"scene\":{\"xaxis\":{\"backgroundcolor\":\"#E5ECF6\",\"gridcolor\":\"white\",\"gridwidth\":2,\"linecolor\":\"white\",\"showbackground\":true,\"ticks\":\"\",\"zerolinecolor\":\"white\"},\"yaxis\":{\"backgroundcolor\":\"#E5ECF6\",\"gridcolor\":\"white\",\"gridwidth\":2,\"linecolor\":\"white\",\"showbackground\":true,\"ticks\":\"\",\"zerolinecolor\":\"white\"},\"zaxis\":{\"backgroundcolor\":\"#E5ECF6\",\"gridcolor\":\"white\",\"gridwidth\":2,\"linecolor\":\"white\",\"showbackground\":true,\"ticks\":\"\",\"zerolinecolor\":\"white\"}},\"shapedefaults\":{\"line\":{\"color\":\"#2a3f5f\"}},\"ternary\":{\"aaxis\":{\"gridcolor\":\"white\",\"linecolor\":\"white\",\"ticks\":\"\"},\"baxis\":{\"gridcolor\":\"white\",\"linecolor\":\"white\",\"ticks\":\"\"},\"bgcolor\":\"#E5ECF6\",\"caxis\":{\"gridcolor\":\"white\",\"linecolor\":\"white\",\"ticks\":\"\"}},\"title\":{\"x\":0.05},\"xaxis\":{\"automargin\":true,\"gridcolor\":\"white\",\"linecolor\":\"white\",\"ticks\":\"\",\"title\":{\"standoff\":15},\"zerolinecolor\":\"white\",\"zerolinewidth\":2},\"yaxis\":{\"automargin\":true,\"gridcolor\":\"white\",\"linecolor\":\"white\",\"ticks\":\"\",\"title\":{\"standoff\":15},\"zerolinecolor\":\"white\",\"zerolinewidth\":2}}},\"title\":{\"font\":{\"color\":\"#4D5663\"}},\"xaxis\":{\"gridcolor\":\"#E1E5ED\",\"showgrid\":true,\"tickfont\":{\"color\":\"#4D5663\"},\"title\":{\"font\":{\"color\":\"#4D5663\"},\"text\":\"\"},\"zerolinecolor\":\"#E1E5ED\"},\"yaxis\":{\"gridcolor\":\"#E1E5ED\",\"showgrid\":true,\"tickfont\":{\"color\":\"#4D5663\"},\"title\":{\"font\":{\"color\":\"#4D5663\"},\"text\":\"\"},\"zerolinecolor\":\"#E1E5ED\"}},                        {\"showLink\": true, \"linkText\": \"Export to plot.ly\", \"plotlyServerURL\": \"https://plot.ly\", \"responsive\": true}                    ).then(function(){\n",
       "                            \n",
       "var gd = document.getElementById('8fd2f713-84d2-4aa7-9261-ca60fac0e749');\n",
       "var x = new MutationObserver(function (mutations, observer) {{\n",
       "        var display = window.getComputedStyle(gd).display;\n",
       "        if (!display || display === 'none') {{\n",
       "            console.log([gd, 'removed!']);\n",
       "            Plotly.purge(gd);\n",
       "            observer.disconnect();\n",
       "        }}\n",
       "}});\n",
       "\n",
       "// Listen for the removal of the full notebook cells\n",
       "var notebookContainer = gd.closest('#notebook-container');\n",
       "if (notebookContainer) {{\n",
       "    x.observe(notebookContainer, {childList: true});\n",
       "}}\n",
       "\n",
       "// Listen for the clearing of the current output cell\n",
       "var outputEl = gd.closest('.output');\n",
       "if (outputEl) {{\n",
       "    x.observe(outputEl, {childList: true});\n",
       "}}\n",
       "\n",
       "                        })                };                });            </script>        </div>"
      ]
     },
     "metadata": {},
     "output_type": "display_data"
    }
   ],
   "source": [
    "df.count().iplot(kind='bar')"
   ]
  },
  {
   "cell_type": "markdown",
   "metadata": {},
   "source": [
    "## Boxplots"
   ]
  },
  {
   "cell_type": "code",
   "execution_count": 15,
   "metadata": {},
   "outputs": [
    {
     "data": {
      "application/vnd.plotly.v1+json": {
       "config": {
        "linkText": "Export to plot.ly",
        "plotlyServerURL": "https://plot.ly",
        "showLink": true
       },
       "data": [
        {
         "boxpoints": false,
         "line": {
          "width": 1.3
         },
         "marker": {
          "color": "rgba(255, 153, 51, 1.0)"
         },
         "name": "A",
         "orientation": "v",
         "type": "box",
         "y": [
          0.9772529650350968,
          0.5218543729070486,
          -1.3425139027153372,
          -0.05968356667477004,
          0.24086815280399745,
          -1.1957452750168351,
          -0.08736966178246539,
          0.18009465087374535,
          0.512243583584234,
          -0.6371363112717048,
          1.2443262778106092,
          0.791202106727671,
          -1.6256779578875453,
          -0.7243046739135806,
          2.0163625014039877,
          0.9753987594437837,
          -0.07390514834813688,
          -0.2024596128214472,
          0.5923843778745538,
          0.678796032042731,
          -0.6363720223064253,
          0.06496861018889219,
          -1.2100102604045566,
          -0.013360272881807508,
          1.794877271519686,
          -0.7224598288359991,
          -0.29906084071357086,
          -0.8912571088317855,
          -0.46584313608482464,
          -0.6882413919972891,
          0.3079827157745628,
          -0.8255652302452776,
          1.9574725990085684,
          -0.2526877691367265,
          0.07539985788774975,
          -0.39069290520673045,
          0.1052357852615328,
          0.15958547172864915,
          0.7624911985102074,
          0.2044917965927145,
          1.2364757226460792,
          0.9844501052457368,
          0.9795933705716623,
          0.9656172541445607,
          0.7984613185429534,
          -0.31879838713084346,
          -0.2211780849142802,
          1.2330415670872872,
          0.9770354600032393,
          -0.6415066151771763,
          0.6134527509100443,
          0.19729006206632116,
          0.8874492070213218,
          0.3337259453809492,
          -0.5463984445333802,
          -0.455996414199671,
          -2.0580361094423023,
          3.381674053066615,
          -1.1366621822686953,
          0.7447885541103118,
          -0.5705971042451976,
          0.3343406551250657,
          -2.2582422766705315,
          1.447534518129494,
          -0.16495236544310013,
          0.8076122116698414,
          0.2719706049023909,
          1.9924740417907814,
          -0.01944140469513046,
          1.3502425502153055,
          -0.27636349866641563,
          -0.49966340781958557,
          0.10491312172505367,
          0.6781354154037323,
          1.3191234412912474,
          0.1147419140978155,
          -0.5338285920957705,
          0.8183177454197698,
          0.20453625705143474,
          -0.48516951297920824,
          -0.30436438553366446,
          0.23705375221620864,
          0.26833263142911373,
          1.271155900698707,
          1.7491368764367385,
          -0.37603404281219305,
          -0.0797561534323506,
          -1.440578173961911,
          1.5701202008294266,
          0.2906986884234425,
          -0.2304088911901656,
          0.6432755130200528,
          -0.7486141025136326,
          1.1785804083139362,
          0.446897875290842,
          -0.3529696223043142,
          -0.2243348521355656,
          1.9473415438312296,
          -0.36828542344963616,
          -0.16310864128344058
         ]
        },
        {
         "boxpoints": false,
         "line": {
          "width": 1.3
         },
         "marker": {
          "color": "rgba(55, 128, 191, 1.0)"
         },
         "name": "B",
         "orientation": "v",
         "type": "box",
         "y": [
          1.627388172473467,
          -0.8055067503825576,
          -1.8482576626966893,
          -2.9508607787893504,
          -0.32335265753489617,
          0.34396454509112384,
          0.0748057306504219,
          -1.8613842333289714,
          -1.3054652244299114,
          -1.3950506650475032,
          -1.1909701866128817,
          -0.05600815639471173,
          -0.5220511445209809,
          1.7492337790952306,
          -0.30286042790837125,
          -0.5580053043644606,
          -0.6197392766868668,
          1.023399305708221,
          -0.41677319052226636,
          2.192760839374185,
          -1.1161176336915652,
          -1.354754603690455,
          -0.18704357075833125,
          -0.17703127653905834,
          -0.5993704874414364,
          -0.6031010592370301,
          -0.8988267617328992,
          -0.8729996927258223,
          0.04349488140203181,
          1.60947917489961,
          0.34925259655212826,
          0.6781613116198999,
          -0.03427721363269522,
          0.17477742791449075,
          -0.2004842888242854,
          -1.6276521435903657,
          0.5692665300316379,
          1.671766451463639,
          -0.4217916920003711,
          0.39696041791866643,
          0.013317925282218058,
          -0.05556788618969299,
          0.2866084770378429,
          -2.1326375060042717,
          -0.1615151310401847,
          -2.1594687872988834,
          0.5562396695236108,
          -1.8767688706543055,
          0.06462746376191478,
          0.7248550736349361,
          1.0337482553746316,
          -1.1933360704841973,
          -2.022229691502361,
          0.15446421559972934,
          -0.7865937458726904,
          1.2071813089588264,
          0.473669013265368,
          2.1895861468746367,
          1.054067862100585,
          -0.6768707755074235,
          0.18993852777003314,
          -1.0913452911843,
          0.49682186900742054,
          -0.7161427147264142,
          0.09276153992295592,
          -0.25963221710747514,
          -1.1090280610525889,
          -0.7998864525525252,
          -0.8098890761466924,
          -0.20105621016424333,
          0.1770344320014994,
          0.3390029444408896,
          0.2616794294084994,
          0.6663677877948193,
          0.9533830725866774,
          -1.7362341026178667,
          0.8675164031016456,
          -1.5675430085627995,
          0.37211122103752325,
          -0.20081859338787414,
          -0.12706689419031494,
          -0.888116580743796,
          0.27249834505445314,
          0.38168853201009584,
          -0.2607787387898964,
          -1.5795945729236718,
          1.0318911512090052,
          -1.5119880807061745,
          1.3931692810587257,
          1.2485317772084956,
          0.3060318753194821,
          0.06058482990039677,
          2.2533512860350666,
          1.007225023983177,
          -1.9024510000280583,
          -0.5030995515955998,
          -0.0911785905444012,
          -0.629844471944149,
          0.02239790860322817,
          -0.9432430696669399
         ]
        },
        {
         "boxpoints": false,
         "line": {
          "width": 1.3
         },
         "marker": {
          "color": "rgba(50, 171, 96, 1.0)"
         },
         "name": "C",
         "orientation": "v",
         "type": "box",
         "y": [
          -0.19539164526406066,
          -0.13392272429528673,
          -0.20697179620540213,
          1.0219423684662838,
          -2.419680862732682,
          0.42340187797427564,
          0.27543977733548325,
          0.5322887330986481,
          -0.3742731008823676,
          0.806800967593332,
          0.520507771066039,
          2.4245243867521675,
          0.04565115863423383,
          -0.6667508209050528,
          -0.8922936027698372,
          -0.17758480742284974,
          0.12281757417563029,
          -0.6848615878580517,
          -1.258355012448714,
          -1.344930470338531,
          0.11939952814482498,
          -0.44130576430841806,
          -0.7858569436583683,
          0.47092497736239164,
          -0.06693209733790141,
          -2.2427572199217516,
          0.6297100420806422,
          -0.07915278352681059,
          0.5401522029535316,
          0.7550946768311247,
          -0.7615842849558506,
          0.6434132331202398,
          -0.960482390504063,
          0.3141838016130222,
          0.26300639517836916,
          0.787102487845185,
          0.7508523136094482,
          0.6665136713812614,
          -1.72039490120812,
          1.6343322231599189,
          1.5282890221724952,
          -0.18136780499686317,
          0.8433327653313499,
          -0.0845232303654236,
          -0.4599277250369489,
          -1.0329722016607104,
          0.14121524762472068,
          -0.833200139919371,
          -1.8464815420543754,
          -0.11690944571128538,
          -0.04081994319852998,
          1.014790360423072,
          -1.2596267306024636,
          -0.801739830430961,
          -0.0010881173587275106,
          1.6944043197553824,
          -0.3154802946913143,
          0.2640060078470049,
          0.2938490898494173,
          -0.4638620868647608,
          -1.279534349303109,
          -1.3804875841530997,
          -1.559979670426831,
          -0.5696969171920921,
          -0.8826885874985527,
          0.2570256589600279,
          0.38996235422552683,
          -1.5286554813579205,
          0.19189436488159947,
          -0.32248736969409897,
          -1.014118238998222,
          -1.9113341500983831,
          -0.4437006225995927,
          0.10836449327639262,
          -0.14734927729922,
          0.20038220477498528,
          0.26958280260928935,
          -0.35284711851174194,
          -0.1038876238561292,
          -1.3286737387037622,
          0.023896319930620694,
          1.2526337213488998,
          0.3061060071707258,
          -1.3855284882906498,
          1.9707255777902948,
          0.8585466233942723,
          1.0709979035477255,
          -0.19073775807443968,
          1.932427830975665,
          0.30651822793031425,
          1.208864377091442,
          0.336225761942993,
          -0.9675375067128238,
          -0.5205547210823098,
          0.3259429142118365,
          0.29868893725399237,
          0.16867532069482036,
          1.1338583577333696,
          -0.33539854397769125,
          0.4751337886239071
         ]
        },
        {
         "boxpoints": false,
         "line": {
          "width": 1.3
         },
         "marker": {
          "color": "rgba(128, 0, 128, 1.0)"
         },
         "name": "D",
         "orientation": "v",
         "type": "box",
         "y": [
          0.6953126025177219,
          0.2501971988194661,
          -0.18943585964256668,
          0.2620842172478777,
          -0.4416429011686252,
          -0.008532947894072208,
          -0.3331736662411075,
          -1.9244628043133278,
          0.4896072840955004,
          -0.45302281370384573,
          1.2911895760446588,
          0.3474282995525151,
          0.36010991189294794,
          0.9543193286390744,
          -0.7411571805292035,
          -1.4747530518581862,
          0.8286291779589134,
          1.8778546405408356,
          -0.8284875482802208,
          -0.5901008142607173,
          -0.990849139976589,
          0.1808103575132078,
          -1.328178186162896,
          0.46310454490676883,
          -0.961420946877116,
          -1.2911620649096904,
          1.6749696185097749,
          0.453933245260872,
          -1.0172394223171117,
          0.11602299628297065,
          1.1715007051391517,
          0.6527991382834483,
          0.4808263107261767,
          0.3301036618468011,
          -0.6837935464993281,
          -0.7226223116303302,
          0.8307976990920981,
          0.09531075888178817,
          -0.11073671633289299,
          -0.24777204660215887,
          -0.6768409591882902,
          1.028687964857132,
          0.07441310411614314,
          -0.17997391886250652,
          -0.36987556349704215,
          -0.39974551000947045,
          -2.3199737506869433,
          0.1079814015195673,
          -0.1915407007576155,
          0.7424057670662202,
          0.06271649554043134,
          0.2426577964862029,
          -1.0084702401105468,
          0.052678396436552706,
          -1.0874314306283388,
          -0.028154890174068133,
          0.21198491208658923,
          1.2236638673550357,
          1.1393515756660755,
          -0.0597005283276125,
          -0.02840902283679621,
          -0.5935823534890683,
          -0.9043167670752155,
          1.150216402953456,
          2.0294043200340615,
          -0.32109253853545544,
          0.8313268419444494,
          0.1952715931818143,
          -1.191699297482351,
          -0.6882193842418627,
          0.08804106784911958,
          1.0782344300787003,
          1.2509536267737478,
          -1.9855080746462799,
          -0.0671273700432608,
          0.9492101957447133,
          -0.10718563213569898,
          0.5552212441509886,
          1.3892086795678142,
          1.027926649156825,
          1.7633018540765841,
          -1.820198636670063,
          -1.653582584925675,
          -0.7776106599467563,
          2.778127355388952,
          -0.3018506041095579,
          1.3989560844995972,
          -0.5512443247038632,
          0.8572027216525815,
          -0.23744482693707122,
          0.180658603785055,
          -0.6237064194749184,
          0.03345365598418503,
          -0.1688411343385012,
          0.37594418824111686,
          1.3009120779506753,
          -0.8267717945732077,
          1.1486006445829764,
          -0.15534129819073617,
          0.021214372703046533
         ]
        }
       ],
       "layout": {
        "legend": {
         "bgcolor": "#F5F6F9",
         "font": {
          "color": "#4D5663"
         }
        },
        "paper_bgcolor": "#F5F6F9",
        "plot_bgcolor": "#F5F6F9",
        "template": {
         "data": {
          "bar": [
           {
            "error_x": {
             "color": "#2a3f5f"
            },
            "error_y": {
             "color": "#2a3f5f"
            },
            "marker": {
             "line": {
              "color": "#E5ECF6",
              "width": 0.5
             },
             "pattern": {
              "fillmode": "overlay",
              "size": 10,
              "solidity": 0.2
             }
            },
            "type": "bar"
           }
          ],
          "barpolar": [
           {
            "marker": {
             "line": {
              "color": "#E5ECF6",
              "width": 0.5
             },
             "pattern": {
              "fillmode": "overlay",
              "size": 10,
              "solidity": 0.2
             }
            },
            "type": "barpolar"
           }
          ],
          "carpet": [
           {
            "aaxis": {
             "endlinecolor": "#2a3f5f",
             "gridcolor": "white",
             "linecolor": "white",
             "minorgridcolor": "white",
             "startlinecolor": "#2a3f5f"
            },
            "baxis": {
             "endlinecolor": "#2a3f5f",
             "gridcolor": "white",
             "linecolor": "white",
             "minorgridcolor": "white",
             "startlinecolor": "#2a3f5f"
            },
            "type": "carpet"
           }
          ],
          "choropleth": [
           {
            "colorbar": {
             "outlinewidth": 0,
             "ticks": ""
            },
            "type": "choropleth"
           }
          ],
          "contour": [
           {
            "colorbar": {
             "outlinewidth": 0,
             "ticks": ""
            },
            "colorscale": [
             [
              0,
              "#0d0887"
             ],
             [
              0.1111111111111111,
              "#46039f"
             ],
             [
              0.2222222222222222,
              "#7201a8"
             ],
             [
              0.3333333333333333,
              "#9c179e"
             ],
             [
              0.4444444444444444,
              "#bd3786"
             ],
             [
              0.5555555555555556,
              "#d8576b"
             ],
             [
              0.6666666666666666,
              "#ed7953"
             ],
             [
              0.7777777777777778,
              "#fb9f3a"
             ],
             [
              0.8888888888888888,
              "#fdca26"
             ],
             [
              1,
              "#f0f921"
             ]
            ],
            "type": "contour"
           }
          ],
          "contourcarpet": [
           {
            "colorbar": {
             "outlinewidth": 0,
             "ticks": ""
            },
            "type": "contourcarpet"
           }
          ],
          "heatmap": [
           {
            "colorbar": {
             "outlinewidth": 0,
             "ticks": ""
            },
            "colorscale": [
             [
              0,
              "#0d0887"
             ],
             [
              0.1111111111111111,
              "#46039f"
             ],
             [
              0.2222222222222222,
              "#7201a8"
             ],
             [
              0.3333333333333333,
              "#9c179e"
             ],
             [
              0.4444444444444444,
              "#bd3786"
             ],
             [
              0.5555555555555556,
              "#d8576b"
             ],
             [
              0.6666666666666666,
              "#ed7953"
             ],
             [
              0.7777777777777778,
              "#fb9f3a"
             ],
             [
              0.8888888888888888,
              "#fdca26"
             ],
             [
              1,
              "#f0f921"
             ]
            ],
            "type": "heatmap"
           }
          ],
          "heatmapgl": [
           {
            "colorbar": {
             "outlinewidth": 0,
             "ticks": ""
            },
            "colorscale": [
             [
              0,
              "#0d0887"
             ],
             [
              0.1111111111111111,
              "#46039f"
             ],
             [
              0.2222222222222222,
              "#7201a8"
             ],
             [
              0.3333333333333333,
              "#9c179e"
             ],
             [
              0.4444444444444444,
              "#bd3786"
             ],
             [
              0.5555555555555556,
              "#d8576b"
             ],
             [
              0.6666666666666666,
              "#ed7953"
             ],
             [
              0.7777777777777778,
              "#fb9f3a"
             ],
             [
              0.8888888888888888,
              "#fdca26"
             ],
             [
              1,
              "#f0f921"
             ]
            ],
            "type": "heatmapgl"
           }
          ],
          "histogram": [
           {
            "marker": {
             "pattern": {
              "fillmode": "overlay",
              "size": 10,
              "solidity": 0.2
             }
            },
            "type": "histogram"
           }
          ],
          "histogram2d": [
           {
            "colorbar": {
             "outlinewidth": 0,
             "ticks": ""
            },
            "colorscale": [
             [
              0,
              "#0d0887"
             ],
             [
              0.1111111111111111,
              "#46039f"
             ],
             [
              0.2222222222222222,
              "#7201a8"
             ],
             [
              0.3333333333333333,
              "#9c179e"
             ],
             [
              0.4444444444444444,
              "#bd3786"
             ],
             [
              0.5555555555555556,
              "#d8576b"
             ],
             [
              0.6666666666666666,
              "#ed7953"
             ],
             [
              0.7777777777777778,
              "#fb9f3a"
             ],
             [
              0.8888888888888888,
              "#fdca26"
             ],
             [
              1,
              "#f0f921"
             ]
            ],
            "type": "histogram2d"
           }
          ],
          "histogram2dcontour": [
           {
            "colorbar": {
             "outlinewidth": 0,
             "ticks": ""
            },
            "colorscale": [
             [
              0,
              "#0d0887"
             ],
             [
              0.1111111111111111,
              "#46039f"
             ],
             [
              0.2222222222222222,
              "#7201a8"
             ],
             [
              0.3333333333333333,
              "#9c179e"
             ],
             [
              0.4444444444444444,
              "#bd3786"
             ],
             [
              0.5555555555555556,
              "#d8576b"
             ],
             [
              0.6666666666666666,
              "#ed7953"
             ],
             [
              0.7777777777777778,
              "#fb9f3a"
             ],
             [
              0.8888888888888888,
              "#fdca26"
             ],
             [
              1,
              "#f0f921"
             ]
            ],
            "type": "histogram2dcontour"
           }
          ],
          "mesh3d": [
           {
            "colorbar": {
             "outlinewidth": 0,
             "ticks": ""
            },
            "type": "mesh3d"
           }
          ],
          "parcoords": [
           {
            "line": {
             "colorbar": {
              "outlinewidth": 0,
              "ticks": ""
             }
            },
            "type": "parcoords"
           }
          ],
          "pie": [
           {
            "automargin": true,
            "type": "pie"
           }
          ],
          "scatter": [
           {
            "marker": {
             "colorbar": {
              "outlinewidth": 0,
              "ticks": ""
             }
            },
            "type": "scatter"
           }
          ],
          "scatter3d": [
           {
            "line": {
             "colorbar": {
              "outlinewidth": 0,
              "ticks": ""
             }
            },
            "marker": {
             "colorbar": {
              "outlinewidth": 0,
              "ticks": ""
             }
            },
            "type": "scatter3d"
           }
          ],
          "scattercarpet": [
           {
            "marker": {
             "colorbar": {
              "outlinewidth": 0,
              "ticks": ""
             }
            },
            "type": "scattercarpet"
           }
          ],
          "scattergeo": [
           {
            "marker": {
             "colorbar": {
              "outlinewidth": 0,
              "ticks": ""
             }
            },
            "type": "scattergeo"
           }
          ],
          "scattergl": [
           {
            "marker": {
             "colorbar": {
              "outlinewidth": 0,
              "ticks": ""
             }
            },
            "type": "scattergl"
           }
          ],
          "scattermapbox": [
           {
            "marker": {
             "colorbar": {
              "outlinewidth": 0,
              "ticks": ""
             }
            },
            "type": "scattermapbox"
           }
          ],
          "scatterpolar": [
           {
            "marker": {
             "colorbar": {
              "outlinewidth": 0,
              "ticks": ""
             }
            },
            "type": "scatterpolar"
           }
          ],
          "scatterpolargl": [
           {
            "marker": {
             "colorbar": {
              "outlinewidth": 0,
              "ticks": ""
             }
            },
            "type": "scatterpolargl"
           }
          ],
          "scatterternary": [
           {
            "marker": {
             "colorbar": {
              "outlinewidth": 0,
              "ticks": ""
             }
            },
            "type": "scatterternary"
           }
          ],
          "surface": [
           {
            "colorbar": {
             "outlinewidth": 0,
             "ticks": ""
            },
            "colorscale": [
             [
              0,
              "#0d0887"
             ],
             [
              0.1111111111111111,
              "#46039f"
             ],
             [
              0.2222222222222222,
              "#7201a8"
             ],
             [
              0.3333333333333333,
              "#9c179e"
             ],
             [
              0.4444444444444444,
              "#bd3786"
             ],
             [
              0.5555555555555556,
              "#d8576b"
             ],
             [
              0.6666666666666666,
              "#ed7953"
             ],
             [
              0.7777777777777778,
              "#fb9f3a"
             ],
             [
              0.8888888888888888,
              "#fdca26"
             ],
             [
              1,
              "#f0f921"
             ]
            ],
            "type": "surface"
           }
          ],
          "table": [
           {
            "cells": {
             "fill": {
              "color": "#EBF0F8"
             },
             "line": {
              "color": "white"
             }
            },
            "header": {
             "fill": {
              "color": "#C8D4E3"
             },
             "line": {
              "color": "white"
             }
            },
            "type": "table"
           }
          ]
         },
         "layout": {
          "annotationdefaults": {
           "arrowcolor": "#2a3f5f",
           "arrowhead": 0,
           "arrowwidth": 1
          },
          "autotypenumbers": "strict",
          "coloraxis": {
           "colorbar": {
            "outlinewidth": 0,
            "ticks": ""
           }
          },
          "colorscale": {
           "diverging": [
            [
             0,
             "#8e0152"
            ],
            [
             0.1,
             "#c51b7d"
            ],
            [
             0.2,
             "#de77ae"
            ],
            [
             0.3,
             "#f1b6da"
            ],
            [
             0.4,
             "#fde0ef"
            ],
            [
             0.5,
             "#f7f7f7"
            ],
            [
             0.6,
             "#e6f5d0"
            ],
            [
             0.7,
             "#b8e186"
            ],
            [
             0.8,
             "#7fbc41"
            ],
            [
             0.9,
             "#4d9221"
            ],
            [
             1,
             "#276419"
            ]
           ],
           "sequential": [
            [
             0,
             "#0d0887"
            ],
            [
             0.1111111111111111,
             "#46039f"
            ],
            [
             0.2222222222222222,
             "#7201a8"
            ],
            [
             0.3333333333333333,
             "#9c179e"
            ],
            [
             0.4444444444444444,
             "#bd3786"
            ],
            [
             0.5555555555555556,
             "#d8576b"
            ],
            [
             0.6666666666666666,
             "#ed7953"
            ],
            [
             0.7777777777777778,
             "#fb9f3a"
            ],
            [
             0.8888888888888888,
             "#fdca26"
            ],
            [
             1,
             "#f0f921"
            ]
           ],
           "sequentialminus": [
            [
             0,
             "#0d0887"
            ],
            [
             0.1111111111111111,
             "#46039f"
            ],
            [
             0.2222222222222222,
             "#7201a8"
            ],
            [
             0.3333333333333333,
             "#9c179e"
            ],
            [
             0.4444444444444444,
             "#bd3786"
            ],
            [
             0.5555555555555556,
             "#d8576b"
            ],
            [
             0.6666666666666666,
             "#ed7953"
            ],
            [
             0.7777777777777778,
             "#fb9f3a"
            ],
            [
             0.8888888888888888,
             "#fdca26"
            ],
            [
             1,
             "#f0f921"
            ]
           ]
          },
          "colorway": [
           "#636efa",
           "#EF553B",
           "#00cc96",
           "#ab63fa",
           "#FFA15A",
           "#19d3f3",
           "#FF6692",
           "#B6E880",
           "#FF97FF",
           "#FECB52"
          ],
          "font": {
           "color": "#2a3f5f"
          },
          "geo": {
           "bgcolor": "white",
           "lakecolor": "white",
           "landcolor": "#E5ECF6",
           "showlakes": true,
           "showland": true,
           "subunitcolor": "white"
          },
          "hoverlabel": {
           "align": "left"
          },
          "hovermode": "closest",
          "mapbox": {
           "style": "light"
          },
          "paper_bgcolor": "white",
          "plot_bgcolor": "#E5ECF6",
          "polar": {
           "angularaxis": {
            "gridcolor": "white",
            "linecolor": "white",
            "ticks": ""
           },
           "bgcolor": "#E5ECF6",
           "radialaxis": {
            "gridcolor": "white",
            "linecolor": "white",
            "ticks": ""
           }
          },
          "scene": {
           "xaxis": {
            "backgroundcolor": "#E5ECF6",
            "gridcolor": "white",
            "gridwidth": 2,
            "linecolor": "white",
            "showbackground": true,
            "ticks": "",
            "zerolinecolor": "white"
           },
           "yaxis": {
            "backgroundcolor": "#E5ECF6",
            "gridcolor": "white",
            "gridwidth": 2,
            "linecolor": "white",
            "showbackground": true,
            "ticks": "",
            "zerolinecolor": "white"
           },
           "zaxis": {
            "backgroundcolor": "#E5ECF6",
            "gridcolor": "white",
            "gridwidth": 2,
            "linecolor": "white",
            "showbackground": true,
            "ticks": "",
            "zerolinecolor": "white"
           }
          },
          "shapedefaults": {
           "line": {
            "color": "#2a3f5f"
           }
          },
          "ternary": {
           "aaxis": {
            "gridcolor": "white",
            "linecolor": "white",
            "ticks": ""
           },
           "baxis": {
            "gridcolor": "white",
            "linecolor": "white",
            "ticks": ""
           },
           "bgcolor": "#E5ECF6",
           "caxis": {
            "gridcolor": "white",
            "linecolor": "white",
            "ticks": ""
           }
          },
          "title": {
           "x": 0.05
          },
          "xaxis": {
           "automargin": true,
           "gridcolor": "white",
           "linecolor": "white",
           "ticks": "",
           "title": {
            "standoff": 15
           },
           "zerolinecolor": "white",
           "zerolinewidth": 2
          },
          "yaxis": {
           "automargin": true,
           "gridcolor": "white",
           "linecolor": "white",
           "ticks": "",
           "title": {
            "standoff": 15
           },
           "zerolinecolor": "white",
           "zerolinewidth": 2
          }
         }
        },
        "title": {
         "font": {
          "color": "#4D5663"
         }
        },
        "xaxis": {
         "gridcolor": "#E1E5ED",
         "showgrid": true,
         "tickfont": {
          "color": "#4D5663"
         },
         "title": {
          "font": {
           "color": "#4D5663"
          },
          "text": ""
         },
         "zerolinecolor": "#E1E5ED"
        },
        "yaxis": {
         "gridcolor": "#E1E5ED",
         "showgrid": true,
         "tickfont": {
          "color": "#4D5663"
         },
         "title": {
          "font": {
           "color": "#4D5663"
          },
          "text": ""
         },
         "zerolinecolor": "#E1E5ED"
        }
       }
      },
      "text/html": [
       "<div>                            <div id=\"89eef026-45b8-4d2c-96f4-221b97199839\" class=\"plotly-graph-div\" style=\"height:525px; width:100%;\"></div>            <script type=\"text/javascript\">                require([\"plotly\"], function(Plotly) {                    window.PLOTLYENV=window.PLOTLYENV || {};\n",
       "                    window.PLOTLYENV.BASE_URL='https://plot.ly';                                    if (document.getElementById(\"89eef026-45b8-4d2c-96f4-221b97199839\")) {                    Plotly.newPlot(                        \"89eef026-45b8-4d2c-96f4-221b97199839\",                        [{\"boxpoints\":false,\"line\":{\"width\":1.3},\"marker\":{\"color\":\"rgba(255, 153, 51, 1.0)\"},\"name\":\"A\",\"orientation\":\"v\",\"y\":[0.9772529650350968,0.5218543729070486,-1.3425139027153372,-0.05968356667477004,0.24086815280399745,-1.1957452750168351,-0.08736966178246539,0.18009465087374535,0.512243583584234,-0.6371363112717048,1.2443262778106092,0.791202106727671,-1.6256779578875453,-0.7243046739135806,2.0163625014039877,0.9753987594437837,-0.07390514834813688,-0.2024596128214472,0.5923843778745538,0.678796032042731,-0.6363720223064253,0.06496861018889219,-1.2100102604045566,-0.013360272881807508,1.794877271519686,-0.7224598288359991,-0.29906084071357086,-0.8912571088317855,-0.46584313608482464,-0.6882413919972891,0.3079827157745628,-0.8255652302452776,1.9574725990085684,-0.2526877691367265,0.07539985788774975,-0.39069290520673045,0.1052357852615328,0.15958547172864915,0.7624911985102074,0.2044917965927145,1.2364757226460792,0.9844501052457368,0.9795933705716623,0.9656172541445607,0.7984613185429534,-0.31879838713084346,-0.2211780849142802,1.2330415670872872,0.9770354600032393,-0.6415066151771763,0.6134527509100443,0.19729006206632116,0.8874492070213218,0.3337259453809492,-0.5463984445333802,-0.455996414199671,-2.0580361094423023,3.381674053066615,-1.1366621822686953,0.7447885541103118,-0.5705971042451976,0.3343406551250657,-2.2582422766705315,1.447534518129494,-0.16495236544310013,0.8076122116698414,0.2719706049023909,1.9924740417907814,-0.01944140469513046,1.3502425502153055,-0.27636349866641563,-0.49966340781958557,0.10491312172505367,0.6781354154037323,1.3191234412912474,0.1147419140978155,-0.5338285920957705,0.8183177454197698,0.20453625705143474,-0.48516951297920824,-0.30436438553366446,0.23705375221620864,0.26833263142911373,1.271155900698707,1.7491368764367385,-0.37603404281219305,-0.0797561534323506,-1.440578173961911,1.5701202008294266,0.2906986884234425,-0.2304088911901656,0.6432755130200528,-0.7486141025136326,1.1785804083139362,0.446897875290842,-0.3529696223043142,-0.2243348521355656,1.9473415438312296,-0.36828542344963616,-0.16310864128344058],\"type\":\"box\"},{\"boxpoints\":false,\"line\":{\"width\":1.3},\"marker\":{\"color\":\"rgba(55, 128, 191, 1.0)\"},\"name\":\"B\",\"orientation\":\"v\",\"y\":[1.627388172473467,-0.8055067503825576,-1.8482576626966893,-2.9508607787893504,-0.32335265753489617,0.34396454509112384,0.0748057306504219,-1.8613842333289714,-1.3054652244299114,-1.3950506650475032,-1.1909701866128817,-0.05600815639471173,-0.5220511445209809,1.7492337790952306,-0.30286042790837125,-0.5580053043644606,-0.6197392766868668,1.023399305708221,-0.41677319052226636,2.192760839374185,-1.1161176336915652,-1.354754603690455,-0.18704357075833125,-0.17703127653905834,-0.5993704874414364,-0.6031010592370301,-0.8988267617328992,-0.8729996927258223,0.04349488140203181,1.60947917489961,0.34925259655212826,0.6781613116198999,-0.03427721363269522,0.17477742791449075,-0.2004842888242854,-1.6276521435903657,0.5692665300316379,1.671766451463639,-0.4217916920003711,0.39696041791866643,0.013317925282218058,-0.05556788618969299,0.2866084770378429,-2.1326375060042717,-0.1615151310401847,-2.1594687872988834,0.5562396695236108,-1.8767688706543055,0.06462746376191478,0.7248550736349361,1.0337482553746316,-1.1933360704841973,-2.022229691502361,0.15446421559972934,-0.7865937458726904,1.2071813089588264,0.473669013265368,2.1895861468746367,1.054067862100585,-0.6768707755074235,0.18993852777003314,-1.0913452911843,0.49682186900742054,-0.7161427147264142,0.09276153992295592,-0.25963221710747514,-1.1090280610525889,-0.7998864525525252,-0.8098890761466924,-0.20105621016424333,0.1770344320014994,0.3390029444408896,0.2616794294084994,0.6663677877948193,0.9533830725866774,-1.7362341026178667,0.8675164031016456,-1.5675430085627995,0.37211122103752325,-0.20081859338787414,-0.12706689419031494,-0.888116580743796,0.27249834505445314,0.38168853201009584,-0.2607787387898964,-1.5795945729236718,1.0318911512090052,-1.5119880807061745,1.3931692810587257,1.2485317772084956,0.3060318753194821,0.06058482990039677,2.2533512860350666,1.007225023983177,-1.9024510000280583,-0.5030995515955998,-0.0911785905444012,-0.629844471944149,0.02239790860322817,-0.9432430696669399],\"type\":\"box\"},{\"boxpoints\":false,\"line\":{\"width\":1.3},\"marker\":{\"color\":\"rgba(50, 171, 96, 1.0)\"},\"name\":\"C\",\"orientation\":\"v\",\"y\":[-0.19539164526406066,-0.13392272429528673,-0.20697179620540213,1.0219423684662838,-2.419680862732682,0.42340187797427564,0.27543977733548325,0.5322887330986481,-0.3742731008823676,0.806800967593332,0.520507771066039,2.4245243867521675,0.04565115863423383,-0.6667508209050528,-0.8922936027698372,-0.17758480742284974,0.12281757417563029,-0.6848615878580517,-1.258355012448714,-1.344930470338531,0.11939952814482498,-0.44130576430841806,-0.7858569436583683,0.47092497736239164,-0.06693209733790141,-2.2427572199217516,0.6297100420806422,-0.07915278352681059,0.5401522029535316,0.7550946768311247,-0.7615842849558506,0.6434132331202398,-0.960482390504063,0.3141838016130222,0.26300639517836916,0.787102487845185,0.7508523136094482,0.6665136713812614,-1.72039490120812,1.6343322231599189,1.5282890221724952,-0.18136780499686317,0.8433327653313499,-0.0845232303654236,-0.4599277250369489,-1.0329722016607104,0.14121524762472068,-0.833200139919371,-1.8464815420543754,-0.11690944571128538,-0.04081994319852998,1.014790360423072,-1.2596267306024636,-0.801739830430961,-0.0010881173587275106,1.6944043197553824,-0.3154802946913143,0.2640060078470049,0.2938490898494173,-0.4638620868647608,-1.279534349303109,-1.3804875841530997,-1.559979670426831,-0.5696969171920921,-0.8826885874985527,0.2570256589600279,0.38996235422552683,-1.5286554813579205,0.19189436488159947,-0.32248736969409897,-1.014118238998222,-1.9113341500983831,-0.4437006225995927,0.10836449327639262,-0.14734927729922,0.20038220477498528,0.26958280260928935,-0.35284711851174194,-0.1038876238561292,-1.3286737387037622,0.023896319930620694,1.2526337213488998,0.3061060071707258,-1.3855284882906498,1.9707255777902948,0.8585466233942723,1.0709979035477255,-0.19073775807443968,1.932427830975665,0.30651822793031425,1.208864377091442,0.336225761942993,-0.9675375067128238,-0.5205547210823098,0.3259429142118365,0.29868893725399237,0.16867532069482036,1.1338583577333696,-0.33539854397769125,0.4751337886239071],\"type\":\"box\"},{\"boxpoints\":false,\"line\":{\"width\":1.3},\"marker\":{\"color\":\"rgba(128, 0, 128, 1.0)\"},\"name\":\"D\",\"orientation\":\"v\",\"y\":[0.6953126025177219,0.2501971988194661,-0.18943585964256668,0.2620842172478777,-0.4416429011686252,-0.008532947894072208,-0.3331736662411075,-1.9244628043133278,0.4896072840955004,-0.45302281370384573,1.2911895760446588,0.3474282995525151,0.36010991189294794,0.9543193286390744,-0.7411571805292035,-1.4747530518581862,0.8286291779589134,1.8778546405408356,-0.8284875482802208,-0.5901008142607173,-0.990849139976589,0.1808103575132078,-1.328178186162896,0.46310454490676883,-0.961420946877116,-1.2911620649096904,1.6749696185097749,0.453933245260872,-1.0172394223171117,0.11602299628297065,1.1715007051391517,0.6527991382834483,0.4808263107261767,0.3301036618468011,-0.6837935464993281,-0.7226223116303302,0.8307976990920981,0.09531075888178817,-0.11073671633289299,-0.24777204660215887,-0.6768409591882902,1.028687964857132,0.07441310411614314,-0.17997391886250652,-0.36987556349704215,-0.39974551000947045,-2.3199737506869433,0.1079814015195673,-0.1915407007576155,0.7424057670662202,0.06271649554043134,0.2426577964862029,-1.0084702401105468,0.052678396436552706,-1.0874314306283388,-0.028154890174068133,0.21198491208658923,1.2236638673550357,1.1393515756660755,-0.0597005283276125,-0.02840902283679621,-0.5935823534890683,-0.9043167670752155,1.150216402953456,2.0294043200340615,-0.32109253853545544,0.8313268419444494,0.1952715931818143,-1.191699297482351,-0.6882193842418627,0.08804106784911958,1.0782344300787003,1.2509536267737478,-1.9855080746462799,-0.0671273700432608,0.9492101957447133,-0.10718563213569898,0.5552212441509886,1.3892086795678142,1.027926649156825,1.7633018540765841,-1.820198636670063,-1.653582584925675,-0.7776106599467563,2.778127355388952,-0.3018506041095579,1.3989560844995972,-0.5512443247038632,0.8572027216525815,-0.23744482693707122,0.180658603785055,-0.6237064194749184,0.03345365598418503,-0.1688411343385012,0.37594418824111686,1.3009120779506753,-0.8267717945732077,1.1486006445829764,-0.15534129819073617,0.021214372703046533],\"type\":\"box\"}],                        {\"legend\":{\"bgcolor\":\"#F5F6F9\",\"font\":{\"color\":\"#4D5663\"}},\"paper_bgcolor\":\"#F5F6F9\",\"plot_bgcolor\":\"#F5F6F9\",\"template\":{\"data\":{\"barpolar\":[{\"marker\":{\"line\":{\"color\":\"#E5ECF6\",\"width\":0.5},\"pattern\":{\"fillmode\":\"overlay\",\"size\":10,\"solidity\":0.2}},\"type\":\"barpolar\"}],\"bar\":[{\"error_x\":{\"color\":\"#2a3f5f\"},\"error_y\":{\"color\":\"#2a3f5f\"},\"marker\":{\"line\":{\"color\":\"#E5ECF6\",\"width\":0.5},\"pattern\":{\"fillmode\":\"overlay\",\"size\":10,\"solidity\":0.2}},\"type\":\"bar\"}],\"carpet\":[{\"aaxis\":{\"endlinecolor\":\"#2a3f5f\",\"gridcolor\":\"white\",\"linecolor\":\"white\",\"minorgridcolor\":\"white\",\"startlinecolor\":\"#2a3f5f\"},\"baxis\":{\"endlinecolor\":\"#2a3f5f\",\"gridcolor\":\"white\",\"linecolor\":\"white\",\"minorgridcolor\":\"white\",\"startlinecolor\":\"#2a3f5f\"},\"type\":\"carpet\"}],\"choropleth\":[{\"colorbar\":{\"outlinewidth\":0,\"ticks\":\"\"},\"type\":\"choropleth\"}],\"contourcarpet\":[{\"colorbar\":{\"outlinewidth\":0,\"ticks\":\"\"},\"type\":\"contourcarpet\"}],\"contour\":[{\"colorbar\":{\"outlinewidth\":0,\"ticks\":\"\"},\"colorscale\":[[0.0,\"#0d0887\"],[0.1111111111111111,\"#46039f\"],[0.2222222222222222,\"#7201a8\"],[0.3333333333333333,\"#9c179e\"],[0.4444444444444444,\"#bd3786\"],[0.5555555555555556,\"#d8576b\"],[0.6666666666666666,\"#ed7953\"],[0.7777777777777778,\"#fb9f3a\"],[0.8888888888888888,\"#fdca26\"],[1.0,\"#f0f921\"]],\"type\":\"contour\"}],\"heatmapgl\":[{\"colorbar\":{\"outlinewidth\":0,\"ticks\":\"\"},\"colorscale\":[[0.0,\"#0d0887\"],[0.1111111111111111,\"#46039f\"],[0.2222222222222222,\"#7201a8\"],[0.3333333333333333,\"#9c179e\"],[0.4444444444444444,\"#bd3786\"],[0.5555555555555556,\"#d8576b\"],[0.6666666666666666,\"#ed7953\"],[0.7777777777777778,\"#fb9f3a\"],[0.8888888888888888,\"#fdca26\"],[1.0,\"#f0f921\"]],\"type\":\"heatmapgl\"}],\"heatmap\":[{\"colorbar\":{\"outlinewidth\":0,\"ticks\":\"\"},\"colorscale\":[[0.0,\"#0d0887\"],[0.1111111111111111,\"#46039f\"],[0.2222222222222222,\"#7201a8\"],[0.3333333333333333,\"#9c179e\"],[0.4444444444444444,\"#bd3786\"],[0.5555555555555556,\"#d8576b\"],[0.6666666666666666,\"#ed7953\"],[0.7777777777777778,\"#fb9f3a\"],[0.8888888888888888,\"#fdca26\"],[1.0,\"#f0f921\"]],\"type\":\"heatmap\"}],\"histogram2dcontour\":[{\"colorbar\":{\"outlinewidth\":0,\"ticks\":\"\"},\"colorscale\":[[0.0,\"#0d0887\"],[0.1111111111111111,\"#46039f\"],[0.2222222222222222,\"#7201a8\"],[0.3333333333333333,\"#9c179e\"],[0.4444444444444444,\"#bd3786\"],[0.5555555555555556,\"#d8576b\"],[0.6666666666666666,\"#ed7953\"],[0.7777777777777778,\"#fb9f3a\"],[0.8888888888888888,\"#fdca26\"],[1.0,\"#f0f921\"]],\"type\":\"histogram2dcontour\"}],\"histogram2d\":[{\"colorbar\":{\"outlinewidth\":0,\"ticks\":\"\"},\"colorscale\":[[0.0,\"#0d0887\"],[0.1111111111111111,\"#46039f\"],[0.2222222222222222,\"#7201a8\"],[0.3333333333333333,\"#9c179e\"],[0.4444444444444444,\"#bd3786\"],[0.5555555555555556,\"#d8576b\"],[0.6666666666666666,\"#ed7953\"],[0.7777777777777778,\"#fb9f3a\"],[0.8888888888888888,\"#fdca26\"],[1.0,\"#f0f921\"]],\"type\":\"histogram2d\"}],\"histogram\":[{\"marker\":{\"pattern\":{\"fillmode\":\"overlay\",\"size\":10,\"solidity\":0.2}},\"type\":\"histogram\"}],\"mesh3d\":[{\"colorbar\":{\"outlinewidth\":0,\"ticks\":\"\"},\"type\":\"mesh3d\"}],\"parcoords\":[{\"line\":{\"colorbar\":{\"outlinewidth\":0,\"ticks\":\"\"}},\"type\":\"parcoords\"}],\"pie\":[{\"automargin\":true,\"type\":\"pie\"}],\"scatter3d\":[{\"line\":{\"colorbar\":{\"outlinewidth\":0,\"ticks\":\"\"}},\"marker\":{\"colorbar\":{\"outlinewidth\":0,\"ticks\":\"\"}},\"type\":\"scatter3d\"}],\"scattercarpet\":[{\"marker\":{\"colorbar\":{\"outlinewidth\":0,\"ticks\":\"\"}},\"type\":\"scattercarpet\"}],\"scattergeo\":[{\"marker\":{\"colorbar\":{\"outlinewidth\":0,\"ticks\":\"\"}},\"type\":\"scattergeo\"}],\"scattergl\":[{\"marker\":{\"colorbar\":{\"outlinewidth\":0,\"ticks\":\"\"}},\"type\":\"scattergl\"}],\"scattermapbox\":[{\"marker\":{\"colorbar\":{\"outlinewidth\":0,\"ticks\":\"\"}},\"type\":\"scattermapbox\"}],\"scatterpolargl\":[{\"marker\":{\"colorbar\":{\"outlinewidth\":0,\"ticks\":\"\"}},\"type\":\"scatterpolargl\"}],\"scatterpolar\":[{\"marker\":{\"colorbar\":{\"outlinewidth\":0,\"ticks\":\"\"}},\"type\":\"scatterpolar\"}],\"scatter\":[{\"marker\":{\"colorbar\":{\"outlinewidth\":0,\"ticks\":\"\"}},\"type\":\"scatter\"}],\"scatterternary\":[{\"marker\":{\"colorbar\":{\"outlinewidth\":0,\"ticks\":\"\"}},\"type\":\"scatterternary\"}],\"surface\":[{\"colorbar\":{\"outlinewidth\":0,\"ticks\":\"\"},\"colorscale\":[[0.0,\"#0d0887\"],[0.1111111111111111,\"#46039f\"],[0.2222222222222222,\"#7201a8\"],[0.3333333333333333,\"#9c179e\"],[0.4444444444444444,\"#bd3786\"],[0.5555555555555556,\"#d8576b\"],[0.6666666666666666,\"#ed7953\"],[0.7777777777777778,\"#fb9f3a\"],[0.8888888888888888,\"#fdca26\"],[1.0,\"#f0f921\"]],\"type\":\"surface\"}],\"table\":[{\"cells\":{\"fill\":{\"color\":\"#EBF0F8\"},\"line\":{\"color\":\"white\"}},\"header\":{\"fill\":{\"color\":\"#C8D4E3\"},\"line\":{\"color\":\"white\"}},\"type\":\"table\"}]},\"layout\":{\"annotationdefaults\":{\"arrowcolor\":\"#2a3f5f\",\"arrowhead\":0,\"arrowwidth\":1},\"autotypenumbers\":\"strict\",\"coloraxis\":{\"colorbar\":{\"outlinewidth\":0,\"ticks\":\"\"}},\"colorscale\":{\"diverging\":[[0,\"#8e0152\"],[0.1,\"#c51b7d\"],[0.2,\"#de77ae\"],[0.3,\"#f1b6da\"],[0.4,\"#fde0ef\"],[0.5,\"#f7f7f7\"],[0.6,\"#e6f5d0\"],[0.7,\"#b8e186\"],[0.8,\"#7fbc41\"],[0.9,\"#4d9221\"],[1,\"#276419\"]],\"sequential\":[[0.0,\"#0d0887\"],[0.1111111111111111,\"#46039f\"],[0.2222222222222222,\"#7201a8\"],[0.3333333333333333,\"#9c179e\"],[0.4444444444444444,\"#bd3786\"],[0.5555555555555556,\"#d8576b\"],[0.6666666666666666,\"#ed7953\"],[0.7777777777777778,\"#fb9f3a\"],[0.8888888888888888,\"#fdca26\"],[1.0,\"#f0f921\"]],\"sequentialminus\":[[0.0,\"#0d0887\"],[0.1111111111111111,\"#46039f\"],[0.2222222222222222,\"#7201a8\"],[0.3333333333333333,\"#9c179e\"],[0.4444444444444444,\"#bd3786\"],[0.5555555555555556,\"#d8576b\"],[0.6666666666666666,\"#ed7953\"],[0.7777777777777778,\"#fb9f3a\"],[0.8888888888888888,\"#fdca26\"],[1.0,\"#f0f921\"]]},\"colorway\":[\"#636efa\",\"#EF553B\",\"#00cc96\",\"#ab63fa\",\"#FFA15A\",\"#19d3f3\",\"#FF6692\",\"#B6E880\",\"#FF97FF\",\"#FECB52\"],\"font\":{\"color\":\"#2a3f5f\"},\"geo\":{\"bgcolor\":\"white\",\"lakecolor\":\"white\",\"landcolor\":\"#E5ECF6\",\"showlakes\":true,\"showland\":true,\"subunitcolor\":\"white\"},\"hoverlabel\":{\"align\":\"left\"},\"hovermode\":\"closest\",\"mapbox\":{\"style\":\"light\"},\"paper_bgcolor\":\"white\",\"plot_bgcolor\":\"#E5ECF6\",\"polar\":{\"angularaxis\":{\"gridcolor\":\"white\",\"linecolor\":\"white\",\"ticks\":\"\"},\"bgcolor\":\"#E5ECF6\",\"radialaxis\":{\"gridcolor\":\"white\",\"linecolor\":\"white\",\"ticks\":\"\"}},\"scene\":{\"xaxis\":{\"backgroundcolor\":\"#E5ECF6\",\"gridcolor\":\"white\",\"gridwidth\":2,\"linecolor\":\"white\",\"showbackground\":true,\"ticks\":\"\",\"zerolinecolor\":\"white\"},\"yaxis\":{\"backgroundcolor\":\"#E5ECF6\",\"gridcolor\":\"white\",\"gridwidth\":2,\"linecolor\":\"white\",\"showbackground\":true,\"ticks\":\"\",\"zerolinecolor\":\"white\"},\"zaxis\":{\"backgroundcolor\":\"#E5ECF6\",\"gridcolor\":\"white\",\"gridwidth\":2,\"linecolor\":\"white\",\"showbackground\":true,\"ticks\":\"\",\"zerolinecolor\":\"white\"}},\"shapedefaults\":{\"line\":{\"color\":\"#2a3f5f\"}},\"ternary\":{\"aaxis\":{\"gridcolor\":\"white\",\"linecolor\":\"white\",\"ticks\":\"\"},\"baxis\":{\"gridcolor\":\"white\",\"linecolor\":\"white\",\"ticks\":\"\"},\"bgcolor\":\"#E5ECF6\",\"caxis\":{\"gridcolor\":\"white\",\"linecolor\":\"white\",\"ticks\":\"\"}},\"title\":{\"x\":0.05},\"xaxis\":{\"automargin\":true,\"gridcolor\":\"white\",\"linecolor\":\"white\",\"ticks\":\"\",\"title\":{\"standoff\":15},\"zerolinecolor\":\"white\",\"zerolinewidth\":2},\"yaxis\":{\"automargin\":true,\"gridcolor\":\"white\",\"linecolor\":\"white\",\"ticks\":\"\",\"title\":{\"standoff\":15},\"zerolinecolor\":\"white\",\"zerolinewidth\":2}}},\"title\":{\"font\":{\"color\":\"#4D5663\"}},\"xaxis\":{\"gridcolor\":\"#E1E5ED\",\"showgrid\":true,\"tickfont\":{\"color\":\"#4D5663\"},\"title\":{\"font\":{\"color\":\"#4D5663\"},\"text\":\"\"},\"zerolinecolor\":\"#E1E5ED\"},\"yaxis\":{\"gridcolor\":\"#E1E5ED\",\"showgrid\":true,\"tickfont\":{\"color\":\"#4D5663\"},\"title\":{\"font\":{\"color\":\"#4D5663\"},\"text\":\"\"},\"zerolinecolor\":\"#E1E5ED\"}},                        {\"showLink\": true, \"linkText\": \"Export to plot.ly\", \"plotlyServerURL\": \"https://plot.ly\", \"responsive\": true}                    ).then(function(){\n",
       "                            \n",
       "var gd = document.getElementById('89eef026-45b8-4d2c-96f4-221b97199839');\n",
       "var x = new MutationObserver(function (mutations, observer) {{\n",
       "        var display = window.getComputedStyle(gd).display;\n",
       "        if (!display || display === 'none') {{\n",
       "            console.log([gd, 'removed!']);\n",
       "            Plotly.purge(gd);\n",
       "            observer.disconnect();\n",
       "        }}\n",
       "}});\n",
       "\n",
       "// Listen for the removal of the full notebook cells\n",
       "var notebookContainer = gd.closest('#notebook-container');\n",
       "if (notebookContainer) {{\n",
       "    x.observe(notebookContainer, {childList: true});\n",
       "}}\n",
       "\n",
       "// Listen for the clearing of the current output cell\n",
       "var outputEl = gd.closest('.output');\n",
       "if (outputEl) {{\n",
       "    x.observe(outputEl, {childList: true});\n",
       "}}\n",
       "\n",
       "                        })                };                });            </script>        </div>"
      ]
     },
     "metadata": {},
     "output_type": "display_data"
    }
   ],
   "source": [
    "df.iplot(kind='box')"
   ]
  },
  {
   "cell_type": "markdown",
   "metadata": {},
   "source": [
    "## 3d Surface"
   ]
  },
  {
   "cell_type": "code",
   "execution_count": 16,
   "metadata": {},
   "outputs": [
    {
     "data": {
      "application/vnd.plotly.v1+json": {
       "config": {
        "linkText": "Export to plot.ly",
        "plotlyServerURL": "https://plot.ly",
        "showLink": true
       },
       "data": [
        {
         "colorscale": [
          [
           0,
           "rgb(165,0,38)"
          ],
          [
           0.1,
           "rgb(215,48,39)"
          ],
          [
           0.2,
           "rgb(244,109,67)"
          ],
          [
           0.3,
           "rgb(253,174,97)"
          ],
          [
           0.4,
           "rgb(254,224,144)"
          ],
          [
           0.5,
           "rgb(255,255,191)"
          ],
          [
           0.6,
           "rgb(224,243,248)"
          ],
          [
           0.7,
           "rgb(171,217,233)"
          ],
          [
           0.8,
           "rgb(116,173,209)"
          ],
          [
           0.9,
           "rgb(69,117,180)"
          ],
          [
           1,
           "rgb(49,54,149)"
          ]
         ],
         "type": "surface",
         "x": [
          0,
          1,
          2,
          3,
          4
         ],
         "y": [
          "x",
          "y",
          "z"
         ],
         "z": [
          [
           1,
           2,
           3,
           4,
           5
          ],
          [
           10,
           20,
           30,
           20,
           10
          ],
          [
           5,
           4,
           3,
           2,
           1
          ]
         ]
        }
       ],
       "layout": {
        "legend": {
         "bgcolor": "#F5F6F9",
         "font": {
          "color": "#4D5663"
         }
        },
        "paper_bgcolor": "#F5F6F9",
        "plot_bgcolor": "#F5F6F9",
        "template": {
         "data": {
          "bar": [
           {
            "error_x": {
             "color": "#2a3f5f"
            },
            "error_y": {
             "color": "#2a3f5f"
            },
            "marker": {
             "line": {
              "color": "#E5ECF6",
              "width": 0.5
             },
             "pattern": {
              "fillmode": "overlay",
              "size": 10,
              "solidity": 0.2
             }
            },
            "type": "bar"
           }
          ],
          "barpolar": [
           {
            "marker": {
             "line": {
              "color": "#E5ECF6",
              "width": 0.5
             },
             "pattern": {
              "fillmode": "overlay",
              "size": 10,
              "solidity": 0.2
             }
            },
            "type": "barpolar"
           }
          ],
          "carpet": [
           {
            "aaxis": {
             "endlinecolor": "#2a3f5f",
             "gridcolor": "white",
             "linecolor": "white",
             "minorgridcolor": "white",
             "startlinecolor": "#2a3f5f"
            },
            "baxis": {
             "endlinecolor": "#2a3f5f",
             "gridcolor": "white",
             "linecolor": "white",
             "minorgridcolor": "white",
             "startlinecolor": "#2a3f5f"
            },
            "type": "carpet"
           }
          ],
          "choropleth": [
           {
            "colorbar": {
             "outlinewidth": 0,
             "ticks": ""
            },
            "type": "choropleth"
           }
          ],
          "contour": [
           {
            "colorbar": {
             "outlinewidth": 0,
             "ticks": ""
            },
            "colorscale": [
             [
              0,
              "#0d0887"
             ],
             [
              0.1111111111111111,
              "#46039f"
             ],
             [
              0.2222222222222222,
              "#7201a8"
             ],
             [
              0.3333333333333333,
              "#9c179e"
             ],
             [
              0.4444444444444444,
              "#bd3786"
             ],
             [
              0.5555555555555556,
              "#d8576b"
             ],
             [
              0.6666666666666666,
              "#ed7953"
             ],
             [
              0.7777777777777778,
              "#fb9f3a"
             ],
             [
              0.8888888888888888,
              "#fdca26"
             ],
             [
              1,
              "#f0f921"
             ]
            ],
            "type": "contour"
           }
          ],
          "contourcarpet": [
           {
            "colorbar": {
             "outlinewidth": 0,
             "ticks": ""
            },
            "type": "contourcarpet"
           }
          ],
          "heatmap": [
           {
            "colorbar": {
             "outlinewidth": 0,
             "ticks": ""
            },
            "colorscale": [
             [
              0,
              "#0d0887"
             ],
             [
              0.1111111111111111,
              "#46039f"
             ],
             [
              0.2222222222222222,
              "#7201a8"
             ],
             [
              0.3333333333333333,
              "#9c179e"
             ],
             [
              0.4444444444444444,
              "#bd3786"
             ],
             [
              0.5555555555555556,
              "#d8576b"
             ],
             [
              0.6666666666666666,
              "#ed7953"
             ],
             [
              0.7777777777777778,
              "#fb9f3a"
             ],
             [
              0.8888888888888888,
              "#fdca26"
             ],
             [
              1,
              "#f0f921"
             ]
            ],
            "type": "heatmap"
           }
          ],
          "heatmapgl": [
           {
            "colorbar": {
             "outlinewidth": 0,
             "ticks": ""
            },
            "colorscale": [
             [
              0,
              "#0d0887"
             ],
             [
              0.1111111111111111,
              "#46039f"
             ],
             [
              0.2222222222222222,
              "#7201a8"
             ],
             [
              0.3333333333333333,
              "#9c179e"
             ],
             [
              0.4444444444444444,
              "#bd3786"
             ],
             [
              0.5555555555555556,
              "#d8576b"
             ],
             [
              0.6666666666666666,
              "#ed7953"
             ],
             [
              0.7777777777777778,
              "#fb9f3a"
             ],
             [
              0.8888888888888888,
              "#fdca26"
             ],
             [
              1,
              "#f0f921"
             ]
            ],
            "type": "heatmapgl"
           }
          ],
          "histogram": [
           {
            "marker": {
             "pattern": {
              "fillmode": "overlay",
              "size": 10,
              "solidity": 0.2
             }
            },
            "type": "histogram"
           }
          ],
          "histogram2d": [
           {
            "colorbar": {
             "outlinewidth": 0,
             "ticks": ""
            },
            "colorscale": [
             [
              0,
              "#0d0887"
             ],
             [
              0.1111111111111111,
              "#46039f"
             ],
             [
              0.2222222222222222,
              "#7201a8"
             ],
             [
              0.3333333333333333,
              "#9c179e"
             ],
             [
              0.4444444444444444,
              "#bd3786"
             ],
             [
              0.5555555555555556,
              "#d8576b"
             ],
             [
              0.6666666666666666,
              "#ed7953"
             ],
             [
              0.7777777777777778,
              "#fb9f3a"
             ],
             [
              0.8888888888888888,
              "#fdca26"
             ],
             [
              1,
              "#f0f921"
             ]
            ],
            "type": "histogram2d"
           }
          ],
          "histogram2dcontour": [
           {
            "colorbar": {
             "outlinewidth": 0,
             "ticks": ""
            },
            "colorscale": [
             [
              0,
              "#0d0887"
             ],
             [
              0.1111111111111111,
              "#46039f"
             ],
             [
              0.2222222222222222,
              "#7201a8"
             ],
             [
              0.3333333333333333,
              "#9c179e"
             ],
             [
              0.4444444444444444,
              "#bd3786"
             ],
             [
              0.5555555555555556,
              "#d8576b"
             ],
             [
              0.6666666666666666,
              "#ed7953"
             ],
             [
              0.7777777777777778,
              "#fb9f3a"
             ],
             [
              0.8888888888888888,
              "#fdca26"
             ],
             [
              1,
              "#f0f921"
             ]
            ],
            "type": "histogram2dcontour"
           }
          ],
          "mesh3d": [
           {
            "colorbar": {
             "outlinewidth": 0,
             "ticks": ""
            },
            "type": "mesh3d"
           }
          ],
          "parcoords": [
           {
            "line": {
             "colorbar": {
              "outlinewidth": 0,
              "ticks": ""
             }
            },
            "type": "parcoords"
           }
          ],
          "pie": [
           {
            "automargin": true,
            "type": "pie"
           }
          ],
          "scatter": [
           {
            "marker": {
             "colorbar": {
              "outlinewidth": 0,
              "ticks": ""
             }
            },
            "type": "scatter"
           }
          ],
          "scatter3d": [
           {
            "line": {
             "colorbar": {
              "outlinewidth": 0,
              "ticks": ""
             }
            },
            "marker": {
             "colorbar": {
              "outlinewidth": 0,
              "ticks": ""
             }
            },
            "type": "scatter3d"
           }
          ],
          "scattercarpet": [
           {
            "marker": {
             "colorbar": {
              "outlinewidth": 0,
              "ticks": ""
             }
            },
            "type": "scattercarpet"
           }
          ],
          "scattergeo": [
           {
            "marker": {
             "colorbar": {
              "outlinewidth": 0,
              "ticks": ""
             }
            },
            "type": "scattergeo"
           }
          ],
          "scattergl": [
           {
            "marker": {
             "colorbar": {
              "outlinewidth": 0,
              "ticks": ""
             }
            },
            "type": "scattergl"
           }
          ],
          "scattermapbox": [
           {
            "marker": {
             "colorbar": {
              "outlinewidth": 0,
              "ticks": ""
             }
            },
            "type": "scattermapbox"
           }
          ],
          "scatterpolar": [
           {
            "marker": {
             "colorbar": {
              "outlinewidth": 0,
              "ticks": ""
             }
            },
            "type": "scatterpolar"
           }
          ],
          "scatterpolargl": [
           {
            "marker": {
             "colorbar": {
              "outlinewidth": 0,
              "ticks": ""
             }
            },
            "type": "scatterpolargl"
           }
          ],
          "scatterternary": [
           {
            "marker": {
             "colorbar": {
              "outlinewidth": 0,
              "ticks": ""
             }
            },
            "type": "scatterternary"
           }
          ],
          "surface": [
           {
            "colorbar": {
             "outlinewidth": 0,
             "ticks": ""
            },
            "colorscale": [
             [
              0,
              "#0d0887"
             ],
             [
              0.1111111111111111,
              "#46039f"
             ],
             [
              0.2222222222222222,
              "#7201a8"
             ],
             [
              0.3333333333333333,
              "#9c179e"
             ],
             [
              0.4444444444444444,
              "#bd3786"
             ],
             [
              0.5555555555555556,
              "#d8576b"
             ],
             [
              0.6666666666666666,
              "#ed7953"
             ],
             [
              0.7777777777777778,
              "#fb9f3a"
             ],
             [
              0.8888888888888888,
              "#fdca26"
             ],
             [
              1,
              "#f0f921"
             ]
            ],
            "type": "surface"
           }
          ],
          "table": [
           {
            "cells": {
             "fill": {
              "color": "#EBF0F8"
             },
             "line": {
              "color": "white"
             }
            },
            "header": {
             "fill": {
              "color": "#C8D4E3"
             },
             "line": {
              "color": "white"
             }
            },
            "type": "table"
           }
          ]
         },
         "layout": {
          "annotationdefaults": {
           "arrowcolor": "#2a3f5f",
           "arrowhead": 0,
           "arrowwidth": 1
          },
          "autotypenumbers": "strict",
          "coloraxis": {
           "colorbar": {
            "outlinewidth": 0,
            "ticks": ""
           }
          },
          "colorscale": {
           "diverging": [
            [
             0,
             "#8e0152"
            ],
            [
             0.1,
             "#c51b7d"
            ],
            [
             0.2,
             "#de77ae"
            ],
            [
             0.3,
             "#f1b6da"
            ],
            [
             0.4,
             "#fde0ef"
            ],
            [
             0.5,
             "#f7f7f7"
            ],
            [
             0.6,
             "#e6f5d0"
            ],
            [
             0.7,
             "#b8e186"
            ],
            [
             0.8,
             "#7fbc41"
            ],
            [
             0.9,
             "#4d9221"
            ],
            [
             1,
             "#276419"
            ]
           ],
           "sequential": [
            [
             0,
             "#0d0887"
            ],
            [
             0.1111111111111111,
             "#46039f"
            ],
            [
             0.2222222222222222,
             "#7201a8"
            ],
            [
             0.3333333333333333,
             "#9c179e"
            ],
            [
             0.4444444444444444,
             "#bd3786"
            ],
            [
             0.5555555555555556,
             "#d8576b"
            ],
            [
             0.6666666666666666,
             "#ed7953"
            ],
            [
             0.7777777777777778,
             "#fb9f3a"
            ],
            [
             0.8888888888888888,
             "#fdca26"
            ],
            [
             1,
             "#f0f921"
            ]
           ],
           "sequentialminus": [
            [
             0,
             "#0d0887"
            ],
            [
             0.1111111111111111,
             "#46039f"
            ],
            [
             0.2222222222222222,
             "#7201a8"
            ],
            [
             0.3333333333333333,
             "#9c179e"
            ],
            [
             0.4444444444444444,
             "#bd3786"
            ],
            [
             0.5555555555555556,
             "#d8576b"
            ],
            [
             0.6666666666666666,
             "#ed7953"
            ],
            [
             0.7777777777777778,
             "#fb9f3a"
            ],
            [
             0.8888888888888888,
             "#fdca26"
            ],
            [
             1,
             "#f0f921"
            ]
           ]
          },
          "colorway": [
           "#636efa",
           "#EF553B",
           "#00cc96",
           "#ab63fa",
           "#FFA15A",
           "#19d3f3",
           "#FF6692",
           "#B6E880",
           "#FF97FF",
           "#FECB52"
          ],
          "font": {
           "color": "#2a3f5f"
          },
          "geo": {
           "bgcolor": "white",
           "lakecolor": "white",
           "landcolor": "#E5ECF6",
           "showlakes": true,
           "showland": true,
           "subunitcolor": "white"
          },
          "hoverlabel": {
           "align": "left"
          },
          "hovermode": "closest",
          "mapbox": {
           "style": "light"
          },
          "paper_bgcolor": "white",
          "plot_bgcolor": "#E5ECF6",
          "polar": {
           "angularaxis": {
            "gridcolor": "white",
            "linecolor": "white",
            "ticks": ""
           },
           "bgcolor": "#E5ECF6",
           "radialaxis": {
            "gridcolor": "white",
            "linecolor": "white",
            "ticks": ""
           }
          },
          "scene": {
           "xaxis": {
            "backgroundcolor": "#E5ECF6",
            "gridcolor": "white",
            "gridwidth": 2,
            "linecolor": "white",
            "showbackground": true,
            "ticks": "",
            "zerolinecolor": "white"
           },
           "yaxis": {
            "backgroundcolor": "#E5ECF6",
            "gridcolor": "white",
            "gridwidth": 2,
            "linecolor": "white",
            "showbackground": true,
            "ticks": "",
            "zerolinecolor": "white"
           },
           "zaxis": {
            "backgroundcolor": "#E5ECF6",
            "gridcolor": "white",
            "gridwidth": 2,
            "linecolor": "white",
            "showbackground": true,
            "ticks": "",
            "zerolinecolor": "white"
           }
          },
          "shapedefaults": {
           "line": {
            "color": "#2a3f5f"
           }
          },
          "ternary": {
           "aaxis": {
            "gridcolor": "white",
            "linecolor": "white",
            "ticks": ""
           },
           "baxis": {
            "gridcolor": "white",
            "linecolor": "white",
            "ticks": ""
           },
           "bgcolor": "#E5ECF6",
           "caxis": {
            "gridcolor": "white",
            "linecolor": "white",
            "ticks": ""
           }
          },
          "title": {
           "x": 0.05
          },
          "xaxis": {
           "automargin": true,
           "gridcolor": "white",
           "linecolor": "white",
           "ticks": "",
           "title": {
            "standoff": 15
           },
           "zerolinecolor": "white",
           "zerolinewidth": 2
          },
          "yaxis": {
           "automargin": true,
           "gridcolor": "white",
           "linecolor": "white",
           "ticks": "",
           "title": {
            "standoff": 15
           },
           "zerolinecolor": "white",
           "zerolinewidth": 2
          }
         }
        },
        "title": {
         "font": {
          "color": "#4D5663"
         }
        },
        "xaxis": {
         "gridcolor": "#E1E5ED",
         "showgrid": true,
         "tickfont": {
          "color": "#4D5663"
         },
         "title": {
          "font": {
           "color": "#4D5663"
          },
          "text": ""
         },
         "zerolinecolor": "#E1E5ED"
        },
        "yaxis": {
         "gridcolor": "#E1E5ED",
         "showgrid": true,
         "tickfont": {
          "color": "#4D5663"
         },
         "title": {
          "font": {
           "color": "#4D5663"
          },
          "text": ""
         },
         "zerolinecolor": "#E1E5ED"
        }
       }
      },
      "text/html": [
       "<div>                            <div id=\"ce7ff80b-18c0-4a06-89bb-1cdb828a752e\" class=\"plotly-graph-div\" style=\"height:525px; width:100%;\"></div>            <script type=\"text/javascript\">                require([\"plotly\"], function(Plotly) {                    window.PLOTLYENV=window.PLOTLYENV || {};\n",
       "                    window.PLOTLYENV.BASE_URL='https://plot.ly';                                    if (document.getElementById(\"ce7ff80b-18c0-4a06-89bb-1cdb828a752e\")) {                    Plotly.newPlot(                        \"ce7ff80b-18c0-4a06-89bb-1cdb828a752e\",                        [{\"colorscale\":[[0.0,\"rgb(165,0,38)\"],[0.1,\"rgb(215,48,39)\"],[0.2,\"rgb(244,109,67)\"],[0.3,\"rgb(253,174,97)\"],[0.4,\"rgb(254,224,144)\"],[0.5,\"rgb(255,255,191)\"],[0.6,\"rgb(224,243,248)\"],[0.7,\"rgb(171,217,233)\"],[0.8,\"rgb(116,173,209)\"],[0.9,\"rgb(69,117,180)\"],[1.0,\"rgb(49,54,149)\"]],\"x\":[0,1,2,3,4],\"y\":[\"x\",\"y\",\"z\"],\"z\":[[1,2,3,4,5],[10,20,30,20,10],[5,4,3,2,1]],\"type\":\"surface\"}],                        {\"legend\":{\"bgcolor\":\"#F5F6F9\",\"font\":{\"color\":\"#4D5663\"}},\"paper_bgcolor\":\"#F5F6F9\",\"plot_bgcolor\":\"#F5F6F9\",\"template\":{\"data\":{\"barpolar\":[{\"marker\":{\"line\":{\"color\":\"#E5ECF6\",\"width\":0.5},\"pattern\":{\"fillmode\":\"overlay\",\"size\":10,\"solidity\":0.2}},\"type\":\"barpolar\"}],\"bar\":[{\"error_x\":{\"color\":\"#2a3f5f\"},\"error_y\":{\"color\":\"#2a3f5f\"},\"marker\":{\"line\":{\"color\":\"#E5ECF6\",\"width\":0.5},\"pattern\":{\"fillmode\":\"overlay\",\"size\":10,\"solidity\":0.2}},\"type\":\"bar\"}],\"carpet\":[{\"aaxis\":{\"endlinecolor\":\"#2a3f5f\",\"gridcolor\":\"white\",\"linecolor\":\"white\",\"minorgridcolor\":\"white\",\"startlinecolor\":\"#2a3f5f\"},\"baxis\":{\"endlinecolor\":\"#2a3f5f\",\"gridcolor\":\"white\",\"linecolor\":\"white\",\"minorgridcolor\":\"white\",\"startlinecolor\":\"#2a3f5f\"},\"type\":\"carpet\"}],\"choropleth\":[{\"colorbar\":{\"outlinewidth\":0,\"ticks\":\"\"},\"type\":\"choropleth\"}],\"contourcarpet\":[{\"colorbar\":{\"outlinewidth\":0,\"ticks\":\"\"},\"type\":\"contourcarpet\"}],\"contour\":[{\"colorbar\":{\"outlinewidth\":0,\"ticks\":\"\"},\"colorscale\":[[0.0,\"#0d0887\"],[0.1111111111111111,\"#46039f\"],[0.2222222222222222,\"#7201a8\"],[0.3333333333333333,\"#9c179e\"],[0.4444444444444444,\"#bd3786\"],[0.5555555555555556,\"#d8576b\"],[0.6666666666666666,\"#ed7953\"],[0.7777777777777778,\"#fb9f3a\"],[0.8888888888888888,\"#fdca26\"],[1.0,\"#f0f921\"]],\"type\":\"contour\"}],\"heatmapgl\":[{\"colorbar\":{\"outlinewidth\":0,\"ticks\":\"\"},\"colorscale\":[[0.0,\"#0d0887\"],[0.1111111111111111,\"#46039f\"],[0.2222222222222222,\"#7201a8\"],[0.3333333333333333,\"#9c179e\"],[0.4444444444444444,\"#bd3786\"],[0.5555555555555556,\"#d8576b\"],[0.6666666666666666,\"#ed7953\"],[0.7777777777777778,\"#fb9f3a\"],[0.8888888888888888,\"#fdca26\"],[1.0,\"#f0f921\"]],\"type\":\"heatmapgl\"}],\"heatmap\":[{\"colorbar\":{\"outlinewidth\":0,\"ticks\":\"\"},\"colorscale\":[[0.0,\"#0d0887\"],[0.1111111111111111,\"#46039f\"],[0.2222222222222222,\"#7201a8\"],[0.3333333333333333,\"#9c179e\"],[0.4444444444444444,\"#bd3786\"],[0.5555555555555556,\"#d8576b\"],[0.6666666666666666,\"#ed7953\"],[0.7777777777777778,\"#fb9f3a\"],[0.8888888888888888,\"#fdca26\"],[1.0,\"#f0f921\"]],\"type\":\"heatmap\"}],\"histogram2dcontour\":[{\"colorbar\":{\"outlinewidth\":0,\"ticks\":\"\"},\"colorscale\":[[0.0,\"#0d0887\"],[0.1111111111111111,\"#46039f\"],[0.2222222222222222,\"#7201a8\"],[0.3333333333333333,\"#9c179e\"],[0.4444444444444444,\"#bd3786\"],[0.5555555555555556,\"#d8576b\"],[0.6666666666666666,\"#ed7953\"],[0.7777777777777778,\"#fb9f3a\"],[0.8888888888888888,\"#fdca26\"],[1.0,\"#f0f921\"]],\"type\":\"histogram2dcontour\"}],\"histogram2d\":[{\"colorbar\":{\"outlinewidth\":0,\"ticks\":\"\"},\"colorscale\":[[0.0,\"#0d0887\"],[0.1111111111111111,\"#46039f\"],[0.2222222222222222,\"#7201a8\"],[0.3333333333333333,\"#9c179e\"],[0.4444444444444444,\"#bd3786\"],[0.5555555555555556,\"#d8576b\"],[0.6666666666666666,\"#ed7953\"],[0.7777777777777778,\"#fb9f3a\"],[0.8888888888888888,\"#fdca26\"],[1.0,\"#f0f921\"]],\"type\":\"histogram2d\"}],\"histogram\":[{\"marker\":{\"pattern\":{\"fillmode\":\"overlay\",\"size\":10,\"solidity\":0.2}},\"type\":\"histogram\"}],\"mesh3d\":[{\"colorbar\":{\"outlinewidth\":0,\"ticks\":\"\"},\"type\":\"mesh3d\"}],\"parcoords\":[{\"line\":{\"colorbar\":{\"outlinewidth\":0,\"ticks\":\"\"}},\"type\":\"parcoords\"}],\"pie\":[{\"automargin\":true,\"type\":\"pie\"}],\"scatter3d\":[{\"line\":{\"colorbar\":{\"outlinewidth\":0,\"ticks\":\"\"}},\"marker\":{\"colorbar\":{\"outlinewidth\":0,\"ticks\":\"\"}},\"type\":\"scatter3d\"}],\"scattercarpet\":[{\"marker\":{\"colorbar\":{\"outlinewidth\":0,\"ticks\":\"\"}},\"type\":\"scattercarpet\"}],\"scattergeo\":[{\"marker\":{\"colorbar\":{\"outlinewidth\":0,\"ticks\":\"\"}},\"type\":\"scattergeo\"}],\"scattergl\":[{\"marker\":{\"colorbar\":{\"outlinewidth\":0,\"ticks\":\"\"}},\"type\":\"scattergl\"}],\"scattermapbox\":[{\"marker\":{\"colorbar\":{\"outlinewidth\":0,\"ticks\":\"\"}},\"type\":\"scattermapbox\"}],\"scatterpolargl\":[{\"marker\":{\"colorbar\":{\"outlinewidth\":0,\"ticks\":\"\"}},\"type\":\"scatterpolargl\"}],\"scatterpolar\":[{\"marker\":{\"colorbar\":{\"outlinewidth\":0,\"ticks\":\"\"}},\"type\":\"scatterpolar\"}],\"scatter\":[{\"marker\":{\"colorbar\":{\"outlinewidth\":0,\"ticks\":\"\"}},\"type\":\"scatter\"}],\"scatterternary\":[{\"marker\":{\"colorbar\":{\"outlinewidth\":0,\"ticks\":\"\"}},\"type\":\"scatterternary\"}],\"surface\":[{\"colorbar\":{\"outlinewidth\":0,\"ticks\":\"\"},\"colorscale\":[[0.0,\"#0d0887\"],[0.1111111111111111,\"#46039f\"],[0.2222222222222222,\"#7201a8\"],[0.3333333333333333,\"#9c179e\"],[0.4444444444444444,\"#bd3786\"],[0.5555555555555556,\"#d8576b\"],[0.6666666666666666,\"#ed7953\"],[0.7777777777777778,\"#fb9f3a\"],[0.8888888888888888,\"#fdca26\"],[1.0,\"#f0f921\"]],\"type\":\"surface\"}],\"table\":[{\"cells\":{\"fill\":{\"color\":\"#EBF0F8\"},\"line\":{\"color\":\"white\"}},\"header\":{\"fill\":{\"color\":\"#C8D4E3\"},\"line\":{\"color\":\"white\"}},\"type\":\"table\"}]},\"layout\":{\"annotationdefaults\":{\"arrowcolor\":\"#2a3f5f\",\"arrowhead\":0,\"arrowwidth\":1},\"autotypenumbers\":\"strict\",\"coloraxis\":{\"colorbar\":{\"outlinewidth\":0,\"ticks\":\"\"}},\"colorscale\":{\"diverging\":[[0,\"#8e0152\"],[0.1,\"#c51b7d\"],[0.2,\"#de77ae\"],[0.3,\"#f1b6da\"],[0.4,\"#fde0ef\"],[0.5,\"#f7f7f7\"],[0.6,\"#e6f5d0\"],[0.7,\"#b8e186\"],[0.8,\"#7fbc41\"],[0.9,\"#4d9221\"],[1,\"#276419\"]],\"sequential\":[[0.0,\"#0d0887\"],[0.1111111111111111,\"#46039f\"],[0.2222222222222222,\"#7201a8\"],[0.3333333333333333,\"#9c179e\"],[0.4444444444444444,\"#bd3786\"],[0.5555555555555556,\"#d8576b\"],[0.6666666666666666,\"#ed7953\"],[0.7777777777777778,\"#fb9f3a\"],[0.8888888888888888,\"#fdca26\"],[1.0,\"#f0f921\"]],\"sequentialminus\":[[0.0,\"#0d0887\"],[0.1111111111111111,\"#46039f\"],[0.2222222222222222,\"#7201a8\"],[0.3333333333333333,\"#9c179e\"],[0.4444444444444444,\"#bd3786\"],[0.5555555555555556,\"#d8576b\"],[0.6666666666666666,\"#ed7953\"],[0.7777777777777778,\"#fb9f3a\"],[0.8888888888888888,\"#fdca26\"],[1.0,\"#f0f921\"]]},\"colorway\":[\"#636efa\",\"#EF553B\",\"#00cc96\",\"#ab63fa\",\"#FFA15A\",\"#19d3f3\",\"#FF6692\",\"#B6E880\",\"#FF97FF\",\"#FECB52\"],\"font\":{\"color\":\"#2a3f5f\"},\"geo\":{\"bgcolor\":\"white\",\"lakecolor\":\"white\",\"landcolor\":\"#E5ECF6\",\"showlakes\":true,\"showland\":true,\"subunitcolor\":\"white\"},\"hoverlabel\":{\"align\":\"left\"},\"hovermode\":\"closest\",\"mapbox\":{\"style\":\"light\"},\"paper_bgcolor\":\"white\",\"plot_bgcolor\":\"#E5ECF6\",\"polar\":{\"angularaxis\":{\"gridcolor\":\"white\",\"linecolor\":\"white\",\"ticks\":\"\"},\"bgcolor\":\"#E5ECF6\",\"radialaxis\":{\"gridcolor\":\"white\",\"linecolor\":\"white\",\"ticks\":\"\"}},\"scene\":{\"xaxis\":{\"backgroundcolor\":\"#E5ECF6\",\"gridcolor\":\"white\",\"gridwidth\":2,\"linecolor\":\"white\",\"showbackground\":true,\"ticks\":\"\",\"zerolinecolor\":\"white\"},\"yaxis\":{\"backgroundcolor\":\"#E5ECF6\",\"gridcolor\":\"white\",\"gridwidth\":2,\"linecolor\":\"white\",\"showbackground\":true,\"ticks\":\"\",\"zerolinecolor\":\"white\"},\"zaxis\":{\"backgroundcolor\":\"#E5ECF6\",\"gridcolor\":\"white\",\"gridwidth\":2,\"linecolor\":\"white\",\"showbackground\":true,\"ticks\":\"\",\"zerolinecolor\":\"white\"}},\"shapedefaults\":{\"line\":{\"color\":\"#2a3f5f\"}},\"ternary\":{\"aaxis\":{\"gridcolor\":\"white\",\"linecolor\":\"white\",\"ticks\":\"\"},\"baxis\":{\"gridcolor\":\"white\",\"linecolor\":\"white\",\"ticks\":\"\"},\"bgcolor\":\"#E5ECF6\",\"caxis\":{\"gridcolor\":\"white\",\"linecolor\":\"white\",\"ticks\":\"\"}},\"title\":{\"x\":0.05},\"xaxis\":{\"automargin\":true,\"gridcolor\":\"white\",\"linecolor\":\"white\",\"ticks\":\"\",\"title\":{\"standoff\":15},\"zerolinecolor\":\"white\",\"zerolinewidth\":2},\"yaxis\":{\"automargin\":true,\"gridcolor\":\"white\",\"linecolor\":\"white\",\"ticks\":\"\",\"title\":{\"standoff\":15},\"zerolinecolor\":\"white\",\"zerolinewidth\":2}}},\"title\":{\"font\":{\"color\":\"#4D5663\"}},\"xaxis\":{\"gridcolor\":\"#E1E5ED\",\"showgrid\":true,\"tickfont\":{\"color\":\"#4D5663\"},\"title\":{\"font\":{\"color\":\"#4D5663\"},\"text\":\"\"},\"zerolinecolor\":\"#E1E5ED\"},\"yaxis\":{\"gridcolor\":\"#E1E5ED\",\"showgrid\":true,\"tickfont\":{\"color\":\"#4D5663\"},\"title\":{\"font\":{\"color\":\"#4D5663\"},\"text\":\"\"},\"zerolinecolor\":\"#E1E5ED\"}},                        {\"showLink\": true, \"linkText\": \"Export to plot.ly\", \"plotlyServerURL\": \"https://plot.ly\", \"responsive\": true}                    ).then(function(){\n",
       "                            \n",
       "var gd = document.getElementById('ce7ff80b-18c0-4a06-89bb-1cdb828a752e');\n",
       "var x = new MutationObserver(function (mutations, observer) {{\n",
       "        var display = window.getComputedStyle(gd).display;\n",
       "        if (!display || display === 'none') {{\n",
       "            console.log([gd, 'removed!']);\n",
       "            Plotly.purge(gd);\n",
       "            observer.disconnect();\n",
       "        }}\n",
       "}});\n",
       "\n",
       "// Listen for the removal of the full notebook cells\n",
       "var notebookContainer = gd.closest('#notebook-container');\n",
       "if (notebookContainer) {{\n",
       "    x.observe(notebookContainer, {childList: true});\n",
       "}}\n",
       "\n",
       "// Listen for the clearing of the current output cell\n",
       "var outputEl = gd.closest('.output');\n",
       "if (outputEl) {{\n",
       "    x.observe(outputEl, {childList: true});\n",
       "}}\n",
       "\n",
       "                        })                };                });            </script>        </div>"
      ]
     },
     "metadata": {},
     "output_type": "display_data"
    }
   ],
   "source": [
    "df3 = pd.DataFrame({'x':[1,2,3,4,5],'y':[10,20,30,20,10],'z':[5,4,3,2,1]})\n",
    "df3.iplot(kind='surface',colorscale='rdylbu')"
   ]
  },
  {
   "cell_type": "markdown",
   "metadata": {},
   "source": [
    "## Spread"
   ]
  },
  {
   "cell_type": "code",
   "execution_count": 34,
   "metadata": {},
   "outputs": [
    {
     "data": {
      "application/vnd.plotly.v1+json": {
       "config": {
        "linkText": "Export to plot.ly",
        "plotlyServerURL": "https://plot.ly",
        "showLink": true
       },
       "data": [
        {
         "line": {
          "color": "rgba(255, 153, 51, 1.0)",
          "dash": "solid",
          "shape": "linear",
          "width": 1.3
         },
         "mode": "lines",
         "name": "A",
         "text": "",
         "type": "scatter",
         "x": [
          0,
          1,
          2,
          3,
          4,
          5,
          6,
          7,
          8,
          9,
          10,
          11,
          12,
          13,
          14,
          15,
          16,
          17,
          18,
          19,
          20,
          21,
          22,
          23,
          24,
          25,
          26,
          27,
          28,
          29,
          30,
          31,
          32,
          33,
          34,
          35,
          36,
          37,
          38,
          39,
          40,
          41,
          42,
          43,
          44,
          45,
          46,
          47,
          48,
          49,
          50,
          51,
          52,
          53,
          54,
          55,
          56,
          57,
          58,
          59,
          60,
          61,
          62,
          63,
          64,
          65,
          66,
          67,
          68,
          69,
          70,
          71,
          72,
          73,
          74,
          75,
          76,
          77,
          78,
          79,
          80,
          81,
          82,
          83,
          84,
          85,
          86,
          87,
          88,
          89,
          90,
          91,
          92,
          93,
          94,
          95,
          96,
          97,
          98,
          99
         ],
         "y": [
          -1.3613958313944696,
          -1.7042221110976603,
          0.32985945180706433,
          2.5623890066126087,
          0.596708286995235,
          0.38800319766771085,
          2.1317524293432273,
          0.35760794338784785,
          -0.9628933232790114,
          0.38627088480549726,
          0.8896635293826508,
          -1.6302468945724502,
          0.07386680436135416,
          -1.1151510355216823,
          -0.6155421365917353,
          0.6275213279324287,
          -2.4556222736347264,
          -0.08383417273924389,
          1.847724973514263,
          0.64828877590923,
          0.430821002965215,
          0.0819772131258825,
          -0.6954113317997281,
          0.5538137837765824,
          0.10652690868782426,
          0.04367543362827007,
          -0.20957555068664904,
          -0.5725838163454393,
          -1.0763236563997898,
          1.04319273438166,
          0.09258642242772724,
          0.43225507242988825,
          -0.26869321023897175,
          0.041921896996645565,
          -0.32467323207099424,
          -0.7344957992000319,
          -0.9651885449086609,
          -0.6928258307206157,
          1.4808093570403447,
          -0.21072455136641977,
          -1.1143284029071931,
          0.8303048542893865,
          -1.5015722000932357,
          -0.29322894226469476,
          -0.23333041712316752,
          -0.168616155934447,
          -0.0271817210700922,
          1.872542104905962,
          -1.6977709989879104,
          0.414742769773524,
          2.071641724035386,
          0.5919031481223098,
          0.5820259839526,
          0.5214316695874449,
          -0.0832753383668695,
          -0.06956414481057287,
          1.2573832426419724,
          0.5715406037601274,
          -0.4846214406997435,
          -0.25372772850065495,
          0.28854050925277164,
          -0.9485596057710541,
          -1.373777834596028,
          0.27310234363151625,
          -0.9274567404138778,
          1.8607477689148155,
          -0.12484594696679062,
          -1.3439311228394724,
          -0.11484077135462872,
          0.8017107460689338,
          0.640775263433574,
          0.916133496593308,
          -0.5596523377142191,
          0.05929968987011562,
          1.1864731493239193,
          0.5611307949848579,
          0.800800212473385,
          -0.09951818454244196,
          0.06500464655182343,
          -1.3951425978495366,
          -1.5958720331315634,
          0.20369461892878676,
          -1.6652398198832319,
          1.3027571052385063,
          0.2238913383343826,
          0.7469083076274575,
          2.267347947251838,
          2.8703939957693745,
          0.8917597412888287,
          -0.7978904664063126,
          -0.23061901045987301,
          -0.9745725069408219,
          0.8032453264788344,
          0.3461516187280765,
          -0.3616850225889013,
          0.4820547726197181,
          0.8401747022821484,
          1.7080331076772783,
          0.6047580310416393,
          0.9732342431018266
         ]
        },
        {
         "line": {
          "color": "rgba(55, 128, 191, 1.0)",
          "dash": "solid",
          "shape": "linear",
          "width": 1.3
         },
         "mode": "lines",
         "name": "B",
         "text": "",
         "type": "scatter",
         "x": [
          0,
          1,
          2,
          3,
          4,
          5,
          6,
          7,
          8,
          9,
          10,
          11,
          12,
          13,
          14,
          15,
          16,
          17,
          18,
          19,
          20,
          21,
          22,
          23,
          24,
          25,
          26,
          27,
          28,
          29,
          30,
          31,
          32,
          33,
          34,
          35,
          36,
          37,
          38,
          39,
          40,
          41,
          42,
          43,
          44,
          45,
          46,
          47,
          48,
          49,
          50,
          51,
          52,
          53,
          54,
          55,
          56,
          57,
          58,
          59,
          60,
          61,
          62,
          63,
          64,
          65,
          66,
          67,
          68,
          69,
          70,
          71,
          72,
          73,
          74,
          75,
          76,
          77,
          78,
          79,
          80,
          81,
          82,
          83,
          84,
          85,
          86,
          87,
          88,
          89,
          90,
          91,
          92,
          93,
          94,
          95,
          96,
          97,
          98,
          99
         ],
         "y": [
          0.5945775940443155,
          0.6607047336210673,
          -0.8437041903517836,
          -1.0196475922865398,
          -1.6451940305020725,
          -0.9446778062983598,
          0.05140155149481968,
          -0.8253283431547772,
          -0.5440246470940526,
          -0.16694991002148946,
          -0.12849130965374328,
          -1.0522802451600277,
          -0.943176486637258,
          0.6585327435913522,
          0.5076321513876402,
          -0.09621350675701539,
          0.06868110258768582,
          0.3476254929970094,
          -2.1431397484291086,
          -0.9387651609970239,
          1.4091397671983448,
          0.2926978088249191,
          -2.1235879008892145,
          0.36327572536982977,
          -0.848354295132973,
          -0.16446259168780344,
          1.2233453232620783,
          0.7067666690064024,
          1.335405255140897,
          -0.21415356728892843,
          2.135913148851817,
          -0.07745701729422907,
          0.3213178737468516,
          0.05789801136274323,
          1.4904483068863459,
          -0.27459455717721004,
          -0.6734311352156884,
          0.9048550556107424,
          -1.3906645263897837,
          0.20638710371462188,
          1.0700126783391883,
          0.6520912210548786,
          0.2613971111990068,
          0.7054751114868026,
          -2.241042310534278,
          -0.41284311642952093,
          -0.7961232428958736,
          0.1997007007933289,
          1.1901758428571312,
          -0.39554841374028377,
          -1.7551993694932317,
          -0.3486273764841329,
          1.1267606945858755,
          0.13012150884818804,
          0.6375379958536724,
          -0.7060441750522917,
          0.548794817445413,
          -0.9872537208030995,
          1.8331957173057893,
          0.26343275393885734,
          -1.6493315043256271,
          -0.7423158379419897,
          1.9854935315238043,
          -1.406987489252971,
          1.140856398857627,
          -0.2255926670844332,
          -0.02364392381469881,
          -0.3254822099227199,
          -0.6586788866254313,
          0.6624835540455175,
          -0.40596082091934554,
          0.43014499556221786,
          -0.9180661498922534,
          -0.4196048268973363,
          -0.9328704189872478,
          -0.6661886158711042,
          0.11929323686103088,
          0.22856068775428448,
          0.17743200548477933,
          1.1101163779191947,
          0.27385209562688806,
          -1.041666486628943,
          -0.042098019402314564,
          1.75048347226908,
          0.14845297679328504,
          -0.0903634355093191,
          0.7744733034147091,
          -0.42150008681574186,
          0.6772434890254551,
          1.3540059004049954,
          -0.9284870681669611,
          -0.7098539426580581,
          0.5124495849944696,
          -0.024446337603381302,
          -0.09090482641493863,
          2.53161705160511,
          0.8234278987271646,
          0.5317671802891296,
          -1.2733682617714959,
          1.1793118405149896
         ]
        },
        {
         "connectgaps": false,
         "fill": "tozeroy",
         "line": {
          "color": "green",
          "dash": "solid",
          "shape": "linear",
          "width": 0.5
         },
         "mode": "lines",
         "name": "Spread",
         "showlegend": false,
         "type": "scatter",
         "x": [
          0,
          1,
          2,
          3,
          4,
          5,
          6,
          7,
          8,
          9,
          10,
          11,
          12,
          13,
          14,
          15,
          16,
          17,
          18,
          19,
          20,
          21,
          22,
          23,
          24,
          25,
          26,
          27,
          28,
          29,
          30,
          31,
          32,
          33,
          34,
          35,
          36,
          37,
          38,
          39,
          40,
          41,
          42,
          43,
          44,
          45,
          46,
          47,
          48,
          49,
          50,
          51,
          52,
          53,
          54,
          55,
          56,
          57,
          58,
          59,
          60,
          61,
          62,
          63,
          64,
          65,
          66,
          67,
          68,
          69,
          70,
          71,
          72,
          73,
          74,
          75,
          76,
          77,
          78,
          79,
          80,
          81,
          82,
          83,
          84,
          85,
          86,
          87,
          88,
          89,
          90,
          91,
          92,
          93,
          94,
          95,
          96,
          97,
          98,
          99
         ],
         "xaxis": "x2",
         "y": [
          "",
          "",
          1.173563642158848,
          3.5820365988991485,
          2.2419023174973076,
          1.3326810039660706,
          2.0803508778484074,
          1.182936286542625,
          "",
          0.5532207948269867,
          1.0181548390363941,
          "",
          1.017043290998612,
          "",
          "",
          0.723734834689444,
          "",
          "",
          3.9908647219433715,
          1.587053936906254,
          "",
          "",
          1.4281765690894863,
          0.19053805840675264,
          0.9548812038207972,
          0.2081380253160735,
          "",
          "",
          "",
          1.2573463016705886,
          "",
          0.5097120897241173,
          "",
          "",
          "",
          "",
          "",
          "",
          2.871473883430128,
          "",
          "",
          0.1782136332345079,
          "",
          "",
          2.0077118934111104,
          0.24422696049507392,
          0.7689415218257813,
          1.6728414041126332,
          "",
          0.8102911835138078,
          3.8268410935286177,
          0.9405305246064427,
          "",
          0.39131016073925684,
          "",
          0.6364800302417188,
          0.7085884251965594,
          1.5587943245632268,
          "",
          "",
          1.9378720135783989,
          "",
          "",
          1.6800898328844873,
          "",
          2.0863404359992486,
          "",
          "",
          0.5438381152708025,
          0.13922719202341627,
          1.0467360843529196,
          0.48598850103109015,
          0.35841381217803436,
          0.47890451676745194,
          2.119343568311167,
          1.2273194108559622,
          0.6815069756123541,
          "",
          "",
          "",
          "",
          1.2453611055577296,
          "",
          "",
          0.07543836154109756,
          0.8372717431367767,
          1.4928746438371288,
          3.291894082585116,
          0.21451625226337367,
          "",
          0.6978680577070882,
          "",
          0.2907957414843648,
          0.37059795633145776,
          "",
          "",
          0.016746803554983813,
          1.1762659273881488,
          1.878126292813135,
          ""
         ],
         "yaxis": "y2"
        },
        {
         "connectgaps": false,
         "fill": "tozeroy",
         "line": {
          "color": "red",
          "dash": "solid",
          "shape": "linear",
          "width": 0.5
         },
         "mode": "lines",
         "name": "Spread",
         "showlegend": false,
         "type": "scatter",
         "x": [
          0,
          1,
          2,
          3,
          4,
          5,
          6,
          7,
          8,
          9,
          10,
          11,
          12,
          13,
          14,
          15,
          16,
          17,
          18,
          19,
          20,
          21,
          22,
          23,
          24,
          25,
          26,
          27,
          28,
          29,
          30,
          31,
          32,
          33,
          34,
          35,
          36,
          37,
          38,
          39,
          40,
          41,
          42,
          43,
          44,
          45,
          46,
          47,
          48,
          49,
          50,
          51,
          52,
          53,
          54,
          55,
          56,
          57,
          58,
          59,
          60,
          61,
          62,
          63,
          64,
          65,
          66,
          67,
          68,
          69,
          70,
          71,
          72,
          73,
          74,
          75,
          76,
          77,
          78,
          79,
          80,
          81,
          82,
          83,
          84,
          85,
          86,
          87,
          88,
          89,
          90,
          91,
          92,
          93,
          94,
          95,
          96,
          97,
          98,
          99
         ],
         "xaxis": "x2",
         "y": [
          -1.9559734254387853,
          -2.3649268447187275,
          "",
          "",
          "",
          "",
          "",
          "",
          -0.4188686761849588,
          "",
          "",
          -0.5779666494124225,
          "",
          -1.7736837791130344,
          -1.1231742879793756,
          "",
          -2.524303376222412,
          -0.4314596657362533,
          "",
          "",
          -0.9783187642331297,
          -0.21072059569903656,
          "",
          "",
          "",
          "",
          -1.4329208739487274,
          -1.2793504853518418,
          -2.4117289115406866,
          "",
          -2.0433267264240897,
          "",
          -0.5900110839858234,
          -0.015976114366097666,
          -1.81512153895734,
          -0.4599012420228219,
          -0.2917574096929725,
          -1.597680886331358,
          "",
          -0.41711165508104164,
          -2.1843410812463815,
          "",
          -1.7629693112922424,
          -0.9987040537514974,
          "",
          "",
          "",
          "",
          -2.8879468418450416,
          "",
          "",
          "",
          -0.5447347106332755,
          "",
          -0.720813334220542,
          "",
          "",
          "",
          -2.317817158005533,
          -0.5171604824395123,
          "",
          -0.2062437678290644,
          -3.3592713661198323,
          "",
          -2.068313139271505,
          "",
          -0.10120202315209181,
          -1.0184489129167524,
          "",
          "",
          "",
          "",
          "",
          "",
          "",
          "",
          "",
          -0.32807887229672644,
          -0.1124273589329559,
          -2.505258975768731,
          -1.8697241287584516,
          "",
          -1.6231418004809173,
          -0.4477263670305738,
          "",
          "",
          "",
          "",
          "",
          -2.151896366811308,
          "",
          -0.26471856428276375,
          "",
          "",
          -0.27078019617396265,
          -2.049562278985392,
          "",
          "",
          "",
          -0.206077597413163
         ],
         "yaxis": "y2"
        }
       ],
       "layout": {
        "hovermode": "x",
        "legend": {
         "bgcolor": "#F5F6F9",
         "font": {
          "color": "#4D5663"
         }
        },
        "paper_bgcolor": "#F5F6F9",
        "plot_bgcolor": "#F5F6F9",
        "template": {
         "data": {
          "bar": [
           {
            "error_x": {
             "color": "#2a3f5f"
            },
            "error_y": {
             "color": "#2a3f5f"
            },
            "marker": {
             "line": {
              "color": "#E5ECF6",
              "width": 0.5
             },
             "pattern": {
              "fillmode": "overlay",
              "size": 10,
              "solidity": 0.2
             }
            },
            "type": "bar"
           }
          ],
          "barpolar": [
           {
            "marker": {
             "line": {
              "color": "#E5ECF6",
              "width": 0.5
             },
             "pattern": {
              "fillmode": "overlay",
              "size": 10,
              "solidity": 0.2
             }
            },
            "type": "barpolar"
           }
          ],
          "carpet": [
           {
            "aaxis": {
             "endlinecolor": "#2a3f5f",
             "gridcolor": "white",
             "linecolor": "white",
             "minorgridcolor": "white",
             "startlinecolor": "#2a3f5f"
            },
            "baxis": {
             "endlinecolor": "#2a3f5f",
             "gridcolor": "white",
             "linecolor": "white",
             "minorgridcolor": "white",
             "startlinecolor": "#2a3f5f"
            },
            "type": "carpet"
           }
          ],
          "choropleth": [
           {
            "colorbar": {
             "outlinewidth": 0,
             "ticks": ""
            },
            "type": "choropleth"
           }
          ],
          "contour": [
           {
            "colorbar": {
             "outlinewidth": 0,
             "ticks": ""
            },
            "colorscale": [
             [
              0,
              "#0d0887"
             ],
             [
              0.1111111111111111,
              "#46039f"
             ],
             [
              0.2222222222222222,
              "#7201a8"
             ],
             [
              0.3333333333333333,
              "#9c179e"
             ],
             [
              0.4444444444444444,
              "#bd3786"
             ],
             [
              0.5555555555555556,
              "#d8576b"
             ],
             [
              0.6666666666666666,
              "#ed7953"
             ],
             [
              0.7777777777777778,
              "#fb9f3a"
             ],
             [
              0.8888888888888888,
              "#fdca26"
             ],
             [
              1,
              "#f0f921"
             ]
            ],
            "type": "contour"
           }
          ],
          "contourcarpet": [
           {
            "colorbar": {
             "outlinewidth": 0,
             "ticks": ""
            },
            "type": "contourcarpet"
           }
          ],
          "heatmap": [
           {
            "colorbar": {
             "outlinewidth": 0,
             "ticks": ""
            },
            "colorscale": [
             [
              0,
              "#0d0887"
             ],
             [
              0.1111111111111111,
              "#46039f"
             ],
             [
              0.2222222222222222,
              "#7201a8"
             ],
             [
              0.3333333333333333,
              "#9c179e"
             ],
             [
              0.4444444444444444,
              "#bd3786"
             ],
             [
              0.5555555555555556,
              "#d8576b"
             ],
             [
              0.6666666666666666,
              "#ed7953"
             ],
             [
              0.7777777777777778,
              "#fb9f3a"
             ],
             [
              0.8888888888888888,
              "#fdca26"
             ],
             [
              1,
              "#f0f921"
             ]
            ],
            "type": "heatmap"
           }
          ],
          "heatmapgl": [
           {
            "colorbar": {
             "outlinewidth": 0,
             "ticks": ""
            },
            "colorscale": [
             [
              0,
              "#0d0887"
             ],
             [
              0.1111111111111111,
              "#46039f"
             ],
             [
              0.2222222222222222,
              "#7201a8"
             ],
             [
              0.3333333333333333,
              "#9c179e"
             ],
             [
              0.4444444444444444,
              "#bd3786"
             ],
             [
              0.5555555555555556,
              "#d8576b"
             ],
             [
              0.6666666666666666,
              "#ed7953"
             ],
             [
              0.7777777777777778,
              "#fb9f3a"
             ],
             [
              0.8888888888888888,
              "#fdca26"
             ],
             [
              1,
              "#f0f921"
             ]
            ],
            "type": "heatmapgl"
           }
          ],
          "histogram": [
           {
            "marker": {
             "pattern": {
              "fillmode": "overlay",
              "size": 10,
              "solidity": 0.2
             }
            },
            "type": "histogram"
           }
          ],
          "histogram2d": [
           {
            "colorbar": {
             "outlinewidth": 0,
             "ticks": ""
            },
            "colorscale": [
             [
              0,
              "#0d0887"
             ],
             [
              0.1111111111111111,
              "#46039f"
             ],
             [
              0.2222222222222222,
              "#7201a8"
             ],
             [
              0.3333333333333333,
              "#9c179e"
             ],
             [
              0.4444444444444444,
              "#bd3786"
             ],
             [
              0.5555555555555556,
              "#d8576b"
             ],
             [
              0.6666666666666666,
              "#ed7953"
             ],
             [
              0.7777777777777778,
              "#fb9f3a"
             ],
             [
              0.8888888888888888,
              "#fdca26"
             ],
             [
              1,
              "#f0f921"
             ]
            ],
            "type": "histogram2d"
           }
          ],
          "histogram2dcontour": [
           {
            "colorbar": {
             "outlinewidth": 0,
             "ticks": ""
            },
            "colorscale": [
             [
              0,
              "#0d0887"
             ],
             [
              0.1111111111111111,
              "#46039f"
             ],
             [
              0.2222222222222222,
              "#7201a8"
             ],
             [
              0.3333333333333333,
              "#9c179e"
             ],
             [
              0.4444444444444444,
              "#bd3786"
             ],
             [
              0.5555555555555556,
              "#d8576b"
             ],
             [
              0.6666666666666666,
              "#ed7953"
             ],
             [
              0.7777777777777778,
              "#fb9f3a"
             ],
             [
              0.8888888888888888,
              "#fdca26"
             ],
             [
              1,
              "#f0f921"
             ]
            ],
            "type": "histogram2dcontour"
           }
          ],
          "mesh3d": [
           {
            "colorbar": {
             "outlinewidth": 0,
             "ticks": ""
            },
            "type": "mesh3d"
           }
          ],
          "parcoords": [
           {
            "line": {
             "colorbar": {
              "outlinewidth": 0,
              "ticks": ""
             }
            },
            "type": "parcoords"
           }
          ],
          "pie": [
           {
            "automargin": true,
            "type": "pie"
           }
          ],
          "scatter": [
           {
            "marker": {
             "colorbar": {
              "outlinewidth": 0,
              "ticks": ""
             }
            },
            "type": "scatter"
           }
          ],
          "scatter3d": [
           {
            "line": {
             "colorbar": {
              "outlinewidth": 0,
              "ticks": ""
             }
            },
            "marker": {
             "colorbar": {
              "outlinewidth": 0,
              "ticks": ""
             }
            },
            "type": "scatter3d"
           }
          ],
          "scattercarpet": [
           {
            "marker": {
             "colorbar": {
              "outlinewidth": 0,
              "ticks": ""
             }
            },
            "type": "scattercarpet"
           }
          ],
          "scattergeo": [
           {
            "marker": {
             "colorbar": {
              "outlinewidth": 0,
              "ticks": ""
             }
            },
            "type": "scattergeo"
           }
          ],
          "scattergl": [
           {
            "marker": {
             "colorbar": {
              "outlinewidth": 0,
              "ticks": ""
             }
            },
            "type": "scattergl"
           }
          ],
          "scattermapbox": [
           {
            "marker": {
             "colorbar": {
              "outlinewidth": 0,
              "ticks": ""
             }
            },
            "type": "scattermapbox"
           }
          ],
          "scatterpolar": [
           {
            "marker": {
             "colorbar": {
              "outlinewidth": 0,
              "ticks": ""
             }
            },
            "type": "scatterpolar"
           }
          ],
          "scatterpolargl": [
           {
            "marker": {
             "colorbar": {
              "outlinewidth": 0,
              "ticks": ""
             }
            },
            "type": "scatterpolargl"
           }
          ],
          "scatterternary": [
           {
            "marker": {
             "colorbar": {
              "outlinewidth": 0,
              "ticks": ""
             }
            },
            "type": "scatterternary"
           }
          ],
          "surface": [
           {
            "colorbar": {
             "outlinewidth": 0,
             "ticks": ""
            },
            "colorscale": [
             [
              0,
              "#0d0887"
             ],
             [
              0.1111111111111111,
              "#46039f"
             ],
             [
              0.2222222222222222,
              "#7201a8"
             ],
             [
              0.3333333333333333,
              "#9c179e"
             ],
             [
              0.4444444444444444,
              "#bd3786"
             ],
             [
              0.5555555555555556,
              "#d8576b"
             ],
             [
              0.6666666666666666,
              "#ed7953"
             ],
             [
              0.7777777777777778,
              "#fb9f3a"
             ],
             [
              0.8888888888888888,
              "#fdca26"
             ],
             [
              1,
              "#f0f921"
             ]
            ],
            "type": "surface"
           }
          ],
          "table": [
           {
            "cells": {
             "fill": {
              "color": "#EBF0F8"
             },
             "line": {
              "color": "white"
             }
            },
            "header": {
             "fill": {
              "color": "#C8D4E3"
             },
             "line": {
              "color": "white"
             }
            },
            "type": "table"
           }
          ]
         },
         "layout": {
          "annotationdefaults": {
           "arrowcolor": "#2a3f5f",
           "arrowhead": 0,
           "arrowwidth": 1
          },
          "autotypenumbers": "strict",
          "coloraxis": {
           "colorbar": {
            "outlinewidth": 0,
            "ticks": ""
           }
          },
          "colorscale": {
           "diverging": [
            [
             0,
             "#8e0152"
            ],
            [
             0.1,
             "#c51b7d"
            ],
            [
             0.2,
             "#de77ae"
            ],
            [
             0.3,
             "#f1b6da"
            ],
            [
             0.4,
             "#fde0ef"
            ],
            [
             0.5,
             "#f7f7f7"
            ],
            [
             0.6,
             "#e6f5d0"
            ],
            [
             0.7,
             "#b8e186"
            ],
            [
             0.8,
             "#7fbc41"
            ],
            [
             0.9,
             "#4d9221"
            ],
            [
             1,
             "#276419"
            ]
           ],
           "sequential": [
            [
             0,
             "#0d0887"
            ],
            [
             0.1111111111111111,
             "#46039f"
            ],
            [
             0.2222222222222222,
             "#7201a8"
            ],
            [
             0.3333333333333333,
             "#9c179e"
            ],
            [
             0.4444444444444444,
             "#bd3786"
            ],
            [
             0.5555555555555556,
             "#d8576b"
            ],
            [
             0.6666666666666666,
             "#ed7953"
            ],
            [
             0.7777777777777778,
             "#fb9f3a"
            ],
            [
             0.8888888888888888,
             "#fdca26"
            ],
            [
             1,
             "#f0f921"
            ]
           ],
           "sequentialminus": [
            [
             0,
             "#0d0887"
            ],
            [
             0.1111111111111111,
             "#46039f"
            ],
            [
             0.2222222222222222,
             "#7201a8"
            ],
            [
             0.3333333333333333,
             "#9c179e"
            ],
            [
             0.4444444444444444,
             "#bd3786"
            ],
            [
             0.5555555555555556,
             "#d8576b"
            ],
            [
             0.6666666666666666,
             "#ed7953"
            ],
            [
             0.7777777777777778,
             "#fb9f3a"
            ],
            [
             0.8888888888888888,
             "#fdca26"
            ],
            [
             1,
             "#f0f921"
            ]
           ]
          },
          "colorway": [
           "#636efa",
           "#EF553B",
           "#00cc96",
           "#ab63fa",
           "#FFA15A",
           "#19d3f3",
           "#FF6692",
           "#B6E880",
           "#FF97FF",
           "#FECB52"
          ],
          "font": {
           "color": "#2a3f5f"
          },
          "geo": {
           "bgcolor": "white",
           "lakecolor": "white",
           "landcolor": "#E5ECF6",
           "showlakes": true,
           "showland": true,
           "subunitcolor": "white"
          },
          "hoverlabel": {
           "align": "left"
          },
          "hovermode": "closest",
          "mapbox": {
           "style": "light"
          },
          "paper_bgcolor": "white",
          "plot_bgcolor": "#E5ECF6",
          "polar": {
           "angularaxis": {
            "gridcolor": "white",
            "linecolor": "white",
            "ticks": ""
           },
           "bgcolor": "#E5ECF6",
           "radialaxis": {
            "gridcolor": "white",
            "linecolor": "white",
            "ticks": ""
           }
          },
          "scene": {
           "xaxis": {
            "backgroundcolor": "#E5ECF6",
            "gridcolor": "white",
            "gridwidth": 2,
            "linecolor": "white",
            "showbackground": true,
            "ticks": "",
            "zerolinecolor": "white"
           },
           "yaxis": {
            "backgroundcolor": "#E5ECF6",
            "gridcolor": "white",
            "gridwidth": 2,
            "linecolor": "white",
            "showbackground": true,
            "ticks": "",
            "zerolinecolor": "white"
           },
           "zaxis": {
            "backgroundcolor": "#E5ECF6",
            "gridcolor": "white",
            "gridwidth": 2,
            "linecolor": "white",
            "showbackground": true,
            "ticks": "",
            "zerolinecolor": "white"
           }
          },
          "shapedefaults": {
           "line": {
            "color": "#2a3f5f"
           }
          },
          "ternary": {
           "aaxis": {
            "gridcolor": "white",
            "linecolor": "white",
            "ticks": ""
           },
           "baxis": {
            "gridcolor": "white",
            "linecolor": "white",
            "ticks": ""
           },
           "bgcolor": "#E5ECF6",
           "caxis": {
            "gridcolor": "white",
            "linecolor": "white",
            "ticks": ""
           }
          },
          "title": {
           "x": 0.05
          },
          "xaxis": {
           "automargin": true,
           "gridcolor": "white",
           "linecolor": "white",
           "ticks": "",
           "title": {
            "standoff": 15
           },
           "zerolinecolor": "white",
           "zerolinewidth": 2
          },
          "yaxis": {
           "automargin": true,
           "gridcolor": "white",
           "linecolor": "white",
           "ticks": "",
           "title": {
            "standoff": 15
           },
           "zerolinecolor": "white",
           "zerolinewidth": 2
          }
         }
        },
        "title": {
         "font": {
          "color": "#4D5663"
         }
        },
        "xaxis": {
         "gridcolor": "#E1E5ED",
         "showgrid": true,
         "tickfont": {
          "color": "#4D5663"
         },
         "title": {
          "font": {
           "color": "#4D5663"
          },
          "text": ""
         },
         "zerolinecolor": "#E1E5ED"
        },
        "xaxis2": {
         "anchor": "y2",
         "gridcolor": "#E1E5ED",
         "showgrid": true,
         "showticklabels": false,
         "tickfont": {
          "color": "#4D5663"
         },
         "title": {
          "font": {
           "color": "#4D5663"
          },
          "text": ""
         },
         "zerolinecolor": "#E1E5ED"
        },
        "yaxis": {
         "domain": [
          0.3,
          1
         ],
         "gridcolor": "#E1E5ED",
         "showgrid": true,
         "tickfont": {
          "color": "#4D5663"
         },
         "title": {
          "font": {
           "color": "#4D5663"
          },
          "text": ""
         },
         "zerolinecolor": "#E1E5ED"
        },
        "yaxis2": {
         "domain": [
          0,
          0.25
         ],
         "gridcolor": "#E1E5ED",
         "showgrid": true,
         "tickfont": {
          "color": "#4D5663"
         },
         "title": {
          "font": {
           "color": "#4D5663"
          },
          "text": "Spread"
         },
         "zerolinecolor": "#E1E5ED"
        }
       }
      },
      "text/html": [
       "<div>                            <div id=\"ea01fdc1-e83e-4a81-9bd3-ded0502c0104\" class=\"plotly-graph-div\" style=\"height:525px; width:100%;\"></div>            <script type=\"text/javascript\">                require([\"plotly\"], function(Plotly) {                    window.PLOTLYENV=window.PLOTLYENV || {};\n",
       "                    window.PLOTLYENV.BASE_URL='https://plot.ly';                                    if (document.getElementById(\"ea01fdc1-e83e-4a81-9bd3-ded0502c0104\")) {                    Plotly.newPlot(                        \"ea01fdc1-e83e-4a81-9bd3-ded0502c0104\",                        [{\"line\":{\"color\":\"rgba(255, 153, 51, 1.0)\",\"dash\":\"solid\",\"shape\":\"linear\",\"width\":1.3},\"mode\":\"lines\",\"name\":\"A\",\"text\":\"\",\"x\":[0,1,2,3,4,5,6,7,8,9,10,11,12,13,14,15,16,17,18,19,20,21,22,23,24,25,26,27,28,29,30,31,32,33,34,35,36,37,38,39,40,41,42,43,44,45,46,47,48,49,50,51,52,53,54,55,56,57,58,59,60,61,62,63,64,65,66,67,68,69,70,71,72,73,74,75,76,77,78,79,80,81,82,83,84,85,86,87,88,89,90,91,92,93,94,95,96,97,98,99],\"y\":[-1.3613958313944696,-1.7042221110976603,0.32985945180706433,2.5623890066126087,0.596708286995235,0.38800319766771085,2.1317524293432273,0.35760794338784785,-0.9628933232790114,0.38627088480549726,0.8896635293826508,-1.6302468945724502,0.07386680436135416,-1.1151510355216823,-0.6155421365917353,0.6275213279324287,-2.4556222736347264,-0.08383417273924389,1.847724973514263,0.64828877590923,0.430821002965215,0.0819772131258825,-0.6954113317997281,0.5538137837765824,0.10652690868782426,0.04367543362827007,-0.20957555068664904,-0.5725838163454393,-1.0763236563997898,1.04319273438166,0.09258642242772724,0.43225507242988825,-0.26869321023897175,0.041921896996645565,-0.32467323207099424,-0.7344957992000319,-0.9651885449086609,-0.6928258307206157,1.4808093570403447,-0.21072455136641977,-1.1143284029071931,0.8303048542893865,-1.5015722000932357,-0.29322894226469476,-0.23333041712316752,-0.168616155934447,-0.0271817210700922,1.872542104905962,-1.6977709989879104,0.414742769773524,2.071641724035386,0.5919031481223098,0.5820259839526,0.5214316695874449,-0.0832753383668695,-0.06956414481057287,1.2573832426419724,0.5715406037601274,-0.4846214406997435,-0.25372772850065495,0.28854050925277164,-0.9485596057710541,-1.373777834596028,0.27310234363151625,-0.9274567404138778,1.8607477689148155,-0.12484594696679062,-1.3439311228394724,-0.11484077135462872,0.8017107460689338,0.640775263433574,0.916133496593308,-0.5596523377142191,0.05929968987011562,1.1864731493239193,0.5611307949848579,0.800800212473385,-0.09951818454244196,0.06500464655182343,-1.3951425978495366,-1.5958720331315634,0.20369461892878676,-1.6652398198832319,1.3027571052385063,0.2238913383343826,0.7469083076274575,2.267347947251838,2.8703939957693745,0.8917597412888287,-0.7978904664063126,-0.23061901045987301,-0.9745725069408219,0.8032453264788344,0.3461516187280765,-0.3616850225889013,0.4820547726197181,0.8401747022821484,1.7080331076772783,0.6047580310416393,0.9732342431018266],\"type\":\"scatter\"},{\"line\":{\"color\":\"rgba(55, 128, 191, 1.0)\",\"dash\":\"solid\",\"shape\":\"linear\",\"width\":1.3},\"mode\":\"lines\",\"name\":\"B\",\"text\":\"\",\"x\":[0,1,2,3,4,5,6,7,8,9,10,11,12,13,14,15,16,17,18,19,20,21,22,23,24,25,26,27,28,29,30,31,32,33,34,35,36,37,38,39,40,41,42,43,44,45,46,47,48,49,50,51,52,53,54,55,56,57,58,59,60,61,62,63,64,65,66,67,68,69,70,71,72,73,74,75,76,77,78,79,80,81,82,83,84,85,86,87,88,89,90,91,92,93,94,95,96,97,98,99],\"y\":[0.5945775940443155,0.6607047336210673,-0.8437041903517836,-1.0196475922865398,-1.6451940305020725,-0.9446778062983598,0.05140155149481968,-0.8253283431547772,-0.5440246470940526,-0.16694991002148946,-0.12849130965374328,-1.0522802451600277,-0.943176486637258,0.6585327435913522,0.5076321513876402,-0.09621350675701539,0.06868110258768582,0.3476254929970094,-2.1431397484291086,-0.9387651609970239,1.4091397671983448,0.2926978088249191,-2.1235879008892145,0.36327572536982977,-0.848354295132973,-0.16446259168780344,1.2233453232620783,0.7067666690064024,1.335405255140897,-0.21415356728892843,2.135913148851817,-0.07745701729422907,0.3213178737468516,0.05789801136274323,1.4904483068863459,-0.27459455717721004,-0.6734311352156884,0.9048550556107424,-1.3906645263897837,0.20638710371462188,1.0700126783391883,0.6520912210548786,0.2613971111990068,0.7054751114868026,-2.241042310534278,-0.41284311642952093,-0.7961232428958736,0.1997007007933289,1.1901758428571312,-0.39554841374028377,-1.7551993694932317,-0.3486273764841329,1.1267606945858755,0.13012150884818804,0.6375379958536724,-0.7060441750522917,0.548794817445413,-0.9872537208030995,1.8331957173057893,0.26343275393885734,-1.6493315043256271,-0.7423158379419897,1.9854935315238043,-1.406987489252971,1.140856398857627,-0.2255926670844332,-0.02364392381469881,-0.3254822099227199,-0.6586788866254313,0.6624835540455175,-0.40596082091934554,0.43014499556221786,-0.9180661498922534,-0.4196048268973363,-0.9328704189872478,-0.6661886158711042,0.11929323686103088,0.22856068775428448,0.17743200548477933,1.1101163779191947,0.27385209562688806,-1.041666486628943,-0.042098019402314564,1.75048347226908,0.14845297679328504,-0.0903634355093191,0.7744733034147091,-0.42150008681574186,0.6772434890254551,1.3540059004049954,-0.9284870681669611,-0.7098539426580581,0.5124495849944696,-0.024446337603381302,-0.09090482641493863,2.53161705160511,0.8234278987271646,0.5317671802891296,-1.2733682617714959,1.1793118405149896],\"type\":\"scatter\"},{\"connectgaps\":false,\"fill\":\"tozeroy\",\"line\":{\"color\":\"green\",\"dash\":\"solid\",\"shape\":\"linear\",\"width\":0.5},\"mode\":\"lines\",\"name\":\"Spread\",\"showlegend\":false,\"x\":[0,1,2,3,4,5,6,7,8,9,10,11,12,13,14,15,16,17,18,19,20,21,22,23,24,25,26,27,28,29,30,31,32,33,34,35,36,37,38,39,40,41,42,43,44,45,46,47,48,49,50,51,52,53,54,55,56,57,58,59,60,61,62,63,64,65,66,67,68,69,70,71,72,73,74,75,76,77,78,79,80,81,82,83,84,85,86,87,88,89,90,91,92,93,94,95,96,97,98,99],\"xaxis\":\"x2\",\"y\":[\"\",\"\",1.173563642158848,3.5820365988991485,2.2419023174973076,1.3326810039660706,2.0803508778484074,1.182936286542625,\"\",0.5532207948269867,1.0181548390363941,\"\",1.017043290998612,\"\",\"\",0.723734834689444,\"\",\"\",3.9908647219433715,1.587053936906254,\"\",\"\",1.4281765690894863,0.19053805840675264,0.9548812038207972,0.2081380253160735,\"\",\"\",\"\",1.2573463016705886,\"\",0.5097120897241173,\"\",\"\",\"\",\"\",\"\",\"\",2.871473883430128,\"\",\"\",0.1782136332345079,\"\",\"\",2.0077118934111104,0.24422696049507392,0.7689415218257813,1.6728414041126332,\"\",0.8102911835138078,3.8268410935286177,0.9405305246064427,\"\",0.39131016073925684,\"\",0.6364800302417188,0.7085884251965594,1.5587943245632268,\"\",\"\",1.9378720135783989,\"\",\"\",1.6800898328844873,\"\",2.0863404359992486,\"\",\"\",0.5438381152708025,0.13922719202341627,1.0467360843529196,0.48598850103109015,0.35841381217803436,0.47890451676745194,2.119343568311167,1.2273194108559622,0.6815069756123541,\"\",\"\",\"\",\"\",1.2453611055577296,\"\",\"\",0.07543836154109756,0.8372717431367767,1.4928746438371288,3.291894082585116,0.21451625226337367,\"\",0.6978680577070882,\"\",0.2907957414843648,0.37059795633145776,\"\",\"\",0.016746803554983813,1.1762659273881488,1.878126292813135,\"\"],\"yaxis\":\"y2\",\"type\":\"scatter\"},{\"connectgaps\":false,\"fill\":\"tozeroy\",\"line\":{\"color\":\"red\",\"dash\":\"solid\",\"shape\":\"linear\",\"width\":0.5},\"mode\":\"lines\",\"name\":\"Spread\",\"showlegend\":false,\"x\":[0,1,2,3,4,5,6,7,8,9,10,11,12,13,14,15,16,17,18,19,20,21,22,23,24,25,26,27,28,29,30,31,32,33,34,35,36,37,38,39,40,41,42,43,44,45,46,47,48,49,50,51,52,53,54,55,56,57,58,59,60,61,62,63,64,65,66,67,68,69,70,71,72,73,74,75,76,77,78,79,80,81,82,83,84,85,86,87,88,89,90,91,92,93,94,95,96,97,98,99],\"xaxis\":\"x2\",\"y\":[-1.9559734254387853,-2.3649268447187275,\"\",\"\",\"\",\"\",\"\",\"\",-0.4188686761849588,\"\",\"\",-0.5779666494124225,\"\",-1.7736837791130344,-1.1231742879793756,\"\",-2.524303376222412,-0.4314596657362533,\"\",\"\",-0.9783187642331297,-0.21072059569903656,\"\",\"\",\"\",\"\",-1.4329208739487274,-1.2793504853518418,-2.4117289115406866,\"\",-2.0433267264240897,\"\",-0.5900110839858234,-0.015976114366097666,-1.81512153895734,-0.4599012420228219,-0.2917574096929725,-1.597680886331358,\"\",-0.41711165508104164,-2.1843410812463815,\"\",-1.7629693112922424,-0.9987040537514974,\"\",\"\",\"\",\"\",-2.8879468418450416,\"\",\"\",\"\",-0.5447347106332755,\"\",-0.720813334220542,\"\",\"\",\"\",-2.317817158005533,-0.5171604824395123,\"\",-0.2062437678290644,-3.3592713661198323,\"\",-2.068313139271505,\"\",-0.10120202315209181,-1.0184489129167524,\"\",\"\",\"\",\"\",\"\",\"\",\"\",\"\",\"\",-0.32807887229672644,-0.1124273589329559,-2.505258975768731,-1.8697241287584516,\"\",-1.6231418004809173,-0.4477263670305738,\"\",\"\",\"\",\"\",\"\",-2.151896366811308,\"\",-0.26471856428276375,\"\",\"\",-0.27078019617396265,-2.049562278985392,\"\",\"\",\"\",-0.206077597413163],\"yaxis\":\"y2\",\"type\":\"scatter\"}],                        {\"hovermode\":\"x\",\"legend\":{\"bgcolor\":\"#F5F6F9\",\"font\":{\"color\":\"#4D5663\"}},\"paper_bgcolor\":\"#F5F6F9\",\"plot_bgcolor\":\"#F5F6F9\",\"template\":{\"data\":{\"barpolar\":[{\"marker\":{\"line\":{\"color\":\"#E5ECF6\",\"width\":0.5},\"pattern\":{\"fillmode\":\"overlay\",\"size\":10,\"solidity\":0.2}},\"type\":\"barpolar\"}],\"bar\":[{\"error_x\":{\"color\":\"#2a3f5f\"},\"error_y\":{\"color\":\"#2a3f5f\"},\"marker\":{\"line\":{\"color\":\"#E5ECF6\",\"width\":0.5},\"pattern\":{\"fillmode\":\"overlay\",\"size\":10,\"solidity\":0.2}},\"type\":\"bar\"}],\"carpet\":[{\"aaxis\":{\"endlinecolor\":\"#2a3f5f\",\"gridcolor\":\"white\",\"linecolor\":\"white\",\"minorgridcolor\":\"white\",\"startlinecolor\":\"#2a3f5f\"},\"baxis\":{\"endlinecolor\":\"#2a3f5f\",\"gridcolor\":\"white\",\"linecolor\":\"white\",\"minorgridcolor\":\"white\",\"startlinecolor\":\"#2a3f5f\"},\"type\":\"carpet\"}],\"choropleth\":[{\"colorbar\":{\"outlinewidth\":0,\"ticks\":\"\"},\"type\":\"choropleth\"}],\"contourcarpet\":[{\"colorbar\":{\"outlinewidth\":0,\"ticks\":\"\"},\"type\":\"contourcarpet\"}],\"contour\":[{\"colorbar\":{\"outlinewidth\":0,\"ticks\":\"\"},\"colorscale\":[[0.0,\"#0d0887\"],[0.1111111111111111,\"#46039f\"],[0.2222222222222222,\"#7201a8\"],[0.3333333333333333,\"#9c179e\"],[0.4444444444444444,\"#bd3786\"],[0.5555555555555556,\"#d8576b\"],[0.6666666666666666,\"#ed7953\"],[0.7777777777777778,\"#fb9f3a\"],[0.8888888888888888,\"#fdca26\"],[1.0,\"#f0f921\"]],\"type\":\"contour\"}],\"heatmapgl\":[{\"colorbar\":{\"outlinewidth\":0,\"ticks\":\"\"},\"colorscale\":[[0.0,\"#0d0887\"],[0.1111111111111111,\"#46039f\"],[0.2222222222222222,\"#7201a8\"],[0.3333333333333333,\"#9c179e\"],[0.4444444444444444,\"#bd3786\"],[0.5555555555555556,\"#d8576b\"],[0.6666666666666666,\"#ed7953\"],[0.7777777777777778,\"#fb9f3a\"],[0.8888888888888888,\"#fdca26\"],[1.0,\"#f0f921\"]],\"type\":\"heatmapgl\"}],\"heatmap\":[{\"colorbar\":{\"outlinewidth\":0,\"ticks\":\"\"},\"colorscale\":[[0.0,\"#0d0887\"],[0.1111111111111111,\"#46039f\"],[0.2222222222222222,\"#7201a8\"],[0.3333333333333333,\"#9c179e\"],[0.4444444444444444,\"#bd3786\"],[0.5555555555555556,\"#d8576b\"],[0.6666666666666666,\"#ed7953\"],[0.7777777777777778,\"#fb9f3a\"],[0.8888888888888888,\"#fdca26\"],[1.0,\"#f0f921\"]],\"type\":\"heatmap\"}],\"histogram2dcontour\":[{\"colorbar\":{\"outlinewidth\":0,\"ticks\":\"\"},\"colorscale\":[[0.0,\"#0d0887\"],[0.1111111111111111,\"#46039f\"],[0.2222222222222222,\"#7201a8\"],[0.3333333333333333,\"#9c179e\"],[0.4444444444444444,\"#bd3786\"],[0.5555555555555556,\"#d8576b\"],[0.6666666666666666,\"#ed7953\"],[0.7777777777777778,\"#fb9f3a\"],[0.8888888888888888,\"#fdca26\"],[1.0,\"#f0f921\"]],\"type\":\"histogram2dcontour\"}],\"histogram2d\":[{\"colorbar\":{\"outlinewidth\":0,\"ticks\":\"\"},\"colorscale\":[[0.0,\"#0d0887\"],[0.1111111111111111,\"#46039f\"],[0.2222222222222222,\"#7201a8\"],[0.3333333333333333,\"#9c179e\"],[0.4444444444444444,\"#bd3786\"],[0.5555555555555556,\"#d8576b\"],[0.6666666666666666,\"#ed7953\"],[0.7777777777777778,\"#fb9f3a\"],[0.8888888888888888,\"#fdca26\"],[1.0,\"#f0f921\"]],\"type\":\"histogram2d\"}],\"histogram\":[{\"marker\":{\"pattern\":{\"fillmode\":\"overlay\",\"size\":10,\"solidity\":0.2}},\"type\":\"histogram\"}],\"mesh3d\":[{\"colorbar\":{\"outlinewidth\":0,\"ticks\":\"\"},\"type\":\"mesh3d\"}],\"parcoords\":[{\"line\":{\"colorbar\":{\"outlinewidth\":0,\"ticks\":\"\"}},\"type\":\"parcoords\"}],\"pie\":[{\"automargin\":true,\"type\":\"pie\"}],\"scatter3d\":[{\"line\":{\"colorbar\":{\"outlinewidth\":0,\"ticks\":\"\"}},\"marker\":{\"colorbar\":{\"outlinewidth\":0,\"ticks\":\"\"}},\"type\":\"scatter3d\"}],\"scattercarpet\":[{\"marker\":{\"colorbar\":{\"outlinewidth\":0,\"ticks\":\"\"}},\"type\":\"scattercarpet\"}],\"scattergeo\":[{\"marker\":{\"colorbar\":{\"outlinewidth\":0,\"ticks\":\"\"}},\"type\":\"scattergeo\"}],\"scattergl\":[{\"marker\":{\"colorbar\":{\"outlinewidth\":0,\"ticks\":\"\"}},\"type\":\"scattergl\"}],\"scattermapbox\":[{\"marker\":{\"colorbar\":{\"outlinewidth\":0,\"ticks\":\"\"}},\"type\":\"scattermapbox\"}],\"scatterpolargl\":[{\"marker\":{\"colorbar\":{\"outlinewidth\":0,\"ticks\":\"\"}},\"type\":\"scatterpolargl\"}],\"scatterpolar\":[{\"marker\":{\"colorbar\":{\"outlinewidth\":0,\"ticks\":\"\"}},\"type\":\"scatterpolar\"}],\"scatter\":[{\"marker\":{\"colorbar\":{\"outlinewidth\":0,\"ticks\":\"\"}},\"type\":\"scatter\"}],\"scatterternary\":[{\"marker\":{\"colorbar\":{\"outlinewidth\":0,\"ticks\":\"\"}},\"type\":\"scatterternary\"}],\"surface\":[{\"colorbar\":{\"outlinewidth\":0,\"ticks\":\"\"},\"colorscale\":[[0.0,\"#0d0887\"],[0.1111111111111111,\"#46039f\"],[0.2222222222222222,\"#7201a8\"],[0.3333333333333333,\"#9c179e\"],[0.4444444444444444,\"#bd3786\"],[0.5555555555555556,\"#d8576b\"],[0.6666666666666666,\"#ed7953\"],[0.7777777777777778,\"#fb9f3a\"],[0.8888888888888888,\"#fdca26\"],[1.0,\"#f0f921\"]],\"type\":\"surface\"}],\"table\":[{\"cells\":{\"fill\":{\"color\":\"#EBF0F8\"},\"line\":{\"color\":\"white\"}},\"header\":{\"fill\":{\"color\":\"#C8D4E3\"},\"line\":{\"color\":\"white\"}},\"type\":\"table\"}]},\"layout\":{\"annotationdefaults\":{\"arrowcolor\":\"#2a3f5f\",\"arrowhead\":0,\"arrowwidth\":1},\"autotypenumbers\":\"strict\",\"coloraxis\":{\"colorbar\":{\"outlinewidth\":0,\"ticks\":\"\"}},\"colorscale\":{\"diverging\":[[0,\"#8e0152\"],[0.1,\"#c51b7d\"],[0.2,\"#de77ae\"],[0.3,\"#f1b6da\"],[0.4,\"#fde0ef\"],[0.5,\"#f7f7f7\"],[0.6,\"#e6f5d0\"],[0.7,\"#b8e186\"],[0.8,\"#7fbc41\"],[0.9,\"#4d9221\"],[1,\"#276419\"]],\"sequential\":[[0.0,\"#0d0887\"],[0.1111111111111111,\"#46039f\"],[0.2222222222222222,\"#7201a8\"],[0.3333333333333333,\"#9c179e\"],[0.4444444444444444,\"#bd3786\"],[0.5555555555555556,\"#d8576b\"],[0.6666666666666666,\"#ed7953\"],[0.7777777777777778,\"#fb9f3a\"],[0.8888888888888888,\"#fdca26\"],[1.0,\"#f0f921\"]],\"sequentialminus\":[[0.0,\"#0d0887\"],[0.1111111111111111,\"#46039f\"],[0.2222222222222222,\"#7201a8\"],[0.3333333333333333,\"#9c179e\"],[0.4444444444444444,\"#bd3786\"],[0.5555555555555556,\"#d8576b\"],[0.6666666666666666,\"#ed7953\"],[0.7777777777777778,\"#fb9f3a\"],[0.8888888888888888,\"#fdca26\"],[1.0,\"#f0f921\"]]},\"colorway\":[\"#636efa\",\"#EF553B\",\"#00cc96\",\"#ab63fa\",\"#FFA15A\",\"#19d3f3\",\"#FF6692\",\"#B6E880\",\"#FF97FF\",\"#FECB52\"],\"font\":{\"color\":\"#2a3f5f\"},\"geo\":{\"bgcolor\":\"white\",\"lakecolor\":\"white\",\"landcolor\":\"#E5ECF6\",\"showlakes\":true,\"showland\":true,\"subunitcolor\":\"white\"},\"hoverlabel\":{\"align\":\"left\"},\"hovermode\":\"closest\",\"mapbox\":{\"style\":\"light\"},\"paper_bgcolor\":\"white\",\"plot_bgcolor\":\"#E5ECF6\",\"polar\":{\"angularaxis\":{\"gridcolor\":\"white\",\"linecolor\":\"white\",\"ticks\":\"\"},\"bgcolor\":\"#E5ECF6\",\"radialaxis\":{\"gridcolor\":\"white\",\"linecolor\":\"white\",\"ticks\":\"\"}},\"scene\":{\"xaxis\":{\"backgroundcolor\":\"#E5ECF6\",\"gridcolor\":\"white\",\"gridwidth\":2,\"linecolor\":\"white\",\"showbackground\":true,\"ticks\":\"\",\"zerolinecolor\":\"white\"},\"yaxis\":{\"backgroundcolor\":\"#E5ECF6\",\"gridcolor\":\"white\",\"gridwidth\":2,\"linecolor\":\"white\",\"showbackground\":true,\"ticks\":\"\",\"zerolinecolor\":\"white\"},\"zaxis\":{\"backgroundcolor\":\"#E5ECF6\",\"gridcolor\":\"white\",\"gridwidth\":2,\"linecolor\":\"white\",\"showbackground\":true,\"ticks\":\"\",\"zerolinecolor\":\"white\"}},\"shapedefaults\":{\"line\":{\"color\":\"#2a3f5f\"}},\"ternary\":{\"aaxis\":{\"gridcolor\":\"white\",\"linecolor\":\"white\",\"ticks\":\"\"},\"baxis\":{\"gridcolor\":\"white\",\"linecolor\":\"white\",\"ticks\":\"\"},\"bgcolor\":\"#E5ECF6\",\"caxis\":{\"gridcolor\":\"white\",\"linecolor\":\"white\",\"ticks\":\"\"}},\"title\":{\"x\":0.05},\"xaxis\":{\"automargin\":true,\"gridcolor\":\"white\",\"linecolor\":\"white\",\"ticks\":\"\",\"title\":{\"standoff\":15},\"zerolinecolor\":\"white\",\"zerolinewidth\":2},\"yaxis\":{\"automargin\":true,\"gridcolor\":\"white\",\"linecolor\":\"white\",\"ticks\":\"\",\"title\":{\"standoff\":15},\"zerolinecolor\":\"white\",\"zerolinewidth\":2}}},\"title\":{\"font\":{\"color\":\"#4D5663\"}},\"xaxis\":{\"gridcolor\":\"#E1E5ED\",\"showgrid\":true,\"tickfont\":{\"color\":\"#4D5663\"},\"title\":{\"font\":{\"color\":\"#4D5663\"},\"text\":\"\"},\"zerolinecolor\":\"#E1E5ED\"},\"yaxis\":{\"domain\":[0.3,1],\"gridcolor\":\"#E1E5ED\",\"showgrid\":true,\"tickfont\":{\"color\":\"#4D5663\"},\"title\":{\"font\":{\"color\":\"#4D5663\"},\"text\":\"\"},\"zerolinecolor\":\"#E1E5ED\"},\"yaxis2\":{\"domain\":[0,0.25],\"gridcolor\":\"#E1E5ED\",\"showgrid\":true,\"tickfont\":{\"color\":\"#4D5663\"},\"title\":{\"font\":{\"color\":\"#4D5663\"},\"text\":\"Spread\"},\"zerolinecolor\":\"#E1E5ED\"},\"xaxis2\":{\"anchor\":\"y2\",\"gridcolor\":\"#E1E5ED\",\"showgrid\":true,\"showticklabels\":false,\"tickfont\":{\"color\":\"#4D5663\"},\"title\":{\"font\":{\"color\":\"#4D5663\"},\"text\":\"\"},\"zerolinecolor\":\"#E1E5ED\"}},                        {\"showLink\": true, \"linkText\": \"Export to plot.ly\", \"plotlyServerURL\": \"https://plot.ly\", \"responsive\": true}                    ).then(function(){\n",
       "                            \n",
       "var gd = document.getElementById('ea01fdc1-e83e-4a81-9bd3-ded0502c0104');\n",
       "var x = new MutationObserver(function (mutations, observer) {{\n",
       "        var display = window.getComputedStyle(gd).display;\n",
       "        if (!display || display === 'none') {{\n",
       "            console.log([gd, 'removed!']);\n",
       "            Plotly.purge(gd);\n",
       "            observer.disconnect();\n",
       "        }}\n",
       "}});\n",
       "\n",
       "// Listen for the removal of the full notebook cells\n",
       "var notebookContainer = gd.closest('#notebook-container');\n",
       "if (notebookContainer) {{\n",
       "    x.observe(notebookContainer, {childList: true});\n",
       "}}\n",
       "\n",
       "// Listen for the clearing of the current output cell\n",
       "var outputEl = gd.closest('.output');\n",
       "if (outputEl) {{\n",
       "    x.observe(outputEl, {childList: true});\n",
       "}}\n",
       "\n",
       "                        })                };                });            </script>        </div>"
      ]
     },
     "metadata": {},
     "output_type": "display_data"
    }
   ],
   "source": [
    "df[['A','B']].iplot(kind='spread')"
   ]
  },
  {
   "cell_type": "markdown",
   "metadata": {},
   "source": [
    "## histogram"
   ]
  },
  {
   "cell_type": "code",
   "execution_count": 18,
   "metadata": {},
   "outputs": [
    {
     "data": {
      "application/vnd.plotly.v1+json": {
       "config": {
        "linkText": "Export to plot.ly",
        "plotlyServerURL": "https://plot.ly",
        "showLink": true
       },
       "data": [
        {
         "histfunc": "count",
         "histnorm": "",
         "marker": {
          "color": "rgba(255, 153, 51, 1.0)",
          "line": {
           "color": "#4D5663",
           "width": 1.3
          }
         },
         "name": "A",
         "nbinsx": 25,
         "opacity": 0.8,
         "orientation": "v",
         "type": "histogram",
         "x": [
          0.9772529650350968,
          0.5218543729070486,
          -1.3425139027153372,
          -0.05968356667477004,
          0.24086815280399745,
          -1.1957452750168351,
          -0.08736966178246539,
          0.18009465087374535,
          0.512243583584234,
          -0.6371363112717048,
          1.2443262778106092,
          0.791202106727671,
          -1.6256779578875453,
          -0.7243046739135806,
          2.0163625014039877,
          0.9753987594437837,
          -0.07390514834813688,
          -0.2024596128214472,
          0.5923843778745538,
          0.678796032042731,
          -0.6363720223064253,
          0.06496861018889219,
          -1.2100102604045566,
          -0.013360272881807508,
          1.794877271519686,
          -0.7224598288359991,
          -0.29906084071357086,
          -0.8912571088317855,
          -0.46584313608482464,
          -0.6882413919972891,
          0.3079827157745628,
          -0.8255652302452776,
          1.9574725990085684,
          -0.2526877691367265,
          0.07539985788774975,
          -0.39069290520673045,
          0.1052357852615328,
          0.15958547172864915,
          0.7624911985102074,
          0.2044917965927145,
          1.2364757226460792,
          0.9844501052457368,
          0.9795933705716623,
          0.9656172541445607,
          0.7984613185429534,
          -0.31879838713084346,
          -0.2211780849142802,
          1.2330415670872872,
          0.9770354600032393,
          -0.6415066151771763,
          0.6134527509100443,
          0.19729006206632116,
          0.8874492070213218,
          0.3337259453809492,
          -0.5463984445333802,
          -0.455996414199671,
          -2.0580361094423023,
          3.381674053066615,
          -1.1366621822686953,
          0.7447885541103118,
          -0.5705971042451976,
          0.3343406551250657,
          -2.2582422766705315,
          1.447534518129494,
          -0.16495236544310013,
          0.8076122116698414,
          0.2719706049023909,
          1.9924740417907814,
          -0.01944140469513046,
          1.3502425502153055,
          -0.27636349866641563,
          -0.49966340781958557,
          0.10491312172505367,
          0.6781354154037323,
          1.3191234412912474,
          0.1147419140978155,
          -0.5338285920957705,
          0.8183177454197698,
          0.20453625705143474,
          -0.48516951297920824,
          -0.30436438553366446,
          0.23705375221620864,
          0.26833263142911373,
          1.271155900698707,
          1.7491368764367385,
          -0.37603404281219305,
          -0.0797561534323506,
          -1.440578173961911,
          1.5701202008294266,
          0.2906986884234425,
          -0.2304088911901656,
          0.6432755130200528,
          -0.7486141025136326,
          1.1785804083139362,
          0.446897875290842,
          -0.3529696223043142,
          -0.2243348521355656,
          1.9473415438312296,
          -0.36828542344963616,
          -0.16310864128344058
         ]
        }
       ],
       "layout": {
        "barmode": "overlay",
        "legend": {
         "bgcolor": "#F5F6F9",
         "font": {
          "color": "#4D5663"
         }
        },
        "paper_bgcolor": "#F5F6F9",
        "plot_bgcolor": "#F5F6F9",
        "template": {
         "data": {
          "bar": [
           {
            "error_x": {
             "color": "#2a3f5f"
            },
            "error_y": {
             "color": "#2a3f5f"
            },
            "marker": {
             "line": {
              "color": "#E5ECF6",
              "width": 0.5
             },
             "pattern": {
              "fillmode": "overlay",
              "size": 10,
              "solidity": 0.2
             }
            },
            "type": "bar"
           }
          ],
          "barpolar": [
           {
            "marker": {
             "line": {
              "color": "#E5ECF6",
              "width": 0.5
             },
             "pattern": {
              "fillmode": "overlay",
              "size": 10,
              "solidity": 0.2
             }
            },
            "type": "barpolar"
           }
          ],
          "carpet": [
           {
            "aaxis": {
             "endlinecolor": "#2a3f5f",
             "gridcolor": "white",
             "linecolor": "white",
             "minorgridcolor": "white",
             "startlinecolor": "#2a3f5f"
            },
            "baxis": {
             "endlinecolor": "#2a3f5f",
             "gridcolor": "white",
             "linecolor": "white",
             "minorgridcolor": "white",
             "startlinecolor": "#2a3f5f"
            },
            "type": "carpet"
           }
          ],
          "choropleth": [
           {
            "colorbar": {
             "outlinewidth": 0,
             "ticks": ""
            },
            "type": "choropleth"
           }
          ],
          "contour": [
           {
            "colorbar": {
             "outlinewidth": 0,
             "ticks": ""
            },
            "colorscale": [
             [
              0,
              "#0d0887"
             ],
             [
              0.1111111111111111,
              "#46039f"
             ],
             [
              0.2222222222222222,
              "#7201a8"
             ],
             [
              0.3333333333333333,
              "#9c179e"
             ],
             [
              0.4444444444444444,
              "#bd3786"
             ],
             [
              0.5555555555555556,
              "#d8576b"
             ],
             [
              0.6666666666666666,
              "#ed7953"
             ],
             [
              0.7777777777777778,
              "#fb9f3a"
             ],
             [
              0.8888888888888888,
              "#fdca26"
             ],
             [
              1,
              "#f0f921"
             ]
            ],
            "type": "contour"
           }
          ],
          "contourcarpet": [
           {
            "colorbar": {
             "outlinewidth": 0,
             "ticks": ""
            },
            "type": "contourcarpet"
           }
          ],
          "heatmap": [
           {
            "colorbar": {
             "outlinewidth": 0,
             "ticks": ""
            },
            "colorscale": [
             [
              0,
              "#0d0887"
             ],
             [
              0.1111111111111111,
              "#46039f"
             ],
             [
              0.2222222222222222,
              "#7201a8"
             ],
             [
              0.3333333333333333,
              "#9c179e"
             ],
             [
              0.4444444444444444,
              "#bd3786"
             ],
             [
              0.5555555555555556,
              "#d8576b"
             ],
             [
              0.6666666666666666,
              "#ed7953"
             ],
             [
              0.7777777777777778,
              "#fb9f3a"
             ],
             [
              0.8888888888888888,
              "#fdca26"
             ],
             [
              1,
              "#f0f921"
             ]
            ],
            "type": "heatmap"
           }
          ],
          "heatmapgl": [
           {
            "colorbar": {
             "outlinewidth": 0,
             "ticks": ""
            },
            "colorscale": [
             [
              0,
              "#0d0887"
             ],
             [
              0.1111111111111111,
              "#46039f"
             ],
             [
              0.2222222222222222,
              "#7201a8"
             ],
             [
              0.3333333333333333,
              "#9c179e"
             ],
             [
              0.4444444444444444,
              "#bd3786"
             ],
             [
              0.5555555555555556,
              "#d8576b"
             ],
             [
              0.6666666666666666,
              "#ed7953"
             ],
             [
              0.7777777777777778,
              "#fb9f3a"
             ],
             [
              0.8888888888888888,
              "#fdca26"
             ],
             [
              1,
              "#f0f921"
             ]
            ],
            "type": "heatmapgl"
           }
          ],
          "histogram": [
           {
            "marker": {
             "pattern": {
              "fillmode": "overlay",
              "size": 10,
              "solidity": 0.2
             }
            },
            "type": "histogram"
           }
          ],
          "histogram2d": [
           {
            "colorbar": {
             "outlinewidth": 0,
             "ticks": ""
            },
            "colorscale": [
             [
              0,
              "#0d0887"
             ],
             [
              0.1111111111111111,
              "#46039f"
             ],
             [
              0.2222222222222222,
              "#7201a8"
             ],
             [
              0.3333333333333333,
              "#9c179e"
             ],
             [
              0.4444444444444444,
              "#bd3786"
             ],
             [
              0.5555555555555556,
              "#d8576b"
             ],
             [
              0.6666666666666666,
              "#ed7953"
             ],
             [
              0.7777777777777778,
              "#fb9f3a"
             ],
             [
              0.8888888888888888,
              "#fdca26"
             ],
             [
              1,
              "#f0f921"
             ]
            ],
            "type": "histogram2d"
           }
          ],
          "histogram2dcontour": [
           {
            "colorbar": {
             "outlinewidth": 0,
             "ticks": ""
            },
            "colorscale": [
             [
              0,
              "#0d0887"
             ],
             [
              0.1111111111111111,
              "#46039f"
             ],
             [
              0.2222222222222222,
              "#7201a8"
             ],
             [
              0.3333333333333333,
              "#9c179e"
             ],
             [
              0.4444444444444444,
              "#bd3786"
             ],
             [
              0.5555555555555556,
              "#d8576b"
             ],
             [
              0.6666666666666666,
              "#ed7953"
             ],
             [
              0.7777777777777778,
              "#fb9f3a"
             ],
             [
              0.8888888888888888,
              "#fdca26"
             ],
             [
              1,
              "#f0f921"
             ]
            ],
            "type": "histogram2dcontour"
           }
          ],
          "mesh3d": [
           {
            "colorbar": {
             "outlinewidth": 0,
             "ticks": ""
            },
            "type": "mesh3d"
           }
          ],
          "parcoords": [
           {
            "line": {
             "colorbar": {
              "outlinewidth": 0,
              "ticks": ""
             }
            },
            "type": "parcoords"
           }
          ],
          "pie": [
           {
            "automargin": true,
            "type": "pie"
           }
          ],
          "scatter": [
           {
            "marker": {
             "colorbar": {
              "outlinewidth": 0,
              "ticks": ""
             }
            },
            "type": "scatter"
           }
          ],
          "scatter3d": [
           {
            "line": {
             "colorbar": {
              "outlinewidth": 0,
              "ticks": ""
             }
            },
            "marker": {
             "colorbar": {
              "outlinewidth": 0,
              "ticks": ""
             }
            },
            "type": "scatter3d"
           }
          ],
          "scattercarpet": [
           {
            "marker": {
             "colorbar": {
              "outlinewidth": 0,
              "ticks": ""
             }
            },
            "type": "scattercarpet"
           }
          ],
          "scattergeo": [
           {
            "marker": {
             "colorbar": {
              "outlinewidth": 0,
              "ticks": ""
             }
            },
            "type": "scattergeo"
           }
          ],
          "scattergl": [
           {
            "marker": {
             "colorbar": {
              "outlinewidth": 0,
              "ticks": ""
             }
            },
            "type": "scattergl"
           }
          ],
          "scattermapbox": [
           {
            "marker": {
             "colorbar": {
              "outlinewidth": 0,
              "ticks": ""
             }
            },
            "type": "scattermapbox"
           }
          ],
          "scatterpolar": [
           {
            "marker": {
             "colorbar": {
              "outlinewidth": 0,
              "ticks": ""
             }
            },
            "type": "scatterpolar"
           }
          ],
          "scatterpolargl": [
           {
            "marker": {
             "colorbar": {
              "outlinewidth": 0,
              "ticks": ""
             }
            },
            "type": "scatterpolargl"
           }
          ],
          "scatterternary": [
           {
            "marker": {
             "colorbar": {
              "outlinewidth": 0,
              "ticks": ""
             }
            },
            "type": "scatterternary"
           }
          ],
          "surface": [
           {
            "colorbar": {
             "outlinewidth": 0,
             "ticks": ""
            },
            "colorscale": [
             [
              0,
              "#0d0887"
             ],
             [
              0.1111111111111111,
              "#46039f"
             ],
             [
              0.2222222222222222,
              "#7201a8"
             ],
             [
              0.3333333333333333,
              "#9c179e"
             ],
             [
              0.4444444444444444,
              "#bd3786"
             ],
             [
              0.5555555555555556,
              "#d8576b"
             ],
             [
              0.6666666666666666,
              "#ed7953"
             ],
             [
              0.7777777777777778,
              "#fb9f3a"
             ],
             [
              0.8888888888888888,
              "#fdca26"
             ],
             [
              1,
              "#f0f921"
             ]
            ],
            "type": "surface"
           }
          ],
          "table": [
           {
            "cells": {
             "fill": {
              "color": "#EBF0F8"
             },
             "line": {
              "color": "white"
             }
            },
            "header": {
             "fill": {
              "color": "#C8D4E3"
             },
             "line": {
              "color": "white"
             }
            },
            "type": "table"
           }
          ]
         },
         "layout": {
          "annotationdefaults": {
           "arrowcolor": "#2a3f5f",
           "arrowhead": 0,
           "arrowwidth": 1
          },
          "autotypenumbers": "strict",
          "coloraxis": {
           "colorbar": {
            "outlinewidth": 0,
            "ticks": ""
           }
          },
          "colorscale": {
           "diverging": [
            [
             0,
             "#8e0152"
            ],
            [
             0.1,
             "#c51b7d"
            ],
            [
             0.2,
             "#de77ae"
            ],
            [
             0.3,
             "#f1b6da"
            ],
            [
             0.4,
             "#fde0ef"
            ],
            [
             0.5,
             "#f7f7f7"
            ],
            [
             0.6,
             "#e6f5d0"
            ],
            [
             0.7,
             "#b8e186"
            ],
            [
             0.8,
             "#7fbc41"
            ],
            [
             0.9,
             "#4d9221"
            ],
            [
             1,
             "#276419"
            ]
           ],
           "sequential": [
            [
             0,
             "#0d0887"
            ],
            [
             0.1111111111111111,
             "#46039f"
            ],
            [
             0.2222222222222222,
             "#7201a8"
            ],
            [
             0.3333333333333333,
             "#9c179e"
            ],
            [
             0.4444444444444444,
             "#bd3786"
            ],
            [
             0.5555555555555556,
             "#d8576b"
            ],
            [
             0.6666666666666666,
             "#ed7953"
            ],
            [
             0.7777777777777778,
             "#fb9f3a"
            ],
            [
             0.8888888888888888,
             "#fdca26"
            ],
            [
             1,
             "#f0f921"
            ]
           ],
           "sequentialminus": [
            [
             0,
             "#0d0887"
            ],
            [
             0.1111111111111111,
             "#46039f"
            ],
            [
             0.2222222222222222,
             "#7201a8"
            ],
            [
             0.3333333333333333,
             "#9c179e"
            ],
            [
             0.4444444444444444,
             "#bd3786"
            ],
            [
             0.5555555555555556,
             "#d8576b"
            ],
            [
             0.6666666666666666,
             "#ed7953"
            ],
            [
             0.7777777777777778,
             "#fb9f3a"
            ],
            [
             0.8888888888888888,
             "#fdca26"
            ],
            [
             1,
             "#f0f921"
            ]
           ]
          },
          "colorway": [
           "#636efa",
           "#EF553B",
           "#00cc96",
           "#ab63fa",
           "#FFA15A",
           "#19d3f3",
           "#FF6692",
           "#B6E880",
           "#FF97FF",
           "#FECB52"
          ],
          "font": {
           "color": "#2a3f5f"
          },
          "geo": {
           "bgcolor": "white",
           "lakecolor": "white",
           "landcolor": "#E5ECF6",
           "showlakes": true,
           "showland": true,
           "subunitcolor": "white"
          },
          "hoverlabel": {
           "align": "left"
          },
          "hovermode": "closest",
          "mapbox": {
           "style": "light"
          },
          "paper_bgcolor": "white",
          "plot_bgcolor": "#E5ECF6",
          "polar": {
           "angularaxis": {
            "gridcolor": "white",
            "linecolor": "white",
            "ticks": ""
           },
           "bgcolor": "#E5ECF6",
           "radialaxis": {
            "gridcolor": "white",
            "linecolor": "white",
            "ticks": ""
           }
          },
          "scene": {
           "xaxis": {
            "backgroundcolor": "#E5ECF6",
            "gridcolor": "white",
            "gridwidth": 2,
            "linecolor": "white",
            "showbackground": true,
            "ticks": "",
            "zerolinecolor": "white"
           },
           "yaxis": {
            "backgroundcolor": "#E5ECF6",
            "gridcolor": "white",
            "gridwidth": 2,
            "linecolor": "white",
            "showbackground": true,
            "ticks": "",
            "zerolinecolor": "white"
           },
           "zaxis": {
            "backgroundcolor": "#E5ECF6",
            "gridcolor": "white",
            "gridwidth": 2,
            "linecolor": "white",
            "showbackground": true,
            "ticks": "",
            "zerolinecolor": "white"
           }
          },
          "shapedefaults": {
           "line": {
            "color": "#2a3f5f"
           }
          },
          "ternary": {
           "aaxis": {
            "gridcolor": "white",
            "linecolor": "white",
            "ticks": ""
           },
           "baxis": {
            "gridcolor": "white",
            "linecolor": "white",
            "ticks": ""
           },
           "bgcolor": "#E5ECF6",
           "caxis": {
            "gridcolor": "white",
            "linecolor": "white",
            "ticks": ""
           }
          },
          "title": {
           "x": 0.05
          },
          "xaxis": {
           "automargin": true,
           "gridcolor": "white",
           "linecolor": "white",
           "ticks": "",
           "title": {
            "standoff": 15
           },
           "zerolinecolor": "white",
           "zerolinewidth": 2
          },
          "yaxis": {
           "automargin": true,
           "gridcolor": "white",
           "linecolor": "white",
           "ticks": "",
           "title": {
            "standoff": 15
           },
           "zerolinecolor": "white",
           "zerolinewidth": 2
          }
         }
        },
        "title": {
         "font": {
          "color": "#4D5663"
         }
        },
        "xaxis": {
         "gridcolor": "#E1E5ED",
         "showgrid": true,
         "tickfont": {
          "color": "#4D5663"
         },
         "title": {
          "font": {
           "color": "#4D5663"
          },
          "text": ""
         },
         "zerolinecolor": "#E1E5ED"
        },
        "yaxis": {
         "gridcolor": "#E1E5ED",
         "showgrid": true,
         "tickfont": {
          "color": "#4D5663"
         },
         "title": {
          "font": {
           "color": "#4D5663"
          },
          "text": ""
         },
         "zerolinecolor": "#E1E5ED"
        }
       }
      },
      "text/html": [
       "<div>                            <div id=\"71cbc6d9-4e8a-4b93-94a7-2241defa5948\" class=\"plotly-graph-div\" style=\"height:525px; width:100%;\"></div>            <script type=\"text/javascript\">                require([\"plotly\"], function(Plotly) {                    window.PLOTLYENV=window.PLOTLYENV || {};\n",
       "                    window.PLOTLYENV.BASE_URL='https://plot.ly';                                    if (document.getElementById(\"71cbc6d9-4e8a-4b93-94a7-2241defa5948\")) {                    Plotly.newPlot(                        \"71cbc6d9-4e8a-4b93-94a7-2241defa5948\",                        [{\"histfunc\":\"count\",\"histnorm\":\"\",\"marker\":{\"color\":\"rgba(255, 153, 51, 1.0)\",\"line\":{\"color\":\"#4D5663\",\"width\":1.3}},\"name\":\"A\",\"nbinsx\":25,\"opacity\":0.8,\"orientation\":\"v\",\"x\":[0.9772529650350968,0.5218543729070486,-1.3425139027153372,-0.05968356667477004,0.24086815280399745,-1.1957452750168351,-0.08736966178246539,0.18009465087374535,0.512243583584234,-0.6371363112717048,1.2443262778106092,0.791202106727671,-1.6256779578875453,-0.7243046739135806,2.0163625014039877,0.9753987594437837,-0.07390514834813688,-0.2024596128214472,0.5923843778745538,0.678796032042731,-0.6363720223064253,0.06496861018889219,-1.2100102604045566,-0.013360272881807508,1.794877271519686,-0.7224598288359991,-0.29906084071357086,-0.8912571088317855,-0.46584313608482464,-0.6882413919972891,0.3079827157745628,-0.8255652302452776,1.9574725990085684,-0.2526877691367265,0.07539985788774975,-0.39069290520673045,0.1052357852615328,0.15958547172864915,0.7624911985102074,0.2044917965927145,1.2364757226460792,0.9844501052457368,0.9795933705716623,0.9656172541445607,0.7984613185429534,-0.31879838713084346,-0.2211780849142802,1.2330415670872872,0.9770354600032393,-0.6415066151771763,0.6134527509100443,0.19729006206632116,0.8874492070213218,0.3337259453809492,-0.5463984445333802,-0.455996414199671,-2.0580361094423023,3.381674053066615,-1.1366621822686953,0.7447885541103118,-0.5705971042451976,0.3343406551250657,-2.2582422766705315,1.447534518129494,-0.16495236544310013,0.8076122116698414,0.2719706049023909,1.9924740417907814,-0.01944140469513046,1.3502425502153055,-0.27636349866641563,-0.49966340781958557,0.10491312172505367,0.6781354154037323,1.3191234412912474,0.1147419140978155,-0.5338285920957705,0.8183177454197698,0.20453625705143474,-0.48516951297920824,-0.30436438553366446,0.23705375221620864,0.26833263142911373,1.271155900698707,1.7491368764367385,-0.37603404281219305,-0.0797561534323506,-1.440578173961911,1.5701202008294266,0.2906986884234425,-0.2304088911901656,0.6432755130200528,-0.7486141025136326,1.1785804083139362,0.446897875290842,-0.3529696223043142,-0.2243348521355656,1.9473415438312296,-0.36828542344963616,-0.16310864128344058],\"type\":\"histogram\"}],                        {\"barmode\":\"overlay\",\"legend\":{\"bgcolor\":\"#F5F6F9\",\"font\":{\"color\":\"#4D5663\"}},\"paper_bgcolor\":\"#F5F6F9\",\"plot_bgcolor\":\"#F5F6F9\",\"template\":{\"data\":{\"barpolar\":[{\"marker\":{\"line\":{\"color\":\"#E5ECF6\",\"width\":0.5},\"pattern\":{\"fillmode\":\"overlay\",\"size\":10,\"solidity\":0.2}},\"type\":\"barpolar\"}],\"bar\":[{\"error_x\":{\"color\":\"#2a3f5f\"},\"error_y\":{\"color\":\"#2a3f5f\"},\"marker\":{\"line\":{\"color\":\"#E5ECF6\",\"width\":0.5},\"pattern\":{\"fillmode\":\"overlay\",\"size\":10,\"solidity\":0.2}},\"type\":\"bar\"}],\"carpet\":[{\"aaxis\":{\"endlinecolor\":\"#2a3f5f\",\"gridcolor\":\"white\",\"linecolor\":\"white\",\"minorgridcolor\":\"white\",\"startlinecolor\":\"#2a3f5f\"},\"baxis\":{\"endlinecolor\":\"#2a3f5f\",\"gridcolor\":\"white\",\"linecolor\":\"white\",\"minorgridcolor\":\"white\",\"startlinecolor\":\"#2a3f5f\"},\"type\":\"carpet\"}],\"choropleth\":[{\"colorbar\":{\"outlinewidth\":0,\"ticks\":\"\"},\"type\":\"choropleth\"}],\"contourcarpet\":[{\"colorbar\":{\"outlinewidth\":0,\"ticks\":\"\"},\"type\":\"contourcarpet\"}],\"contour\":[{\"colorbar\":{\"outlinewidth\":0,\"ticks\":\"\"},\"colorscale\":[[0.0,\"#0d0887\"],[0.1111111111111111,\"#46039f\"],[0.2222222222222222,\"#7201a8\"],[0.3333333333333333,\"#9c179e\"],[0.4444444444444444,\"#bd3786\"],[0.5555555555555556,\"#d8576b\"],[0.6666666666666666,\"#ed7953\"],[0.7777777777777778,\"#fb9f3a\"],[0.8888888888888888,\"#fdca26\"],[1.0,\"#f0f921\"]],\"type\":\"contour\"}],\"heatmapgl\":[{\"colorbar\":{\"outlinewidth\":0,\"ticks\":\"\"},\"colorscale\":[[0.0,\"#0d0887\"],[0.1111111111111111,\"#46039f\"],[0.2222222222222222,\"#7201a8\"],[0.3333333333333333,\"#9c179e\"],[0.4444444444444444,\"#bd3786\"],[0.5555555555555556,\"#d8576b\"],[0.6666666666666666,\"#ed7953\"],[0.7777777777777778,\"#fb9f3a\"],[0.8888888888888888,\"#fdca26\"],[1.0,\"#f0f921\"]],\"type\":\"heatmapgl\"}],\"heatmap\":[{\"colorbar\":{\"outlinewidth\":0,\"ticks\":\"\"},\"colorscale\":[[0.0,\"#0d0887\"],[0.1111111111111111,\"#46039f\"],[0.2222222222222222,\"#7201a8\"],[0.3333333333333333,\"#9c179e\"],[0.4444444444444444,\"#bd3786\"],[0.5555555555555556,\"#d8576b\"],[0.6666666666666666,\"#ed7953\"],[0.7777777777777778,\"#fb9f3a\"],[0.8888888888888888,\"#fdca26\"],[1.0,\"#f0f921\"]],\"type\":\"heatmap\"}],\"histogram2dcontour\":[{\"colorbar\":{\"outlinewidth\":0,\"ticks\":\"\"},\"colorscale\":[[0.0,\"#0d0887\"],[0.1111111111111111,\"#46039f\"],[0.2222222222222222,\"#7201a8\"],[0.3333333333333333,\"#9c179e\"],[0.4444444444444444,\"#bd3786\"],[0.5555555555555556,\"#d8576b\"],[0.6666666666666666,\"#ed7953\"],[0.7777777777777778,\"#fb9f3a\"],[0.8888888888888888,\"#fdca26\"],[1.0,\"#f0f921\"]],\"type\":\"histogram2dcontour\"}],\"histogram2d\":[{\"colorbar\":{\"outlinewidth\":0,\"ticks\":\"\"},\"colorscale\":[[0.0,\"#0d0887\"],[0.1111111111111111,\"#46039f\"],[0.2222222222222222,\"#7201a8\"],[0.3333333333333333,\"#9c179e\"],[0.4444444444444444,\"#bd3786\"],[0.5555555555555556,\"#d8576b\"],[0.6666666666666666,\"#ed7953\"],[0.7777777777777778,\"#fb9f3a\"],[0.8888888888888888,\"#fdca26\"],[1.0,\"#f0f921\"]],\"type\":\"histogram2d\"}],\"histogram\":[{\"marker\":{\"pattern\":{\"fillmode\":\"overlay\",\"size\":10,\"solidity\":0.2}},\"type\":\"histogram\"}],\"mesh3d\":[{\"colorbar\":{\"outlinewidth\":0,\"ticks\":\"\"},\"type\":\"mesh3d\"}],\"parcoords\":[{\"line\":{\"colorbar\":{\"outlinewidth\":0,\"ticks\":\"\"}},\"type\":\"parcoords\"}],\"pie\":[{\"automargin\":true,\"type\":\"pie\"}],\"scatter3d\":[{\"line\":{\"colorbar\":{\"outlinewidth\":0,\"ticks\":\"\"}},\"marker\":{\"colorbar\":{\"outlinewidth\":0,\"ticks\":\"\"}},\"type\":\"scatter3d\"}],\"scattercarpet\":[{\"marker\":{\"colorbar\":{\"outlinewidth\":0,\"ticks\":\"\"}},\"type\":\"scattercarpet\"}],\"scattergeo\":[{\"marker\":{\"colorbar\":{\"outlinewidth\":0,\"ticks\":\"\"}},\"type\":\"scattergeo\"}],\"scattergl\":[{\"marker\":{\"colorbar\":{\"outlinewidth\":0,\"ticks\":\"\"}},\"type\":\"scattergl\"}],\"scattermapbox\":[{\"marker\":{\"colorbar\":{\"outlinewidth\":0,\"ticks\":\"\"}},\"type\":\"scattermapbox\"}],\"scatterpolargl\":[{\"marker\":{\"colorbar\":{\"outlinewidth\":0,\"ticks\":\"\"}},\"type\":\"scatterpolargl\"}],\"scatterpolar\":[{\"marker\":{\"colorbar\":{\"outlinewidth\":0,\"ticks\":\"\"}},\"type\":\"scatterpolar\"}],\"scatter\":[{\"marker\":{\"colorbar\":{\"outlinewidth\":0,\"ticks\":\"\"}},\"type\":\"scatter\"}],\"scatterternary\":[{\"marker\":{\"colorbar\":{\"outlinewidth\":0,\"ticks\":\"\"}},\"type\":\"scatterternary\"}],\"surface\":[{\"colorbar\":{\"outlinewidth\":0,\"ticks\":\"\"},\"colorscale\":[[0.0,\"#0d0887\"],[0.1111111111111111,\"#46039f\"],[0.2222222222222222,\"#7201a8\"],[0.3333333333333333,\"#9c179e\"],[0.4444444444444444,\"#bd3786\"],[0.5555555555555556,\"#d8576b\"],[0.6666666666666666,\"#ed7953\"],[0.7777777777777778,\"#fb9f3a\"],[0.8888888888888888,\"#fdca26\"],[1.0,\"#f0f921\"]],\"type\":\"surface\"}],\"table\":[{\"cells\":{\"fill\":{\"color\":\"#EBF0F8\"},\"line\":{\"color\":\"white\"}},\"header\":{\"fill\":{\"color\":\"#C8D4E3\"},\"line\":{\"color\":\"white\"}},\"type\":\"table\"}]},\"layout\":{\"annotationdefaults\":{\"arrowcolor\":\"#2a3f5f\",\"arrowhead\":0,\"arrowwidth\":1},\"autotypenumbers\":\"strict\",\"coloraxis\":{\"colorbar\":{\"outlinewidth\":0,\"ticks\":\"\"}},\"colorscale\":{\"diverging\":[[0,\"#8e0152\"],[0.1,\"#c51b7d\"],[0.2,\"#de77ae\"],[0.3,\"#f1b6da\"],[0.4,\"#fde0ef\"],[0.5,\"#f7f7f7\"],[0.6,\"#e6f5d0\"],[0.7,\"#b8e186\"],[0.8,\"#7fbc41\"],[0.9,\"#4d9221\"],[1,\"#276419\"]],\"sequential\":[[0.0,\"#0d0887\"],[0.1111111111111111,\"#46039f\"],[0.2222222222222222,\"#7201a8\"],[0.3333333333333333,\"#9c179e\"],[0.4444444444444444,\"#bd3786\"],[0.5555555555555556,\"#d8576b\"],[0.6666666666666666,\"#ed7953\"],[0.7777777777777778,\"#fb9f3a\"],[0.8888888888888888,\"#fdca26\"],[1.0,\"#f0f921\"]],\"sequentialminus\":[[0.0,\"#0d0887\"],[0.1111111111111111,\"#46039f\"],[0.2222222222222222,\"#7201a8\"],[0.3333333333333333,\"#9c179e\"],[0.4444444444444444,\"#bd3786\"],[0.5555555555555556,\"#d8576b\"],[0.6666666666666666,\"#ed7953\"],[0.7777777777777778,\"#fb9f3a\"],[0.8888888888888888,\"#fdca26\"],[1.0,\"#f0f921\"]]},\"colorway\":[\"#636efa\",\"#EF553B\",\"#00cc96\",\"#ab63fa\",\"#FFA15A\",\"#19d3f3\",\"#FF6692\",\"#B6E880\",\"#FF97FF\",\"#FECB52\"],\"font\":{\"color\":\"#2a3f5f\"},\"geo\":{\"bgcolor\":\"white\",\"lakecolor\":\"white\",\"landcolor\":\"#E5ECF6\",\"showlakes\":true,\"showland\":true,\"subunitcolor\":\"white\"},\"hoverlabel\":{\"align\":\"left\"},\"hovermode\":\"closest\",\"mapbox\":{\"style\":\"light\"},\"paper_bgcolor\":\"white\",\"plot_bgcolor\":\"#E5ECF6\",\"polar\":{\"angularaxis\":{\"gridcolor\":\"white\",\"linecolor\":\"white\",\"ticks\":\"\"},\"bgcolor\":\"#E5ECF6\",\"radialaxis\":{\"gridcolor\":\"white\",\"linecolor\":\"white\",\"ticks\":\"\"}},\"scene\":{\"xaxis\":{\"backgroundcolor\":\"#E5ECF6\",\"gridcolor\":\"white\",\"gridwidth\":2,\"linecolor\":\"white\",\"showbackground\":true,\"ticks\":\"\",\"zerolinecolor\":\"white\"},\"yaxis\":{\"backgroundcolor\":\"#E5ECF6\",\"gridcolor\":\"white\",\"gridwidth\":2,\"linecolor\":\"white\",\"showbackground\":true,\"ticks\":\"\",\"zerolinecolor\":\"white\"},\"zaxis\":{\"backgroundcolor\":\"#E5ECF6\",\"gridcolor\":\"white\",\"gridwidth\":2,\"linecolor\":\"white\",\"showbackground\":true,\"ticks\":\"\",\"zerolinecolor\":\"white\"}},\"shapedefaults\":{\"line\":{\"color\":\"#2a3f5f\"}},\"ternary\":{\"aaxis\":{\"gridcolor\":\"white\",\"linecolor\":\"white\",\"ticks\":\"\"},\"baxis\":{\"gridcolor\":\"white\",\"linecolor\":\"white\",\"ticks\":\"\"},\"bgcolor\":\"#E5ECF6\",\"caxis\":{\"gridcolor\":\"white\",\"linecolor\":\"white\",\"ticks\":\"\"}},\"title\":{\"x\":0.05},\"xaxis\":{\"automargin\":true,\"gridcolor\":\"white\",\"linecolor\":\"white\",\"ticks\":\"\",\"title\":{\"standoff\":15},\"zerolinecolor\":\"white\",\"zerolinewidth\":2},\"yaxis\":{\"automargin\":true,\"gridcolor\":\"white\",\"linecolor\":\"white\",\"ticks\":\"\",\"title\":{\"standoff\":15},\"zerolinecolor\":\"white\",\"zerolinewidth\":2}}},\"title\":{\"font\":{\"color\":\"#4D5663\"}},\"xaxis\":{\"gridcolor\":\"#E1E5ED\",\"showgrid\":true,\"tickfont\":{\"color\":\"#4D5663\"},\"title\":{\"font\":{\"color\":\"#4D5663\"},\"text\":\"\"},\"zerolinecolor\":\"#E1E5ED\"},\"yaxis\":{\"gridcolor\":\"#E1E5ED\",\"showgrid\":true,\"tickfont\":{\"color\":\"#4D5663\"},\"title\":{\"font\":{\"color\":\"#4D5663\"},\"text\":\"\"},\"zerolinecolor\":\"#E1E5ED\"}},                        {\"showLink\": true, \"linkText\": \"Export to plot.ly\", \"plotlyServerURL\": \"https://plot.ly\", \"responsive\": true}                    ).then(function(){\n",
       "                            \n",
       "var gd = document.getElementById('71cbc6d9-4e8a-4b93-94a7-2241defa5948');\n",
       "var x = new MutationObserver(function (mutations, observer) {{\n",
       "        var display = window.getComputedStyle(gd).display;\n",
       "        if (!display || display === 'none') {{\n",
       "            console.log([gd, 'removed!']);\n",
       "            Plotly.purge(gd);\n",
       "            observer.disconnect();\n",
       "        }}\n",
       "}});\n",
       "\n",
       "// Listen for the removal of the full notebook cells\n",
       "var notebookContainer = gd.closest('#notebook-container');\n",
       "if (notebookContainer) {{\n",
       "    x.observe(notebookContainer, {childList: true});\n",
       "}}\n",
       "\n",
       "// Listen for the clearing of the current output cell\n",
       "var outputEl = gd.closest('.output');\n",
       "if (outputEl) {{\n",
       "    x.observe(outputEl, {childList: true});\n",
       "}}\n",
       "\n",
       "                        })                };                });            </script>        </div>"
      ]
     },
     "metadata": {},
     "output_type": "display_data"
    }
   ],
   "source": [
    "df['A'].iplot(kind='hist',bins=25)"
   ]
  },
  {
   "cell_type": "code",
   "execution_count": 19,
   "metadata": {},
   "outputs": [
    {
     "data": {
      "application/vnd.plotly.v1+json": {
       "config": {
        "linkText": "Export to plot.ly",
        "plotlyServerURL": "https://plot.ly",
        "showLink": true
       },
       "data": [
        {
         "marker": {
          "color": [
           "rgb(255, 153, 51)",
           "rgb(55, 128, 191)",
           "rgb(50, 171, 96)",
           "rgb(128, 0, 128)",
           "rgb(219, 64, 82)",
           "rgb(0, 128, 128)",
           "rgb(255, 255, 51)",
           "rgb(128, 128, 0)",
           "rgb(251, 128, 114)",
           "rgb(128, 177, 211)"
          ],
          "line": {
           "width": 1.3
          },
          "size": [
           57,
           59,
           57,
           83,
           12,
           70,
           67,
           72,
           54,
           78,
           72,
           112,
           62,
           48,
           43,
           58,
           64,
           47,
           35,
           34,
           64,
           52,
           45,
           71,
           60,
           15,
           74,
           60,
           73,
           77,
           46,
           75,
           42,
           68,
           67,
           78,
           77,
           75,
           26,
           95,
           93,
           58,
           79,
           60,
           52,
           40,
           64,
           44,
           23,
           59,
           61,
           82,
           35,
           45,
           61,
           96,
           55,
           67,
           68,
           52,
           35,
           33,
           29,
           50,
           43,
           67,
           70,
           30,
           65,
           55,
           41,
           22,
           52,
           64,
           58,
           66,
           67,
           54,
           59,
           34,
           62,
           87,
           68,
           33,
           102,
           79,
           84,
           58,
           101,
           68,
           86,
           68,
           41,
           51,
           68,
           68,
           65,
           85,
           55,
           71
          ],
          "symbol": "circle"
         },
         "mode": "markers",
         "text": "",
         "type": "scatter",
         "x": [
          0.9772529650350968,
          0.5218543729070486,
          -1.3425139027153372,
          -0.05968356667477004,
          0.24086815280399745,
          -1.1957452750168351,
          -0.08736966178246539,
          0.18009465087374535,
          0.512243583584234,
          -0.6371363112717048,
          1.2443262778106092,
          0.791202106727671,
          -1.6256779578875453,
          -0.7243046739135806,
          2.0163625014039877,
          0.9753987594437837,
          -0.07390514834813688,
          -0.2024596128214472,
          0.5923843778745538,
          0.678796032042731,
          -0.6363720223064253,
          0.06496861018889219,
          -1.2100102604045566,
          -0.013360272881807508,
          1.794877271519686,
          -0.7224598288359991,
          -0.29906084071357086,
          -0.8912571088317855,
          -0.46584313608482464,
          -0.6882413919972891,
          0.3079827157745628,
          -0.8255652302452776,
          1.9574725990085684,
          -0.2526877691367265,
          0.07539985788774975,
          -0.39069290520673045,
          0.1052357852615328,
          0.15958547172864915,
          0.7624911985102074,
          0.2044917965927145,
          1.2364757226460792,
          0.9844501052457368,
          0.9795933705716623,
          0.9656172541445607,
          0.7984613185429534,
          -0.31879838713084346,
          -0.2211780849142802,
          1.2330415670872872,
          0.9770354600032393,
          -0.6415066151771763,
          0.6134527509100443,
          0.19729006206632116,
          0.8874492070213218,
          0.3337259453809492,
          -0.5463984445333802,
          -0.455996414199671,
          -2.0580361094423023,
          3.381674053066615,
          -1.1366621822686953,
          0.7447885541103118,
          -0.5705971042451976,
          0.3343406551250657,
          -2.2582422766705315,
          1.447534518129494,
          -0.16495236544310013,
          0.8076122116698414,
          0.2719706049023909,
          1.9924740417907814,
          -0.01944140469513046,
          1.3502425502153055,
          -0.27636349866641563,
          -0.49966340781958557,
          0.10491312172505367,
          0.6781354154037323,
          1.3191234412912474,
          0.1147419140978155,
          -0.5338285920957705,
          0.8183177454197698,
          0.20453625705143474,
          -0.48516951297920824,
          -0.30436438553366446,
          0.23705375221620864,
          0.26833263142911373,
          1.271155900698707,
          1.7491368764367385,
          -0.37603404281219305,
          -0.0797561534323506,
          -1.440578173961911,
          1.5701202008294266,
          0.2906986884234425,
          -0.2304088911901656,
          0.6432755130200528,
          -0.7486141025136326,
          1.1785804083139362,
          0.446897875290842,
          -0.3529696223043142,
          -0.2243348521355656,
          1.9473415438312296,
          -0.36828542344963616,
          -0.16310864128344058
         ],
         "y": [
          1.627388172473467,
          -0.8055067503825576,
          -1.8482576626966893,
          -2.9508607787893504,
          -0.32335265753489617,
          0.34396454509112384,
          0.0748057306504219,
          -1.8613842333289714,
          -1.3054652244299114,
          -1.3950506650475032,
          -1.1909701866128817,
          -0.05600815639471173,
          -0.5220511445209809,
          1.7492337790952306,
          -0.30286042790837125,
          -0.5580053043644606,
          -0.6197392766868668,
          1.023399305708221,
          -0.41677319052226636,
          2.192760839374185,
          -1.1161176336915652,
          -1.354754603690455,
          -0.18704357075833125,
          -0.17703127653905834,
          -0.5993704874414364,
          -0.6031010592370301,
          -0.8988267617328992,
          -0.8729996927258223,
          0.04349488140203181,
          1.60947917489961,
          0.34925259655212826,
          0.6781613116198999,
          -0.03427721363269522,
          0.17477742791449075,
          -0.2004842888242854,
          -1.6276521435903657,
          0.5692665300316379,
          1.671766451463639,
          -0.4217916920003711,
          0.39696041791866643,
          0.013317925282218058,
          -0.05556788618969299,
          0.2866084770378429,
          -2.1326375060042717,
          -0.1615151310401847,
          -2.1594687872988834,
          0.5562396695236108,
          -1.8767688706543055,
          0.06462746376191478,
          0.7248550736349361,
          1.0337482553746316,
          -1.1933360704841973,
          -2.022229691502361,
          0.15446421559972934,
          -0.7865937458726904,
          1.2071813089588264,
          0.473669013265368,
          2.1895861468746367,
          1.054067862100585,
          -0.6768707755074235,
          0.18993852777003314,
          -1.0913452911843,
          0.49682186900742054,
          -0.7161427147264142,
          0.09276153992295592,
          -0.25963221710747514,
          -1.1090280610525889,
          -0.7998864525525252,
          -0.8098890761466924,
          -0.20105621016424333,
          0.1770344320014994,
          0.3390029444408896,
          0.2616794294084994,
          0.6663677877948193,
          0.9533830725866774,
          -1.7362341026178667,
          0.8675164031016456,
          -1.5675430085627995,
          0.37211122103752325,
          -0.20081859338787414,
          -0.12706689419031494,
          -0.888116580743796,
          0.27249834505445314,
          0.38168853201009584,
          -0.2607787387898964,
          -1.5795945729236718,
          1.0318911512090052,
          -1.5119880807061745,
          1.3931692810587257,
          1.2485317772084956,
          0.3060318753194821,
          0.06058482990039677,
          2.2533512860350666,
          1.007225023983177,
          -1.9024510000280583,
          -0.5030995515955998,
          -0.0911785905444012,
          -0.629844471944149,
          0.02239790860322817,
          -0.9432430696669399
         ]
        }
       ],
       "layout": {
        "legend": {
         "bgcolor": "#F5F6F9",
         "font": {
          "color": "#4D5663"
         }
        },
        "paper_bgcolor": "#F5F6F9",
        "plot_bgcolor": "#F5F6F9",
        "template": {
         "data": {
          "bar": [
           {
            "error_x": {
             "color": "#2a3f5f"
            },
            "error_y": {
             "color": "#2a3f5f"
            },
            "marker": {
             "line": {
              "color": "#E5ECF6",
              "width": 0.5
             },
             "pattern": {
              "fillmode": "overlay",
              "size": 10,
              "solidity": 0.2
             }
            },
            "type": "bar"
           }
          ],
          "barpolar": [
           {
            "marker": {
             "line": {
              "color": "#E5ECF6",
              "width": 0.5
             },
             "pattern": {
              "fillmode": "overlay",
              "size": 10,
              "solidity": 0.2
             }
            },
            "type": "barpolar"
           }
          ],
          "carpet": [
           {
            "aaxis": {
             "endlinecolor": "#2a3f5f",
             "gridcolor": "white",
             "linecolor": "white",
             "minorgridcolor": "white",
             "startlinecolor": "#2a3f5f"
            },
            "baxis": {
             "endlinecolor": "#2a3f5f",
             "gridcolor": "white",
             "linecolor": "white",
             "minorgridcolor": "white",
             "startlinecolor": "#2a3f5f"
            },
            "type": "carpet"
           }
          ],
          "choropleth": [
           {
            "colorbar": {
             "outlinewidth": 0,
             "ticks": ""
            },
            "type": "choropleth"
           }
          ],
          "contour": [
           {
            "colorbar": {
             "outlinewidth": 0,
             "ticks": ""
            },
            "colorscale": [
             [
              0,
              "#0d0887"
             ],
             [
              0.1111111111111111,
              "#46039f"
             ],
             [
              0.2222222222222222,
              "#7201a8"
             ],
             [
              0.3333333333333333,
              "#9c179e"
             ],
             [
              0.4444444444444444,
              "#bd3786"
             ],
             [
              0.5555555555555556,
              "#d8576b"
             ],
             [
              0.6666666666666666,
              "#ed7953"
             ],
             [
              0.7777777777777778,
              "#fb9f3a"
             ],
             [
              0.8888888888888888,
              "#fdca26"
             ],
             [
              1,
              "#f0f921"
             ]
            ],
            "type": "contour"
           }
          ],
          "contourcarpet": [
           {
            "colorbar": {
             "outlinewidth": 0,
             "ticks": ""
            },
            "type": "contourcarpet"
           }
          ],
          "heatmap": [
           {
            "colorbar": {
             "outlinewidth": 0,
             "ticks": ""
            },
            "colorscale": [
             [
              0,
              "#0d0887"
             ],
             [
              0.1111111111111111,
              "#46039f"
             ],
             [
              0.2222222222222222,
              "#7201a8"
             ],
             [
              0.3333333333333333,
              "#9c179e"
             ],
             [
              0.4444444444444444,
              "#bd3786"
             ],
             [
              0.5555555555555556,
              "#d8576b"
             ],
             [
              0.6666666666666666,
              "#ed7953"
             ],
             [
              0.7777777777777778,
              "#fb9f3a"
             ],
             [
              0.8888888888888888,
              "#fdca26"
             ],
             [
              1,
              "#f0f921"
             ]
            ],
            "type": "heatmap"
           }
          ],
          "heatmapgl": [
           {
            "colorbar": {
             "outlinewidth": 0,
             "ticks": ""
            },
            "colorscale": [
             [
              0,
              "#0d0887"
             ],
             [
              0.1111111111111111,
              "#46039f"
             ],
             [
              0.2222222222222222,
              "#7201a8"
             ],
             [
              0.3333333333333333,
              "#9c179e"
             ],
             [
              0.4444444444444444,
              "#bd3786"
             ],
             [
              0.5555555555555556,
              "#d8576b"
             ],
             [
              0.6666666666666666,
              "#ed7953"
             ],
             [
              0.7777777777777778,
              "#fb9f3a"
             ],
             [
              0.8888888888888888,
              "#fdca26"
             ],
             [
              1,
              "#f0f921"
             ]
            ],
            "type": "heatmapgl"
           }
          ],
          "histogram": [
           {
            "marker": {
             "pattern": {
              "fillmode": "overlay",
              "size": 10,
              "solidity": 0.2
             }
            },
            "type": "histogram"
           }
          ],
          "histogram2d": [
           {
            "colorbar": {
             "outlinewidth": 0,
             "ticks": ""
            },
            "colorscale": [
             [
              0,
              "#0d0887"
             ],
             [
              0.1111111111111111,
              "#46039f"
             ],
             [
              0.2222222222222222,
              "#7201a8"
             ],
             [
              0.3333333333333333,
              "#9c179e"
             ],
             [
              0.4444444444444444,
              "#bd3786"
             ],
             [
              0.5555555555555556,
              "#d8576b"
             ],
             [
              0.6666666666666666,
              "#ed7953"
             ],
             [
              0.7777777777777778,
              "#fb9f3a"
             ],
             [
              0.8888888888888888,
              "#fdca26"
             ],
             [
              1,
              "#f0f921"
             ]
            ],
            "type": "histogram2d"
           }
          ],
          "histogram2dcontour": [
           {
            "colorbar": {
             "outlinewidth": 0,
             "ticks": ""
            },
            "colorscale": [
             [
              0,
              "#0d0887"
             ],
             [
              0.1111111111111111,
              "#46039f"
             ],
             [
              0.2222222222222222,
              "#7201a8"
             ],
             [
              0.3333333333333333,
              "#9c179e"
             ],
             [
              0.4444444444444444,
              "#bd3786"
             ],
             [
              0.5555555555555556,
              "#d8576b"
             ],
             [
              0.6666666666666666,
              "#ed7953"
             ],
             [
              0.7777777777777778,
              "#fb9f3a"
             ],
             [
              0.8888888888888888,
              "#fdca26"
             ],
             [
              1,
              "#f0f921"
             ]
            ],
            "type": "histogram2dcontour"
           }
          ],
          "mesh3d": [
           {
            "colorbar": {
             "outlinewidth": 0,
             "ticks": ""
            },
            "type": "mesh3d"
           }
          ],
          "parcoords": [
           {
            "line": {
             "colorbar": {
              "outlinewidth": 0,
              "ticks": ""
             }
            },
            "type": "parcoords"
           }
          ],
          "pie": [
           {
            "automargin": true,
            "type": "pie"
           }
          ],
          "scatter": [
           {
            "marker": {
             "colorbar": {
              "outlinewidth": 0,
              "ticks": ""
             }
            },
            "type": "scatter"
           }
          ],
          "scatter3d": [
           {
            "line": {
             "colorbar": {
              "outlinewidth": 0,
              "ticks": ""
             }
            },
            "marker": {
             "colorbar": {
              "outlinewidth": 0,
              "ticks": ""
             }
            },
            "type": "scatter3d"
           }
          ],
          "scattercarpet": [
           {
            "marker": {
             "colorbar": {
              "outlinewidth": 0,
              "ticks": ""
             }
            },
            "type": "scattercarpet"
           }
          ],
          "scattergeo": [
           {
            "marker": {
             "colorbar": {
              "outlinewidth": 0,
              "ticks": ""
             }
            },
            "type": "scattergeo"
           }
          ],
          "scattergl": [
           {
            "marker": {
             "colorbar": {
              "outlinewidth": 0,
              "ticks": ""
             }
            },
            "type": "scattergl"
           }
          ],
          "scattermapbox": [
           {
            "marker": {
             "colorbar": {
              "outlinewidth": 0,
              "ticks": ""
             }
            },
            "type": "scattermapbox"
           }
          ],
          "scatterpolar": [
           {
            "marker": {
             "colorbar": {
              "outlinewidth": 0,
              "ticks": ""
             }
            },
            "type": "scatterpolar"
           }
          ],
          "scatterpolargl": [
           {
            "marker": {
             "colorbar": {
              "outlinewidth": 0,
              "ticks": ""
             }
            },
            "type": "scatterpolargl"
           }
          ],
          "scatterternary": [
           {
            "marker": {
             "colorbar": {
              "outlinewidth": 0,
              "ticks": ""
             }
            },
            "type": "scatterternary"
           }
          ],
          "surface": [
           {
            "colorbar": {
             "outlinewidth": 0,
             "ticks": ""
            },
            "colorscale": [
             [
              0,
              "#0d0887"
             ],
             [
              0.1111111111111111,
              "#46039f"
             ],
             [
              0.2222222222222222,
              "#7201a8"
             ],
             [
              0.3333333333333333,
              "#9c179e"
             ],
             [
              0.4444444444444444,
              "#bd3786"
             ],
             [
              0.5555555555555556,
              "#d8576b"
             ],
             [
              0.6666666666666666,
              "#ed7953"
             ],
             [
              0.7777777777777778,
              "#fb9f3a"
             ],
             [
              0.8888888888888888,
              "#fdca26"
             ],
             [
              1,
              "#f0f921"
             ]
            ],
            "type": "surface"
           }
          ],
          "table": [
           {
            "cells": {
             "fill": {
              "color": "#EBF0F8"
             },
             "line": {
              "color": "white"
             }
            },
            "header": {
             "fill": {
              "color": "#C8D4E3"
             },
             "line": {
              "color": "white"
             }
            },
            "type": "table"
           }
          ]
         },
         "layout": {
          "annotationdefaults": {
           "arrowcolor": "#2a3f5f",
           "arrowhead": 0,
           "arrowwidth": 1
          },
          "autotypenumbers": "strict",
          "coloraxis": {
           "colorbar": {
            "outlinewidth": 0,
            "ticks": ""
           }
          },
          "colorscale": {
           "diverging": [
            [
             0,
             "#8e0152"
            ],
            [
             0.1,
             "#c51b7d"
            ],
            [
             0.2,
             "#de77ae"
            ],
            [
             0.3,
             "#f1b6da"
            ],
            [
             0.4,
             "#fde0ef"
            ],
            [
             0.5,
             "#f7f7f7"
            ],
            [
             0.6,
             "#e6f5d0"
            ],
            [
             0.7,
             "#b8e186"
            ],
            [
             0.8,
             "#7fbc41"
            ],
            [
             0.9,
             "#4d9221"
            ],
            [
             1,
             "#276419"
            ]
           ],
           "sequential": [
            [
             0,
             "#0d0887"
            ],
            [
             0.1111111111111111,
             "#46039f"
            ],
            [
             0.2222222222222222,
             "#7201a8"
            ],
            [
             0.3333333333333333,
             "#9c179e"
            ],
            [
             0.4444444444444444,
             "#bd3786"
            ],
            [
             0.5555555555555556,
             "#d8576b"
            ],
            [
             0.6666666666666666,
             "#ed7953"
            ],
            [
             0.7777777777777778,
             "#fb9f3a"
            ],
            [
             0.8888888888888888,
             "#fdca26"
            ],
            [
             1,
             "#f0f921"
            ]
           ],
           "sequentialminus": [
            [
             0,
             "#0d0887"
            ],
            [
             0.1111111111111111,
             "#46039f"
            ],
            [
             0.2222222222222222,
             "#7201a8"
            ],
            [
             0.3333333333333333,
             "#9c179e"
            ],
            [
             0.4444444444444444,
             "#bd3786"
            ],
            [
             0.5555555555555556,
             "#d8576b"
            ],
            [
             0.6666666666666666,
             "#ed7953"
            ],
            [
             0.7777777777777778,
             "#fb9f3a"
            ],
            [
             0.8888888888888888,
             "#fdca26"
            ],
            [
             1,
             "#f0f921"
            ]
           ]
          },
          "colorway": [
           "#636efa",
           "#EF553B",
           "#00cc96",
           "#ab63fa",
           "#FFA15A",
           "#19d3f3",
           "#FF6692",
           "#B6E880",
           "#FF97FF",
           "#FECB52"
          ],
          "font": {
           "color": "#2a3f5f"
          },
          "geo": {
           "bgcolor": "white",
           "lakecolor": "white",
           "landcolor": "#E5ECF6",
           "showlakes": true,
           "showland": true,
           "subunitcolor": "white"
          },
          "hoverlabel": {
           "align": "left"
          },
          "hovermode": "closest",
          "mapbox": {
           "style": "light"
          },
          "paper_bgcolor": "white",
          "plot_bgcolor": "#E5ECF6",
          "polar": {
           "angularaxis": {
            "gridcolor": "white",
            "linecolor": "white",
            "ticks": ""
           },
           "bgcolor": "#E5ECF6",
           "radialaxis": {
            "gridcolor": "white",
            "linecolor": "white",
            "ticks": ""
           }
          },
          "scene": {
           "xaxis": {
            "backgroundcolor": "#E5ECF6",
            "gridcolor": "white",
            "gridwidth": 2,
            "linecolor": "white",
            "showbackground": true,
            "ticks": "",
            "zerolinecolor": "white"
           },
           "yaxis": {
            "backgroundcolor": "#E5ECF6",
            "gridcolor": "white",
            "gridwidth": 2,
            "linecolor": "white",
            "showbackground": true,
            "ticks": "",
            "zerolinecolor": "white"
           },
           "zaxis": {
            "backgroundcolor": "#E5ECF6",
            "gridcolor": "white",
            "gridwidth": 2,
            "linecolor": "white",
            "showbackground": true,
            "ticks": "",
            "zerolinecolor": "white"
           }
          },
          "shapedefaults": {
           "line": {
            "color": "#2a3f5f"
           }
          },
          "ternary": {
           "aaxis": {
            "gridcolor": "white",
            "linecolor": "white",
            "ticks": ""
           },
           "baxis": {
            "gridcolor": "white",
            "linecolor": "white",
            "ticks": ""
           },
           "bgcolor": "#E5ECF6",
           "caxis": {
            "gridcolor": "white",
            "linecolor": "white",
            "ticks": ""
           }
          },
          "title": {
           "x": 0.05
          },
          "xaxis": {
           "automargin": true,
           "gridcolor": "white",
           "linecolor": "white",
           "ticks": "",
           "title": {
            "standoff": 15
           },
           "zerolinecolor": "white",
           "zerolinewidth": 2
          },
          "yaxis": {
           "automargin": true,
           "gridcolor": "white",
           "linecolor": "white",
           "ticks": "",
           "title": {
            "standoff": 15
           },
           "zerolinecolor": "white",
           "zerolinewidth": 2
          }
         }
        },
        "title": {
         "font": {
          "color": "#4D5663"
         }
        },
        "xaxis": {
         "gridcolor": "#E1E5ED",
         "showgrid": true,
         "tickfont": {
          "color": "#4D5663"
         },
         "title": {
          "font": {
           "color": "#4D5663"
          },
          "text": ""
         },
         "zerolinecolor": "#E1E5ED"
        },
        "yaxis": {
         "gridcolor": "#E1E5ED",
         "showgrid": true,
         "tickfont": {
          "color": "#4D5663"
         },
         "title": {
          "font": {
           "color": "#4D5663"
          },
          "text": ""
         },
         "zerolinecolor": "#E1E5ED"
        }
       }
      },
      "text/html": [
       "<div>                            <div id=\"87d73435-2e68-457c-8be3-cfb33c1a8615\" class=\"plotly-graph-div\" style=\"height:525px; width:100%;\"></div>            <script type=\"text/javascript\">                require([\"plotly\"], function(Plotly) {                    window.PLOTLYENV=window.PLOTLYENV || {};\n",
       "                    window.PLOTLYENV.BASE_URL='https://plot.ly';                                    if (document.getElementById(\"87d73435-2e68-457c-8be3-cfb33c1a8615\")) {                    Plotly.newPlot(                        \"87d73435-2e68-457c-8be3-cfb33c1a8615\",                        [{\"marker\":{\"color\":[\"rgb(255, 153, 51)\",\"rgb(55, 128, 191)\",\"rgb(50, 171, 96)\",\"rgb(128, 0, 128)\",\"rgb(219, 64, 82)\",\"rgb(0, 128, 128)\",\"rgb(255, 255, 51)\",\"rgb(128, 128, 0)\",\"rgb(251, 128, 114)\",\"rgb(128, 177, 211)\"],\"line\":{\"width\":1.3},\"size\":[57,59,57,83,12,70,67,72,54,78,72,112,62,48,43,58,64,47,35,34,64,52,45,71,60,15,74,60,73,77,46,75,42,68,67,78,77,75,26,95,93,58,79,60,52,40,64,44,23,59,61,82,35,45,61,96,55,67,68,52,35,33,29,50,43,67,70,30,65,55,41,22,52,64,58,66,67,54,59,34,62,87,68,33,102,79,84,58,101,68,86,68,41,51,68,68,65,85,55,71],\"symbol\":\"circle\"},\"mode\":\"markers\",\"text\":\"\",\"x\":[0.9772529650350968,0.5218543729070486,-1.3425139027153372,-0.05968356667477004,0.24086815280399745,-1.1957452750168351,-0.08736966178246539,0.18009465087374535,0.512243583584234,-0.6371363112717048,1.2443262778106092,0.791202106727671,-1.6256779578875453,-0.7243046739135806,2.0163625014039877,0.9753987594437837,-0.07390514834813688,-0.2024596128214472,0.5923843778745538,0.678796032042731,-0.6363720223064253,0.06496861018889219,-1.2100102604045566,-0.013360272881807508,1.794877271519686,-0.7224598288359991,-0.29906084071357086,-0.8912571088317855,-0.46584313608482464,-0.6882413919972891,0.3079827157745628,-0.8255652302452776,1.9574725990085684,-0.2526877691367265,0.07539985788774975,-0.39069290520673045,0.1052357852615328,0.15958547172864915,0.7624911985102074,0.2044917965927145,1.2364757226460792,0.9844501052457368,0.9795933705716623,0.9656172541445607,0.7984613185429534,-0.31879838713084346,-0.2211780849142802,1.2330415670872872,0.9770354600032393,-0.6415066151771763,0.6134527509100443,0.19729006206632116,0.8874492070213218,0.3337259453809492,-0.5463984445333802,-0.455996414199671,-2.0580361094423023,3.381674053066615,-1.1366621822686953,0.7447885541103118,-0.5705971042451976,0.3343406551250657,-2.2582422766705315,1.447534518129494,-0.16495236544310013,0.8076122116698414,0.2719706049023909,1.9924740417907814,-0.01944140469513046,1.3502425502153055,-0.27636349866641563,-0.49966340781958557,0.10491312172505367,0.6781354154037323,1.3191234412912474,0.1147419140978155,-0.5338285920957705,0.8183177454197698,0.20453625705143474,-0.48516951297920824,-0.30436438553366446,0.23705375221620864,0.26833263142911373,1.271155900698707,1.7491368764367385,-0.37603404281219305,-0.0797561534323506,-1.440578173961911,1.5701202008294266,0.2906986884234425,-0.2304088911901656,0.6432755130200528,-0.7486141025136326,1.1785804083139362,0.446897875290842,-0.3529696223043142,-0.2243348521355656,1.9473415438312296,-0.36828542344963616,-0.16310864128344058],\"y\":[1.627388172473467,-0.8055067503825576,-1.8482576626966893,-2.9508607787893504,-0.32335265753489617,0.34396454509112384,0.0748057306504219,-1.8613842333289714,-1.3054652244299114,-1.3950506650475032,-1.1909701866128817,-0.05600815639471173,-0.5220511445209809,1.7492337790952306,-0.30286042790837125,-0.5580053043644606,-0.6197392766868668,1.023399305708221,-0.41677319052226636,2.192760839374185,-1.1161176336915652,-1.354754603690455,-0.18704357075833125,-0.17703127653905834,-0.5993704874414364,-0.6031010592370301,-0.8988267617328992,-0.8729996927258223,0.04349488140203181,1.60947917489961,0.34925259655212826,0.6781613116198999,-0.03427721363269522,0.17477742791449075,-0.2004842888242854,-1.6276521435903657,0.5692665300316379,1.671766451463639,-0.4217916920003711,0.39696041791866643,0.013317925282218058,-0.05556788618969299,0.2866084770378429,-2.1326375060042717,-0.1615151310401847,-2.1594687872988834,0.5562396695236108,-1.8767688706543055,0.06462746376191478,0.7248550736349361,1.0337482553746316,-1.1933360704841973,-2.022229691502361,0.15446421559972934,-0.7865937458726904,1.2071813089588264,0.473669013265368,2.1895861468746367,1.054067862100585,-0.6768707755074235,0.18993852777003314,-1.0913452911843,0.49682186900742054,-0.7161427147264142,0.09276153992295592,-0.25963221710747514,-1.1090280610525889,-0.7998864525525252,-0.8098890761466924,-0.20105621016424333,0.1770344320014994,0.3390029444408896,0.2616794294084994,0.6663677877948193,0.9533830725866774,-1.7362341026178667,0.8675164031016456,-1.5675430085627995,0.37211122103752325,-0.20081859338787414,-0.12706689419031494,-0.888116580743796,0.27249834505445314,0.38168853201009584,-0.2607787387898964,-1.5795945729236718,1.0318911512090052,-1.5119880807061745,1.3931692810587257,1.2485317772084956,0.3060318753194821,0.06058482990039677,2.2533512860350666,1.007225023983177,-1.9024510000280583,-0.5030995515955998,-0.0911785905444012,-0.629844471944149,0.02239790860322817,-0.9432430696669399],\"type\":\"scatter\"}],                        {\"legend\":{\"bgcolor\":\"#F5F6F9\",\"font\":{\"color\":\"#4D5663\"}},\"paper_bgcolor\":\"#F5F6F9\",\"plot_bgcolor\":\"#F5F6F9\",\"template\":{\"data\":{\"barpolar\":[{\"marker\":{\"line\":{\"color\":\"#E5ECF6\",\"width\":0.5},\"pattern\":{\"fillmode\":\"overlay\",\"size\":10,\"solidity\":0.2}},\"type\":\"barpolar\"}],\"bar\":[{\"error_x\":{\"color\":\"#2a3f5f\"},\"error_y\":{\"color\":\"#2a3f5f\"},\"marker\":{\"line\":{\"color\":\"#E5ECF6\",\"width\":0.5},\"pattern\":{\"fillmode\":\"overlay\",\"size\":10,\"solidity\":0.2}},\"type\":\"bar\"}],\"carpet\":[{\"aaxis\":{\"endlinecolor\":\"#2a3f5f\",\"gridcolor\":\"white\",\"linecolor\":\"white\",\"minorgridcolor\":\"white\",\"startlinecolor\":\"#2a3f5f\"},\"baxis\":{\"endlinecolor\":\"#2a3f5f\",\"gridcolor\":\"white\",\"linecolor\":\"white\",\"minorgridcolor\":\"white\",\"startlinecolor\":\"#2a3f5f\"},\"type\":\"carpet\"}],\"choropleth\":[{\"colorbar\":{\"outlinewidth\":0,\"ticks\":\"\"},\"type\":\"choropleth\"}],\"contourcarpet\":[{\"colorbar\":{\"outlinewidth\":0,\"ticks\":\"\"},\"type\":\"contourcarpet\"}],\"contour\":[{\"colorbar\":{\"outlinewidth\":0,\"ticks\":\"\"},\"colorscale\":[[0.0,\"#0d0887\"],[0.1111111111111111,\"#46039f\"],[0.2222222222222222,\"#7201a8\"],[0.3333333333333333,\"#9c179e\"],[0.4444444444444444,\"#bd3786\"],[0.5555555555555556,\"#d8576b\"],[0.6666666666666666,\"#ed7953\"],[0.7777777777777778,\"#fb9f3a\"],[0.8888888888888888,\"#fdca26\"],[1.0,\"#f0f921\"]],\"type\":\"contour\"}],\"heatmapgl\":[{\"colorbar\":{\"outlinewidth\":0,\"ticks\":\"\"},\"colorscale\":[[0.0,\"#0d0887\"],[0.1111111111111111,\"#46039f\"],[0.2222222222222222,\"#7201a8\"],[0.3333333333333333,\"#9c179e\"],[0.4444444444444444,\"#bd3786\"],[0.5555555555555556,\"#d8576b\"],[0.6666666666666666,\"#ed7953\"],[0.7777777777777778,\"#fb9f3a\"],[0.8888888888888888,\"#fdca26\"],[1.0,\"#f0f921\"]],\"type\":\"heatmapgl\"}],\"heatmap\":[{\"colorbar\":{\"outlinewidth\":0,\"ticks\":\"\"},\"colorscale\":[[0.0,\"#0d0887\"],[0.1111111111111111,\"#46039f\"],[0.2222222222222222,\"#7201a8\"],[0.3333333333333333,\"#9c179e\"],[0.4444444444444444,\"#bd3786\"],[0.5555555555555556,\"#d8576b\"],[0.6666666666666666,\"#ed7953\"],[0.7777777777777778,\"#fb9f3a\"],[0.8888888888888888,\"#fdca26\"],[1.0,\"#f0f921\"]],\"type\":\"heatmap\"}],\"histogram2dcontour\":[{\"colorbar\":{\"outlinewidth\":0,\"ticks\":\"\"},\"colorscale\":[[0.0,\"#0d0887\"],[0.1111111111111111,\"#46039f\"],[0.2222222222222222,\"#7201a8\"],[0.3333333333333333,\"#9c179e\"],[0.4444444444444444,\"#bd3786\"],[0.5555555555555556,\"#d8576b\"],[0.6666666666666666,\"#ed7953\"],[0.7777777777777778,\"#fb9f3a\"],[0.8888888888888888,\"#fdca26\"],[1.0,\"#f0f921\"]],\"type\":\"histogram2dcontour\"}],\"histogram2d\":[{\"colorbar\":{\"outlinewidth\":0,\"ticks\":\"\"},\"colorscale\":[[0.0,\"#0d0887\"],[0.1111111111111111,\"#46039f\"],[0.2222222222222222,\"#7201a8\"],[0.3333333333333333,\"#9c179e\"],[0.4444444444444444,\"#bd3786\"],[0.5555555555555556,\"#d8576b\"],[0.6666666666666666,\"#ed7953\"],[0.7777777777777778,\"#fb9f3a\"],[0.8888888888888888,\"#fdca26\"],[1.0,\"#f0f921\"]],\"type\":\"histogram2d\"}],\"histogram\":[{\"marker\":{\"pattern\":{\"fillmode\":\"overlay\",\"size\":10,\"solidity\":0.2}},\"type\":\"histogram\"}],\"mesh3d\":[{\"colorbar\":{\"outlinewidth\":0,\"ticks\":\"\"},\"type\":\"mesh3d\"}],\"parcoords\":[{\"line\":{\"colorbar\":{\"outlinewidth\":0,\"ticks\":\"\"}},\"type\":\"parcoords\"}],\"pie\":[{\"automargin\":true,\"type\":\"pie\"}],\"scatter3d\":[{\"line\":{\"colorbar\":{\"outlinewidth\":0,\"ticks\":\"\"}},\"marker\":{\"colorbar\":{\"outlinewidth\":0,\"ticks\":\"\"}},\"type\":\"scatter3d\"}],\"scattercarpet\":[{\"marker\":{\"colorbar\":{\"outlinewidth\":0,\"ticks\":\"\"}},\"type\":\"scattercarpet\"}],\"scattergeo\":[{\"marker\":{\"colorbar\":{\"outlinewidth\":0,\"ticks\":\"\"}},\"type\":\"scattergeo\"}],\"scattergl\":[{\"marker\":{\"colorbar\":{\"outlinewidth\":0,\"ticks\":\"\"}},\"type\":\"scattergl\"}],\"scattermapbox\":[{\"marker\":{\"colorbar\":{\"outlinewidth\":0,\"ticks\":\"\"}},\"type\":\"scattermapbox\"}],\"scatterpolargl\":[{\"marker\":{\"colorbar\":{\"outlinewidth\":0,\"ticks\":\"\"}},\"type\":\"scatterpolargl\"}],\"scatterpolar\":[{\"marker\":{\"colorbar\":{\"outlinewidth\":0,\"ticks\":\"\"}},\"type\":\"scatterpolar\"}],\"scatter\":[{\"marker\":{\"colorbar\":{\"outlinewidth\":0,\"ticks\":\"\"}},\"type\":\"scatter\"}],\"scatterternary\":[{\"marker\":{\"colorbar\":{\"outlinewidth\":0,\"ticks\":\"\"}},\"type\":\"scatterternary\"}],\"surface\":[{\"colorbar\":{\"outlinewidth\":0,\"ticks\":\"\"},\"colorscale\":[[0.0,\"#0d0887\"],[0.1111111111111111,\"#46039f\"],[0.2222222222222222,\"#7201a8\"],[0.3333333333333333,\"#9c179e\"],[0.4444444444444444,\"#bd3786\"],[0.5555555555555556,\"#d8576b\"],[0.6666666666666666,\"#ed7953\"],[0.7777777777777778,\"#fb9f3a\"],[0.8888888888888888,\"#fdca26\"],[1.0,\"#f0f921\"]],\"type\":\"surface\"}],\"table\":[{\"cells\":{\"fill\":{\"color\":\"#EBF0F8\"},\"line\":{\"color\":\"white\"}},\"header\":{\"fill\":{\"color\":\"#C8D4E3\"},\"line\":{\"color\":\"white\"}},\"type\":\"table\"}]},\"layout\":{\"annotationdefaults\":{\"arrowcolor\":\"#2a3f5f\",\"arrowhead\":0,\"arrowwidth\":1},\"autotypenumbers\":\"strict\",\"coloraxis\":{\"colorbar\":{\"outlinewidth\":0,\"ticks\":\"\"}},\"colorscale\":{\"diverging\":[[0,\"#8e0152\"],[0.1,\"#c51b7d\"],[0.2,\"#de77ae\"],[0.3,\"#f1b6da\"],[0.4,\"#fde0ef\"],[0.5,\"#f7f7f7\"],[0.6,\"#e6f5d0\"],[0.7,\"#b8e186\"],[0.8,\"#7fbc41\"],[0.9,\"#4d9221\"],[1,\"#276419\"]],\"sequential\":[[0.0,\"#0d0887\"],[0.1111111111111111,\"#46039f\"],[0.2222222222222222,\"#7201a8\"],[0.3333333333333333,\"#9c179e\"],[0.4444444444444444,\"#bd3786\"],[0.5555555555555556,\"#d8576b\"],[0.6666666666666666,\"#ed7953\"],[0.7777777777777778,\"#fb9f3a\"],[0.8888888888888888,\"#fdca26\"],[1.0,\"#f0f921\"]],\"sequentialminus\":[[0.0,\"#0d0887\"],[0.1111111111111111,\"#46039f\"],[0.2222222222222222,\"#7201a8\"],[0.3333333333333333,\"#9c179e\"],[0.4444444444444444,\"#bd3786\"],[0.5555555555555556,\"#d8576b\"],[0.6666666666666666,\"#ed7953\"],[0.7777777777777778,\"#fb9f3a\"],[0.8888888888888888,\"#fdca26\"],[1.0,\"#f0f921\"]]},\"colorway\":[\"#636efa\",\"#EF553B\",\"#00cc96\",\"#ab63fa\",\"#FFA15A\",\"#19d3f3\",\"#FF6692\",\"#B6E880\",\"#FF97FF\",\"#FECB52\"],\"font\":{\"color\":\"#2a3f5f\"},\"geo\":{\"bgcolor\":\"white\",\"lakecolor\":\"white\",\"landcolor\":\"#E5ECF6\",\"showlakes\":true,\"showland\":true,\"subunitcolor\":\"white\"},\"hoverlabel\":{\"align\":\"left\"},\"hovermode\":\"closest\",\"mapbox\":{\"style\":\"light\"},\"paper_bgcolor\":\"white\",\"plot_bgcolor\":\"#E5ECF6\",\"polar\":{\"angularaxis\":{\"gridcolor\":\"white\",\"linecolor\":\"white\",\"ticks\":\"\"},\"bgcolor\":\"#E5ECF6\",\"radialaxis\":{\"gridcolor\":\"white\",\"linecolor\":\"white\",\"ticks\":\"\"}},\"scene\":{\"xaxis\":{\"backgroundcolor\":\"#E5ECF6\",\"gridcolor\":\"white\",\"gridwidth\":2,\"linecolor\":\"white\",\"showbackground\":true,\"ticks\":\"\",\"zerolinecolor\":\"white\"},\"yaxis\":{\"backgroundcolor\":\"#E5ECF6\",\"gridcolor\":\"white\",\"gridwidth\":2,\"linecolor\":\"white\",\"showbackground\":true,\"ticks\":\"\",\"zerolinecolor\":\"white\"},\"zaxis\":{\"backgroundcolor\":\"#E5ECF6\",\"gridcolor\":\"white\",\"gridwidth\":2,\"linecolor\":\"white\",\"showbackground\":true,\"ticks\":\"\",\"zerolinecolor\":\"white\"}},\"shapedefaults\":{\"line\":{\"color\":\"#2a3f5f\"}},\"ternary\":{\"aaxis\":{\"gridcolor\":\"white\",\"linecolor\":\"white\",\"ticks\":\"\"},\"baxis\":{\"gridcolor\":\"white\",\"linecolor\":\"white\",\"ticks\":\"\"},\"bgcolor\":\"#E5ECF6\",\"caxis\":{\"gridcolor\":\"white\",\"linecolor\":\"white\",\"ticks\":\"\"}},\"title\":{\"x\":0.05},\"xaxis\":{\"automargin\":true,\"gridcolor\":\"white\",\"linecolor\":\"white\",\"ticks\":\"\",\"title\":{\"standoff\":15},\"zerolinecolor\":\"white\",\"zerolinewidth\":2},\"yaxis\":{\"automargin\":true,\"gridcolor\":\"white\",\"linecolor\":\"white\",\"ticks\":\"\",\"title\":{\"standoff\":15},\"zerolinecolor\":\"white\",\"zerolinewidth\":2}}},\"title\":{\"font\":{\"color\":\"#4D5663\"}},\"xaxis\":{\"gridcolor\":\"#E1E5ED\",\"showgrid\":true,\"tickfont\":{\"color\":\"#4D5663\"},\"title\":{\"font\":{\"color\":\"#4D5663\"},\"text\":\"\"},\"zerolinecolor\":\"#E1E5ED\"},\"yaxis\":{\"gridcolor\":\"#E1E5ED\",\"showgrid\":true,\"tickfont\":{\"color\":\"#4D5663\"},\"title\":{\"font\":{\"color\":\"#4D5663\"},\"text\":\"\"},\"zerolinecolor\":\"#E1E5ED\"}},                        {\"showLink\": true, \"linkText\": \"Export to plot.ly\", \"plotlyServerURL\": \"https://plot.ly\", \"responsive\": true}                    ).then(function(){\n",
       "                            \n",
       "var gd = document.getElementById('87d73435-2e68-457c-8be3-cfb33c1a8615');\n",
       "var x = new MutationObserver(function (mutations, observer) {{\n",
       "        var display = window.getComputedStyle(gd).display;\n",
       "        if (!display || display === 'none') {{\n",
       "            console.log([gd, 'removed!']);\n",
       "            Plotly.purge(gd);\n",
       "            observer.disconnect();\n",
       "        }}\n",
       "}});\n",
       "\n",
       "// Listen for the removal of the full notebook cells\n",
       "var notebookContainer = gd.closest('#notebook-container');\n",
       "if (notebookContainer) {{\n",
       "    x.observe(notebookContainer, {childList: true});\n",
       "}}\n",
       "\n",
       "// Listen for the clearing of the current output cell\n",
       "var outputEl = gd.closest('.output');\n",
       "if (outputEl) {{\n",
       "    x.observe(outputEl, {childList: true});\n",
       "}}\n",
       "\n",
       "                        })                };                });            </script>        </div>"
      ]
     },
     "metadata": {},
     "output_type": "display_data"
    }
   ],
   "source": [
    "df.iplot(kind='bubble',x='A',y='B',size='C')"
   ]
  },
  {
   "cell_type": "markdown",
   "metadata": {},
   "source": [
    "## scatter_matrix()\n",
    "\n",
    "Similar to sns.pairplot()"
   ]
  },
  {
   "cell_type": "code",
   "execution_count": 20,
   "metadata": {},
   "outputs": [
    {
     "data": {
      "application/vnd.plotly.v1+json": {
       "config": {
        "linkText": "Export to plot.ly",
        "plotlyServerURL": "https://plot.ly",
        "showLink": true
       },
       "data": [
        {
         "histfunc": "count",
         "histnorm": "",
         "marker": {
          "color": "rgba(255, 153, 51, 1.0)",
          "line": {
           "color": "#4D5663",
           "width": 1.3
          }
         },
         "name": "A",
         "nbinsx": 10,
         "opacity": 0.8,
         "orientation": "v",
         "type": "histogram",
         "x": [
          0.9772529650350968,
          0.5218543729070486,
          -1.3425139027153372,
          -0.05968356667477004,
          0.24086815280399745,
          -1.1957452750168351,
          -0.08736966178246539,
          0.18009465087374535,
          0.512243583584234,
          -0.6371363112717048,
          1.2443262778106092,
          0.791202106727671,
          -1.6256779578875453,
          -0.7243046739135806,
          2.0163625014039877,
          0.9753987594437837,
          -0.07390514834813688,
          -0.2024596128214472,
          0.5923843778745538,
          0.678796032042731,
          -0.6363720223064253,
          0.06496861018889219,
          -1.2100102604045566,
          -0.013360272881807508,
          1.794877271519686,
          -0.7224598288359991,
          -0.29906084071357086,
          -0.8912571088317855,
          -0.46584313608482464,
          -0.6882413919972891,
          0.3079827157745628,
          -0.8255652302452776,
          1.9574725990085684,
          -0.2526877691367265,
          0.07539985788774975,
          -0.39069290520673045,
          0.1052357852615328,
          0.15958547172864915,
          0.7624911985102074,
          0.2044917965927145,
          1.2364757226460792,
          0.9844501052457368,
          0.9795933705716623,
          0.9656172541445607,
          0.7984613185429534,
          -0.31879838713084346,
          -0.2211780849142802,
          1.2330415670872872,
          0.9770354600032393,
          -0.6415066151771763,
          0.6134527509100443,
          0.19729006206632116,
          0.8874492070213218,
          0.3337259453809492,
          -0.5463984445333802,
          -0.455996414199671,
          -2.0580361094423023,
          3.381674053066615,
          -1.1366621822686953,
          0.7447885541103118,
          -0.5705971042451976,
          0.3343406551250657,
          -2.2582422766705315,
          1.447534518129494,
          -0.16495236544310013,
          0.8076122116698414,
          0.2719706049023909,
          1.9924740417907814,
          -0.01944140469513046,
          1.3502425502153055,
          -0.27636349866641563,
          -0.49966340781958557,
          0.10491312172505367,
          0.6781354154037323,
          1.3191234412912474,
          0.1147419140978155,
          -0.5338285920957705,
          0.8183177454197698,
          0.20453625705143474,
          -0.48516951297920824,
          -0.30436438553366446,
          0.23705375221620864,
          0.26833263142911373,
          1.271155900698707,
          1.7491368764367385,
          -0.37603404281219305,
          -0.0797561534323506,
          -1.440578173961911,
          1.5701202008294266,
          0.2906986884234425,
          -0.2304088911901656,
          0.6432755130200528,
          -0.7486141025136326,
          1.1785804083139362,
          0.446897875290842,
          -0.3529696223043142,
          -0.2243348521355656,
          1.9473415438312296,
          -0.36828542344963616,
          -0.16310864128344058
         ],
         "xaxis": "x",
         "yaxis": "y"
        },
        {
         "line": {
          "color": "rgba(128, 128, 128, 1.0)",
          "dash": "solid",
          "shape": "linear",
          "width": 1.3
         },
         "marker": {
          "size": 2,
          "symbol": "circle"
         },
         "mode": "markers",
         "name": "A",
         "text": "",
         "type": "scatter",
         "x": [
          1.627388172473467,
          -0.8055067503825576,
          -1.8482576626966893,
          -2.9508607787893504,
          -0.32335265753489617,
          0.34396454509112384,
          0.0748057306504219,
          -1.8613842333289714,
          -1.3054652244299114,
          -1.3950506650475032,
          -1.1909701866128817,
          -0.05600815639471173,
          -0.5220511445209809,
          1.7492337790952306,
          -0.30286042790837125,
          -0.5580053043644606,
          -0.6197392766868668,
          1.023399305708221,
          -0.41677319052226636,
          2.192760839374185,
          -1.1161176336915652,
          -1.354754603690455,
          -0.18704357075833125,
          -0.17703127653905834,
          -0.5993704874414364,
          -0.6031010592370301,
          -0.8988267617328992,
          -0.8729996927258223,
          0.04349488140203181,
          1.60947917489961,
          0.34925259655212826,
          0.6781613116198999,
          -0.03427721363269522,
          0.17477742791449075,
          -0.2004842888242854,
          -1.6276521435903657,
          0.5692665300316379,
          1.671766451463639,
          -0.4217916920003711,
          0.39696041791866643,
          0.013317925282218058,
          -0.05556788618969299,
          0.2866084770378429,
          -2.1326375060042717,
          -0.1615151310401847,
          -2.1594687872988834,
          0.5562396695236108,
          -1.8767688706543055,
          0.06462746376191478,
          0.7248550736349361,
          1.0337482553746316,
          -1.1933360704841973,
          -2.022229691502361,
          0.15446421559972934,
          -0.7865937458726904,
          1.2071813089588264,
          0.473669013265368,
          2.1895861468746367,
          1.054067862100585,
          -0.6768707755074235,
          0.18993852777003314,
          -1.0913452911843,
          0.49682186900742054,
          -0.7161427147264142,
          0.09276153992295592,
          -0.25963221710747514,
          -1.1090280610525889,
          -0.7998864525525252,
          -0.8098890761466924,
          -0.20105621016424333,
          0.1770344320014994,
          0.3390029444408896,
          0.2616794294084994,
          0.6663677877948193,
          0.9533830725866774,
          -1.7362341026178667,
          0.8675164031016456,
          -1.5675430085627995,
          0.37211122103752325,
          -0.20081859338787414,
          -0.12706689419031494,
          -0.888116580743796,
          0.27249834505445314,
          0.38168853201009584,
          -0.2607787387898964,
          -1.5795945729236718,
          1.0318911512090052,
          -1.5119880807061745,
          1.3931692810587257,
          1.2485317772084956,
          0.3060318753194821,
          0.06058482990039677,
          2.2533512860350666,
          1.007225023983177,
          -1.9024510000280583,
          -0.5030995515955998,
          -0.0911785905444012,
          -0.629844471944149,
          0.02239790860322817,
          -0.9432430696669399
         ],
         "xaxis": "x2",
         "y": [
          0.9772529650350968,
          0.5218543729070486,
          -1.3425139027153372,
          -0.05968356667477004,
          0.24086815280399745,
          -1.1957452750168351,
          -0.08736966178246539,
          0.18009465087374535,
          0.512243583584234,
          -0.6371363112717048,
          1.2443262778106092,
          0.791202106727671,
          -1.6256779578875453,
          -0.7243046739135806,
          2.0163625014039877,
          0.9753987594437837,
          -0.07390514834813688,
          -0.2024596128214472,
          0.5923843778745538,
          0.678796032042731,
          -0.6363720223064253,
          0.06496861018889219,
          -1.2100102604045566,
          -0.013360272881807508,
          1.794877271519686,
          -0.7224598288359991,
          -0.29906084071357086,
          -0.8912571088317855,
          -0.46584313608482464,
          -0.6882413919972891,
          0.3079827157745628,
          -0.8255652302452776,
          1.9574725990085684,
          -0.2526877691367265,
          0.07539985788774975,
          -0.39069290520673045,
          0.1052357852615328,
          0.15958547172864915,
          0.7624911985102074,
          0.2044917965927145,
          1.2364757226460792,
          0.9844501052457368,
          0.9795933705716623,
          0.9656172541445607,
          0.7984613185429534,
          -0.31879838713084346,
          -0.2211780849142802,
          1.2330415670872872,
          0.9770354600032393,
          -0.6415066151771763,
          0.6134527509100443,
          0.19729006206632116,
          0.8874492070213218,
          0.3337259453809492,
          -0.5463984445333802,
          -0.455996414199671,
          -2.0580361094423023,
          3.381674053066615,
          -1.1366621822686953,
          0.7447885541103118,
          -0.5705971042451976,
          0.3343406551250657,
          -2.2582422766705315,
          1.447534518129494,
          -0.16495236544310013,
          0.8076122116698414,
          0.2719706049023909,
          1.9924740417907814,
          -0.01944140469513046,
          1.3502425502153055,
          -0.27636349866641563,
          -0.49966340781958557,
          0.10491312172505367,
          0.6781354154037323,
          1.3191234412912474,
          0.1147419140978155,
          -0.5338285920957705,
          0.8183177454197698,
          0.20453625705143474,
          -0.48516951297920824,
          -0.30436438553366446,
          0.23705375221620864,
          0.26833263142911373,
          1.271155900698707,
          1.7491368764367385,
          -0.37603404281219305,
          -0.0797561534323506,
          -1.440578173961911,
          1.5701202008294266,
          0.2906986884234425,
          -0.2304088911901656,
          0.6432755130200528,
          -0.7486141025136326,
          1.1785804083139362,
          0.446897875290842,
          -0.3529696223043142,
          -0.2243348521355656,
          1.9473415438312296,
          -0.36828542344963616,
          -0.16310864128344058
         ],
         "yaxis": "y2"
        },
        {
         "line": {
          "color": "rgba(128, 128, 128, 1.0)",
          "dash": "solid",
          "shape": "linear",
          "width": 1.3
         },
         "marker": {
          "size": 2,
          "symbol": "circle"
         },
         "mode": "markers",
         "name": "A",
         "text": "",
         "type": "scatter",
         "x": [
          -0.19539164526406066,
          -0.13392272429528673,
          -0.20697179620540213,
          1.0219423684662838,
          -2.419680862732682,
          0.42340187797427564,
          0.27543977733548325,
          0.5322887330986481,
          -0.3742731008823676,
          0.806800967593332,
          0.520507771066039,
          2.4245243867521675,
          0.04565115863423383,
          -0.6667508209050528,
          -0.8922936027698372,
          -0.17758480742284974,
          0.12281757417563029,
          -0.6848615878580517,
          -1.258355012448714,
          -1.344930470338531,
          0.11939952814482498,
          -0.44130576430841806,
          -0.7858569436583683,
          0.47092497736239164,
          -0.06693209733790141,
          -2.2427572199217516,
          0.6297100420806422,
          -0.07915278352681059,
          0.5401522029535316,
          0.7550946768311247,
          -0.7615842849558506,
          0.6434132331202398,
          -0.960482390504063,
          0.3141838016130222,
          0.26300639517836916,
          0.787102487845185,
          0.7508523136094482,
          0.6665136713812614,
          -1.72039490120812,
          1.6343322231599189,
          1.5282890221724952,
          -0.18136780499686317,
          0.8433327653313499,
          -0.0845232303654236,
          -0.4599277250369489,
          -1.0329722016607104,
          0.14121524762472068,
          -0.833200139919371,
          -1.8464815420543754,
          -0.11690944571128538,
          -0.04081994319852998,
          1.014790360423072,
          -1.2596267306024636,
          -0.801739830430961,
          -0.0010881173587275106,
          1.6944043197553824,
          -0.3154802946913143,
          0.2640060078470049,
          0.2938490898494173,
          -0.4638620868647608,
          -1.279534349303109,
          -1.3804875841530997,
          -1.559979670426831,
          -0.5696969171920921,
          -0.8826885874985527,
          0.2570256589600279,
          0.38996235422552683,
          -1.5286554813579205,
          0.19189436488159947,
          -0.32248736969409897,
          -1.014118238998222,
          -1.9113341500983831,
          -0.4437006225995927,
          0.10836449327639262,
          -0.14734927729922,
          0.20038220477498528,
          0.26958280260928935,
          -0.35284711851174194,
          -0.1038876238561292,
          -1.3286737387037622,
          0.023896319930620694,
          1.2526337213488998,
          0.3061060071707258,
          -1.3855284882906498,
          1.9707255777902948,
          0.8585466233942723,
          1.0709979035477255,
          -0.19073775807443968,
          1.932427830975665,
          0.30651822793031425,
          1.208864377091442,
          0.336225761942993,
          -0.9675375067128238,
          -0.5205547210823098,
          0.3259429142118365,
          0.29868893725399237,
          0.16867532069482036,
          1.1338583577333696,
          -0.33539854397769125,
          0.4751337886239071
         ],
         "xaxis": "x3",
         "y": [
          0.9772529650350968,
          0.5218543729070486,
          -1.3425139027153372,
          -0.05968356667477004,
          0.24086815280399745,
          -1.1957452750168351,
          -0.08736966178246539,
          0.18009465087374535,
          0.512243583584234,
          -0.6371363112717048,
          1.2443262778106092,
          0.791202106727671,
          -1.6256779578875453,
          -0.7243046739135806,
          2.0163625014039877,
          0.9753987594437837,
          -0.07390514834813688,
          -0.2024596128214472,
          0.5923843778745538,
          0.678796032042731,
          -0.6363720223064253,
          0.06496861018889219,
          -1.2100102604045566,
          -0.013360272881807508,
          1.794877271519686,
          -0.7224598288359991,
          -0.29906084071357086,
          -0.8912571088317855,
          -0.46584313608482464,
          -0.6882413919972891,
          0.3079827157745628,
          -0.8255652302452776,
          1.9574725990085684,
          -0.2526877691367265,
          0.07539985788774975,
          -0.39069290520673045,
          0.1052357852615328,
          0.15958547172864915,
          0.7624911985102074,
          0.2044917965927145,
          1.2364757226460792,
          0.9844501052457368,
          0.9795933705716623,
          0.9656172541445607,
          0.7984613185429534,
          -0.31879838713084346,
          -0.2211780849142802,
          1.2330415670872872,
          0.9770354600032393,
          -0.6415066151771763,
          0.6134527509100443,
          0.19729006206632116,
          0.8874492070213218,
          0.3337259453809492,
          -0.5463984445333802,
          -0.455996414199671,
          -2.0580361094423023,
          3.381674053066615,
          -1.1366621822686953,
          0.7447885541103118,
          -0.5705971042451976,
          0.3343406551250657,
          -2.2582422766705315,
          1.447534518129494,
          -0.16495236544310013,
          0.8076122116698414,
          0.2719706049023909,
          1.9924740417907814,
          -0.01944140469513046,
          1.3502425502153055,
          -0.27636349866641563,
          -0.49966340781958557,
          0.10491312172505367,
          0.6781354154037323,
          1.3191234412912474,
          0.1147419140978155,
          -0.5338285920957705,
          0.8183177454197698,
          0.20453625705143474,
          -0.48516951297920824,
          -0.30436438553366446,
          0.23705375221620864,
          0.26833263142911373,
          1.271155900698707,
          1.7491368764367385,
          -0.37603404281219305,
          -0.0797561534323506,
          -1.440578173961911,
          1.5701202008294266,
          0.2906986884234425,
          -0.2304088911901656,
          0.6432755130200528,
          -0.7486141025136326,
          1.1785804083139362,
          0.446897875290842,
          -0.3529696223043142,
          -0.2243348521355656,
          1.9473415438312296,
          -0.36828542344963616,
          -0.16310864128344058
         ],
         "yaxis": "y3"
        },
        {
         "line": {
          "color": "rgba(128, 128, 128, 1.0)",
          "dash": "solid",
          "shape": "linear",
          "width": 1.3
         },
         "marker": {
          "size": 2,
          "symbol": "circle"
         },
         "mode": "markers",
         "name": "A",
         "text": "",
         "type": "scatter",
         "x": [
          0.6953126025177219,
          0.2501971988194661,
          -0.18943585964256668,
          0.2620842172478777,
          -0.4416429011686252,
          -0.008532947894072208,
          -0.3331736662411075,
          -1.9244628043133278,
          0.4896072840955004,
          -0.45302281370384573,
          1.2911895760446588,
          0.3474282995525151,
          0.36010991189294794,
          0.9543193286390744,
          -0.7411571805292035,
          -1.4747530518581862,
          0.8286291779589134,
          1.8778546405408356,
          -0.8284875482802208,
          -0.5901008142607173,
          -0.990849139976589,
          0.1808103575132078,
          -1.328178186162896,
          0.46310454490676883,
          -0.961420946877116,
          -1.2911620649096904,
          1.6749696185097749,
          0.453933245260872,
          -1.0172394223171117,
          0.11602299628297065,
          1.1715007051391517,
          0.6527991382834483,
          0.4808263107261767,
          0.3301036618468011,
          -0.6837935464993281,
          -0.7226223116303302,
          0.8307976990920981,
          0.09531075888178817,
          -0.11073671633289299,
          -0.24777204660215887,
          -0.6768409591882902,
          1.028687964857132,
          0.07441310411614314,
          -0.17997391886250652,
          -0.36987556349704215,
          -0.39974551000947045,
          -2.3199737506869433,
          0.1079814015195673,
          -0.1915407007576155,
          0.7424057670662202,
          0.06271649554043134,
          0.2426577964862029,
          -1.0084702401105468,
          0.052678396436552706,
          -1.0874314306283388,
          -0.028154890174068133,
          0.21198491208658923,
          1.2236638673550357,
          1.1393515756660755,
          -0.0597005283276125,
          -0.02840902283679621,
          -0.5935823534890683,
          -0.9043167670752155,
          1.150216402953456,
          2.0294043200340615,
          -0.32109253853545544,
          0.8313268419444494,
          0.1952715931818143,
          -1.191699297482351,
          -0.6882193842418627,
          0.08804106784911958,
          1.0782344300787003,
          1.2509536267737478,
          -1.9855080746462799,
          -0.0671273700432608,
          0.9492101957447133,
          -0.10718563213569898,
          0.5552212441509886,
          1.3892086795678142,
          1.027926649156825,
          1.7633018540765841,
          -1.820198636670063,
          -1.653582584925675,
          -0.7776106599467563,
          2.778127355388952,
          -0.3018506041095579,
          1.3989560844995972,
          -0.5512443247038632,
          0.8572027216525815,
          -0.23744482693707122,
          0.180658603785055,
          -0.6237064194749184,
          0.03345365598418503,
          -0.1688411343385012,
          0.37594418824111686,
          1.3009120779506753,
          -0.8267717945732077,
          1.1486006445829764,
          -0.15534129819073617,
          0.021214372703046533
         ],
         "xaxis": "x4",
         "y": [
          0.9772529650350968,
          0.5218543729070486,
          -1.3425139027153372,
          -0.05968356667477004,
          0.24086815280399745,
          -1.1957452750168351,
          -0.08736966178246539,
          0.18009465087374535,
          0.512243583584234,
          -0.6371363112717048,
          1.2443262778106092,
          0.791202106727671,
          -1.6256779578875453,
          -0.7243046739135806,
          2.0163625014039877,
          0.9753987594437837,
          -0.07390514834813688,
          -0.2024596128214472,
          0.5923843778745538,
          0.678796032042731,
          -0.6363720223064253,
          0.06496861018889219,
          -1.2100102604045566,
          -0.013360272881807508,
          1.794877271519686,
          -0.7224598288359991,
          -0.29906084071357086,
          -0.8912571088317855,
          -0.46584313608482464,
          -0.6882413919972891,
          0.3079827157745628,
          -0.8255652302452776,
          1.9574725990085684,
          -0.2526877691367265,
          0.07539985788774975,
          -0.39069290520673045,
          0.1052357852615328,
          0.15958547172864915,
          0.7624911985102074,
          0.2044917965927145,
          1.2364757226460792,
          0.9844501052457368,
          0.9795933705716623,
          0.9656172541445607,
          0.7984613185429534,
          -0.31879838713084346,
          -0.2211780849142802,
          1.2330415670872872,
          0.9770354600032393,
          -0.6415066151771763,
          0.6134527509100443,
          0.19729006206632116,
          0.8874492070213218,
          0.3337259453809492,
          -0.5463984445333802,
          -0.455996414199671,
          -2.0580361094423023,
          3.381674053066615,
          -1.1366621822686953,
          0.7447885541103118,
          -0.5705971042451976,
          0.3343406551250657,
          -2.2582422766705315,
          1.447534518129494,
          -0.16495236544310013,
          0.8076122116698414,
          0.2719706049023909,
          1.9924740417907814,
          -0.01944140469513046,
          1.3502425502153055,
          -0.27636349866641563,
          -0.49966340781958557,
          0.10491312172505367,
          0.6781354154037323,
          1.3191234412912474,
          0.1147419140978155,
          -0.5338285920957705,
          0.8183177454197698,
          0.20453625705143474,
          -0.48516951297920824,
          -0.30436438553366446,
          0.23705375221620864,
          0.26833263142911373,
          1.271155900698707,
          1.7491368764367385,
          -0.37603404281219305,
          -0.0797561534323506,
          -1.440578173961911,
          1.5701202008294266,
          0.2906986884234425,
          -0.2304088911901656,
          0.6432755130200528,
          -0.7486141025136326,
          1.1785804083139362,
          0.446897875290842,
          -0.3529696223043142,
          -0.2243348521355656,
          1.9473415438312296,
          -0.36828542344963616,
          -0.16310864128344058
         ],
         "yaxis": "y4"
        },
        {
         "line": {
          "color": "rgba(128, 128, 128, 1.0)",
          "dash": "solid",
          "shape": "linear",
          "width": 1.3
         },
         "marker": {
          "size": 2,
          "symbol": "circle"
         },
         "mode": "markers",
         "name": "B",
         "text": "",
         "type": "scatter",
         "x": [
          0.9772529650350968,
          0.5218543729070486,
          -1.3425139027153372,
          -0.05968356667477004,
          0.24086815280399745,
          -1.1957452750168351,
          -0.08736966178246539,
          0.18009465087374535,
          0.512243583584234,
          -0.6371363112717048,
          1.2443262778106092,
          0.791202106727671,
          -1.6256779578875453,
          -0.7243046739135806,
          2.0163625014039877,
          0.9753987594437837,
          -0.07390514834813688,
          -0.2024596128214472,
          0.5923843778745538,
          0.678796032042731,
          -0.6363720223064253,
          0.06496861018889219,
          -1.2100102604045566,
          -0.013360272881807508,
          1.794877271519686,
          -0.7224598288359991,
          -0.29906084071357086,
          -0.8912571088317855,
          -0.46584313608482464,
          -0.6882413919972891,
          0.3079827157745628,
          -0.8255652302452776,
          1.9574725990085684,
          -0.2526877691367265,
          0.07539985788774975,
          -0.39069290520673045,
          0.1052357852615328,
          0.15958547172864915,
          0.7624911985102074,
          0.2044917965927145,
          1.2364757226460792,
          0.9844501052457368,
          0.9795933705716623,
          0.9656172541445607,
          0.7984613185429534,
          -0.31879838713084346,
          -0.2211780849142802,
          1.2330415670872872,
          0.9770354600032393,
          -0.6415066151771763,
          0.6134527509100443,
          0.19729006206632116,
          0.8874492070213218,
          0.3337259453809492,
          -0.5463984445333802,
          -0.455996414199671,
          -2.0580361094423023,
          3.381674053066615,
          -1.1366621822686953,
          0.7447885541103118,
          -0.5705971042451976,
          0.3343406551250657,
          -2.2582422766705315,
          1.447534518129494,
          -0.16495236544310013,
          0.8076122116698414,
          0.2719706049023909,
          1.9924740417907814,
          -0.01944140469513046,
          1.3502425502153055,
          -0.27636349866641563,
          -0.49966340781958557,
          0.10491312172505367,
          0.6781354154037323,
          1.3191234412912474,
          0.1147419140978155,
          -0.5338285920957705,
          0.8183177454197698,
          0.20453625705143474,
          -0.48516951297920824,
          -0.30436438553366446,
          0.23705375221620864,
          0.26833263142911373,
          1.271155900698707,
          1.7491368764367385,
          -0.37603404281219305,
          -0.0797561534323506,
          -1.440578173961911,
          1.5701202008294266,
          0.2906986884234425,
          -0.2304088911901656,
          0.6432755130200528,
          -0.7486141025136326,
          1.1785804083139362,
          0.446897875290842,
          -0.3529696223043142,
          -0.2243348521355656,
          1.9473415438312296,
          -0.36828542344963616,
          -0.16310864128344058
         ],
         "xaxis": "x5",
         "y": [
          1.627388172473467,
          -0.8055067503825576,
          -1.8482576626966893,
          -2.9508607787893504,
          -0.32335265753489617,
          0.34396454509112384,
          0.0748057306504219,
          -1.8613842333289714,
          -1.3054652244299114,
          -1.3950506650475032,
          -1.1909701866128817,
          -0.05600815639471173,
          -0.5220511445209809,
          1.7492337790952306,
          -0.30286042790837125,
          -0.5580053043644606,
          -0.6197392766868668,
          1.023399305708221,
          -0.41677319052226636,
          2.192760839374185,
          -1.1161176336915652,
          -1.354754603690455,
          -0.18704357075833125,
          -0.17703127653905834,
          -0.5993704874414364,
          -0.6031010592370301,
          -0.8988267617328992,
          -0.8729996927258223,
          0.04349488140203181,
          1.60947917489961,
          0.34925259655212826,
          0.6781613116198999,
          -0.03427721363269522,
          0.17477742791449075,
          -0.2004842888242854,
          -1.6276521435903657,
          0.5692665300316379,
          1.671766451463639,
          -0.4217916920003711,
          0.39696041791866643,
          0.013317925282218058,
          -0.05556788618969299,
          0.2866084770378429,
          -2.1326375060042717,
          -0.1615151310401847,
          -2.1594687872988834,
          0.5562396695236108,
          -1.8767688706543055,
          0.06462746376191478,
          0.7248550736349361,
          1.0337482553746316,
          -1.1933360704841973,
          -2.022229691502361,
          0.15446421559972934,
          -0.7865937458726904,
          1.2071813089588264,
          0.473669013265368,
          2.1895861468746367,
          1.054067862100585,
          -0.6768707755074235,
          0.18993852777003314,
          -1.0913452911843,
          0.49682186900742054,
          -0.7161427147264142,
          0.09276153992295592,
          -0.25963221710747514,
          -1.1090280610525889,
          -0.7998864525525252,
          -0.8098890761466924,
          -0.20105621016424333,
          0.1770344320014994,
          0.3390029444408896,
          0.2616794294084994,
          0.6663677877948193,
          0.9533830725866774,
          -1.7362341026178667,
          0.8675164031016456,
          -1.5675430085627995,
          0.37211122103752325,
          -0.20081859338787414,
          -0.12706689419031494,
          -0.888116580743796,
          0.27249834505445314,
          0.38168853201009584,
          -0.2607787387898964,
          -1.5795945729236718,
          1.0318911512090052,
          -1.5119880807061745,
          1.3931692810587257,
          1.2485317772084956,
          0.3060318753194821,
          0.06058482990039677,
          2.2533512860350666,
          1.007225023983177,
          -1.9024510000280583,
          -0.5030995515955998,
          -0.0911785905444012,
          -0.629844471944149,
          0.02239790860322817,
          -0.9432430696669399
         ],
         "yaxis": "y5"
        },
        {
         "histfunc": "count",
         "histnorm": "",
         "marker": {
          "color": "rgba(55, 128, 191, 1.0)",
          "line": {
           "color": "#4D5663",
           "width": 1.3
          }
         },
         "name": "B",
         "nbinsx": 10,
         "opacity": 0.8,
         "orientation": "v",
         "type": "histogram",
         "x": [
          1.627388172473467,
          -0.8055067503825576,
          -1.8482576626966893,
          -2.9508607787893504,
          -0.32335265753489617,
          0.34396454509112384,
          0.0748057306504219,
          -1.8613842333289714,
          -1.3054652244299114,
          -1.3950506650475032,
          -1.1909701866128817,
          -0.05600815639471173,
          -0.5220511445209809,
          1.7492337790952306,
          -0.30286042790837125,
          -0.5580053043644606,
          -0.6197392766868668,
          1.023399305708221,
          -0.41677319052226636,
          2.192760839374185,
          -1.1161176336915652,
          -1.354754603690455,
          -0.18704357075833125,
          -0.17703127653905834,
          -0.5993704874414364,
          -0.6031010592370301,
          -0.8988267617328992,
          -0.8729996927258223,
          0.04349488140203181,
          1.60947917489961,
          0.34925259655212826,
          0.6781613116198999,
          -0.03427721363269522,
          0.17477742791449075,
          -0.2004842888242854,
          -1.6276521435903657,
          0.5692665300316379,
          1.671766451463639,
          -0.4217916920003711,
          0.39696041791866643,
          0.013317925282218058,
          -0.05556788618969299,
          0.2866084770378429,
          -2.1326375060042717,
          -0.1615151310401847,
          -2.1594687872988834,
          0.5562396695236108,
          -1.8767688706543055,
          0.06462746376191478,
          0.7248550736349361,
          1.0337482553746316,
          -1.1933360704841973,
          -2.022229691502361,
          0.15446421559972934,
          -0.7865937458726904,
          1.2071813089588264,
          0.473669013265368,
          2.1895861468746367,
          1.054067862100585,
          -0.6768707755074235,
          0.18993852777003314,
          -1.0913452911843,
          0.49682186900742054,
          -0.7161427147264142,
          0.09276153992295592,
          -0.25963221710747514,
          -1.1090280610525889,
          -0.7998864525525252,
          -0.8098890761466924,
          -0.20105621016424333,
          0.1770344320014994,
          0.3390029444408896,
          0.2616794294084994,
          0.6663677877948193,
          0.9533830725866774,
          -1.7362341026178667,
          0.8675164031016456,
          -1.5675430085627995,
          0.37211122103752325,
          -0.20081859338787414,
          -0.12706689419031494,
          -0.888116580743796,
          0.27249834505445314,
          0.38168853201009584,
          -0.2607787387898964,
          -1.5795945729236718,
          1.0318911512090052,
          -1.5119880807061745,
          1.3931692810587257,
          1.2485317772084956,
          0.3060318753194821,
          0.06058482990039677,
          2.2533512860350666,
          1.007225023983177,
          -1.9024510000280583,
          -0.5030995515955998,
          -0.0911785905444012,
          -0.629844471944149,
          0.02239790860322817,
          -0.9432430696669399
         ],
         "xaxis": "x6",
         "yaxis": "y6"
        },
        {
         "line": {
          "color": "rgba(128, 128, 128, 1.0)",
          "dash": "solid",
          "shape": "linear",
          "width": 1.3
         },
         "marker": {
          "size": 2,
          "symbol": "circle"
         },
         "mode": "markers",
         "name": "B",
         "text": "",
         "type": "scatter",
         "x": [
          -0.19539164526406066,
          -0.13392272429528673,
          -0.20697179620540213,
          1.0219423684662838,
          -2.419680862732682,
          0.42340187797427564,
          0.27543977733548325,
          0.5322887330986481,
          -0.3742731008823676,
          0.806800967593332,
          0.520507771066039,
          2.4245243867521675,
          0.04565115863423383,
          -0.6667508209050528,
          -0.8922936027698372,
          -0.17758480742284974,
          0.12281757417563029,
          -0.6848615878580517,
          -1.258355012448714,
          -1.344930470338531,
          0.11939952814482498,
          -0.44130576430841806,
          -0.7858569436583683,
          0.47092497736239164,
          -0.06693209733790141,
          -2.2427572199217516,
          0.6297100420806422,
          -0.07915278352681059,
          0.5401522029535316,
          0.7550946768311247,
          -0.7615842849558506,
          0.6434132331202398,
          -0.960482390504063,
          0.3141838016130222,
          0.26300639517836916,
          0.787102487845185,
          0.7508523136094482,
          0.6665136713812614,
          -1.72039490120812,
          1.6343322231599189,
          1.5282890221724952,
          -0.18136780499686317,
          0.8433327653313499,
          -0.0845232303654236,
          -0.4599277250369489,
          -1.0329722016607104,
          0.14121524762472068,
          -0.833200139919371,
          -1.8464815420543754,
          -0.11690944571128538,
          -0.04081994319852998,
          1.014790360423072,
          -1.2596267306024636,
          -0.801739830430961,
          -0.0010881173587275106,
          1.6944043197553824,
          -0.3154802946913143,
          0.2640060078470049,
          0.2938490898494173,
          -0.4638620868647608,
          -1.279534349303109,
          -1.3804875841530997,
          -1.559979670426831,
          -0.5696969171920921,
          -0.8826885874985527,
          0.2570256589600279,
          0.38996235422552683,
          -1.5286554813579205,
          0.19189436488159947,
          -0.32248736969409897,
          -1.014118238998222,
          -1.9113341500983831,
          -0.4437006225995927,
          0.10836449327639262,
          -0.14734927729922,
          0.20038220477498528,
          0.26958280260928935,
          -0.35284711851174194,
          -0.1038876238561292,
          -1.3286737387037622,
          0.023896319930620694,
          1.2526337213488998,
          0.3061060071707258,
          -1.3855284882906498,
          1.9707255777902948,
          0.8585466233942723,
          1.0709979035477255,
          -0.19073775807443968,
          1.932427830975665,
          0.30651822793031425,
          1.208864377091442,
          0.336225761942993,
          -0.9675375067128238,
          -0.5205547210823098,
          0.3259429142118365,
          0.29868893725399237,
          0.16867532069482036,
          1.1338583577333696,
          -0.33539854397769125,
          0.4751337886239071
         ],
         "xaxis": "x7",
         "y": [
          1.627388172473467,
          -0.8055067503825576,
          -1.8482576626966893,
          -2.9508607787893504,
          -0.32335265753489617,
          0.34396454509112384,
          0.0748057306504219,
          -1.8613842333289714,
          -1.3054652244299114,
          -1.3950506650475032,
          -1.1909701866128817,
          -0.05600815639471173,
          -0.5220511445209809,
          1.7492337790952306,
          -0.30286042790837125,
          -0.5580053043644606,
          -0.6197392766868668,
          1.023399305708221,
          -0.41677319052226636,
          2.192760839374185,
          -1.1161176336915652,
          -1.354754603690455,
          -0.18704357075833125,
          -0.17703127653905834,
          -0.5993704874414364,
          -0.6031010592370301,
          -0.8988267617328992,
          -0.8729996927258223,
          0.04349488140203181,
          1.60947917489961,
          0.34925259655212826,
          0.6781613116198999,
          -0.03427721363269522,
          0.17477742791449075,
          -0.2004842888242854,
          -1.6276521435903657,
          0.5692665300316379,
          1.671766451463639,
          -0.4217916920003711,
          0.39696041791866643,
          0.013317925282218058,
          -0.05556788618969299,
          0.2866084770378429,
          -2.1326375060042717,
          -0.1615151310401847,
          -2.1594687872988834,
          0.5562396695236108,
          -1.8767688706543055,
          0.06462746376191478,
          0.7248550736349361,
          1.0337482553746316,
          -1.1933360704841973,
          -2.022229691502361,
          0.15446421559972934,
          -0.7865937458726904,
          1.2071813089588264,
          0.473669013265368,
          2.1895861468746367,
          1.054067862100585,
          -0.6768707755074235,
          0.18993852777003314,
          -1.0913452911843,
          0.49682186900742054,
          -0.7161427147264142,
          0.09276153992295592,
          -0.25963221710747514,
          -1.1090280610525889,
          -0.7998864525525252,
          -0.8098890761466924,
          -0.20105621016424333,
          0.1770344320014994,
          0.3390029444408896,
          0.2616794294084994,
          0.6663677877948193,
          0.9533830725866774,
          -1.7362341026178667,
          0.8675164031016456,
          -1.5675430085627995,
          0.37211122103752325,
          -0.20081859338787414,
          -0.12706689419031494,
          -0.888116580743796,
          0.27249834505445314,
          0.38168853201009584,
          -0.2607787387898964,
          -1.5795945729236718,
          1.0318911512090052,
          -1.5119880807061745,
          1.3931692810587257,
          1.2485317772084956,
          0.3060318753194821,
          0.06058482990039677,
          2.2533512860350666,
          1.007225023983177,
          -1.9024510000280583,
          -0.5030995515955998,
          -0.0911785905444012,
          -0.629844471944149,
          0.02239790860322817,
          -0.9432430696669399
         ],
         "yaxis": "y7"
        },
        {
         "line": {
          "color": "rgba(128, 128, 128, 1.0)",
          "dash": "solid",
          "shape": "linear",
          "width": 1.3
         },
         "marker": {
          "size": 2,
          "symbol": "circle"
         },
         "mode": "markers",
         "name": "B",
         "text": "",
         "type": "scatter",
         "x": [
          0.6953126025177219,
          0.2501971988194661,
          -0.18943585964256668,
          0.2620842172478777,
          -0.4416429011686252,
          -0.008532947894072208,
          -0.3331736662411075,
          -1.9244628043133278,
          0.4896072840955004,
          -0.45302281370384573,
          1.2911895760446588,
          0.3474282995525151,
          0.36010991189294794,
          0.9543193286390744,
          -0.7411571805292035,
          -1.4747530518581862,
          0.8286291779589134,
          1.8778546405408356,
          -0.8284875482802208,
          -0.5901008142607173,
          -0.990849139976589,
          0.1808103575132078,
          -1.328178186162896,
          0.46310454490676883,
          -0.961420946877116,
          -1.2911620649096904,
          1.6749696185097749,
          0.453933245260872,
          -1.0172394223171117,
          0.11602299628297065,
          1.1715007051391517,
          0.6527991382834483,
          0.4808263107261767,
          0.3301036618468011,
          -0.6837935464993281,
          -0.7226223116303302,
          0.8307976990920981,
          0.09531075888178817,
          -0.11073671633289299,
          -0.24777204660215887,
          -0.6768409591882902,
          1.028687964857132,
          0.07441310411614314,
          -0.17997391886250652,
          -0.36987556349704215,
          -0.39974551000947045,
          -2.3199737506869433,
          0.1079814015195673,
          -0.1915407007576155,
          0.7424057670662202,
          0.06271649554043134,
          0.2426577964862029,
          -1.0084702401105468,
          0.052678396436552706,
          -1.0874314306283388,
          -0.028154890174068133,
          0.21198491208658923,
          1.2236638673550357,
          1.1393515756660755,
          -0.0597005283276125,
          -0.02840902283679621,
          -0.5935823534890683,
          -0.9043167670752155,
          1.150216402953456,
          2.0294043200340615,
          -0.32109253853545544,
          0.8313268419444494,
          0.1952715931818143,
          -1.191699297482351,
          -0.6882193842418627,
          0.08804106784911958,
          1.0782344300787003,
          1.2509536267737478,
          -1.9855080746462799,
          -0.0671273700432608,
          0.9492101957447133,
          -0.10718563213569898,
          0.5552212441509886,
          1.3892086795678142,
          1.027926649156825,
          1.7633018540765841,
          -1.820198636670063,
          -1.653582584925675,
          -0.7776106599467563,
          2.778127355388952,
          -0.3018506041095579,
          1.3989560844995972,
          -0.5512443247038632,
          0.8572027216525815,
          -0.23744482693707122,
          0.180658603785055,
          -0.6237064194749184,
          0.03345365598418503,
          -0.1688411343385012,
          0.37594418824111686,
          1.3009120779506753,
          -0.8267717945732077,
          1.1486006445829764,
          -0.15534129819073617,
          0.021214372703046533
         ],
         "xaxis": "x8",
         "y": [
          1.627388172473467,
          -0.8055067503825576,
          -1.8482576626966893,
          -2.9508607787893504,
          -0.32335265753489617,
          0.34396454509112384,
          0.0748057306504219,
          -1.8613842333289714,
          -1.3054652244299114,
          -1.3950506650475032,
          -1.1909701866128817,
          -0.05600815639471173,
          -0.5220511445209809,
          1.7492337790952306,
          -0.30286042790837125,
          -0.5580053043644606,
          -0.6197392766868668,
          1.023399305708221,
          -0.41677319052226636,
          2.192760839374185,
          -1.1161176336915652,
          -1.354754603690455,
          -0.18704357075833125,
          -0.17703127653905834,
          -0.5993704874414364,
          -0.6031010592370301,
          -0.8988267617328992,
          -0.8729996927258223,
          0.04349488140203181,
          1.60947917489961,
          0.34925259655212826,
          0.6781613116198999,
          -0.03427721363269522,
          0.17477742791449075,
          -0.2004842888242854,
          -1.6276521435903657,
          0.5692665300316379,
          1.671766451463639,
          -0.4217916920003711,
          0.39696041791866643,
          0.013317925282218058,
          -0.05556788618969299,
          0.2866084770378429,
          -2.1326375060042717,
          -0.1615151310401847,
          -2.1594687872988834,
          0.5562396695236108,
          -1.8767688706543055,
          0.06462746376191478,
          0.7248550736349361,
          1.0337482553746316,
          -1.1933360704841973,
          -2.022229691502361,
          0.15446421559972934,
          -0.7865937458726904,
          1.2071813089588264,
          0.473669013265368,
          2.1895861468746367,
          1.054067862100585,
          -0.6768707755074235,
          0.18993852777003314,
          -1.0913452911843,
          0.49682186900742054,
          -0.7161427147264142,
          0.09276153992295592,
          -0.25963221710747514,
          -1.1090280610525889,
          -0.7998864525525252,
          -0.8098890761466924,
          -0.20105621016424333,
          0.1770344320014994,
          0.3390029444408896,
          0.2616794294084994,
          0.6663677877948193,
          0.9533830725866774,
          -1.7362341026178667,
          0.8675164031016456,
          -1.5675430085627995,
          0.37211122103752325,
          -0.20081859338787414,
          -0.12706689419031494,
          -0.888116580743796,
          0.27249834505445314,
          0.38168853201009584,
          -0.2607787387898964,
          -1.5795945729236718,
          1.0318911512090052,
          -1.5119880807061745,
          1.3931692810587257,
          1.2485317772084956,
          0.3060318753194821,
          0.06058482990039677,
          2.2533512860350666,
          1.007225023983177,
          -1.9024510000280583,
          -0.5030995515955998,
          -0.0911785905444012,
          -0.629844471944149,
          0.02239790860322817,
          -0.9432430696669399
         ],
         "yaxis": "y8"
        },
        {
         "line": {
          "color": "rgba(128, 128, 128, 1.0)",
          "dash": "solid",
          "shape": "linear",
          "width": 1.3
         },
         "marker": {
          "size": 2,
          "symbol": "circle"
         },
         "mode": "markers",
         "name": "C",
         "text": "",
         "type": "scatter",
         "x": [
          0.9772529650350968,
          0.5218543729070486,
          -1.3425139027153372,
          -0.05968356667477004,
          0.24086815280399745,
          -1.1957452750168351,
          -0.08736966178246539,
          0.18009465087374535,
          0.512243583584234,
          -0.6371363112717048,
          1.2443262778106092,
          0.791202106727671,
          -1.6256779578875453,
          -0.7243046739135806,
          2.0163625014039877,
          0.9753987594437837,
          -0.07390514834813688,
          -0.2024596128214472,
          0.5923843778745538,
          0.678796032042731,
          -0.6363720223064253,
          0.06496861018889219,
          -1.2100102604045566,
          -0.013360272881807508,
          1.794877271519686,
          -0.7224598288359991,
          -0.29906084071357086,
          -0.8912571088317855,
          -0.46584313608482464,
          -0.6882413919972891,
          0.3079827157745628,
          -0.8255652302452776,
          1.9574725990085684,
          -0.2526877691367265,
          0.07539985788774975,
          -0.39069290520673045,
          0.1052357852615328,
          0.15958547172864915,
          0.7624911985102074,
          0.2044917965927145,
          1.2364757226460792,
          0.9844501052457368,
          0.9795933705716623,
          0.9656172541445607,
          0.7984613185429534,
          -0.31879838713084346,
          -0.2211780849142802,
          1.2330415670872872,
          0.9770354600032393,
          -0.6415066151771763,
          0.6134527509100443,
          0.19729006206632116,
          0.8874492070213218,
          0.3337259453809492,
          -0.5463984445333802,
          -0.455996414199671,
          -2.0580361094423023,
          3.381674053066615,
          -1.1366621822686953,
          0.7447885541103118,
          -0.5705971042451976,
          0.3343406551250657,
          -2.2582422766705315,
          1.447534518129494,
          -0.16495236544310013,
          0.8076122116698414,
          0.2719706049023909,
          1.9924740417907814,
          -0.01944140469513046,
          1.3502425502153055,
          -0.27636349866641563,
          -0.49966340781958557,
          0.10491312172505367,
          0.6781354154037323,
          1.3191234412912474,
          0.1147419140978155,
          -0.5338285920957705,
          0.8183177454197698,
          0.20453625705143474,
          -0.48516951297920824,
          -0.30436438553366446,
          0.23705375221620864,
          0.26833263142911373,
          1.271155900698707,
          1.7491368764367385,
          -0.37603404281219305,
          -0.0797561534323506,
          -1.440578173961911,
          1.5701202008294266,
          0.2906986884234425,
          -0.2304088911901656,
          0.6432755130200528,
          -0.7486141025136326,
          1.1785804083139362,
          0.446897875290842,
          -0.3529696223043142,
          -0.2243348521355656,
          1.9473415438312296,
          -0.36828542344963616,
          -0.16310864128344058
         ],
         "xaxis": "x9",
         "y": [
          -0.19539164526406066,
          -0.13392272429528673,
          -0.20697179620540213,
          1.0219423684662838,
          -2.419680862732682,
          0.42340187797427564,
          0.27543977733548325,
          0.5322887330986481,
          -0.3742731008823676,
          0.806800967593332,
          0.520507771066039,
          2.4245243867521675,
          0.04565115863423383,
          -0.6667508209050528,
          -0.8922936027698372,
          -0.17758480742284974,
          0.12281757417563029,
          -0.6848615878580517,
          -1.258355012448714,
          -1.344930470338531,
          0.11939952814482498,
          -0.44130576430841806,
          -0.7858569436583683,
          0.47092497736239164,
          -0.06693209733790141,
          -2.2427572199217516,
          0.6297100420806422,
          -0.07915278352681059,
          0.5401522029535316,
          0.7550946768311247,
          -0.7615842849558506,
          0.6434132331202398,
          -0.960482390504063,
          0.3141838016130222,
          0.26300639517836916,
          0.787102487845185,
          0.7508523136094482,
          0.6665136713812614,
          -1.72039490120812,
          1.6343322231599189,
          1.5282890221724952,
          -0.18136780499686317,
          0.8433327653313499,
          -0.0845232303654236,
          -0.4599277250369489,
          -1.0329722016607104,
          0.14121524762472068,
          -0.833200139919371,
          -1.8464815420543754,
          -0.11690944571128538,
          -0.04081994319852998,
          1.014790360423072,
          -1.2596267306024636,
          -0.801739830430961,
          -0.0010881173587275106,
          1.6944043197553824,
          -0.3154802946913143,
          0.2640060078470049,
          0.2938490898494173,
          -0.4638620868647608,
          -1.279534349303109,
          -1.3804875841530997,
          -1.559979670426831,
          -0.5696969171920921,
          -0.8826885874985527,
          0.2570256589600279,
          0.38996235422552683,
          -1.5286554813579205,
          0.19189436488159947,
          -0.32248736969409897,
          -1.014118238998222,
          -1.9113341500983831,
          -0.4437006225995927,
          0.10836449327639262,
          -0.14734927729922,
          0.20038220477498528,
          0.26958280260928935,
          -0.35284711851174194,
          -0.1038876238561292,
          -1.3286737387037622,
          0.023896319930620694,
          1.2526337213488998,
          0.3061060071707258,
          -1.3855284882906498,
          1.9707255777902948,
          0.8585466233942723,
          1.0709979035477255,
          -0.19073775807443968,
          1.932427830975665,
          0.30651822793031425,
          1.208864377091442,
          0.336225761942993,
          -0.9675375067128238,
          -0.5205547210823098,
          0.3259429142118365,
          0.29868893725399237,
          0.16867532069482036,
          1.1338583577333696,
          -0.33539854397769125,
          0.4751337886239071
         ],
         "yaxis": "y9"
        },
        {
         "line": {
          "color": "rgba(128, 128, 128, 1.0)",
          "dash": "solid",
          "shape": "linear",
          "width": 1.3
         },
         "marker": {
          "size": 2,
          "symbol": "circle"
         },
         "mode": "markers",
         "name": "C",
         "text": "",
         "type": "scatter",
         "x": [
          1.627388172473467,
          -0.8055067503825576,
          -1.8482576626966893,
          -2.9508607787893504,
          -0.32335265753489617,
          0.34396454509112384,
          0.0748057306504219,
          -1.8613842333289714,
          -1.3054652244299114,
          -1.3950506650475032,
          -1.1909701866128817,
          -0.05600815639471173,
          -0.5220511445209809,
          1.7492337790952306,
          -0.30286042790837125,
          -0.5580053043644606,
          -0.6197392766868668,
          1.023399305708221,
          -0.41677319052226636,
          2.192760839374185,
          -1.1161176336915652,
          -1.354754603690455,
          -0.18704357075833125,
          -0.17703127653905834,
          -0.5993704874414364,
          -0.6031010592370301,
          -0.8988267617328992,
          -0.8729996927258223,
          0.04349488140203181,
          1.60947917489961,
          0.34925259655212826,
          0.6781613116198999,
          -0.03427721363269522,
          0.17477742791449075,
          -0.2004842888242854,
          -1.6276521435903657,
          0.5692665300316379,
          1.671766451463639,
          -0.4217916920003711,
          0.39696041791866643,
          0.013317925282218058,
          -0.05556788618969299,
          0.2866084770378429,
          -2.1326375060042717,
          -0.1615151310401847,
          -2.1594687872988834,
          0.5562396695236108,
          -1.8767688706543055,
          0.06462746376191478,
          0.7248550736349361,
          1.0337482553746316,
          -1.1933360704841973,
          -2.022229691502361,
          0.15446421559972934,
          -0.7865937458726904,
          1.2071813089588264,
          0.473669013265368,
          2.1895861468746367,
          1.054067862100585,
          -0.6768707755074235,
          0.18993852777003314,
          -1.0913452911843,
          0.49682186900742054,
          -0.7161427147264142,
          0.09276153992295592,
          -0.25963221710747514,
          -1.1090280610525889,
          -0.7998864525525252,
          -0.8098890761466924,
          -0.20105621016424333,
          0.1770344320014994,
          0.3390029444408896,
          0.2616794294084994,
          0.6663677877948193,
          0.9533830725866774,
          -1.7362341026178667,
          0.8675164031016456,
          -1.5675430085627995,
          0.37211122103752325,
          -0.20081859338787414,
          -0.12706689419031494,
          -0.888116580743796,
          0.27249834505445314,
          0.38168853201009584,
          -0.2607787387898964,
          -1.5795945729236718,
          1.0318911512090052,
          -1.5119880807061745,
          1.3931692810587257,
          1.2485317772084956,
          0.3060318753194821,
          0.06058482990039677,
          2.2533512860350666,
          1.007225023983177,
          -1.9024510000280583,
          -0.5030995515955998,
          -0.0911785905444012,
          -0.629844471944149,
          0.02239790860322817,
          -0.9432430696669399
         ],
         "xaxis": "x10",
         "y": [
          -0.19539164526406066,
          -0.13392272429528673,
          -0.20697179620540213,
          1.0219423684662838,
          -2.419680862732682,
          0.42340187797427564,
          0.27543977733548325,
          0.5322887330986481,
          -0.3742731008823676,
          0.806800967593332,
          0.520507771066039,
          2.4245243867521675,
          0.04565115863423383,
          -0.6667508209050528,
          -0.8922936027698372,
          -0.17758480742284974,
          0.12281757417563029,
          -0.6848615878580517,
          -1.258355012448714,
          -1.344930470338531,
          0.11939952814482498,
          -0.44130576430841806,
          -0.7858569436583683,
          0.47092497736239164,
          -0.06693209733790141,
          -2.2427572199217516,
          0.6297100420806422,
          -0.07915278352681059,
          0.5401522029535316,
          0.7550946768311247,
          -0.7615842849558506,
          0.6434132331202398,
          -0.960482390504063,
          0.3141838016130222,
          0.26300639517836916,
          0.787102487845185,
          0.7508523136094482,
          0.6665136713812614,
          -1.72039490120812,
          1.6343322231599189,
          1.5282890221724952,
          -0.18136780499686317,
          0.8433327653313499,
          -0.0845232303654236,
          -0.4599277250369489,
          -1.0329722016607104,
          0.14121524762472068,
          -0.833200139919371,
          -1.8464815420543754,
          -0.11690944571128538,
          -0.04081994319852998,
          1.014790360423072,
          -1.2596267306024636,
          -0.801739830430961,
          -0.0010881173587275106,
          1.6944043197553824,
          -0.3154802946913143,
          0.2640060078470049,
          0.2938490898494173,
          -0.4638620868647608,
          -1.279534349303109,
          -1.3804875841530997,
          -1.559979670426831,
          -0.5696969171920921,
          -0.8826885874985527,
          0.2570256589600279,
          0.38996235422552683,
          -1.5286554813579205,
          0.19189436488159947,
          -0.32248736969409897,
          -1.014118238998222,
          -1.9113341500983831,
          -0.4437006225995927,
          0.10836449327639262,
          -0.14734927729922,
          0.20038220477498528,
          0.26958280260928935,
          -0.35284711851174194,
          -0.1038876238561292,
          -1.3286737387037622,
          0.023896319930620694,
          1.2526337213488998,
          0.3061060071707258,
          -1.3855284882906498,
          1.9707255777902948,
          0.8585466233942723,
          1.0709979035477255,
          -0.19073775807443968,
          1.932427830975665,
          0.30651822793031425,
          1.208864377091442,
          0.336225761942993,
          -0.9675375067128238,
          -0.5205547210823098,
          0.3259429142118365,
          0.29868893725399237,
          0.16867532069482036,
          1.1338583577333696,
          -0.33539854397769125,
          0.4751337886239071
         ],
         "yaxis": "y10"
        },
        {
         "histfunc": "count",
         "histnorm": "",
         "marker": {
          "color": "rgba(50, 171, 96, 1.0)",
          "line": {
           "color": "#4D5663",
           "width": 1.3
          }
         },
         "name": "C",
         "nbinsx": 10,
         "opacity": 0.8,
         "orientation": "v",
         "type": "histogram",
         "x": [
          -0.19539164526406066,
          -0.13392272429528673,
          -0.20697179620540213,
          1.0219423684662838,
          -2.419680862732682,
          0.42340187797427564,
          0.27543977733548325,
          0.5322887330986481,
          -0.3742731008823676,
          0.806800967593332,
          0.520507771066039,
          2.4245243867521675,
          0.04565115863423383,
          -0.6667508209050528,
          -0.8922936027698372,
          -0.17758480742284974,
          0.12281757417563029,
          -0.6848615878580517,
          -1.258355012448714,
          -1.344930470338531,
          0.11939952814482498,
          -0.44130576430841806,
          -0.7858569436583683,
          0.47092497736239164,
          -0.06693209733790141,
          -2.2427572199217516,
          0.6297100420806422,
          -0.07915278352681059,
          0.5401522029535316,
          0.7550946768311247,
          -0.7615842849558506,
          0.6434132331202398,
          -0.960482390504063,
          0.3141838016130222,
          0.26300639517836916,
          0.787102487845185,
          0.7508523136094482,
          0.6665136713812614,
          -1.72039490120812,
          1.6343322231599189,
          1.5282890221724952,
          -0.18136780499686317,
          0.8433327653313499,
          -0.0845232303654236,
          -0.4599277250369489,
          -1.0329722016607104,
          0.14121524762472068,
          -0.833200139919371,
          -1.8464815420543754,
          -0.11690944571128538,
          -0.04081994319852998,
          1.014790360423072,
          -1.2596267306024636,
          -0.801739830430961,
          -0.0010881173587275106,
          1.6944043197553824,
          -0.3154802946913143,
          0.2640060078470049,
          0.2938490898494173,
          -0.4638620868647608,
          -1.279534349303109,
          -1.3804875841530997,
          -1.559979670426831,
          -0.5696969171920921,
          -0.8826885874985527,
          0.2570256589600279,
          0.38996235422552683,
          -1.5286554813579205,
          0.19189436488159947,
          -0.32248736969409897,
          -1.014118238998222,
          -1.9113341500983831,
          -0.4437006225995927,
          0.10836449327639262,
          -0.14734927729922,
          0.20038220477498528,
          0.26958280260928935,
          -0.35284711851174194,
          -0.1038876238561292,
          -1.3286737387037622,
          0.023896319930620694,
          1.2526337213488998,
          0.3061060071707258,
          -1.3855284882906498,
          1.9707255777902948,
          0.8585466233942723,
          1.0709979035477255,
          -0.19073775807443968,
          1.932427830975665,
          0.30651822793031425,
          1.208864377091442,
          0.336225761942993,
          -0.9675375067128238,
          -0.5205547210823098,
          0.3259429142118365,
          0.29868893725399237,
          0.16867532069482036,
          1.1338583577333696,
          -0.33539854397769125,
          0.4751337886239071
         ],
         "xaxis": "x11",
         "yaxis": "y11"
        },
        {
         "line": {
          "color": "rgba(128, 128, 128, 1.0)",
          "dash": "solid",
          "shape": "linear",
          "width": 1.3
         },
         "marker": {
          "size": 2,
          "symbol": "circle"
         },
         "mode": "markers",
         "name": "C",
         "text": "",
         "type": "scatter",
         "x": [
          0.6953126025177219,
          0.2501971988194661,
          -0.18943585964256668,
          0.2620842172478777,
          -0.4416429011686252,
          -0.008532947894072208,
          -0.3331736662411075,
          -1.9244628043133278,
          0.4896072840955004,
          -0.45302281370384573,
          1.2911895760446588,
          0.3474282995525151,
          0.36010991189294794,
          0.9543193286390744,
          -0.7411571805292035,
          -1.4747530518581862,
          0.8286291779589134,
          1.8778546405408356,
          -0.8284875482802208,
          -0.5901008142607173,
          -0.990849139976589,
          0.1808103575132078,
          -1.328178186162896,
          0.46310454490676883,
          -0.961420946877116,
          -1.2911620649096904,
          1.6749696185097749,
          0.453933245260872,
          -1.0172394223171117,
          0.11602299628297065,
          1.1715007051391517,
          0.6527991382834483,
          0.4808263107261767,
          0.3301036618468011,
          -0.6837935464993281,
          -0.7226223116303302,
          0.8307976990920981,
          0.09531075888178817,
          -0.11073671633289299,
          -0.24777204660215887,
          -0.6768409591882902,
          1.028687964857132,
          0.07441310411614314,
          -0.17997391886250652,
          -0.36987556349704215,
          -0.39974551000947045,
          -2.3199737506869433,
          0.1079814015195673,
          -0.1915407007576155,
          0.7424057670662202,
          0.06271649554043134,
          0.2426577964862029,
          -1.0084702401105468,
          0.052678396436552706,
          -1.0874314306283388,
          -0.028154890174068133,
          0.21198491208658923,
          1.2236638673550357,
          1.1393515756660755,
          -0.0597005283276125,
          -0.02840902283679621,
          -0.5935823534890683,
          -0.9043167670752155,
          1.150216402953456,
          2.0294043200340615,
          -0.32109253853545544,
          0.8313268419444494,
          0.1952715931818143,
          -1.191699297482351,
          -0.6882193842418627,
          0.08804106784911958,
          1.0782344300787003,
          1.2509536267737478,
          -1.9855080746462799,
          -0.0671273700432608,
          0.9492101957447133,
          -0.10718563213569898,
          0.5552212441509886,
          1.3892086795678142,
          1.027926649156825,
          1.7633018540765841,
          -1.820198636670063,
          -1.653582584925675,
          -0.7776106599467563,
          2.778127355388952,
          -0.3018506041095579,
          1.3989560844995972,
          -0.5512443247038632,
          0.8572027216525815,
          -0.23744482693707122,
          0.180658603785055,
          -0.6237064194749184,
          0.03345365598418503,
          -0.1688411343385012,
          0.37594418824111686,
          1.3009120779506753,
          -0.8267717945732077,
          1.1486006445829764,
          -0.15534129819073617,
          0.021214372703046533
         ],
         "xaxis": "x12",
         "y": [
          -0.19539164526406066,
          -0.13392272429528673,
          -0.20697179620540213,
          1.0219423684662838,
          -2.419680862732682,
          0.42340187797427564,
          0.27543977733548325,
          0.5322887330986481,
          -0.3742731008823676,
          0.806800967593332,
          0.520507771066039,
          2.4245243867521675,
          0.04565115863423383,
          -0.6667508209050528,
          -0.8922936027698372,
          -0.17758480742284974,
          0.12281757417563029,
          -0.6848615878580517,
          -1.258355012448714,
          -1.344930470338531,
          0.11939952814482498,
          -0.44130576430841806,
          -0.7858569436583683,
          0.47092497736239164,
          -0.06693209733790141,
          -2.2427572199217516,
          0.6297100420806422,
          -0.07915278352681059,
          0.5401522029535316,
          0.7550946768311247,
          -0.7615842849558506,
          0.6434132331202398,
          -0.960482390504063,
          0.3141838016130222,
          0.26300639517836916,
          0.787102487845185,
          0.7508523136094482,
          0.6665136713812614,
          -1.72039490120812,
          1.6343322231599189,
          1.5282890221724952,
          -0.18136780499686317,
          0.8433327653313499,
          -0.0845232303654236,
          -0.4599277250369489,
          -1.0329722016607104,
          0.14121524762472068,
          -0.833200139919371,
          -1.8464815420543754,
          -0.11690944571128538,
          -0.04081994319852998,
          1.014790360423072,
          -1.2596267306024636,
          -0.801739830430961,
          -0.0010881173587275106,
          1.6944043197553824,
          -0.3154802946913143,
          0.2640060078470049,
          0.2938490898494173,
          -0.4638620868647608,
          -1.279534349303109,
          -1.3804875841530997,
          -1.559979670426831,
          -0.5696969171920921,
          -0.8826885874985527,
          0.2570256589600279,
          0.38996235422552683,
          -1.5286554813579205,
          0.19189436488159947,
          -0.32248736969409897,
          -1.014118238998222,
          -1.9113341500983831,
          -0.4437006225995927,
          0.10836449327639262,
          -0.14734927729922,
          0.20038220477498528,
          0.26958280260928935,
          -0.35284711851174194,
          -0.1038876238561292,
          -1.3286737387037622,
          0.023896319930620694,
          1.2526337213488998,
          0.3061060071707258,
          -1.3855284882906498,
          1.9707255777902948,
          0.8585466233942723,
          1.0709979035477255,
          -0.19073775807443968,
          1.932427830975665,
          0.30651822793031425,
          1.208864377091442,
          0.336225761942993,
          -0.9675375067128238,
          -0.5205547210823098,
          0.3259429142118365,
          0.29868893725399237,
          0.16867532069482036,
          1.1338583577333696,
          -0.33539854397769125,
          0.4751337886239071
         ],
         "yaxis": "y12"
        },
        {
         "line": {
          "color": "rgba(128, 128, 128, 1.0)",
          "dash": "solid",
          "shape": "linear",
          "width": 1.3
         },
         "marker": {
          "size": 2,
          "symbol": "circle"
         },
         "mode": "markers",
         "name": "D",
         "text": "",
         "type": "scatter",
         "x": [
          0.9772529650350968,
          0.5218543729070486,
          -1.3425139027153372,
          -0.05968356667477004,
          0.24086815280399745,
          -1.1957452750168351,
          -0.08736966178246539,
          0.18009465087374535,
          0.512243583584234,
          -0.6371363112717048,
          1.2443262778106092,
          0.791202106727671,
          -1.6256779578875453,
          -0.7243046739135806,
          2.0163625014039877,
          0.9753987594437837,
          -0.07390514834813688,
          -0.2024596128214472,
          0.5923843778745538,
          0.678796032042731,
          -0.6363720223064253,
          0.06496861018889219,
          -1.2100102604045566,
          -0.013360272881807508,
          1.794877271519686,
          -0.7224598288359991,
          -0.29906084071357086,
          -0.8912571088317855,
          -0.46584313608482464,
          -0.6882413919972891,
          0.3079827157745628,
          -0.8255652302452776,
          1.9574725990085684,
          -0.2526877691367265,
          0.07539985788774975,
          -0.39069290520673045,
          0.1052357852615328,
          0.15958547172864915,
          0.7624911985102074,
          0.2044917965927145,
          1.2364757226460792,
          0.9844501052457368,
          0.9795933705716623,
          0.9656172541445607,
          0.7984613185429534,
          -0.31879838713084346,
          -0.2211780849142802,
          1.2330415670872872,
          0.9770354600032393,
          -0.6415066151771763,
          0.6134527509100443,
          0.19729006206632116,
          0.8874492070213218,
          0.3337259453809492,
          -0.5463984445333802,
          -0.455996414199671,
          -2.0580361094423023,
          3.381674053066615,
          -1.1366621822686953,
          0.7447885541103118,
          -0.5705971042451976,
          0.3343406551250657,
          -2.2582422766705315,
          1.447534518129494,
          -0.16495236544310013,
          0.8076122116698414,
          0.2719706049023909,
          1.9924740417907814,
          -0.01944140469513046,
          1.3502425502153055,
          -0.27636349866641563,
          -0.49966340781958557,
          0.10491312172505367,
          0.6781354154037323,
          1.3191234412912474,
          0.1147419140978155,
          -0.5338285920957705,
          0.8183177454197698,
          0.20453625705143474,
          -0.48516951297920824,
          -0.30436438553366446,
          0.23705375221620864,
          0.26833263142911373,
          1.271155900698707,
          1.7491368764367385,
          -0.37603404281219305,
          -0.0797561534323506,
          -1.440578173961911,
          1.5701202008294266,
          0.2906986884234425,
          -0.2304088911901656,
          0.6432755130200528,
          -0.7486141025136326,
          1.1785804083139362,
          0.446897875290842,
          -0.3529696223043142,
          -0.2243348521355656,
          1.9473415438312296,
          -0.36828542344963616,
          -0.16310864128344058
         ],
         "xaxis": "x13",
         "y": [
          0.6953126025177219,
          0.2501971988194661,
          -0.18943585964256668,
          0.2620842172478777,
          -0.4416429011686252,
          -0.008532947894072208,
          -0.3331736662411075,
          -1.9244628043133278,
          0.4896072840955004,
          -0.45302281370384573,
          1.2911895760446588,
          0.3474282995525151,
          0.36010991189294794,
          0.9543193286390744,
          -0.7411571805292035,
          -1.4747530518581862,
          0.8286291779589134,
          1.8778546405408356,
          -0.8284875482802208,
          -0.5901008142607173,
          -0.990849139976589,
          0.1808103575132078,
          -1.328178186162896,
          0.46310454490676883,
          -0.961420946877116,
          -1.2911620649096904,
          1.6749696185097749,
          0.453933245260872,
          -1.0172394223171117,
          0.11602299628297065,
          1.1715007051391517,
          0.6527991382834483,
          0.4808263107261767,
          0.3301036618468011,
          -0.6837935464993281,
          -0.7226223116303302,
          0.8307976990920981,
          0.09531075888178817,
          -0.11073671633289299,
          -0.24777204660215887,
          -0.6768409591882902,
          1.028687964857132,
          0.07441310411614314,
          -0.17997391886250652,
          -0.36987556349704215,
          -0.39974551000947045,
          -2.3199737506869433,
          0.1079814015195673,
          -0.1915407007576155,
          0.7424057670662202,
          0.06271649554043134,
          0.2426577964862029,
          -1.0084702401105468,
          0.052678396436552706,
          -1.0874314306283388,
          -0.028154890174068133,
          0.21198491208658923,
          1.2236638673550357,
          1.1393515756660755,
          -0.0597005283276125,
          -0.02840902283679621,
          -0.5935823534890683,
          -0.9043167670752155,
          1.150216402953456,
          2.0294043200340615,
          -0.32109253853545544,
          0.8313268419444494,
          0.1952715931818143,
          -1.191699297482351,
          -0.6882193842418627,
          0.08804106784911958,
          1.0782344300787003,
          1.2509536267737478,
          -1.9855080746462799,
          -0.0671273700432608,
          0.9492101957447133,
          -0.10718563213569898,
          0.5552212441509886,
          1.3892086795678142,
          1.027926649156825,
          1.7633018540765841,
          -1.820198636670063,
          -1.653582584925675,
          -0.7776106599467563,
          2.778127355388952,
          -0.3018506041095579,
          1.3989560844995972,
          -0.5512443247038632,
          0.8572027216525815,
          -0.23744482693707122,
          0.180658603785055,
          -0.6237064194749184,
          0.03345365598418503,
          -0.1688411343385012,
          0.37594418824111686,
          1.3009120779506753,
          -0.8267717945732077,
          1.1486006445829764,
          -0.15534129819073617,
          0.021214372703046533
         ],
         "yaxis": "y13"
        },
        {
         "line": {
          "color": "rgba(128, 128, 128, 1.0)",
          "dash": "solid",
          "shape": "linear",
          "width": 1.3
         },
         "marker": {
          "size": 2,
          "symbol": "circle"
         },
         "mode": "markers",
         "name": "D",
         "text": "",
         "type": "scatter",
         "x": [
          1.627388172473467,
          -0.8055067503825576,
          -1.8482576626966893,
          -2.9508607787893504,
          -0.32335265753489617,
          0.34396454509112384,
          0.0748057306504219,
          -1.8613842333289714,
          -1.3054652244299114,
          -1.3950506650475032,
          -1.1909701866128817,
          -0.05600815639471173,
          -0.5220511445209809,
          1.7492337790952306,
          -0.30286042790837125,
          -0.5580053043644606,
          -0.6197392766868668,
          1.023399305708221,
          -0.41677319052226636,
          2.192760839374185,
          -1.1161176336915652,
          -1.354754603690455,
          -0.18704357075833125,
          -0.17703127653905834,
          -0.5993704874414364,
          -0.6031010592370301,
          -0.8988267617328992,
          -0.8729996927258223,
          0.04349488140203181,
          1.60947917489961,
          0.34925259655212826,
          0.6781613116198999,
          -0.03427721363269522,
          0.17477742791449075,
          -0.2004842888242854,
          -1.6276521435903657,
          0.5692665300316379,
          1.671766451463639,
          -0.4217916920003711,
          0.39696041791866643,
          0.013317925282218058,
          -0.05556788618969299,
          0.2866084770378429,
          -2.1326375060042717,
          -0.1615151310401847,
          -2.1594687872988834,
          0.5562396695236108,
          -1.8767688706543055,
          0.06462746376191478,
          0.7248550736349361,
          1.0337482553746316,
          -1.1933360704841973,
          -2.022229691502361,
          0.15446421559972934,
          -0.7865937458726904,
          1.2071813089588264,
          0.473669013265368,
          2.1895861468746367,
          1.054067862100585,
          -0.6768707755074235,
          0.18993852777003314,
          -1.0913452911843,
          0.49682186900742054,
          -0.7161427147264142,
          0.09276153992295592,
          -0.25963221710747514,
          -1.1090280610525889,
          -0.7998864525525252,
          -0.8098890761466924,
          -0.20105621016424333,
          0.1770344320014994,
          0.3390029444408896,
          0.2616794294084994,
          0.6663677877948193,
          0.9533830725866774,
          -1.7362341026178667,
          0.8675164031016456,
          -1.5675430085627995,
          0.37211122103752325,
          -0.20081859338787414,
          -0.12706689419031494,
          -0.888116580743796,
          0.27249834505445314,
          0.38168853201009584,
          -0.2607787387898964,
          -1.5795945729236718,
          1.0318911512090052,
          -1.5119880807061745,
          1.3931692810587257,
          1.2485317772084956,
          0.3060318753194821,
          0.06058482990039677,
          2.2533512860350666,
          1.007225023983177,
          -1.9024510000280583,
          -0.5030995515955998,
          -0.0911785905444012,
          -0.629844471944149,
          0.02239790860322817,
          -0.9432430696669399
         ],
         "xaxis": "x14",
         "y": [
          0.6953126025177219,
          0.2501971988194661,
          -0.18943585964256668,
          0.2620842172478777,
          -0.4416429011686252,
          -0.008532947894072208,
          -0.3331736662411075,
          -1.9244628043133278,
          0.4896072840955004,
          -0.45302281370384573,
          1.2911895760446588,
          0.3474282995525151,
          0.36010991189294794,
          0.9543193286390744,
          -0.7411571805292035,
          -1.4747530518581862,
          0.8286291779589134,
          1.8778546405408356,
          -0.8284875482802208,
          -0.5901008142607173,
          -0.990849139976589,
          0.1808103575132078,
          -1.328178186162896,
          0.46310454490676883,
          -0.961420946877116,
          -1.2911620649096904,
          1.6749696185097749,
          0.453933245260872,
          -1.0172394223171117,
          0.11602299628297065,
          1.1715007051391517,
          0.6527991382834483,
          0.4808263107261767,
          0.3301036618468011,
          -0.6837935464993281,
          -0.7226223116303302,
          0.8307976990920981,
          0.09531075888178817,
          -0.11073671633289299,
          -0.24777204660215887,
          -0.6768409591882902,
          1.028687964857132,
          0.07441310411614314,
          -0.17997391886250652,
          -0.36987556349704215,
          -0.39974551000947045,
          -2.3199737506869433,
          0.1079814015195673,
          -0.1915407007576155,
          0.7424057670662202,
          0.06271649554043134,
          0.2426577964862029,
          -1.0084702401105468,
          0.052678396436552706,
          -1.0874314306283388,
          -0.028154890174068133,
          0.21198491208658923,
          1.2236638673550357,
          1.1393515756660755,
          -0.0597005283276125,
          -0.02840902283679621,
          -0.5935823534890683,
          -0.9043167670752155,
          1.150216402953456,
          2.0294043200340615,
          -0.32109253853545544,
          0.8313268419444494,
          0.1952715931818143,
          -1.191699297482351,
          -0.6882193842418627,
          0.08804106784911958,
          1.0782344300787003,
          1.2509536267737478,
          -1.9855080746462799,
          -0.0671273700432608,
          0.9492101957447133,
          -0.10718563213569898,
          0.5552212441509886,
          1.3892086795678142,
          1.027926649156825,
          1.7633018540765841,
          -1.820198636670063,
          -1.653582584925675,
          -0.7776106599467563,
          2.778127355388952,
          -0.3018506041095579,
          1.3989560844995972,
          -0.5512443247038632,
          0.8572027216525815,
          -0.23744482693707122,
          0.180658603785055,
          -0.6237064194749184,
          0.03345365598418503,
          -0.1688411343385012,
          0.37594418824111686,
          1.3009120779506753,
          -0.8267717945732077,
          1.1486006445829764,
          -0.15534129819073617,
          0.021214372703046533
         ],
         "yaxis": "y14"
        },
        {
         "line": {
          "color": "rgba(128, 128, 128, 1.0)",
          "dash": "solid",
          "shape": "linear",
          "width": 1.3
         },
         "marker": {
          "size": 2,
          "symbol": "circle"
         },
         "mode": "markers",
         "name": "D",
         "text": "",
         "type": "scatter",
         "x": [
          -0.19539164526406066,
          -0.13392272429528673,
          -0.20697179620540213,
          1.0219423684662838,
          -2.419680862732682,
          0.42340187797427564,
          0.27543977733548325,
          0.5322887330986481,
          -0.3742731008823676,
          0.806800967593332,
          0.520507771066039,
          2.4245243867521675,
          0.04565115863423383,
          -0.6667508209050528,
          -0.8922936027698372,
          -0.17758480742284974,
          0.12281757417563029,
          -0.6848615878580517,
          -1.258355012448714,
          -1.344930470338531,
          0.11939952814482498,
          -0.44130576430841806,
          -0.7858569436583683,
          0.47092497736239164,
          -0.06693209733790141,
          -2.2427572199217516,
          0.6297100420806422,
          -0.07915278352681059,
          0.5401522029535316,
          0.7550946768311247,
          -0.7615842849558506,
          0.6434132331202398,
          -0.960482390504063,
          0.3141838016130222,
          0.26300639517836916,
          0.787102487845185,
          0.7508523136094482,
          0.6665136713812614,
          -1.72039490120812,
          1.6343322231599189,
          1.5282890221724952,
          -0.18136780499686317,
          0.8433327653313499,
          -0.0845232303654236,
          -0.4599277250369489,
          -1.0329722016607104,
          0.14121524762472068,
          -0.833200139919371,
          -1.8464815420543754,
          -0.11690944571128538,
          -0.04081994319852998,
          1.014790360423072,
          -1.2596267306024636,
          -0.801739830430961,
          -0.0010881173587275106,
          1.6944043197553824,
          -0.3154802946913143,
          0.2640060078470049,
          0.2938490898494173,
          -0.4638620868647608,
          -1.279534349303109,
          -1.3804875841530997,
          -1.559979670426831,
          -0.5696969171920921,
          -0.8826885874985527,
          0.2570256589600279,
          0.38996235422552683,
          -1.5286554813579205,
          0.19189436488159947,
          -0.32248736969409897,
          -1.014118238998222,
          -1.9113341500983831,
          -0.4437006225995927,
          0.10836449327639262,
          -0.14734927729922,
          0.20038220477498528,
          0.26958280260928935,
          -0.35284711851174194,
          -0.1038876238561292,
          -1.3286737387037622,
          0.023896319930620694,
          1.2526337213488998,
          0.3061060071707258,
          -1.3855284882906498,
          1.9707255777902948,
          0.8585466233942723,
          1.0709979035477255,
          -0.19073775807443968,
          1.932427830975665,
          0.30651822793031425,
          1.208864377091442,
          0.336225761942993,
          -0.9675375067128238,
          -0.5205547210823098,
          0.3259429142118365,
          0.29868893725399237,
          0.16867532069482036,
          1.1338583577333696,
          -0.33539854397769125,
          0.4751337886239071
         ],
         "xaxis": "x15",
         "y": [
          0.6953126025177219,
          0.2501971988194661,
          -0.18943585964256668,
          0.2620842172478777,
          -0.4416429011686252,
          -0.008532947894072208,
          -0.3331736662411075,
          -1.9244628043133278,
          0.4896072840955004,
          -0.45302281370384573,
          1.2911895760446588,
          0.3474282995525151,
          0.36010991189294794,
          0.9543193286390744,
          -0.7411571805292035,
          -1.4747530518581862,
          0.8286291779589134,
          1.8778546405408356,
          -0.8284875482802208,
          -0.5901008142607173,
          -0.990849139976589,
          0.1808103575132078,
          -1.328178186162896,
          0.46310454490676883,
          -0.961420946877116,
          -1.2911620649096904,
          1.6749696185097749,
          0.453933245260872,
          -1.0172394223171117,
          0.11602299628297065,
          1.1715007051391517,
          0.6527991382834483,
          0.4808263107261767,
          0.3301036618468011,
          -0.6837935464993281,
          -0.7226223116303302,
          0.8307976990920981,
          0.09531075888178817,
          -0.11073671633289299,
          -0.24777204660215887,
          -0.6768409591882902,
          1.028687964857132,
          0.07441310411614314,
          -0.17997391886250652,
          -0.36987556349704215,
          -0.39974551000947045,
          -2.3199737506869433,
          0.1079814015195673,
          -0.1915407007576155,
          0.7424057670662202,
          0.06271649554043134,
          0.2426577964862029,
          -1.0084702401105468,
          0.052678396436552706,
          -1.0874314306283388,
          -0.028154890174068133,
          0.21198491208658923,
          1.2236638673550357,
          1.1393515756660755,
          -0.0597005283276125,
          -0.02840902283679621,
          -0.5935823534890683,
          -0.9043167670752155,
          1.150216402953456,
          2.0294043200340615,
          -0.32109253853545544,
          0.8313268419444494,
          0.1952715931818143,
          -1.191699297482351,
          -0.6882193842418627,
          0.08804106784911958,
          1.0782344300787003,
          1.2509536267737478,
          -1.9855080746462799,
          -0.0671273700432608,
          0.9492101957447133,
          -0.10718563213569898,
          0.5552212441509886,
          1.3892086795678142,
          1.027926649156825,
          1.7633018540765841,
          -1.820198636670063,
          -1.653582584925675,
          -0.7776106599467563,
          2.778127355388952,
          -0.3018506041095579,
          1.3989560844995972,
          -0.5512443247038632,
          0.8572027216525815,
          -0.23744482693707122,
          0.180658603785055,
          -0.6237064194749184,
          0.03345365598418503,
          -0.1688411343385012,
          0.37594418824111686,
          1.3009120779506753,
          -0.8267717945732077,
          1.1486006445829764,
          -0.15534129819073617,
          0.021214372703046533
         ],
         "yaxis": "y15"
        },
        {
         "histfunc": "count",
         "histnorm": "",
         "marker": {
          "color": "rgba(128, 0, 128, 1.0)",
          "line": {
           "color": "#4D5663",
           "width": 1.3
          }
         },
         "name": "D",
         "nbinsx": 10,
         "opacity": 0.8,
         "orientation": "v",
         "type": "histogram",
         "x": [
          0.6953126025177219,
          0.2501971988194661,
          -0.18943585964256668,
          0.2620842172478777,
          -0.4416429011686252,
          -0.008532947894072208,
          -0.3331736662411075,
          -1.9244628043133278,
          0.4896072840955004,
          -0.45302281370384573,
          1.2911895760446588,
          0.3474282995525151,
          0.36010991189294794,
          0.9543193286390744,
          -0.7411571805292035,
          -1.4747530518581862,
          0.8286291779589134,
          1.8778546405408356,
          -0.8284875482802208,
          -0.5901008142607173,
          -0.990849139976589,
          0.1808103575132078,
          -1.328178186162896,
          0.46310454490676883,
          -0.961420946877116,
          -1.2911620649096904,
          1.6749696185097749,
          0.453933245260872,
          -1.0172394223171117,
          0.11602299628297065,
          1.1715007051391517,
          0.6527991382834483,
          0.4808263107261767,
          0.3301036618468011,
          -0.6837935464993281,
          -0.7226223116303302,
          0.8307976990920981,
          0.09531075888178817,
          -0.11073671633289299,
          -0.24777204660215887,
          -0.6768409591882902,
          1.028687964857132,
          0.07441310411614314,
          -0.17997391886250652,
          -0.36987556349704215,
          -0.39974551000947045,
          -2.3199737506869433,
          0.1079814015195673,
          -0.1915407007576155,
          0.7424057670662202,
          0.06271649554043134,
          0.2426577964862029,
          -1.0084702401105468,
          0.052678396436552706,
          -1.0874314306283388,
          -0.028154890174068133,
          0.21198491208658923,
          1.2236638673550357,
          1.1393515756660755,
          -0.0597005283276125,
          -0.02840902283679621,
          -0.5935823534890683,
          -0.9043167670752155,
          1.150216402953456,
          2.0294043200340615,
          -0.32109253853545544,
          0.8313268419444494,
          0.1952715931818143,
          -1.191699297482351,
          -0.6882193842418627,
          0.08804106784911958,
          1.0782344300787003,
          1.2509536267737478,
          -1.9855080746462799,
          -0.0671273700432608,
          0.9492101957447133,
          -0.10718563213569898,
          0.5552212441509886,
          1.3892086795678142,
          1.027926649156825,
          1.7633018540765841,
          -1.820198636670063,
          -1.653582584925675,
          -0.7776106599467563,
          2.778127355388952,
          -0.3018506041095579,
          1.3989560844995972,
          -0.5512443247038632,
          0.8572027216525815,
          -0.23744482693707122,
          0.180658603785055,
          -0.6237064194749184,
          0.03345365598418503,
          -0.1688411343385012,
          0.37594418824111686,
          1.3009120779506753,
          -0.8267717945732077,
          1.1486006445829764,
          -0.15534129819073617,
          0.021214372703046533
         ],
         "xaxis": "x16",
         "yaxis": "y16"
        }
       ],
       "layout": {
        "bargap": 0.02,
        "legend": {
         "bgcolor": "#F5F6F9",
         "font": {
          "color": "#4D5663"
         }
        },
        "paper_bgcolor": "#F5F6F9",
        "plot_bgcolor": "#F5F6F9",
        "showlegend": false,
        "template": {
         "data": {
          "bar": [
           {
            "error_x": {
             "color": "#2a3f5f"
            },
            "error_y": {
             "color": "#2a3f5f"
            },
            "marker": {
             "line": {
              "color": "#E5ECF6",
              "width": 0.5
             },
             "pattern": {
              "fillmode": "overlay",
              "size": 10,
              "solidity": 0.2
             }
            },
            "type": "bar"
           }
          ],
          "barpolar": [
           {
            "marker": {
             "line": {
              "color": "#E5ECF6",
              "width": 0.5
             },
             "pattern": {
              "fillmode": "overlay",
              "size": 10,
              "solidity": 0.2
             }
            },
            "type": "barpolar"
           }
          ],
          "carpet": [
           {
            "aaxis": {
             "endlinecolor": "#2a3f5f",
             "gridcolor": "white",
             "linecolor": "white",
             "minorgridcolor": "white",
             "startlinecolor": "#2a3f5f"
            },
            "baxis": {
             "endlinecolor": "#2a3f5f",
             "gridcolor": "white",
             "linecolor": "white",
             "minorgridcolor": "white",
             "startlinecolor": "#2a3f5f"
            },
            "type": "carpet"
           }
          ],
          "choropleth": [
           {
            "colorbar": {
             "outlinewidth": 0,
             "ticks": ""
            },
            "type": "choropleth"
           }
          ],
          "contour": [
           {
            "colorbar": {
             "outlinewidth": 0,
             "ticks": ""
            },
            "colorscale": [
             [
              0,
              "#0d0887"
             ],
             [
              0.1111111111111111,
              "#46039f"
             ],
             [
              0.2222222222222222,
              "#7201a8"
             ],
             [
              0.3333333333333333,
              "#9c179e"
             ],
             [
              0.4444444444444444,
              "#bd3786"
             ],
             [
              0.5555555555555556,
              "#d8576b"
             ],
             [
              0.6666666666666666,
              "#ed7953"
             ],
             [
              0.7777777777777778,
              "#fb9f3a"
             ],
             [
              0.8888888888888888,
              "#fdca26"
             ],
             [
              1,
              "#f0f921"
             ]
            ],
            "type": "contour"
           }
          ],
          "contourcarpet": [
           {
            "colorbar": {
             "outlinewidth": 0,
             "ticks": ""
            },
            "type": "contourcarpet"
           }
          ],
          "heatmap": [
           {
            "colorbar": {
             "outlinewidth": 0,
             "ticks": ""
            },
            "colorscale": [
             [
              0,
              "#0d0887"
             ],
             [
              0.1111111111111111,
              "#46039f"
             ],
             [
              0.2222222222222222,
              "#7201a8"
             ],
             [
              0.3333333333333333,
              "#9c179e"
             ],
             [
              0.4444444444444444,
              "#bd3786"
             ],
             [
              0.5555555555555556,
              "#d8576b"
             ],
             [
              0.6666666666666666,
              "#ed7953"
             ],
             [
              0.7777777777777778,
              "#fb9f3a"
             ],
             [
              0.8888888888888888,
              "#fdca26"
             ],
             [
              1,
              "#f0f921"
             ]
            ],
            "type": "heatmap"
           }
          ],
          "heatmapgl": [
           {
            "colorbar": {
             "outlinewidth": 0,
             "ticks": ""
            },
            "colorscale": [
             [
              0,
              "#0d0887"
             ],
             [
              0.1111111111111111,
              "#46039f"
             ],
             [
              0.2222222222222222,
              "#7201a8"
             ],
             [
              0.3333333333333333,
              "#9c179e"
             ],
             [
              0.4444444444444444,
              "#bd3786"
             ],
             [
              0.5555555555555556,
              "#d8576b"
             ],
             [
              0.6666666666666666,
              "#ed7953"
             ],
             [
              0.7777777777777778,
              "#fb9f3a"
             ],
             [
              0.8888888888888888,
              "#fdca26"
             ],
             [
              1,
              "#f0f921"
             ]
            ],
            "type": "heatmapgl"
           }
          ],
          "histogram": [
           {
            "marker": {
             "pattern": {
              "fillmode": "overlay",
              "size": 10,
              "solidity": 0.2
             }
            },
            "type": "histogram"
           }
          ],
          "histogram2d": [
           {
            "colorbar": {
             "outlinewidth": 0,
             "ticks": ""
            },
            "colorscale": [
             [
              0,
              "#0d0887"
             ],
             [
              0.1111111111111111,
              "#46039f"
             ],
             [
              0.2222222222222222,
              "#7201a8"
             ],
             [
              0.3333333333333333,
              "#9c179e"
             ],
             [
              0.4444444444444444,
              "#bd3786"
             ],
             [
              0.5555555555555556,
              "#d8576b"
             ],
             [
              0.6666666666666666,
              "#ed7953"
             ],
             [
              0.7777777777777778,
              "#fb9f3a"
             ],
             [
              0.8888888888888888,
              "#fdca26"
             ],
             [
              1,
              "#f0f921"
             ]
            ],
            "type": "histogram2d"
           }
          ],
          "histogram2dcontour": [
           {
            "colorbar": {
             "outlinewidth": 0,
             "ticks": ""
            },
            "colorscale": [
             [
              0,
              "#0d0887"
             ],
             [
              0.1111111111111111,
              "#46039f"
             ],
             [
              0.2222222222222222,
              "#7201a8"
             ],
             [
              0.3333333333333333,
              "#9c179e"
             ],
             [
              0.4444444444444444,
              "#bd3786"
             ],
             [
              0.5555555555555556,
              "#d8576b"
             ],
             [
              0.6666666666666666,
              "#ed7953"
             ],
             [
              0.7777777777777778,
              "#fb9f3a"
             ],
             [
              0.8888888888888888,
              "#fdca26"
             ],
             [
              1,
              "#f0f921"
             ]
            ],
            "type": "histogram2dcontour"
           }
          ],
          "mesh3d": [
           {
            "colorbar": {
             "outlinewidth": 0,
             "ticks": ""
            },
            "type": "mesh3d"
           }
          ],
          "parcoords": [
           {
            "line": {
             "colorbar": {
              "outlinewidth": 0,
              "ticks": ""
             }
            },
            "type": "parcoords"
           }
          ],
          "pie": [
           {
            "automargin": true,
            "type": "pie"
           }
          ],
          "scatter": [
           {
            "marker": {
             "colorbar": {
              "outlinewidth": 0,
              "ticks": ""
             }
            },
            "type": "scatter"
           }
          ],
          "scatter3d": [
           {
            "line": {
             "colorbar": {
              "outlinewidth": 0,
              "ticks": ""
             }
            },
            "marker": {
             "colorbar": {
              "outlinewidth": 0,
              "ticks": ""
             }
            },
            "type": "scatter3d"
           }
          ],
          "scattercarpet": [
           {
            "marker": {
             "colorbar": {
              "outlinewidth": 0,
              "ticks": ""
             }
            },
            "type": "scattercarpet"
           }
          ],
          "scattergeo": [
           {
            "marker": {
             "colorbar": {
              "outlinewidth": 0,
              "ticks": ""
             }
            },
            "type": "scattergeo"
           }
          ],
          "scattergl": [
           {
            "marker": {
             "colorbar": {
              "outlinewidth": 0,
              "ticks": ""
             }
            },
            "type": "scattergl"
           }
          ],
          "scattermapbox": [
           {
            "marker": {
             "colorbar": {
              "outlinewidth": 0,
              "ticks": ""
             }
            },
            "type": "scattermapbox"
           }
          ],
          "scatterpolar": [
           {
            "marker": {
             "colorbar": {
              "outlinewidth": 0,
              "ticks": ""
             }
            },
            "type": "scatterpolar"
           }
          ],
          "scatterpolargl": [
           {
            "marker": {
             "colorbar": {
              "outlinewidth": 0,
              "ticks": ""
             }
            },
            "type": "scatterpolargl"
           }
          ],
          "scatterternary": [
           {
            "marker": {
             "colorbar": {
              "outlinewidth": 0,
              "ticks": ""
             }
            },
            "type": "scatterternary"
           }
          ],
          "surface": [
           {
            "colorbar": {
             "outlinewidth": 0,
             "ticks": ""
            },
            "colorscale": [
             [
              0,
              "#0d0887"
             ],
             [
              0.1111111111111111,
              "#46039f"
             ],
             [
              0.2222222222222222,
              "#7201a8"
             ],
             [
              0.3333333333333333,
              "#9c179e"
             ],
             [
              0.4444444444444444,
              "#bd3786"
             ],
             [
              0.5555555555555556,
              "#d8576b"
             ],
             [
              0.6666666666666666,
              "#ed7953"
             ],
             [
              0.7777777777777778,
              "#fb9f3a"
             ],
             [
              0.8888888888888888,
              "#fdca26"
             ],
             [
              1,
              "#f0f921"
             ]
            ],
            "type": "surface"
           }
          ],
          "table": [
           {
            "cells": {
             "fill": {
              "color": "#EBF0F8"
             },
             "line": {
              "color": "white"
             }
            },
            "header": {
             "fill": {
              "color": "#C8D4E3"
             },
             "line": {
              "color": "white"
             }
            },
            "type": "table"
           }
          ]
         },
         "layout": {
          "annotationdefaults": {
           "arrowcolor": "#2a3f5f",
           "arrowhead": 0,
           "arrowwidth": 1
          },
          "autotypenumbers": "strict",
          "coloraxis": {
           "colorbar": {
            "outlinewidth": 0,
            "ticks": ""
           }
          },
          "colorscale": {
           "diverging": [
            [
             0,
             "#8e0152"
            ],
            [
             0.1,
             "#c51b7d"
            ],
            [
             0.2,
             "#de77ae"
            ],
            [
             0.3,
             "#f1b6da"
            ],
            [
             0.4,
             "#fde0ef"
            ],
            [
             0.5,
             "#f7f7f7"
            ],
            [
             0.6,
             "#e6f5d0"
            ],
            [
             0.7,
             "#b8e186"
            ],
            [
             0.8,
             "#7fbc41"
            ],
            [
             0.9,
             "#4d9221"
            ],
            [
             1,
             "#276419"
            ]
           ],
           "sequential": [
            [
             0,
             "#0d0887"
            ],
            [
             0.1111111111111111,
             "#46039f"
            ],
            [
             0.2222222222222222,
             "#7201a8"
            ],
            [
             0.3333333333333333,
             "#9c179e"
            ],
            [
             0.4444444444444444,
             "#bd3786"
            ],
            [
             0.5555555555555556,
             "#d8576b"
            ],
            [
             0.6666666666666666,
             "#ed7953"
            ],
            [
             0.7777777777777778,
             "#fb9f3a"
            ],
            [
             0.8888888888888888,
             "#fdca26"
            ],
            [
             1,
             "#f0f921"
            ]
           ],
           "sequentialminus": [
            [
             0,
             "#0d0887"
            ],
            [
             0.1111111111111111,
             "#46039f"
            ],
            [
             0.2222222222222222,
             "#7201a8"
            ],
            [
             0.3333333333333333,
             "#9c179e"
            ],
            [
             0.4444444444444444,
             "#bd3786"
            ],
            [
             0.5555555555555556,
             "#d8576b"
            ],
            [
             0.6666666666666666,
             "#ed7953"
            ],
            [
             0.7777777777777778,
             "#fb9f3a"
            ],
            [
             0.8888888888888888,
             "#fdca26"
            ],
            [
             1,
             "#f0f921"
            ]
           ]
          },
          "colorway": [
           "#636efa",
           "#EF553B",
           "#00cc96",
           "#ab63fa",
           "#FFA15A",
           "#19d3f3",
           "#FF6692",
           "#B6E880",
           "#FF97FF",
           "#FECB52"
          ],
          "font": {
           "color": "#2a3f5f"
          },
          "geo": {
           "bgcolor": "white",
           "lakecolor": "white",
           "landcolor": "#E5ECF6",
           "showlakes": true,
           "showland": true,
           "subunitcolor": "white"
          },
          "hoverlabel": {
           "align": "left"
          },
          "hovermode": "closest",
          "mapbox": {
           "style": "light"
          },
          "paper_bgcolor": "white",
          "plot_bgcolor": "#E5ECF6",
          "polar": {
           "angularaxis": {
            "gridcolor": "white",
            "linecolor": "white",
            "ticks": ""
           },
           "bgcolor": "#E5ECF6",
           "radialaxis": {
            "gridcolor": "white",
            "linecolor": "white",
            "ticks": ""
           }
          },
          "scene": {
           "xaxis": {
            "backgroundcolor": "#E5ECF6",
            "gridcolor": "white",
            "gridwidth": 2,
            "linecolor": "white",
            "showbackground": true,
            "ticks": "",
            "zerolinecolor": "white"
           },
           "yaxis": {
            "backgroundcolor": "#E5ECF6",
            "gridcolor": "white",
            "gridwidth": 2,
            "linecolor": "white",
            "showbackground": true,
            "ticks": "",
            "zerolinecolor": "white"
           },
           "zaxis": {
            "backgroundcolor": "#E5ECF6",
            "gridcolor": "white",
            "gridwidth": 2,
            "linecolor": "white",
            "showbackground": true,
            "ticks": "",
            "zerolinecolor": "white"
           }
          },
          "shapedefaults": {
           "line": {
            "color": "#2a3f5f"
           }
          },
          "ternary": {
           "aaxis": {
            "gridcolor": "white",
            "linecolor": "white",
            "ticks": ""
           },
           "baxis": {
            "gridcolor": "white",
            "linecolor": "white",
            "ticks": ""
           },
           "bgcolor": "#E5ECF6",
           "caxis": {
            "gridcolor": "white",
            "linecolor": "white",
            "ticks": ""
           }
          },
          "title": {
           "x": 0.05
          },
          "xaxis": {
           "automargin": true,
           "gridcolor": "white",
           "linecolor": "white",
           "ticks": "",
           "title": {
            "standoff": 15
           },
           "zerolinecolor": "white",
           "zerolinewidth": 2
          },
          "yaxis": {
           "automargin": true,
           "gridcolor": "white",
           "linecolor": "white",
           "ticks": "",
           "title": {
            "standoff": 15
           },
           "zerolinecolor": "white",
           "zerolinewidth": 2
          }
         }
        },
        "title": {
         "font": {
          "color": "#4D5663"
         }
        },
        "xaxis": {
         "anchor": "y",
         "domain": [
          0,
          0.2125
         ],
         "gridcolor": "#E1E5ED",
         "showgrid": false,
         "tickfont": {
          "color": "#4D5663"
         },
         "title": {
          "font": {
           "color": "#4D5663"
          },
          "text": ""
         },
         "zerolinecolor": "#E1E5ED"
        },
        "xaxis10": {
         "anchor": "y10",
         "domain": [
          0.2625,
          0.475
         ],
         "gridcolor": "#E1E5ED",
         "showgrid": false,
         "tickfont": {
          "color": "#4D5663"
         },
         "title": {
          "font": {
           "color": "#4D5663"
          },
          "text": ""
         },
         "zerolinecolor": "#E1E5ED"
        },
        "xaxis11": {
         "anchor": "y11",
         "domain": [
          0.525,
          0.7375
         ],
         "gridcolor": "#E1E5ED",
         "showgrid": false,
         "tickfont": {
          "color": "#4D5663"
         },
         "title": {
          "font": {
           "color": "#4D5663"
          },
          "text": ""
         },
         "zerolinecolor": "#E1E5ED"
        },
        "xaxis12": {
         "anchor": "y12",
         "domain": [
          0.7875,
          1
         ],
         "gridcolor": "#E1E5ED",
         "showgrid": false,
         "tickfont": {
          "color": "#4D5663"
         },
         "title": {
          "font": {
           "color": "#4D5663"
          },
          "text": ""
         },
         "zerolinecolor": "#E1E5ED"
        },
        "xaxis13": {
         "anchor": "y13",
         "domain": [
          0,
          0.2125
         ],
         "gridcolor": "#E1E5ED",
         "showgrid": false,
         "tickfont": {
          "color": "#4D5663"
         },
         "title": {
          "font": {
           "color": "#4D5663"
          },
          "text": ""
         },
         "zerolinecolor": "#E1E5ED"
        },
        "xaxis14": {
         "anchor": "y14",
         "domain": [
          0.2625,
          0.475
         ],
         "gridcolor": "#E1E5ED",
         "showgrid": false,
         "tickfont": {
          "color": "#4D5663"
         },
         "title": {
          "font": {
           "color": "#4D5663"
          },
          "text": ""
         },
         "zerolinecolor": "#E1E5ED"
        },
        "xaxis15": {
         "anchor": "y15",
         "domain": [
          0.525,
          0.7375
         ],
         "gridcolor": "#E1E5ED",
         "showgrid": false,
         "tickfont": {
          "color": "#4D5663"
         },
         "title": {
          "font": {
           "color": "#4D5663"
          },
          "text": ""
         },
         "zerolinecolor": "#E1E5ED"
        },
        "xaxis16": {
         "anchor": "y16",
         "domain": [
          0.7875,
          1
         ],
         "gridcolor": "#E1E5ED",
         "showgrid": false,
         "tickfont": {
          "color": "#4D5663"
         },
         "title": {
          "font": {
           "color": "#4D5663"
          },
          "text": ""
         },
         "zerolinecolor": "#E1E5ED"
        },
        "xaxis2": {
         "anchor": "y2",
         "domain": [
          0.2625,
          0.475
         ],
         "gridcolor": "#E1E5ED",
         "showgrid": false,
         "tickfont": {
          "color": "#4D5663"
         },
         "title": {
          "font": {
           "color": "#4D5663"
          },
          "text": ""
         },
         "zerolinecolor": "#E1E5ED"
        },
        "xaxis3": {
         "anchor": "y3",
         "domain": [
          0.525,
          0.7375
         ],
         "gridcolor": "#E1E5ED",
         "showgrid": false,
         "tickfont": {
          "color": "#4D5663"
         },
         "title": {
          "font": {
           "color": "#4D5663"
          },
          "text": ""
         },
         "zerolinecolor": "#E1E5ED"
        },
        "xaxis4": {
         "anchor": "y4",
         "domain": [
          0.7875,
          1
         ],
         "gridcolor": "#E1E5ED",
         "showgrid": false,
         "tickfont": {
          "color": "#4D5663"
         },
         "title": {
          "font": {
           "color": "#4D5663"
          },
          "text": ""
         },
         "zerolinecolor": "#E1E5ED"
        },
        "xaxis5": {
         "anchor": "y5",
         "domain": [
          0,
          0.2125
         ],
         "gridcolor": "#E1E5ED",
         "showgrid": false,
         "tickfont": {
          "color": "#4D5663"
         },
         "title": {
          "font": {
           "color": "#4D5663"
          },
          "text": ""
         },
         "zerolinecolor": "#E1E5ED"
        },
        "xaxis6": {
         "anchor": "y6",
         "domain": [
          0.2625,
          0.475
         ],
         "gridcolor": "#E1E5ED",
         "showgrid": false,
         "tickfont": {
          "color": "#4D5663"
         },
         "title": {
          "font": {
           "color": "#4D5663"
          },
          "text": ""
         },
         "zerolinecolor": "#E1E5ED"
        },
        "xaxis7": {
         "anchor": "y7",
         "domain": [
          0.525,
          0.7375
         ],
         "gridcolor": "#E1E5ED",
         "showgrid": false,
         "tickfont": {
          "color": "#4D5663"
         },
         "title": {
          "font": {
           "color": "#4D5663"
          },
          "text": ""
         },
         "zerolinecolor": "#E1E5ED"
        },
        "xaxis8": {
         "anchor": "y8",
         "domain": [
          0.7875,
          1
         ],
         "gridcolor": "#E1E5ED",
         "showgrid": false,
         "tickfont": {
          "color": "#4D5663"
         },
         "title": {
          "font": {
           "color": "#4D5663"
          },
          "text": ""
         },
         "zerolinecolor": "#E1E5ED"
        },
        "xaxis9": {
         "anchor": "y9",
         "domain": [
          0,
          0.2125
         ],
         "gridcolor": "#E1E5ED",
         "showgrid": false,
         "tickfont": {
          "color": "#4D5663"
         },
         "title": {
          "font": {
           "color": "#4D5663"
          },
          "text": ""
         },
         "zerolinecolor": "#E1E5ED"
        },
        "yaxis": {
         "anchor": "x",
         "domain": [
          0.8025,
          1
         ],
         "gridcolor": "#E1E5ED",
         "showgrid": false,
         "tickfont": {
          "color": "#4D5663"
         },
         "title": {
          "font": {
           "color": "#4D5663"
          },
          "text": ""
         },
         "zerolinecolor": "#E1E5ED"
        },
        "yaxis10": {
         "anchor": "x10",
         "domain": [
          0.2675,
          0.465
         ],
         "gridcolor": "#E1E5ED",
         "showgrid": false,
         "tickfont": {
          "color": "#4D5663"
         },
         "title": {
          "font": {
           "color": "#4D5663"
          },
          "text": ""
         },
         "zerolinecolor": "#E1E5ED"
        },
        "yaxis11": {
         "anchor": "x11",
         "domain": [
          0.2675,
          0.465
         ],
         "gridcolor": "#E1E5ED",
         "showgrid": false,
         "tickfont": {
          "color": "#4D5663"
         },
         "title": {
          "font": {
           "color": "#4D5663"
          },
          "text": ""
         },
         "zerolinecolor": "#E1E5ED"
        },
        "yaxis12": {
         "anchor": "x12",
         "domain": [
          0.2675,
          0.465
         ],
         "gridcolor": "#E1E5ED",
         "showgrid": false,
         "tickfont": {
          "color": "#4D5663"
         },
         "title": {
          "font": {
           "color": "#4D5663"
          },
          "text": ""
         },
         "zerolinecolor": "#E1E5ED"
        },
        "yaxis13": {
         "anchor": "x13",
         "domain": [
          0,
          0.1975
         ],
         "gridcolor": "#E1E5ED",
         "showgrid": false,
         "tickfont": {
          "color": "#4D5663"
         },
         "title": {
          "font": {
           "color": "#4D5663"
          },
          "text": ""
         },
         "zerolinecolor": "#E1E5ED"
        },
        "yaxis14": {
         "anchor": "x14",
         "domain": [
          0,
          0.1975
         ],
         "gridcolor": "#E1E5ED",
         "showgrid": false,
         "tickfont": {
          "color": "#4D5663"
         },
         "title": {
          "font": {
           "color": "#4D5663"
          },
          "text": ""
         },
         "zerolinecolor": "#E1E5ED"
        },
        "yaxis15": {
         "anchor": "x15",
         "domain": [
          0,
          0.1975
         ],
         "gridcolor": "#E1E5ED",
         "showgrid": false,
         "tickfont": {
          "color": "#4D5663"
         },
         "title": {
          "font": {
           "color": "#4D5663"
          },
          "text": ""
         },
         "zerolinecolor": "#E1E5ED"
        },
        "yaxis16": {
         "anchor": "x16",
         "domain": [
          0,
          0.1975
         ],
         "gridcolor": "#E1E5ED",
         "showgrid": false,
         "tickfont": {
          "color": "#4D5663"
         },
         "title": {
          "font": {
           "color": "#4D5663"
          },
          "text": ""
         },
         "zerolinecolor": "#E1E5ED"
        },
        "yaxis2": {
         "anchor": "x2",
         "domain": [
          0.8025,
          1
         ],
         "gridcolor": "#E1E5ED",
         "showgrid": false,
         "tickfont": {
          "color": "#4D5663"
         },
         "title": {
          "font": {
           "color": "#4D5663"
          },
          "text": ""
         },
         "zerolinecolor": "#E1E5ED"
        },
        "yaxis3": {
         "anchor": "x3",
         "domain": [
          0.8025,
          1
         ],
         "gridcolor": "#E1E5ED",
         "showgrid": false,
         "tickfont": {
          "color": "#4D5663"
         },
         "title": {
          "font": {
           "color": "#4D5663"
          },
          "text": ""
         },
         "zerolinecolor": "#E1E5ED"
        },
        "yaxis4": {
         "anchor": "x4",
         "domain": [
          0.8025,
          1
         ],
         "gridcolor": "#E1E5ED",
         "showgrid": false,
         "tickfont": {
          "color": "#4D5663"
         },
         "title": {
          "font": {
           "color": "#4D5663"
          },
          "text": ""
         },
         "zerolinecolor": "#E1E5ED"
        },
        "yaxis5": {
         "anchor": "x5",
         "domain": [
          0.535,
          0.7325
         ],
         "gridcolor": "#E1E5ED",
         "showgrid": false,
         "tickfont": {
          "color": "#4D5663"
         },
         "title": {
          "font": {
           "color": "#4D5663"
          },
          "text": ""
         },
         "zerolinecolor": "#E1E5ED"
        },
        "yaxis6": {
         "anchor": "x6",
         "domain": [
          0.535,
          0.7325
         ],
         "gridcolor": "#E1E5ED",
         "showgrid": false,
         "tickfont": {
          "color": "#4D5663"
         },
         "title": {
          "font": {
           "color": "#4D5663"
          },
          "text": ""
         },
         "zerolinecolor": "#E1E5ED"
        },
        "yaxis7": {
         "anchor": "x7",
         "domain": [
          0.535,
          0.7325
         ],
         "gridcolor": "#E1E5ED",
         "showgrid": false,
         "tickfont": {
          "color": "#4D5663"
         },
         "title": {
          "font": {
           "color": "#4D5663"
          },
          "text": ""
         },
         "zerolinecolor": "#E1E5ED"
        },
        "yaxis8": {
         "anchor": "x8",
         "domain": [
          0.535,
          0.7325
         ],
         "gridcolor": "#E1E5ED",
         "showgrid": false,
         "tickfont": {
          "color": "#4D5663"
         },
         "title": {
          "font": {
           "color": "#4D5663"
          },
          "text": ""
         },
         "zerolinecolor": "#E1E5ED"
        },
        "yaxis9": {
         "anchor": "x9",
         "domain": [
          0.2675,
          0.465
         ],
         "gridcolor": "#E1E5ED",
         "showgrid": false,
         "tickfont": {
          "color": "#4D5663"
         },
         "title": {
          "font": {
           "color": "#4D5663"
          },
          "text": ""
         },
         "zerolinecolor": "#E1E5ED"
        }
       }
      },
      "text/html": [
       "<div>                            <div id=\"813a3a3c-2957-456c-b48f-caaf195b53db\" class=\"plotly-graph-div\" style=\"height:525px; width:100%;\"></div>            <script type=\"text/javascript\">                require([\"plotly\"], function(Plotly) {                    window.PLOTLYENV=window.PLOTLYENV || {};\n",
       "                    window.PLOTLYENV.BASE_URL='https://plot.ly';                                    if (document.getElementById(\"813a3a3c-2957-456c-b48f-caaf195b53db\")) {                    Plotly.newPlot(                        \"813a3a3c-2957-456c-b48f-caaf195b53db\",                        [{\"histfunc\":\"count\",\"histnorm\":\"\",\"marker\":{\"color\":\"rgba(255, 153, 51, 1.0)\",\"line\":{\"color\":\"#4D5663\",\"width\":1.3}},\"name\":\"A\",\"nbinsx\":10,\"opacity\":0.8,\"orientation\":\"v\",\"x\":[0.9772529650350968,0.5218543729070486,-1.3425139027153372,-0.05968356667477004,0.24086815280399745,-1.1957452750168351,-0.08736966178246539,0.18009465087374535,0.512243583584234,-0.6371363112717048,1.2443262778106092,0.791202106727671,-1.6256779578875453,-0.7243046739135806,2.0163625014039877,0.9753987594437837,-0.07390514834813688,-0.2024596128214472,0.5923843778745538,0.678796032042731,-0.6363720223064253,0.06496861018889219,-1.2100102604045566,-0.013360272881807508,1.794877271519686,-0.7224598288359991,-0.29906084071357086,-0.8912571088317855,-0.46584313608482464,-0.6882413919972891,0.3079827157745628,-0.8255652302452776,1.9574725990085684,-0.2526877691367265,0.07539985788774975,-0.39069290520673045,0.1052357852615328,0.15958547172864915,0.7624911985102074,0.2044917965927145,1.2364757226460792,0.9844501052457368,0.9795933705716623,0.9656172541445607,0.7984613185429534,-0.31879838713084346,-0.2211780849142802,1.2330415670872872,0.9770354600032393,-0.6415066151771763,0.6134527509100443,0.19729006206632116,0.8874492070213218,0.3337259453809492,-0.5463984445333802,-0.455996414199671,-2.0580361094423023,3.381674053066615,-1.1366621822686953,0.7447885541103118,-0.5705971042451976,0.3343406551250657,-2.2582422766705315,1.447534518129494,-0.16495236544310013,0.8076122116698414,0.2719706049023909,1.9924740417907814,-0.01944140469513046,1.3502425502153055,-0.27636349866641563,-0.49966340781958557,0.10491312172505367,0.6781354154037323,1.3191234412912474,0.1147419140978155,-0.5338285920957705,0.8183177454197698,0.20453625705143474,-0.48516951297920824,-0.30436438553366446,0.23705375221620864,0.26833263142911373,1.271155900698707,1.7491368764367385,-0.37603404281219305,-0.0797561534323506,-1.440578173961911,1.5701202008294266,0.2906986884234425,-0.2304088911901656,0.6432755130200528,-0.7486141025136326,1.1785804083139362,0.446897875290842,-0.3529696223043142,-0.2243348521355656,1.9473415438312296,-0.36828542344963616,-0.16310864128344058],\"xaxis\":\"x\",\"yaxis\":\"y\",\"type\":\"histogram\"},{\"line\":{\"color\":\"rgba(128, 128, 128, 1.0)\",\"dash\":\"solid\",\"shape\":\"linear\",\"width\":1.3},\"marker\":{\"size\":2,\"symbol\":\"circle\"},\"mode\":\"markers\",\"name\":\"A\",\"text\":\"\",\"x\":[1.627388172473467,-0.8055067503825576,-1.8482576626966893,-2.9508607787893504,-0.32335265753489617,0.34396454509112384,0.0748057306504219,-1.8613842333289714,-1.3054652244299114,-1.3950506650475032,-1.1909701866128817,-0.05600815639471173,-0.5220511445209809,1.7492337790952306,-0.30286042790837125,-0.5580053043644606,-0.6197392766868668,1.023399305708221,-0.41677319052226636,2.192760839374185,-1.1161176336915652,-1.354754603690455,-0.18704357075833125,-0.17703127653905834,-0.5993704874414364,-0.6031010592370301,-0.8988267617328992,-0.8729996927258223,0.04349488140203181,1.60947917489961,0.34925259655212826,0.6781613116198999,-0.03427721363269522,0.17477742791449075,-0.2004842888242854,-1.6276521435903657,0.5692665300316379,1.671766451463639,-0.4217916920003711,0.39696041791866643,0.013317925282218058,-0.05556788618969299,0.2866084770378429,-2.1326375060042717,-0.1615151310401847,-2.1594687872988834,0.5562396695236108,-1.8767688706543055,0.06462746376191478,0.7248550736349361,1.0337482553746316,-1.1933360704841973,-2.022229691502361,0.15446421559972934,-0.7865937458726904,1.2071813089588264,0.473669013265368,2.1895861468746367,1.054067862100585,-0.6768707755074235,0.18993852777003314,-1.0913452911843,0.49682186900742054,-0.7161427147264142,0.09276153992295592,-0.25963221710747514,-1.1090280610525889,-0.7998864525525252,-0.8098890761466924,-0.20105621016424333,0.1770344320014994,0.3390029444408896,0.2616794294084994,0.6663677877948193,0.9533830725866774,-1.7362341026178667,0.8675164031016456,-1.5675430085627995,0.37211122103752325,-0.20081859338787414,-0.12706689419031494,-0.888116580743796,0.27249834505445314,0.38168853201009584,-0.2607787387898964,-1.5795945729236718,1.0318911512090052,-1.5119880807061745,1.3931692810587257,1.2485317772084956,0.3060318753194821,0.06058482990039677,2.2533512860350666,1.007225023983177,-1.9024510000280583,-0.5030995515955998,-0.0911785905444012,-0.629844471944149,0.02239790860322817,-0.9432430696669399],\"xaxis\":\"x2\",\"y\":[0.9772529650350968,0.5218543729070486,-1.3425139027153372,-0.05968356667477004,0.24086815280399745,-1.1957452750168351,-0.08736966178246539,0.18009465087374535,0.512243583584234,-0.6371363112717048,1.2443262778106092,0.791202106727671,-1.6256779578875453,-0.7243046739135806,2.0163625014039877,0.9753987594437837,-0.07390514834813688,-0.2024596128214472,0.5923843778745538,0.678796032042731,-0.6363720223064253,0.06496861018889219,-1.2100102604045566,-0.013360272881807508,1.794877271519686,-0.7224598288359991,-0.29906084071357086,-0.8912571088317855,-0.46584313608482464,-0.6882413919972891,0.3079827157745628,-0.8255652302452776,1.9574725990085684,-0.2526877691367265,0.07539985788774975,-0.39069290520673045,0.1052357852615328,0.15958547172864915,0.7624911985102074,0.2044917965927145,1.2364757226460792,0.9844501052457368,0.9795933705716623,0.9656172541445607,0.7984613185429534,-0.31879838713084346,-0.2211780849142802,1.2330415670872872,0.9770354600032393,-0.6415066151771763,0.6134527509100443,0.19729006206632116,0.8874492070213218,0.3337259453809492,-0.5463984445333802,-0.455996414199671,-2.0580361094423023,3.381674053066615,-1.1366621822686953,0.7447885541103118,-0.5705971042451976,0.3343406551250657,-2.2582422766705315,1.447534518129494,-0.16495236544310013,0.8076122116698414,0.2719706049023909,1.9924740417907814,-0.01944140469513046,1.3502425502153055,-0.27636349866641563,-0.49966340781958557,0.10491312172505367,0.6781354154037323,1.3191234412912474,0.1147419140978155,-0.5338285920957705,0.8183177454197698,0.20453625705143474,-0.48516951297920824,-0.30436438553366446,0.23705375221620864,0.26833263142911373,1.271155900698707,1.7491368764367385,-0.37603404281219305,-0.0797561534323506,-1.440578173961911,1.5701202008294266,0.2906986884234425,-0.2304088911901656,0.6432755130200528,-0.7486141025136326,1.1785804083139362,0.446897875290842,-0.3529696223043142,-0.2243348521355656,1.9473415438312296,-0.36828542344963616,-0.16310864128344058],\"yaxis\":\"y2\",\"type\":\"scatter\"},{\"line\":{\"color\":\"rgba(128, 128, 128, 1.0)\",\"dash\":\"solid\",\"shape\":\"linear\",\"width\":1.3},\"marker\":{\"size\":2,\"symbol\":\"circle\"},\"mode\":\"markers\",\"name\":\"A\",\"text\":\"\",\"x\":[-0.19539164526406066,-0.13392272429528673,-0.20697179620540213,1.0219423684662838,-2.419680862732682,0.42340187797427564,0.27543977733548325,0.5322887330986481,-0.3742731008823676,0.806800967593332,0.520507771066039,2.4245243867521675,0.04565115863423383,-0.6667508209050528,-0.8922936027698372,-0.17758480742284974,0.12281757417563029,-0.6848615878580517,-1.258355012448714,-1.344930470338531,0.11939952814482498,-0.44130576430841806,-0.7858569436583683,0.47092497736239164,-0.06693209733790141,-2.2427572199217516,0.6297100420806422,-0.07915278352681059,0.5401522029535316,0.7550946768311247,-0.7615842849558506,0.6434132331202398,-0.960482390504063,0.3141838016130222,0.26300639517836916,0.787102487845185,0.7508523136094482,0.6665136713812614,-1.72039490120812,1.6343322231599189,1.5282890221724952,-0.18136780499686317,0.8433327653313499,-0.0845232303654236,-0.4599277250369489,-1.0329722016607104,0.14121524762472068,-0.833200139919371,-1.8464815420543754,-0.11690944571128538,-0.04081994319852998,1.014790360423072,-1.2596267306024636,-0.801739830430961,-0.0010881173587275106,1.6944043197553824,-0.3154802946913143,0.2640060078470049,0.2938490898494173,-0.4638620868647608,-1.279534349303109,-1.3804875841530997,-1.559979670426831,-0.5696969171920921,-0.8826885874985527,0.2570256589600279,0.38996235422552683,-1.5286554813579205,0.19189436488159947,-0.32248736969409897,-1.014118238998222,-1.9113341500983831,-0.4437006225995927,0.10836449327639262,-0.14734927729922,0.20038220477498528,0.26958280260928935,-0.35284711851174194,-0.1038876238561292,-1.3286737387037622,0.023896319930620694,1.2526337213488998,0.3061060071707258,-1.3855284882906498,1.9707255777902948,0.8585466233942723,1.0709979035477255,-0.19073775807443968,1.932427830975665,0.30651822793031425,1.208864377091442,0.336225761942993,-0.9675375067128238,-0.5205547210823098,0.3259429142118365,0.29868893725399237,0.16867532069482036,1.1338583577333696,-0.33539854397769125,0.4751337886239071],\"xaxis\":\"x3\",\"y\":[0.9772529650350968,0.5218543729070486,-1.3425139027153372,-0.05968356667477004,0.24086815280399745,-1.1957452750168351,-0.08736966178246539,0.18009465087374535,0.512243583584234,-0.6371363112717048,1.2443262778106092,0.791202106727671,-1.6256779578875453,-0.7243046739135806,2.0163625014039877,0.9753987594437837,-0.07390514834813688,-0.2024596128214472,0.5923843778745538,0.678796032042731,-0.6363720223064253,0.06496861018889219,-1.2100102604045566,-0.013360272881807508,1.794877271519686,-0.7224598288359991,-0.29906084071357086,-0.8912571088317855,-0.46584313608482464,-0.6882413919972891,0.3079827157745628,-0.8255652302452776,1.9574725990085684,-0.2526877691367265,0.07539985788774975,-0.39069290520673045,0.1052357852615328,0.15958547172864915,0.7624911985102074,0.2044917965927145,1.2364757226460792,0.9844501052457368,0.9795933705716623,0.9656172541445607,0.7984613185429534,-0.31879838713084346,-0.2211780849142802,1.2330415670872872,0.9770354600032393,-0.6415066151771763,0.6134527509100443,0.19729006206632116,0.8874492070213218,0.3337259453809492,-0.5463984445333802,-0.455996414199671,-2.0580361094423023,3.381674053066615,-1.1366621822686953,0.7447885541103118,-0.5705971042451976,0.3343406551250657,-2.2582422766705315,1.447534518129494,-0.16495236544310013,0.8076122116698414,0.2719706049023909,1.9924740417907814,-0.01944140469513046,1.3502425502153055,-0.27636349866641563,-0.49966340781958557,0.10491312172505367,0.6781354154037323,1.3191234412912474,0.1147419140978155,-0.5338285920957705,0.8183177454197698,0.20453625705143474,-0.48516951297920824,-0.30436438553366446,0.23705375221620864,0.26833263142911373,1.271155900698707,1.7491368764367385,-0.37603404281219305,-0.0797561534323506,-1.440578173961911,1.5701202008294266,0.2906986884234425,-0.2304088911901656,0.6432755130200528,-0.7486141025136326,1.1785804083139362,0.446897875290842,-0.3529696223043142,-0.2243348521355656,1.9473415438312296,-0.36828542344963616,-0.16310864128344058],\"yaxis\":\"y3\",\"type\":\"scatter\"},{\"line\":{\"color\":\"rgba(128, 128, 128, 1.0)\",\"dash\":\"solid\",\"shape\":\"linear\",\"width\":1.3},\"marker\":{\"size\":2,\"symbol\":\"circle\"},\"mode\":\"markers\",\"name\":\"A\",\"text\":\"\",\"x\":[0.6953126025177219,0.2501971988194661,-0.18943585964256668,0.2620842172478777,-0.4416429011686252,-0.008532947894072208,-0.3331736662411075,-1.9244628043133278,0.4896072840955004,-0.45302281370384573,1.2911895760446588,0.3474282995525151,0.36010991189294794,0.9543193286390744,-0.7411571805292035,-1.4747530518581862,0.8286291779589134,1.8778546405408356,-0.8284875482802208,-0.5901008142607173,-0.990849139976589,0.1808103575132078,-1.328178186162896,0.46310454490676883,-0.961420946877116,-1.2911620649096904,1.6749696185097749,0.453933245260872,-1.0172394223171117,0.11602299628297065,1.1715007051391517,0.6527991382834483,0.4808263107261767,0.3301036618468011,-0.6837935464993281,-0.7226223116303302,0.8307976990920981,0.09531075888178817,-0.11073671633289299,-0.24777204660215887,-0.6768409591882902,1.028687964857132,0.07441310411614314,-0.17997391886250652,-0.36987556349704215,-0.39974551000947045,-2.3199737506869433,0.1079814015195673,-0.1915407007576155,0.7424057670662202,0.06271649554043134,0.2426577964862029,-1.0084702401105468,0.052678396436552706,-1.0874314306283388,-0.028154890174068133,0.21198491208658923,1.2236638673550357,1.1393515756660755,-0.0597005283276125,-0.02840902283679621,-0.5935823534890683,-0.9043167670752155,1.150216402953456,2.0294043200340615,-0.32109253853545544,0.8313268419444494,0.1952715931818143,-1.191699297482351,-0.6882193842418627,0.08804106784911958,1.0782344300787003,1.2509536267737478,-1.9855080746462799,-0.0671273700432608,0.9492101957447133,-0.10718563213569898,0.5552212441509886,1.3892086795678142,1.027926649156825,1.7633018540765841,-1.820198636670063,-1.653582584925675,-0.7776106599467563,2.778127355388952,-0.3018506041095579,1.3989560844995972,-0.5512443247038632,0.8572027216525815,-0.23744482693707122,0.180658603785055,-0.6237064194749184,0.03345365598418503,-0.1688411343385012,0.37594418824111686,1.3009120779506753,-0.8267717945732077,1.1486006445829764,-0.15534129819073617,0.021214372703046533],\"xaxis\":\"x4\",\"y\":[0.9772529650350968,0.5218543729070486,-1.3425139027153372,-0.05968356667477004,0.24086815280399745,-1.1957452750168351,-0.08736966178246539,0.18009465087374535,0.512243583584234,-0.6371363112717048,1.2443262778106092,0.791202106727671,-1.6256779578875453,-0.7243046739135806,2.0163625014039877,0.9753987594437837,-0.07390514834813688,-0.2024596128214472,0.5923843778745538,0.678796032042731,-0.6363720223064253,0.06496861018889219,-1.2100102604045566,-0.013360272881807508,1.794877271519686,-0.7224598288359991,-0.29906084071357086,-0.8912571088317855,-0.46584313608482464,-0.6882413919972891,0.3079827157745628,-0.8255652302452776,1.9574725990085684,-0.2526877691367265,0.07539985788774975,-0.39069290520673045,0.1052357852615328,0.15958547172864915,0.7624911985102074,0.2044917965927145,1.2364757226460792,0.9844501052457368,0.9795933705716623,0.9656172541445607,0.7984613185429534,-0.31879838713084346,-0.2211780849142802,1.2330415670872872,0.9770354600032393,-0.6415066151771763,0.6134527509100443,0.19729006206632116,0.8874492070213218,0.3337259453809492,-0.5463984445333802,-0.455996414199671,-2.0580361094423023,3.381674053066615,-1.1366621822686953,0.7447885541103118,-0.5705971042451976,0.3343406551250657,-2.2582422766705315,1.447534518129494,-0.16495236544310013,0.8076122116698414,0.2719706049023909,1.9924740417907814,-0.01944140469513046,1.3502425502153055,-0.27636349866641563,-0.49966340781958557,0.10491312172505367,0.6781354154037323,1.3191234412912474,0.1147419140978155,-0.5338285920957705,0.8183177454197698,0.20453625705143474,-0.48516951297920824,-0.30436438553366446,0.23705375221620864,0.26833263142911373,1.271155900698707,1.7491368764367385,-0.37603404281219305,-0.0797561534323506,-1.440578173961911,1.5701202008294266,0.2906986884234425,-0.2304088911901656,0.6432755130200528,-0.7486141025136326,1.1785804083139362,0.446897875290842,-0.3529696223043142,-0.2243348521355656,1.9473415438312296,-0.36828542344963616,-0.16310864128344058],\"yaxis\":\"y4\",\"type\":\"scatter\"},{\"line\":{\"color\":\"rgba(128, 128, 128, 1.0)\",\"dash\":\"solid\",\"shape\":\"linear\",\"width\":1.3},\"marker\":{\"size\":2,\"symbol\":\"circle\"},\"mode\":\"markers\",\"name\":\"B\",\"text\":\"\",\"x\":[0.9772529650350968,0.5218543729070486,-1.3425139027153372,-0.05968356667477004,0.24086815280399745,-1.1957452750168351,-0.08736966178246539,0.18009465087374535,0.512243583584234,-0.6371363112717048,1.2443262778106092,0.791202106727671,-1.6256779578875453,-0.7243046739135806,2.0163625014039877,0.9753987594437837,-0.07390514834813688,-0.2024596128214472,0.5923843778745538,0.678796032042731,-0.6363720223064253,0.06496861018889219,-1.2100102604045566,-0.013360272881807508,1.794877271519686,-0.7224598288359991,-0.29906084071357086,-0.8912571088317855,-0.46584313608482464,-0.6882413919972891,0.3079827157745628,-0.8255652302452776,1.9574725990085684,-0.2526877691367265,0.07539985788774975,-0.39069290520673045,0.1052357852615328,0.15958547172864915,0.7624911985102074,0.2044917965927145,1.2364757226460792,0.9844501052457368,0.9795933705716623,0.9656172541445607,0.7984613185429534,-0.31879838713084346,-0.2211780849142802,1.2330415670872872,0.9770354600032393,-0.6415066151771763,0.6134527509100443,0.19729006206632116,0.8874492070213218,0.3337259453809492,-0.5463984445333802,-0.455996414199671,-2.0580361094423023,3.381674053066615,-1.1366621822686953,0.7447885541103118,-0.5705971042451976,0.3343406551250657,-2.2582422766705315,1.447534518129494,-0.16495236544310013,0.8076122116698414,0.2719706049023909,1.9924740417907814,-0.01944140469513046,1.3502425502153055,-0.27636349866641563,-0.49966340781958557,0.10491312172505367,0.6781354154037323,1.3191234412912474,0.1147419140978155,-0.5338285920957705,0.8183177454197698,0.20453625705143474,-0.48516951297920824,-0.30436438553366446,0.23705375221620864,0.26833263142911373,1.271155900698707,1.7491368764367385,-0.37603404281219305,-0.0797561534323506,-1.440578173961911,1.5701202008294266,0.2906986884234425,-0.2304088911901656,0.6432755130200528,-0.7486141025136326,1.1785804083139362,0.446897875290842,-0.3529696223043142,-0.2243348521355656,1.9473415438312296,-0.36828542344963616,-0.16310864128344058],\"xaxis\":\"x5\",\"y\":[1.627388172473467,-0.8055067503825576,-1.8482576626966893,-2.9508607787893504,-0.32335265753489617,0.34396454509112384,0.0748057306504219,-1.8613842333289714,-1.3054652244299114,-1.3950506650475032,-1.1909701866128817,-0.05600815639471173,-0.5220511445209809,1.7492337790952306,-0.30286042790837125,-0.5580053043644606,-0.6197392766868668,1.023399305708221,-0.41677319052226636,2.192760839374185,-1.1161176336915652,-1.354754603690455,-0.18704357075833125,-0.17703127653905834,-0.5993704874414364,-0.6031010592370301,-0.8988267617328992,-0.8729996927258223,0.04349488140203181,1.60947917489961,0.34925259655212826,0.6781613116198999,-0.03427721363269522,0.17477742791449075,-0.2004842888242854,-1.6276521435903657,0.5692665300316379,1.671766451463639,-0.4217916920003711,0.39696041791866643,0.013317925282218058,-0.05556788618969299,0.2866084770378429,-2.1326375060042717,-0.1615151310401847,-2.1594687872988834,0.5562396695236108,-1.8767688706543055,0.06462746376191478,0.7248550736349361,1.0337482553746316,-1.1933360704841973,-2.022229691502361,0.15446421559972934,-0.7865937458726904,1.2071813089588264,0.473669013265368,2.1895861468746367,1.054067862100585,-0.6768707755074235,0.18993852777003314,-1.0913452911843,0.49682186900742054,-0.7161427147264142,0.09276153992295592,-0.25963221710747514,-1.1090280610525889,-0.7998864525525252,-0.8098890761466924,-0.20105621016424333,0.1770344320014994,0.3390029444408896,0.2616794294084994,0.6663677877948193,0.9533830725866774,-1.7362341026178667,0.8675164031016456,-1.5675430085627995,0.37211122103752325,-0.20081859338787414,-0.12706689419031494,-0.888116580743796,0.27249834505445314,0.38168853201009584,-0.2607787387898964,-1.5795945729236718,1.0318911512090052,-1.5119880807061745,1.3931692810587257,1.2485317772084956,0.3060318753194821,0.06058482990039677,2.2533512860350666,1.007225023983177,-1.9024510000280583,-0.5030995515955998,-0.0911785905444012,-0.629844471944149,0.02239790860322817,-0.9432430696669399],\"yaxis\":\"y5\",\"type\":\"scatter\"},{\"histfunc\":\"count\",\"histnorm\":\"\",\"marker\":{\"color\":\"rgba(55, 128, 191, 1.0)\",\"line\":{\"color\":\"#4D5663\",\"width\":1.3}},\"name\":\"B\",\"nbinsx\":10,\"opacity\":0.8,\"orientation\":\"v\",\"x\":[1.627388172473467,-0.8055067503825576,-1.8482576626966893,-2.9508607787893504,-0.32335265753489617,0.34396454509112384,0.0748057306504219,-1.8613842333289714,-1.3054652244299114,-1.3950506650475032,-1.1909701866128817,-0.05600815639471173,-0.5220511445209809,1.7492337790952306,-0.30286042790837125,-0.5580053043644606,-0.6197392766868668,1.023399305708221,-0.41677319052226636,2.192760839374185,-1.1161176336915652,-1.354754603690455,-0.18704357075833125,-0.17703127653905834,-0.5993704874414364,-0.6031010592370301,-0.8988267617328992,-0.8729996927258223,0.04349488140203181,1.60947917489961,0.34925259655212826,0.6781613116198999,-0.03427721363269522,0.17477742791449075,-0.2004842888242854,-1.6276521435903657,0.5692665300316379,1.671766451463639,-0.4217916920003711,0.39696041791866643,0.013317925282218058,-0.05556788618969299,0.2866084770378429,-2.1326375060042717,-0.1615151310401847,-2.1594687872988834,0.5562396695236108,-1.8767688706543055,0.06462746376191478,0.7248550736349361,1.0337482553746316,-1.1933360704841973,-2.022229691502361,0.15446421559972934,-0.7865937458726904,1.2071813089588264,0.473669013265368,2.1895861468746367,1.054067862100585,-0.6768707755074235,0.18993852777003314,-1.0913452911843,0.49682186900742054,-0.7161427147264142,0.09276153992295592,-0.25963221710747514,-1.1090280610525889,-0.7998864525525252,-0.8098890761466924,-0.20105621016424333,0.1770344320014994,0.3390029444408896,0.2616794294084994,0.6663677877948193,0.9533830725866774,-1.7362341026178667,0.8675164031016456,-1.5675430085627995,0.37211122103752325,-0.20081859338787414,-0.12706689419031494,-0.888116580743796,0.27249834505445314,0.38168853201009584,-0.2607787387898964,-1.5795945729236718,1.0318911512090052,-1.5119880807061745,1.3931692810587257,1.2485317772084956,0.3060318753194821,0.06058482990039677,2.2533512860350666,1.007225023983177,-1.9024510000280583,-0.5030995515955998,-0.0911785905444012,-0.629844471944149,0.02239790860322817,-0.9432430696669399],\"xaxis\":\"x6\",\"yaxis\":\"y6\",\"type\":\"histogram\"},{\"line\":{\"color\":\"rgba(128, 128, 128, 1.0)\",\"dash\":\"solid\",\"shape\":\"linear\",\"width\":1.3},\"marker\":{\"size\":2,\"symbol\":\"circle\"},\"mode\":\"markers\",\"name\":\"B\",\"text\":\"\",\"x\":[-0.19539164526406066,-0.13392272429528673,-0.20697179620540213,1.0219423684662838,-2.419680862732682,0.42340187797427564,0.27543977733548325,0.5322887330986481,-0.3742731008823676,0.806800967593332,0.520507771066039,2.4245243867521675,0.04565115863423383,-0.6667508209050528,-0.8922936027698372,-0.17758480742284974,0.12281757417563029,-0.6848615878580517,-1.258355012448714,-1.344930470338531,0.11939952814482498,-0.44130576430841806,-0.7858569436583683,0.47092497736239164,-0.06693209733790141,-2.2427572199217516,0.6297100420806422,-0.07915278352681059,0.5401522029535316,0.7550946768311247,-0.7615842849558506,0.6434132331202398,-0.960482390504063,0.3141838016130222,0.26300639517836916,0.787102487845185,0.7508523136094482,0.6665136713812614,-1.72039490120812,1.6343322231599189,1.5282890221724952,-0.18136780499686317,0.8433327653313499,-0.0845232303654236,-0.4599277250369489,-1.0329722016607104,0.14121524762472068,-0.833200139919371,-1.8464815420543754,-0.11690944571128538,-0.04081994319852998,1.014790360423072,-1.2596267306024636,-0.801739830430961,-0.0010881173587275106,1.6944043197553824,-0.3154802946913143,0.2640060078470049,0.2938490898494173,-0.4638620868647608,-1.279534349303109,-1.3804875841530997,-1.559979670426831,-0.5696969171920921,-0.8826885874985527,0.2570256589600279,0.38996235422552683,-1.5286554813579205,0.19189436488159947,-0.32248736969409897,-1.014118238998222,-1.9113341500983831,-0.4437006225995927,0.10836449327639262,-0.14734927729922,0.20038220477498528,0.26958280260928935,-0.35284711851174194,-0.1038876238561292,-1.3286737387037622,0.023896319930620694,1.2526337213488998,0.3061060071707258,-1.3855284882906498,1.9707255777902948,0.8585466233942723,1.0709979035477255,-0.19073775807443968,1.932427830975665,0.30651822793031425,1.208864377091442,0.336225761942993,-0.9675375067128238,-0.5205547210823098,0.3259429142118365,0.29868893725399237,0.16867532069482036,1.1338583577333696,-0.33539854397769125,0.4751337886239071],\"xaxis\":\"x7\",\"y\":[1.627388172473467,-0.8055067503825576,-1.8482576626966893,-2.9508607787893504,-0.32335265753489617,0.34396454509112384,0.0748057306504219,-1.8613842333289714,-1.3054652244299114,-1.3950506650475032,-1.1909701866128817,-0.05600815639471173,-0.5220511445209809,1.7492337790952306,-0.30286042790837125,-0.5580053043644606,-0.6197392766868668,1.023399305708221,-0.41677319052226636,2.192760839374185,-1.1161176336915652,-1.354754603690455,-0.18704357075833125,-0.17703127653905834,-0.5993704874414364,-0.6031010592370301,-0.8988267617328992,-0.8729996927258223,0.04349488140203181,1.60947917489961,0.34925259655212826,0.6781613116198999,-0.03427721363269522,0.17477742791449075,-0.2004842888242854,-1.6276521435903657,0.5692665300316379,1.671766451463639,-0.4217916920003711,0.39696041791866643,0.013317925282218058,-0.05556788618969299,0.2866084770378429,-2.1326375060042717,-0.1615151310401847,-2.1594687872988834,0.5562396695236108,-1.8767688706543055,0.06462746376191478,0.7248550736349361,1.0337482553746316,-1.1933360704841973,-2.022229691502361,0.15446421559972934,-0.7865937458726904,1.2071813089588264,0.473669013265368,2.1895861468746367,1.054067862100585,-0.6768707755074235,0.18993852777003314,-1.0913452911843,0.49682186900742054,-0.7161427147264142,0.09276153992295592,-0.25963221710747514,-1.1090280610525889,-0.7998864525525252,-0.8098890761466924,-0.20105621016424333,0.1770344320014994,0.3390029444408896,0.2616794294084994,0.6663677877948193,0.9533830725866774,-1.7362341026178667,0.8675164031016456,-1.5675430085627995,0.37211122103752325,-0.20081859338787414,-0.12706689419031494,-0.888116580743796,0.27249834505445314,0.38168853201009584,-0.2607787387898964,-1.5795945729236718,1.0318911512090052,-1.5119880807061745,1.3931692810587257,1.2485317772084956,0.3060318753194821,0.06058482990039677,2.2533512860350666,1.007225023983177,-1.9024510000280583,-0.5030995515955998,-0.0911785905444012,-0.629844471944149,0.02239790860322817,-0.9432430696669399],\"yaxis\":\"y7\",\"type\":\"scatter\"},{\"line\":{\"color\":\"rgba(128, 128, 128, 1.0)\",\"dash\":\"solid\",\"shape\":\"linear\",\"width\":1.3},\"marker\":{\"size\":2,\"symbol\":\"circle\"},\"mode\":\"markers\",\"name\":\"B\",\"text\":\"\",\"x\":[0.6953126025177219,0.2501971988194661,-0.18943585964256668,0.2620842172478777,-0.4416429011686252,-0.008532947894072208,-0.3331736662411075,-1.9244628043133278,0.4896072840955004,-0.45302281370384573,1.2911895760446588,0.3474282995525151,0.36010991189294794,0.9543193286390744,-0.7411571805292035,-1.4747530518581862,0.8286291779589134,1.8778546405408356,-0.8284875482802208,-0.5901008142607173,-0.990849139976589,0.1808103575132078,-1.328178186162896,0.46310454490676883,-0.961420946877116,-1.2911620649096904,1.6749696185097749,0.453933245260872,-1.0172394223171117,0.11602299628297065,1.1715007051391517,0.6527991382834483,0.4808263107261767,0.3301036618468011,-0.6837935464993281,-0.7226223116303302,0.8307976990920981,0.09531075888178817,-0.11073671633289299,-0.24777204660215887,-0.6768409591882902,1.028687964857132,0.07441310411614314,-0.17997391886250652,-0.36987556349704215,-0.39974551000947045,-2.3199737506869433,0.1079814015195673,-0.1915407007576155,0.7424057670662202,0.06271649554043134,0.2426577964862029,-1.0084702401105468,0.052678396436552706,-1.0874314306283388,-0.028154890174068133,0.21198491208658923,1.2236638673550357,1.1393515756660755,-0.0597005283276125,-0.02840902283679621,-0.5935823534890683,-0.9043167670752155,1.150216402953456,2.0294043200340615,-0.32109253853545544,0.8313268419444494,0.1952715931818143,-1.191699297482351,-0.6882193842418627,0.08804106784911958,1.0782344300787003,1.2509536267737478,-1.9855080746462799,-0.0671273700432608,0.9492101957447133,-0.10718563213569898,0.5552212441509886,1.3892086795678142,1.027926649156825,1.7633018540765841,-1.820198636670063,-1.653582584925675,-0.7776106599467563,2.778127355388952,-0.3018506041095579,1.3989560844995972,-0.5512443247038632,0.8572027216525815,-0.23744482693707122,0.180658603785055,-0.6237064194749184,0.03345365598418503,-0.1688411343385012,0.37594418824111686,1.3009120779506753,-0.8267717945732077,1.1486006445829764,-0.15534129819073617,0.021214372703046533],\"xaxis\":\"x8\",\"y\":[1.627388172473467,-0.8055067503825576,-1.8482576626966893,-2.9508607787893504,-0.32335265753489617,0.34396454509112384,0.0748057306504219,-1.8613842333289714,-1.3054652244299114,-1.3950506650475032,-1.1909701866128817,-0.05600815639471173,-0.5220511445209809,1.7492337790952306,-0.30286042790837125,-0.5580053043644606,-0.6197392766868668,1.023399305708221,-0.41677319052226636,2.192760839374185,-1.1161176336915652,-1.354754603690455,-0.18704357075833125,-0.17703127653905834,-0.5993704874414364,-0.6031010592370301,-0.8988267617328992,-0.8729996927258223,0.04349488140203181,1.60947917489961,0.34925259655212826,0.6781613116198999,-0.03427721363269522,0.17477742791449075,-0.2004842888242854,-1.6276521435903657,0.5692665300316379,1.671766451463639,-0.4217916920003711,0.39696041791866643,0.013317925282218058,-0.05556788618969299,0.2866084770378429,-2.1326375060042717,-0.1615151310401847,-2.1594687872988834,0.5562396695236108,-1.8767688706543055,0.06462746376191478,0.7248550736349361,1.0337482553746316,-1.1933360704841973,-2.022229691502361,0.15446421559972934,-0.7865937458726904,1.2071813089588264,0.473669013265368,2.1895861468746367,1.054067862100585,-0.6768707755074235,0.18993852777003314,-1.0913452911843,0.49682186900742054,-0.7161427147264142,0.09276153992295592,-0.25963221710747514,-1.1090280610525889,-0.7998864525525252,-0.8098890761466924,-0.20105621016424333,0.1770344320014994,0.3390029444408896,0.2616794294084994,0.6663677877948193,0.9533830725866774,-1.7362341026178667,0.8675164031016456,-1.5675430085627995,0.37211122103752325,-0.20081859338787414,-0.12706689419031494,-0.888116580743796,0.27249834505445314,0.38168853201009584,-0.2607787387898964,-1.5795945729236718,1.0318911512090052,-1.5119880807061745,1.3931692810587257,1.2485317772084956,0.3060318753194821,0.06058482990039677,2.2533512860350666,1.007225023983177,-1.9024510000280583,-0.5030995515955998,-0.0911785905444012,-0.629844471944149,0.02239790860322817,-0.9432430696669399],\"yaxis\":\"y8\",\"type\":\"scatter\"},{\"line\":{\"color\":\"rgba(128, 128, 128, 1.0)\",\"dash\":\"solid\",\"shape\":\"linear\",\"width\":1.3},\"marker\":{\"size\":2,\"symbol\":\"circle\"},\"mode\":\"markers\",\"name\":\"C\",\"text\":\"\",\"x\":[0.9772529650350968,0.5218543729070486,-1.3425139027153372,-0.05968356667477004,0.24086815280399745,-1.1957452750168351,-0.08736966178246539,0.18009465087374535,0.512243583584234,-0.6371363112717048,1.2443262778106092,0.791202106727671,-1.6256779578875453,-0.7243046739135806,2.0163625014039877,0.9753987594437837,-0.07390514834813688,-0.2024596128214472,0.5923843778745538,0.678796032042731,-0.6363720223064253,0.06496861018889219,-1.2100102604045566,-0.013360272881807508,1.794877271519686,-0.7224598288359991,-0.29906084071357086,-0.8912571088317855,-0.46584313608482464,-0.6882413919972891,0.3079827157745628,-0.8255652302452776,1.9574725990085684,-0.2526877691367265,0.07539985788774975,-0.39069290520673045,0.1052357852615328,0.15958547172864915,0.7624911985102074,0.2044917965927145,1.2364757226460792,0.9844501052457368,0.9795933705716623,0.9656172541445607,0.7984613185429534,-0.31879838713084346,-0.2211780849142802,1.2330415670872872,0.9770354600032393,-0.6415066151771763,0.6134527509100443,0.19729006206632116,0.8874492070213218,0.3337259453809492,-0.5463984445333802,-0.455996414199671,-2.0580361094423023,3.381674053066615,-1.1366621822686953,0.7447885541103118,-0.5705971042451976,0.3343406551250657,-2.2582422766705315,1.447534518129494,-0.16495236544310013,0.8076122116698414,0.2719706049023909,1.9924740417907814,-0.01944140469513046,1.3502425502153055,-0.27636349866641563,-0.49966340781958557,0.10491312172505367,0.6781354154037323,1.3191234412912474,0.1147419140978155,-0.5338285920957705,0.8183177454197698,0.20453625705143474,-0.48516951297920824,-0.30436438553366446,0.23705375221620864,0.26833263142911373,1.271155900698707,1.7491368764367385,-0.37603404281219305,-0.0797561534323506,-1.440578173961911,1.5701202008294266,0.2906986884234425,-0.2304088911901656,0.6432755130200528,-0.7486141025136326,1.1785804083139362,0.446897875290842,-0.3529696223043142,-0.2243348521355656,1.9473415438312296,-0.36828542344963616,-0.16310864128344058],\"xaxis\":\"x9\",\"y\":[-0.19539164526406066,-0.13392272429528673,-0.20697179620540213,1.0219423684662838,-2.419680862732682,0.42340187797427564,0.27543977733548325,0.5322887330986481,-0.3742731008823676,0.806800967593332,0.520507771066039,2.4245243867521675,0.04565115863423383,-0.6667508209050528,-0.8922936027698372,-0.17758480742284974,0.12281757417563029,-0.6848615878580517,-1.258355012448714,-1.344930470338531,0.11939952814482498,-0.44130576430841806,-0.7858569436583683,0.47092497736239164,-0.06693209733790141,-2.2427572199217516,0.6297100420806422,-0.07915278352681059,0.5401522029535316,0.7550946768311247,-0.7615842849558506,0.6434132331202398,-0.960482390504063,0.3141838016130222,0.26300639517836916,0.787102487845185,0.7508523136094482,0.6665136713812614,-1.72039490120812,1.6343322231599189,1.5282890221724952,-0.18136780499686317,0.8433327653313499,-0.0845232303654236,-0.4599277250369489,-1.0329722016607104,0.14121524762472068,-0.833200139919371,-1.8464815420543754,-0.11690944571128538,-0.04081994319852998,1.014790360423072,-1.2596267306024636,-0.801739830430961,-0.0010881173587275106,1.6944043197553824,-0.3154802946913143,0.2640060078470049,0.2938490898494173,-0.4638620868647608,-1.279534349303109,-1.3804875841530997,-1.559979670426831,-0.5696969171920921,-0.8826885874985527,0.2570256589600279,0.38996235422552683,-1.5286554813579205,0.19189436488159947,-0.32248736969409897,-1.014118238998222,-1.9113341500983831,-0.4437006225995927,0.10836449327639262,-0.14734927729922,0.20038220477498528,0.26958280260928935,-0.35284711851174194,-0.1038876238561292,-1.3286737387037622,0.023896319930620694,1.2526337213488998,0.3061060071707258,-1.3855284882906498,1.9707255777902948,0.8585466233942723,1.0709979035477255,-0.19073775807443968,1.932427830975665,0.30651822793031425,1.208864377091442,0.336225761942993,-0.9675375067128238,-0.5205547210823098,0.3259429142118365,0.29868893725399237,0.16867532069482036,1.1338583577333696,-0.33539854397769125,0.4751337886239071],\"yaxis\":\"y9\",\"type\":\"scatter\"},{\"line\":{\"color\":\"rgba(128, 128, 128, 1.0)\",\"dash\":\"solid\",\"shape\":\"linear\",\"width\":1.3},\"marker\":{\"size\":2,\"symbol\":\"circle\"},\"mode\":\"markers\",\"name\":\"C\",\"text\":\"\",\"x\":[1.627388172473467,-0.8055067503825576,-1.8482576626966893,-2.9508607787893504,-0.32335265753489617,0.34396454509112384,0.0748057306504219,-1.8613842333289714,-1.3054652244299114,-1.3950506650475032,-1.1909701866128817,-0.05600815639471173,-0.5220511445209809,1.7492337790952306,-0.30286042790837125,-0.5580053043644606,-0.6197392766868668,1.023399305708221,-0.41677319052226636,2.192760839374185,-1.1161176336915652,-1.354754603690455,-0.18704357075833125,-0.17703127653905834,-0.5993704874414364,-0.6031010592370301,-0.8988267617328992,-0.8729996927258223,0.04349488140203181,1.60947917489961,0.34925259655212826,0.6781613116198999,-0.03427721363269522,0.17477742791449075,-0.2004842888242854,-1.6276521435903657,0.5692665300316379,1.671766451463639,-0.4217916920003711,0.39696041791866643,0.013317925282218058,-0.05556788618969299,0.2866084770378429,-2.1326375060042717,-0.1615151310401847,-2.1594687872988834,0.5562396695236108,-1.8767688706543055,0.06462746376191478,0.7248550736349361,1.0337482553746316,-1.1933360704841973,-2.022229691502361,0.15446421559972934,-0.7865937458726904,1.2071813089588264,0.473669013265368,2.1895861468746367,1.054067862100585,-0.6768707755074235,0.18993852777003314,-1.0913452911843,0.49682186900742054,-0.7161427147264142,0.09276153992295592,-0.25963221710747514,-1.1090280610525889,-0.7998864525525252,-0.8098890761466924,-0.20105621016424333,0.1770344320014994,0.3390029444408896,0.2616794294084994,0.6663677877948193,0.9533830725866774,-1.7362341026178667,0.8675164031016456,-1.5675430085627995,0.37211122103752325,-0.20081859338787414,-0.12706689419031494,-0.888116580743796,0.27249834505445314,0.38168853201009584,-0.2607787387898964,-1.5795945729236718,1.0318911512090052,-1.5119880807061745,1.3931692810587257,1.2485317772084956,0.3060318753194821,0.06058482990039677,2.2533512860350666,1.007225023983177,-1.9024510000280583,-0.5030995515955998,-0.0911785905444012,-0.629844471944149,0.02239790860322817,-0.9432430696669399],\"xaxis\":\"x10\",\"y\":[-0.19539164526406066,-0.13392272429528673,-0.20697179620540213,1.0219423684662838,-2.419680862732682,0.42340187797427564,0.27543977733548325,0.5322887330986481,-0.3742731008823676,0.806800967593332,0.520507771066039,2.4245243867521675,0.04565115863423383,-0.6667508209050528,-0.8922936027698372,-0.17758480742284974,0.12281757417563029,-0.6848615878580517,-1.258355012448714,-1.344930470338531,0.11939952814482498,-0.44130576430841806,-0.7858569436583683,0.47092497736239164,-0.06693209733790141,-2.2427572199217516,0.6297100420806422,-0.07915278352681059,0.5401522029535316,0.7550946768311247,-0.7615842849558506,0.6434132331202398,-0.960482390504063,0.3141838016130222,0.26300639517836916,0.787102487845185,0.7508523136094482,0.6665136713812614,-1.72039490120812,1.6343322231599189,1.5282890221724952,-0.18136780499686317,0.8433327653313499,-0.0845232303654236,-0.4599277250369489,-1.0329722016607104,0.14121524762472068,-0.833200139919371,-1.8464815420543754,-0.11690944571128538,-0.04081994319852998,1.014790360423072,-1.2596267306024636,-0.801739830430961,-0.0010881173587275106,1.6944043197553824,-0.3154802946913143,0.2640060078470049,0.2938490898494173,-0.4638620868647608,-1.279534349303109,-1.3804875841530997,-1.559979670426831,-0.5696969171920921,-0.8826885874985527,0.2570256589600279,0.38996235422552683,-1.5286554813579205,0.19189436488159947,-0.32248736969409897,-1.014118238998222,-1.9113341500983831,-0.4437006225995927,0.10836449327639262,-0.14734927729922,0.20038220477498528,0.26958280260928935,-0.35284711851174194,-0.1038876238561292,-1.3286737387037622,0.023896319930620694,1.2526337213488998,0.3061060071707258,-1.3855284882906498,1.9707255777902948,0.8585466233942723,1.0709979035477255,-0.19073775807443968,1.932427830975665,0.30651822793031425,1.208864377091442,0.336225761942993,-0.9675375067128238,-0.5205547210823098,0.3259429142118365,0.29868893725399237,0.16867532069482036,1.1338583577333696,-0.33539854397769125,0.4751337886239071],\"yaxis\":\"y10\",\"type\":\"scatter\"},{\"histfunc\":\"count\",\"histnorm\":\"\",\"marker\":{\"color\":\"rgba(50, 171, 96, 1.0)\",\"line\":{\"color\":\"#4D5663\",\"width\":1.3}},\"name\":\"C\",\"nbinsx\":10,\"opacity\":0.8,\"orientation\":\"v\",\"x\":[-0.19539164526406066,-0.13392272429528673,-0.20697179620540213,1.0219423684662838,-2.419680862732682,0.42340187797427564,0.27543977733548325,0.5322887330986481,-0.3742731008823676,0.806800967593332,0.520507771066039,2.4245243867521675,0.04565115863423383,-0.6667508209050528,-0.8922936027698372,-0.17758480742284974,0.12281757417563029,-0.6848615878580517,-1.258355012448714,-1.344930470338531,0.11939952814482498,-0.44130576430841806,-0.7858569436583683,0.47092497736239164,-0.06693209733790141,-2.2427572199217516,0.6297100420806422,-0.07915278352681059,0.5401522029535316,0.7550946768311247,-0.7615842849558506,0.6434132331202398,-0.960482390504063,0.3141838016130222,0.26300639517836916,0.787102487845185,0.7508523136094482,0.6665136713812614,-1.72039490120812,1.6343322231599189,1.5282890221724952,-0.18136780499686317,0.8433327653313499,-0.0845232303654236,-0.4599277250369489,-1.0329722016607104,0.14121524762472068,-0.833200139919371,-1.8464815420543754,-0.11690944571128538,-0.04081994319852998,1.014790360423072,-1.2596267306024636,-0.801739830430961,-0.0010881173587275106,1.6944043197553824,-0.3154802946913143,0.2640060078470049,0.2938490898494173,-0.4638620868647608,-1.279534349303109,-1.3804875841530997,-1.559979670426831,-0.5696969171920921,-0.8826885874985527,0.2570256589600279,0.38996235422552683,-1.5286554813579205,0.19189436488159947,-0.32248736969409897,-1.014118238998222,-1.9113341500983831,-0.4437006225995927,0.10836449327639262,-0.14734927729922,0.20038220477498528,0.26958280260928935,-0.35284711851174194,-0.1038876238561292,-1.3286737387037622,0.023896319930620694,1.2526337213488998,0.3061060071707258,-1.3855284882906498,1.9707255777902948,0.8585466233942723,1.0709979035477255,-0.19073775807443968,1.932427830975665,0.30651822793031425,1.208864377091442,0.336225761942993,-0.9675375067128238,-0.5205547210823098,0.3259429142118365,0.29868893725399237,0.16867532069482036,1.1338583577333696,-0.33539854397769125,0.4751337886239071],\"xaxis\":\"x11\",\"yaxis\":\"y11\",\"type\":\"histogram\"},{\"line\":{\"color\":\"rgba(128, 128, 128, 1.0)\",\"dash\":\"solid\",\"shape\":\"linear\",\"width\":1.3},\"marker\":{\"size\":2,\"symbol\":\"circle\"},\"mode\":\"markers\",\"name\":\"C\",\"text\":\"\",\"x\":[0.6953126025177219,0.2501971988194661,-0.18943585964256668,0.2620842172478777,-0.4416429011686252,-0.008532947894072208,-0.3331736662411075,-1.9244628043133278,0.4896072840955004,-0.45302281370384573,1.2911895760446588,0.3474282995525151,0.36010991189294794,0.9543193286390744,-0.7411571805292035,-1.4747530518581862,0.8286291779589134,1.8778546405408356,-0.8284875482802208,-0.5901008142607173,-0.990849139976589,0.1808103575132078,-1.328178186162896,0.46310454490676883,-0.961420946877116,-1.2911620649096904,1.6749696185097749,0.453933245260872,-1.0172394223171117,0.11602299628297065,1.1715007051391517,0.6527991382834483,0.4808263107261767,0.3301036618468011,-0.6837935464993281,-0.7226223116303302,0.8307976990920981,0.09531075888178817,-0.11073671633289299,-0.24777204660215887,-0.6768409591882902,1.028687964857132,0.07441310411614314,-0.17997391886250652,-0.36987556349704215,-0.39974551000947045,-2.3199737506869433,0.1079814015195673,-0.1915407007576155,0.7424057670662202,0.06271649554043134,0.2426577964862029,-1.0084702401105468,0.052678396436552706,-1.0874314306283388,-0.028154890174068133,0.21198491208658923,1.2236638673550357,1.1393515756660755,-0.0597005283276125,-0.02840902283679621,-0.5935823534890683,-0.9043167670752155,1.150216402953456,2.0294043200340615,-0.32109253853545544,0.8313268419444494,0.1952715931818143,-1.191699297482351,-0.6882193842418627,0.08804106784911958,1.0782344300787003,1.2509536267737478,-1.9855080746462799,-0.0671273700432608,0.9492101957447133,-0.10718563213569898,0.5552212441509886,1.3892086795678142,1.027926649156825,1.7633018540765841,-1.820198636670063,-1.653582584925675,-0.7776106599467563,2.778127355388952,-0.3018506041095579,1.3989560844995972,-0.5512443247038632,0.8572027216525815,-0.23744482693707122,0.180658603785055,-0.6237064194749184,0.03345365598418503,-0.1688411343385012,0.37594418824111686,1.3009120779506753,-0.8267717945732077,1.1486006445829764,-0.15534129819073617,0.021214372703046533],\"xaxis\":\"x12\",\"y\":[-0.19539164526406066,-0.13392272429528673,-0.20697179620540213,1.0219423684662838,-2.419680862732682,0.42340187797427564,0.27543977733548325,0.5322887330986481,-0.3742731008823676,0.806800967593332,0.520507771066039,2.4245243867521675,0.04565115863423383,-0.6667508209050528,-0.8922936027698372,-0.17758480742284974,0.12281757417563029,-0.6848615878580517,-1.258355012448714,-1.344930470338531,0.11939952814482498,-0.44130576430841806,-0.7858569436583683,0.47092497736239164,-0.06693209733790141,-2.2427572199217516,0.6297100420806422,-0.07915278352681059,0.5401522029535316,0.7550946768311247,-0.7615842849558506,0.6434132331202398,-0.960482390504063,0.3141838016130222,0.26300639517836916,0.787102487845185,0.7508523136094482,0.6665136713812614,-1.72039490120812,1.6343322231599189,1.5282890221724952,-0.18136780499686317,0.8433327653313499,-0.0845232303654236,-0.4599277250369489,-1.0329722016607104,0.14121524762472068,-0.833200139919371,-1.8464815420543754,-0.11690944571128538,-0.04081994319852998,1.014790360423072,-1.2596267306024636,-0.801739830430961,-0.0010881173587275106,1.6944043197553824,-0.3154802946913143,0.2640060078470049,0.2938490898494173,-0.4638620868647608,-1.279534349303109,-1.3804875841530997,-1.559979670426831,-0.5696969171920921,-0.8826885874985527,0.2570256589600279,0.38996235422552683,-1.5286554813579205,0.19189436488159947,-0.32248736969409897,-1.014118238998222,-1.9113341500983831,-0.4437006225995927,0.10836449327639262,-0.14734927729922,0.20038220477498528,0.26958280260928935,-0.35284711851174194,-0.1038876238561292,-1.3286737387037622,0.023896319930620694,1.2526337213488998,0.3061060071707258,-1.3855284882906498,1.9707255777902948,0.8585466233942723,1.0709979035477255,-0.19073775807443968,1.932427830975665,0.30651822793031425,1.208864377091442,0.336225761942993,-0.9675375067128238,-0.5205547210823098,0.3259429142118365,0.29868893725399237,0.16867532069482036,1.1338583577333696,-0.33539854397769125,0.4751337886239071],\"yaxis\":\"y12\",\"type\":\"scatter\"},{\"line\":{\"color\":\"rgba(128, 128, 128, 1.0)\",\"dash\":\"solid\",\"shape\":\"linear\",\"width\":1.3},\"marker\":{\"size\":2,\"symbol\":\"circle\"},\"mode\":\"markers\",\"name\":\"D\",\"text\":\"\",\"x\":[0.9772529650350968,0.5218543729070486,-1.3425139027153372,-0.05968356667477004,0.24086815280399745,-1.1957452750168351,-0.08736966178246539,0.18009465087374535,0.512243583584234,-0.6371363112717048,1.2443262778106092,0.791202106727671,-1.6256779578875453,-0.7243046739135806,2.0163625014039877,0.9753987594437837,-0.07390514834813688,-0.2024596128214472,0.5923843778745538,0.678796032042731,-0.6363720223064253,0.06496861018889219,-1.2100102604045566,-0.013360272881807508,1.794877271519686,-0.7224598288359991,-0.29906084071357086,-0.8912571088317855,-0.46584313608482464,-0.6882413919972891,0.3079827157745628,-0.8255652302452776,1.9574725990085684,-0.2526877691367265,0.07539985788774975,-0.39069290520673045,0.1052357852615328,0.15958547172864915,0.7624911985102074,0.2044917965927145,1.2364757226460792,0.9844501052457368,0.9795933705716623,0.9656172541445607,0.7984613185429534,-0.31879838713084346,-0.2211780849142802,1.2330415670872872,0.9770354600032393,-0.6415066151771763,0.6134527509100443,0.19729006206632116,0.8874492070213218,0.3337259453809492,-0.5463984445333802,-0.455996414199671,-2.0580361094423023,3.381674053066615,-1.1366621822686953,0.7447885541103118,-0.5705971042451976,0.3343406551250657,-2.2582422766705315,1.447534518129494,-0.16495236544310013,0.8076122116698414,0.2719706049023909,1.9924740417907814,-0.01944140469513046,1.3502425502153055,-0.27636349866641563,-0.49966340781958557,0.10491312172505367,0.6781354154037323,1.3191234412912474,0.1147419140978155,-0.5338285920957705,0.8183177454197698,0.20453625705143474,-0.48516951297920824,-0.30436438553366446,0.23705375221620864,0.26833263142911373,1.271155900698707,1.7491368764367385,-0.37603404281219305,-0.0797561534323506,-1.440578173961911,1.5701202008294266,0.2906986884234425,-0.2304088911901656,0.6432755130200528,-0.7486141025136326,1.1785804083139362,0.446897875290842,-0.3529696223043142,-0.2243348521355656,1.9473415438312296,-0.36828542344963616,-0.16310864128344058],\"xaxis\":\"x13\",\"y\":[0.6953126025177219,0.2501971988194661,-0.18943585964256668,0.2620842172478777,-0.4416429011686252,-0.008532947894072208,-0.3331736662411075,-1.9244628043133278,0.4896072840955004,-0.45302281370384573,1.2911895760446588,0.3474282995525151,0.36010991189294794,0.9543193286390744,-0.7411571805292035,-1.4747530518581862,0.8286291779589134,1.8778546405408356,-0.8284875482802208,-0.5901008142607173,-0.990849139976589,0.1808103575132078,-1.328178186162896,0.46310454490676883,-0.961420946877116,-1.2911620649096904,1.6749696185097749,0.453933245260872,-1.0172394223171117,0.11602299628297065,1.1715007051391517,0.6527991382834483,0.4808263107261767,0.3301036618468011,-0.6837935464993281,-0.7226223116303302,0.8307976990920981,0.09531075888178817,-0.11073671633289299,-0.24777204660215887,-0.6768409591882902,1.028687964857132,0.07441310411614314,-0.17997391886250652,-0.36987556349704215,-0.39974551000947045,-2.3199737506869433,0.1079814015195673,-0.1915407007576155,0.7424057670662202,0.06271649554043134,0.2426577964862029,-1.0084702401105468,0.052678396436552706,-1.0874314306283388,-0.028154890174068133,0.21198491208658923,1.2236638673550357,1.1393515756660755,-0.0597005283276125,-0.02840902283679621,-0.5935823534890683,-0.9043167670752155,1.150216402953456,2.0294043200340615,-0.32109253853545544,0.8313268419444494,0.1952715931818143,-1.191699297482351,-0.6882193842418627,0.08804106784911958,1.0782344300787003,1.2509536267737478,-1.9855080746462799,-0.0671273700432608,0.9492101957447133,-0.10718563213569898,0.5552212441509886,1.3892086795678142,1.027926649156825,1.7633018540765841,-1.820198636670063,-1.653582584925675,-0.7776106599467563,2.778127355388952,-0.3018506041095579,1.3989560844995972,-0.5512443247038632,0.8572027216525815,-0.23744482693707122,0.180658603785055,-0.6237064194749184,0.03345365598418503,-0.1688411343385012,0.37594418824111686,1.3009120779506753,-0.8267717945732077,1.1486006445829764,-0.15534129819073617,0.021214372703046533],\"yaxis\":\"y13\",\"type\":\"scatter\"},{\"line\":{\"color\":\"rgba(128, 128, 128, 1.0)\",\"dash\":\"solid\",\"shape\":\"linear\",\"width\":1.3},\"marker\":{\"size\":2,\"symbol\":\"circle\"},\"mode\":\"markers\",\"name\":\"D\",\"text\":\"\",\"x\":[1.627388172473467,-0.8055067503825576,-1.8482576626966893,-2.9508607787893504,-0.32335265753489617,0.34396454509112384,0.0748057306504219,-1.8613842333289714,-1.3054652244299114,-1.3950506650475032,-1.1909701866128817,-0.05600815639471173,-0.5220511445209809,1.7492337790952306,-0.30286042790837125,-0.5580053043644606,-0.6197392766868668,1.023399305708221,-0.41677319052226636,2.192760839374185,-1.1161176336915652,-1.354754603690455,-0.18704357075833125,-0.17703127653905834,-0.5993704874414364,-0.6031010592370301,-0.8988267617328992,-0.8729996927258223,0.04349488140203181,1.60947917489961,0.34925259655212826,0.6781613116198999,-0.03427721363269522,0.17477742791449075,-0.2004842888242854,-1.6276521435903657,0.5692665300316379,1.671766451463639,-0.4217916920003711,0.39696041791866643,0.013317925282218058,-0.05556788618969299,0.2866084770378429,-2.1326375060042717,-0.1615151310401847,-2.1594687872988834,0.5562396695236108,-1.8767688706543055,0.06462746376191478,0.7248550736349361,1.0337482553746316,-1.1933360704841973,-2.022229691502361,0.15446421559972934,-0.7865937458726904,1.2071813089588264,0.473669013265368,2.1895861468746367,1.054067862100585,-0.6768707755074235,0.18993852777003314,-1.0913452911843,0.49682186900742054,-0.7161427147264142,0.09276153992295592,-0.25963221710747514,-1.1090280610525889,-0.7998864525525252,-0.8098890761466924,-0.20105621016424333,0.1770344320014994,0.3390029444408896,0.2616794294084994,0.6663677877948193,0.9533830725866774,-1.7362341026178667,0.8675164031016456,-1.5675430085627995,0.37211122103752325,-0.20081859338787414,-0.12706689419031494,-0.888116580743796,0.27249834505445314,0.38168853201009584,-0.2607787387898964,-1.5795945729236718,1.0318911512090052,-1.5119880807061745,1.3931692810587257,1.2485317772084956,0.3060318753194821,0.06058482990039677,2.2533512860350666,1.007225023983177,-1.9024510000280583,-0.5030995515955998,-0.0911785905444012,-0.629844471944149,0.02239790860322817,-0.9432430696669399],\"xaxis\":\"x14\",\"y\":[0.6953126025177219,0.2501971988194661,-0.18943585964256668,0.2620842172478777,-0.4416429011686252,-0.008532947894072208,-0.3331736662411075,-1.9244628043133278,0.4896072840955004,-0.45302281370384573,1.2911895760446588,0.3474282995525151,0.36010991189294794,0.9543193286390744,-0.7411571805292035,-1.4747530518581862,0.8286291779589134,1.8778546405408356,-0.8284875482802208,-0.5901008142607173,-0.990849139976589,0.1808103575132078,-1.328178186162896,0.46310454490676883,-0.961420946877116,-1.2911620649096904,1.6749696185097749,0.453933245260872,-1.0172394223171117,0.11602299628297065,1.1715007051391517,0.6527991382834483,0.4808263107261767,0.3301036618468011,-0.6837935464993281,-0.7226223116303302,0.8307976990920981,0.09531075888178817,-0.11073671633289299,-0.24777204660215887,-0.6768409591882902,1.028687964857132,0.07441310411614314,-0.17997391886250652,-0.36987556349704215,-0.39974551000947045,-2.3199737506869433,0.1079814015195673,-0.1915407007576155,0.7424057670662202,0.06271649554043134,0.2426577964862029,-1.0084702401105468,0.052678396436552706,-1.0874314306283388,-0.028154890174068133,0.21198491208658923,1.2236638673550357,1.1393515756660755,-0.0597005283276125,-0.02840902283679621,-0.5935823534890683,-0.9043167670752155,1.150216402953456,2.0294043200340615,-0.32109253853545544,0.8313268419444494,0.1952715931818143,-1.191699297482351,-0.6882193842418627,0.08804106784911958,1.0782344300787003,1.2509536267737478,-1.9855080746462799,-0.0671273700432608,0.9492101957447133,-0.10718563213569898,0.5552212441509886,1.3892086795678142,1.027926649156825,1.7633018540765841,-1.820198636670063,-1.653582584925675,-0.7776106599467563,2.778127355388952,-0.3018506041095579,1.3989560844995972,-0.5512443247038632,0.8572027216525815,-0.23744482693707122,0.180658603785055,-0.6237064194749184,0.03345365598418503,-0.1688411343385012,0.37594418824111686,1.3009120779506753,-0.8267717945732077,1.1486006445829764,-0.15534129819073617,0.021214372703046533],\"yaxis\":\"y14\",\"type\":\"scatter\"},{\"line\":{\"color\":\"rgba(128, 128, 128, 1.0)\",\"dash\":\"solid\",\"shape\":\"linear\",\"width\":1.3},\"marker\":{\"size\":2,\"symbol\":\"circle\"},\"mode\":\"markers\",\"name\":\"D\",\"text\":\"\",\"x\":[-0.19539164526406066,-0.13392272429528673,-0.20697179620540213,1.0219423684662838,-2.419680862732682,0.42340187797427564,0.27543977733548325,0.5322887330986481,-0.3742731008823676,0.806800967593332,0.520507771066039,2.4245243867521675,0.04565115863423383,-0.6667508209050528,-0.8922936027698372,-0.17758480742284974,0.12281757417563029,-0.6848615878580517,-1.258355012448714,-1.344930470338531,0.11939952814482498,-0.44130576430841806,-0.7858569436583683,0.47092497736239164,-0.06693209733790141,-2.2427572199217516,0.6297100420806422,-0.07915278352681059,0.5401522029535316,0.7550946768311247,-0.7615842849558506,0.6434132331202398,-0.960482390504063,0.3141838016130222,0.26300639517836916,0.787102487845185,0.7508523136094482,0.6665136713812614,-1.72039490120812,1.6343322231599189,1.5282890221724952,-0.18136780499686317,0.8433327653313499,-0.0845232303654236,-0.4599277250369489,-1.0329722016607104,0.14121524762472068,-0.833200139919371,-1.8464815420543754,-0.11690944571128538,-0.04081994319852998,1.014790360423072,-1.2596267306024636,-0.801739830430961,-0.0010881173587275106,1.6944043197553824,-0.3154802946913143,0.2640060078470049,0.2938490898494173,-0.4638620868647608,-1.279534349303109,-1.3804875841530997,-1.559979670426831,-0.5696969171920921,-0.8826885874985527,0.2570256589600279,0.38996235422552683,-1.5286554813579205,0.19189436488159947,-0.32248736969409897,-1.014118238998222,-1.9113341500983831,-0.4437006225995927,0.10836449327639262,-0.14734927729922,0.20038220477498528,0.26958280260928935,-0.35284711851174194,-0.1038876238561292,-1.3286737387037622,0.023896319930620694,1.2526337213488998,0.3061060071707258,-1.3855284882906498,1.9707255777902948,0.8585466233942723,1.0709979035477255,-0.19073775807443968,1.932427830975665,0.30651822793031425,1.208864377091442,0.336225761942993,-0.9675375067128238,-0.5205547210823098,0.3259429142118365,0.29868893725399237,0.16867532069482036,1.1338583577333696,-0.33539854397769125,0.4751337886239071],\"xaxis\":\"x15\",\"y\":[0.6953126025177219,0.2501971988194661,-0.18943585964256668,0.2620842172478777,-0.4416429011686252,-0.008532947894072208,-0.3331736662411075,-1.9244628043133278,0.4896072840955004,-0.45302281370384573,1.2911895760446588,0.3474282995525151,0.36010991189294794,0.9543193286390744,-0.7411571805292035,-1.4747530518581862,0.8286291779589134,1.8778546405408356,-0.8284875482802208,-0.5901008142607173,-0.990849139976589,0.1808103575132078,-1.328178186162896,0.46310454490676883,-0.961420946877116,-1.2911620649096904,1.6749696185097749,0.453933245260872,-1.0172394223171117,0.11602299628297065,1.1715007051391517,0.6527991382834483,0.4808263107261767,0.3301036618468011,-0.6837935464993281,-0.7226223116303302,0.8307976990920981,0.09531075888178817,-0.11073671633289299,-0.24777204660215887,-0.6768409591882902,1.028687964857132,0.07441310411614314,-0.17997391886250652,-0.36987556349704215,-0.39974551000947045,-2.3199737506869433,0.1079814015195673,-0.1915407007576155,0.7424057670662202,0.06271649554043134,0.2426577964862029,-1.0084702401105468,0.052678396436552706,-1.0874314306283388,-0.028154890174068133,0.21198491208658923,1.2236638673550357,1.1393515756660755,-0.0597005283276125,-0.02840902283679621,-0.5935823534890683,-0.9043167670752155,1.150216402953456,2.0294043200340615,-0.32109253853545544,0.8313268419444494,0.1952715931818143,-1.191699297482351,-0.6882193842418627,0.08804106784911958,1.0782344300787003,1.2509536267737478,-1.9855080746462799,-0.0671273700432608,0.9492101957447133,-0.10718563213569898,0.5552212441509886,1.3892086795678142,1.027926649156825,1.7633018540765841,-1.820198636670063,-1.653582584925675,-0.7776106599467563,2.778127355388952,-0.3018506041095579,1.3989560844995972,-0.5512443247038632,0.8572027216525815,-0.23744482693707122,0.180658603785055,-0.6237064194749184,0.03345365598418503,-0.1688411343385012,0.37594418824111686,1.3009120779506753,-0.8267717945732077,1.1486006445829764,-0.15534129819073617,0.021214372703046533],\"yaxis\":\"y15\",\"type\":\"scatter\"},{\"histfunc\":\"count\",\"histnorm\":\"\",\"marker\":{\"color\":\"rgba(128, 0, 128, 1.0)\",\"line\":{\"color\":\"#4D5663\",\"width\":1.3}},\"name\":\"D\",\"nbinsx\":10,\"opacity\":0.8,\"orientation\":\"v\",\"x\":[0.6953126025177219,0.2501971988194661,-0.18943585964256668,0.2620842172478777,-0.4416429011686252,-0.008532947894072208,-0.3331736662411075,-1.9244628043133278,0.4896072840955004,-0.45302281370384573,1.2911895760446588,0.3474282995525151,0.36010991189294794,0.9543193286390744,-0.7411571805292035,-1.4747530518581862,0.8286291779589134,1.8778546405408356,-0.8284875482802208,-0.5901008142607173,-0.990849139976589,0.1808103575132078,-1.328178186162896,0.46310454490676883,-0.961420946877116,-1.2911620649096904,1.6749696185097749,0.453933245260872,-1.0172394223171117,0.11602299628297065,1.1715007051391517,0.6527991382834483,0.4808263107261767,0.3301036618468011,-0.6837935464993281,-0.7226223116303302,0.8307976990920981,0.09531075888178817,-0.11073671633289299,-0.24777204660215887,-0.6768409591882902,1.028687964857132,0.07441310411614314,-0.17997391886250652,-0.36987556349704215,-0.39974551000947045,-2.3199737506869433,0.1079814015195673,-0.1915407007576155,0.7424057670662202,0.06271649554043134,0.2426577964862029,-1.0084702401105468,0.052678396436552706,-1.0874314306283388,-0.028154890174068133,0.21198491208658923,1.2236638673550357,1.1393515756660755,-0.0597005283276125,-0.02840902283679621,-0.5935823534890683,-0.9043167670752155,1.150216402953456,2.0294043200340615,-0.32109253853545544,0.8313268419444494,0.1952715931818143,-1.191699297482351,-0.6882193842418627,0.08804106784911958,1.0782344300787003,1.2509536267737478,-1.9855080746462799,-0.0671273700432608,0.9492101957447133,-0.10718563213569898,0.5552212441509886,1.3892086795678142,1.027926649156825,1.7633018540765841,-1.820198636670063,-1.653582584925675,-0.7776106599467563,2.778127355388952,-0.3018506041095579,1.3989560844995972,-0.5512443247038632,0.8572027216525815,-0.23744482693707122,0.180658603785055,-0.6237064194749184,0.03345365598418503,-0.1688411343385012,0.37594418824111686,1.3009120779506753,-0.8267717945732077,1.1486006445829764,-0.15534129819073617,0.021214372703046533],\"xaxis\":\"x16\",\"yaxis\":\"y16\",\"type\":\"histogram\"}],                        {\"bargap\":0.02,\"legend\":{\"bgcolor\":\"#F5F6F9\",\"font\":{\"color\":\"#4D5663\"}},\"paper_bgcolor\":\"#F5F6F9\",\"plot_bgcolor\":\"#F5F6F9\",\"showlegend\":false,\"template\":{\"data\":{\"barpolar\":[{\"marker\":{\"line\":{\"color\":\"#E5ECF6\",\"width\":0.5},\"pattern\":{\"fillmode\":\"overlay\",\"size\":10,\"solidity\":0.2}},\"type\":\"barpolar\"}],\"bar\":[{\"error_x\":{\"color\":\"#2a3f5f\"},\"error_y\":{\"color\":\"#2a3f5f\"},\"marker\":{\"line\":{\"color\":\"#E5ECF6\",\"width\":0.5},\"pattern\":{\"fillmode\":\"overlay\",\"size\":10,\"solidity\":0.2}},\"type\":\"bar\"}],\"carpet\":[{\"aaxis\":{\"endlinecolor\":\"#2a3f5f\",\"gridcolor\":\"white\",\"linecolor\":\"white\",\"minorgridcolor\":\"white\",\"startlinecolor\":\"#2a3f5f\"},\"baxis\":{\"endlinecolor\":\"#2a3f5f\",\"gridcolor\":\"white\",\"linecolor\":\"white\",\"minorgridcolor\":\"white\",\"startlinecolor\":\"#2a3f5f\"},\"type\":\"carpet\"}],\"choropleth\":[{\"colorbar\":{\"outlinewidth\":0,\"ticks\":\"\"},\"type\":\"choropleth\"}],\"contourcarpet\":[{\"colorbar\":{\"outlinewidth\":0,\"ticks\":\"\"},\"type\":\"contourcarpet\"}],\"contour\":[{\"colorbar\":{\"outlinewidth\":0,\"ticks\":\"\"},\"colorscale\":[[0.0,\"#0d0887\"],[0.1111111111111111,\"#46039f\"],[0.2222222222222222,\"#7201a8\"],[0.3333333333333333,\"#9c179e\"],[0.4444444444444444,\"#bd3786\"],[0.5555555555555556,\"#d8576b\"],[0.6666666666666666,\"#ed7953\"],[0.7777777777777778,\"#fb9f3a\"],[0.8888888888888888,\"#fdca26\"],[1.0,\"#f0f921\"]],\"type\":\"contour\"}],\"heatmapgl\":[{\"colorbar\":{\"outlinewidth\":0,\"ticks\":\"\"},\"colorscale\":[[0.0,\"#0d0887\"],[0.1111111111111111,\"#46039f\"],[0.2222222222222222,\"#7201a8\"],[0.3333333333333333,\"#9c179e\"],[0.4444444444444444,\"#bd3786\"],[0.5555555555555556,\"#d8576b\"],[0.6666666666666666,\"#ed7953\"],[0.7777777777777778,\"#fb9f3a\"],[0.8888888888888888,\"#fdca26\"],[1.0,\"#f0f921\"]],\"type\":\"heatmapgl\"}],\"heatmap\":[{\"colorbar\":{\"outlinewidth\":0,\"ticks\":\"\"},\"colorscale\":[[0.0,\"#0d0887\"],[0.1111111111111111,\"#46039f\"],[0.2222222222222222,\"#7201a8\"],[0.3333333333333333,\"#9c179e\"],[0.4444444444444444,\"#bd3786\"],[0.5555555555555556,\"#d8576b\"],[0.6666666666666666,\"#ed7953\"],[0.7777777777777778,\"#fb9f3a\"],[0.8888888888888888,\"#fdca26\"],[1.0,\"#f0f921\"]],\"type\":\"heatmap\"}],\"histogram2dcontour\":[{\"colorbar\":{\"outlinewidth\":0,\"ticks\":\"\"},\"colorscale\":[[0.0,\"#0d0887\"],[0.1111111111111111,\"#46039f\"],[0.2222222222222222,\"#7201a8\"],[0.3333333333333333,\"#9c179e\"],[0.4444444444444444,\"#bd3786\"],[0.5555555555555556,\"#d8576b\"],[0.6666666666666666,\"#ed7953\"],[0.7777777777777778,\"#fb9f3a\"],[0.8888888888888888,\"#fdca26\"],[1.0,\"#f0f921\"]],\"type\":\"histogram2dcontour\"}],\"histogram2d\":[{\"colorbar\":{\"outlinewidth\":0,\"ticks\":\"\"},\"colorscale\":[[0.0,\"#0d0887\"],[0.1111111111111111,\"#46039f\"],[0.2222222222222222,\"#7201a8\"],[0.3333333333333333,\"#9c179e\"],[0.4444444444444444,\"#bd3786\"],[0.5555555555555556,\"#d8576b\"],[0.6666666666666666,\"#ed7953\"],[0.7777777777777778,\"#fb9f3a\"],[0.8888888888888888,\"#fdca26\"],[1.0,\"#f0f921\"]],\"type\":\"histogram2d\"}],\"histogram\":[{\"marker\":{\"pattern\":{\"fillmode\":\"overlay\",\"size\":10,\"solidity\":0.2}},\"type\":\"histogram\"}],\"mesh3d\":[{\"colorbar\":{\"outlinewidth\":0,\"ticks\":\"\"},\"type\":\"mesh3d\"}],\"parcoords\":[{\"line\":{\"colorbar\":{\"outlinewidth\":0,\"ticks\":\"\"}},\"type\":\"parcoords\"}],\"pie\":[{\"automargin\":true,\"type\":\"pie\"}],\"scatter3d\":[{\"line\":{\"colorbar\":{\"outlinewidth\":0,\"ticks\":\"\"}},\"marker\":{\"colorbar\":{\"outlinewidth\":0,\"ticks\":\"\"}},\"type\":\"scatter3d\"}],\"scattercarpet\":[{\"marker\":{\"colorbar\":{\"outlinewidth\":0,\"ticks\":\"\"}},\"type\":\"scattercarpet\"}],\"scattergeo\":[{\"marker\":{\"colorbar\":{\"outlinewidth\":0,\"ticks\":\"\"}},\"type\":\"scattergeo\"}],\"scattergl\":[{\"marker\":{\"colorbar\":{\"outlinewidth\":0,\"ticks\":\"\"}},\"type\":\"scattergl\"}],\"scattermapbox\":[{\"marker\":{\"colorbar\":{\"outlinewidth\":0,\"ticks\":\"\"}},\"type\":\"scattermapbox\"}],\"scatterpolargl\":[{\"marker\":{\"colorbar\":{\"outlinewidth\":0,\"ticks\":\"\"}},\"type\":\"scatterpolargl\"}],\"scatterpolar\":[{\"marker\":{\"colorbar\":{\"outlinewidth\":0,\"ticks\":\"\"}},\"type\":\"scatterpolar\"}],\"scatter\":[{\"marker\":{\"colorbar\":{\"outlinewidth\":0,\"ticks\":\"\"}},\"type\":\"scatter\"}],\"scatterternary\":[{\"marker\":{\"colorbar\":{\"outlinewidth\":0,\"ticks\":\"\"}},\"type\":\"scatterternary\"}],\"surface\":[{\"colorbar\":{\"outlinewidth\":0,\"ticks\":\"\"},\"colorscale\":[[0.0,\"#0d0887\"],[0.1111111111111111,\"#46039f\"],[0.2222222222222222,\"#7201a8\"],[0.3333333333333333,\"#9c179e\"],[0.4444444444444444,\"#bd3786\"],[0.5555555555555556,\"#d8576b\"],[0.6666666666666666,\"#ed7953\"],[0.7777777777777778,\"#fb9f3a\"],[0.8888888888888888,\"#fdca26\"],[1.0,\"#f0f921\"]],\"type\":\"surface\"}],\"table\":[{\"cells\":{\"fill\":{\"color\":\"#EBF0F8\"},\"line\":{\"color\":\"white\"}},\"header\":{\"fill\":{\"color\":\"#C8D4E3\"},\"line\":{\"color\":\"white\"}},\"type\":\"table\"}]},\"layout\":{\"annotationdefaults\":{\"arrowcolor\":\"#2a3f5f\",\"arrowhead\":0,\"arrowwidth\":1},\"autotypenumbers\":\"strict\",\"coloraxis\":{\"colorbar\":{\"outlinewidth\":0,\"ticks\":\"\"}},\"colorscale\":{\"diverging\":[[0,\"#8e0152\"],[0.1,\"#c51b7d\"],[0.2,\"#de77ae\"],[0.3,\"#f1b6da\"],[0.4,\"#fde0ef\"],[0.5,\"#f7f7f7\"],[0.6,\"#e6f5d0\"],[0.7,\"#b8e186\"],[0.8,\"#7fbc41\"],[0.9,\"#4d9221\"],[1,\"#276419\"]],\"sequential\":[[0.0,\"#0d0887\"],[0.1111111111111111,\"#46039f\"],[0.2222222222222222,\"#7201a8\"],[0.3333333333333333,\"#9c179e\"],[0.4444444444444444,\"#bd3786\"],[0.5555555555555556,\"#d8576b\"],[0.6666666666666666,\"#ed7953\"],[0.7777777777777778,\"#fb9f3a\"],[0.8888888888888888,\"#fdca26\"],[1.0,\"#f0f921\"]],\"sequentialminus\":[[0.0,\"#0d0887\"],[0.1111111111111111,\"#46039f\"],[0.2222222222222222,\"#7201a8\"],[0.3333333333333333,\"#9c179e\"],[0.4444444444444444,\"#bd3786\"],[0.5555555555555556,\"#d8576b\"],[0.6666666666666666,\"#ed7953\"],[0.7777777777777778,\"#fb9f3a\"],[0.8888888888888888,\"#fdca26\"],[1.0,\"#f0f921\"]]},\"colorway\":[\"#636efa\",\"#EF553B\",\"#00cc96\",\"#ab63fa\",\"#FFA15A\",\"#19d3f3\",\"#FF6692\",\"#B6E880\",\"#FF97FF\",\"#FECB52\"],\"font\":{\"color\":\"#2a3f5f\"},\"geo\":{\"bgcolor\":\"white\",\"lakecolor\":\"white\",\"landcolor\":\"#E5ECF6\",\"showlakes\":true,\"showland\":true,\"subunitcolor\":\"white\"},\"hoverlabel\":{\"align\":\"left\"},\"hovermode\":\"closest\",\"mapbox\":{\"style\":\"light\"},\"paper_bgcolor\":\"white\",\"plot_bgcolor\":\"#E5ECF6\",\"polar\":{\"angularaxis\":{\"gridcolor\":\"white\",\"linecolor\":\"white\",\"ticks\":\"\"},\"bgcolor\":\"#E5ECF6\",\"radialaxis\":{\"gridcolor\":\"white\",\"linecolor\":\"white\",\"ticks\":\"\"}},\"scene\":{\"xaxis\":{\"backgroundcolor\":\"#E5ECF6\",\"gridcolor\":\"white\",\"gridwidth\":2,\"linecolor\":\"white\",\"showbackground\":true,\"ticks\":\"\",\"zerolinecolor\":\"white\"},\"yaxis\":{\"backgroundcolor\":\"#E5ECF6\",\"gridcolor\":\"white\",\"gridwidth\":2,\"linecolor\":\"white\",\"showbackground\":true,\"ticks\":\"\",\"zerolinecolor\":\"white\"},\"zaxis\":{\"backgroundcolor\":\"#E5ECF6\",\"gridcolor\":\"white\",\"gridwidth\":2,\"linecolor\":\"white\",\"showbackground\":true,\"ticks\":\"\",\"zerolinecolor\":\"white\"}},\"shapedefaults\":{\"line\":{\"color\":\"#2a3f5f\"}},\"ternary\":{\"aaxis\":{\"gridcolor\":\"white\",\"linecolor\":\"white\",\"ticks\":\"\"},\"baxis\":{\"gridcolor\":\"white\",\"linecolor\":\"white\",\"ticks\":\"\"},\"bgcolor\":\"#E5ECF6\",\"caxis\":{\"gridcolor\":\"white\",\"linecolor\":\"white\",\"ticks\":\"\"}},\"title\":{\"x\":0.05},\"xaxis\":{\"automargin\":true,\"gridcolor\":\"white\",\"linecolor\":\"white\",\"ticks\":\"\",\"title\":{\"standoff\":15},\"zerolinecolor\":\"white\",\"zerolinewidth\":2},\"yaxis\":{\"automargin\":true,\"gridcolor\":\"white\",\"linecolor\":\"white\",\"ticks\":\"\",\"title\":{\"standoff\":15},\"zerolinecolor\":\"white\",\"zerolinewidth\":2}}},\"title\":{\"font\":{\"color\":\"#4D5663\"}},\"xaxis\":{\"anchor\":\"y\",\"domain\":[0.0,0.2125],\"gridcolor\":\"#E1E5ED\",\"showgrid\":false,\"tickfont\":{\"color\":\"#4D5663\"},\"title\":{\"font\":{\"color\":\"#4D5663\"},\"text\":\"\"},\"zerolinecolor\":\"#E1E5ED\"},\"yaxis\":{\"anchor\":\"x\",\"domain\":[0.8025,1.0],\"gridcolor\":\"#E1E5ED\",\"showgrid\":false,\"tickfont\":{\"color\":\"#4D5663\"},\"title\":{\"font\":{\"color\":\"#4D5663\"},\"text\":\"\"},\"zerolinecolor\":\"#E1E5ED\"},\"xaxis2\":{\"anchor\":\"y2\",\"domain\":[0.2625,0.475],\"gridcolor\":\"#E1E5ED\",\"showgrid\":false,\"tickfont\":{\"color\":\"#4D5663\"},\"title\":{\"font\":{\"color\":\"#4D5663\"},\"text\":\"\"},\"zerolinecolor\":\"#E1E5ED\"},\"yaxis2\":{\"anchor\":\"x2\",\"domain\":[0.8025,1.0],\"gridcolor\":\"#E1E5ED\",\"showgrid\":false,\"tickfont\":{\"color\":\"#4D5663\"},\"title\":{\"font\":{\"color\":\"#4D5663\"},\"text\":\"\"},\"zerolinecolor\":\"#E1E5ED\"},\"xaxis3\":{\"anchor\":\"y3\",\"domain\":[0.525,0.7375],\"gridcolor\":\"#E1E5ED\",\"showgrid\":false,\"tickfont\":{\"color\":\"#4D5663\"},\"title\":{\"font\":{\"color\":\"#4D5663\"},\"text\":\"\"},\"zerolinecolor\":\"#E1E5ED\"},\"yaxis3\":{\"anchor\":\"x3\",\"domain\":[0.8025,1.0],\"gridcolor\":\"#E1E5ED\",\"showgrid\":false,\"tickfont\":{\"color\":\"#4D5663\"},\"title\":{\"font\":{\"color\":\"#4D5663\"},\"text\":\"\"},\"zerolinecolor\":\"#E1E5ED\"},\"xaxis4\":{\"anchor\":\"y4\",\"domain\":[0.7875,1.0],\"gridcolor\":\"#E1E5ED\",\"showgrid\":false,\"tickfont\":{\"color\":\"#4D5663\"},\"title\":{\"font\":{\"color\":\"#4D5663\"},\"text\":\"\"},\"zerolinecolor\":\"#E1E5ED\"},\"yaxis4\":{\"anchor\":\"x4\",\"domain\":[0.8025,1.0],\"gridcolor\":\"#E1E5ED\",\"showgrid\":false,\"tickfont\":{\"color\":\"#4D5663\"},\"title\":{\"font\":{\"color\":\"#4D5663\"},\"text\":\"\"},\"zerolinecolor\":\"#E1E5ED\"},\"xaxis5\":{\"anchor\":\"y5\",\"domain\":[0.0,0.2125],\"gridcolor\":\"#E1E5ED\",\"showgrid\":false,\"tickfont\":{\"color\":\"#4D5663\"},\"title\":{\"font\":{\"color\":\"#4D5663\"},\"text\":\"\"},\"zerolinecolor\":\"#E1E5ED\"},\"yaxis5\":{\"anchor\":\"x5\",\"domain\":[0.535,0.7325],\"gridcolor\":\"#E1E5ED\",\"showgrid\":false,\"tickfont\":{\"color\":\"#4D5663\"},\"title\":{\"font\":{\"color\":\"#4D5663\"},\"text\":\"\"},\"zerolinecolor\":\"#E1E5ED\"},\"xaxis6\":{\"anchor\":\"y6\",\"domain\":[0.2625,0.475],\"gridcolor\":\"#E1E5ED\",\"showgrid\":false,\"tickfont\":{\"color\":\"#4D5663\"},\"title\":{\"font\":{\"color\":\"#4D5663\"},\"text\":\"\"},\"zerolinecolor\":\"#E1E5ED\"},\"yaxis6\":{\"anchor\":\"x6\",\"domain\":[0.535,0.7325],\"gridcolor\":\"#E1E5ED\",\"showgrid\":false,\"tickfont\":{\"color\":\"#4D5663\"},\"title\":{\"font\":{\"color\":\"#4D5663\"},\"text\":\"\"},\"zerolinecolor\":\"#E1E5ED\"},\"xaxis7\":{\"anchor\":\"y7\",\"domain\":[0.525,0.7375],\"gridcolor\":\"#E1E5ED\",\"showgrid\":false,\"tickfont\":{\"color\":\"#4D5663\"},\"title\":{\"font\":{\"color\":\"#4D5663\"},\"text\":\"\"},\"zerolinecolor\":\"#E1E5ED\"},\"yaxis7\":{\"anchor\":\"x7\",\"domain\":[0.535,0.7325],\"gridcolor\":\"#E1E5ED\",\"showgrid\":false,\"tickfont\":{\"color\":\"#4D5663\"},\"title\":{\"font\":{\"color\":\"#4D5663\"},\"text\":\"\"},\"zerolinecolor\":\"#E1E5ED\"},\"xaxis8\":{\"anchor\":\"y8\",\"domain\":[0.7875,1.0],\"gridcolor\":\"#E1E5ED\",\"showgrid\":false,\"tickfont\":{\"color\":\"#4D5663\"},\"title\":{\"font\":{\"color\":\"#4D5663\"},\"text\":\"\"},\"zerolinecolor\":\"#E1E5ED\"},\"yaxis8\":{\"anchor\":\"x8\",\"domain\":[0.535,0.7325],\"gridcolor\":\"#E1E5ED\",\"showgrid\":false,\"tickfont\":{\"color\":\"#4D5663\"},\"title\":{\"font\":{\"color\":\"#4D5663\"},\"text\":\"\"},\"zerolinecolor\":\"#E1E5ED\"},\"xaxis9\":{\"anchor\":\"y9\",\"domain\":[0.0,0.2125],\"gridcolor\":\"#E1E5ED\",\"showgrid\":false,\"tickfont\":{\"color\":\"#4D5663\"},\"title\":{\"font\":{\"color\":\"#4D5663\"},\"text\":\"\"},\"zerolinecolor\":\"#E1E5ED\"},\"yaxis9\":{\"anchor\":\"x9\",\"domain\":[0.2675,0.465],\"gridcolor\":\"#E1E5ED\",\"showgrid\":false,\"tickfont\":{\"color\":\"#4D5663\"},\"title\":{\"font\":{\"color\":\"#4D5663\"},\"text\":\"\"},\"zerolinecolor\":\"#E1E5ED\"},\"xaxis10\":{\"anchor\":\"y10\",\"domain\":[0.2625,0.475],\"gridcolor\":\"#E1E5ED\",\"showgrid\":false,\"tickfont\":{\"color\":\"#4D5663\"},\"title\":{\"font\":{\"color\":\"#4D5663\"},\"text\":\"\"},\"zerolinecolor\":\"#E1E5ED\"},\"yaxis10\":{\"anchor\":\"x10\",\"domain\":[0.2675,0.465],\"gridcolor\":\"#E1E5ED\",\"showgrid\":false,\"tickfont\":{\"color\":\"#4D5663\"},\"title\":{\"font\":{\"color\":\"#4D5663\"},\"text\":\"\"},\"zerolinecolor\":\"#E1E5ED\"},\"xaxis11\":{\"anchor\":\"y11\",\"domain\":[0.525,0.7375],\"gridcolor\":\"#E1E5ED\",\"showgrid\":false,\"tickfont\":{\"color\":\"#4D5663\"},\"title\":{\"font\":{\"color\":\"#4D5663\"},\"text\":\"\"},\"zerolinecolor\":\"#E1E5ED\"},\"yaxis11\":{\"anchor\":\"x11\",\"domain\":[0.2675,0.465],\"gridcolor\":\"#E1E5ED\",\"showgrid\":false,\"tickfont\":{\"color\":\"#4D5663\"},\"title\":{\"font\":{\"color\":\"#4D5663\"},\"text\":\"\"},\"zerolinecolor\":\"#E1E5ED\"},\"xaxis12\":{\"anchor\":\"y12\",\"domain\":[0.7875,1.0],\"gridcolor\":\"#E1E5ED\",\"showgrid\":false,\"tickfont\":{\"color\":\"#4D5663\"},\"title\":{\"font\":{\"color\":\"#4D5663\"},\"text\":\"\"},\"zerolinecolor\":\"#E1E5ED\"},\"yaxis12\":{\"anchor\":\"x12\",\"domain\":[0.2675,0.465],\"gridcolor\":\"#E1E5ED\",\"showgrid\":false,\"tickfont\":{\"color\":\"#4D5663\"},\"title\":{\"font\":{\"color\":\"#4D5663\"},\"text\":\"\"},\"zerolinecolor\":\"#E1E5ED\"},\"xaxis13\":{\"anchor\":\"y13\",\"domain\":[0.0,0.2125],\"gridcolor\":\"#E1E5ED\",\"showgrid\":false,\"tickfont\":{\"color\":\"#4D5663\"},\"title\":{\"font\":{\"color\":\"#4D5663\"},\"text\":\"\"},\"zerolinecolor\":\"#E1E5ED\"},\"yaxis13\":{\"anchor\":\"x13\",\"domain\":[0.0,0.1975],\"gridcolor\":\"#E1E5ED\",\"showgrid\":false,\"tickfont\":{\"color\":\"#4D5663\"},\"title\":{\"font\":{\"color\":\"#4D5663\"},\"text\":\"\"},\"zerolinecolor\":\"#E1E5ED\"},\"xaxis14\":{\"anchor\":\"y14\",\"domain\":[0.2625,0.475],\"gridcolor\":\"#E1E5ED\",\"showgrid\":false,\"tickfont\":{\"color\":\"#4D5663\"},\"title\":{\"font\":{\"color\":\"#4D5663\"},\"text\":\"\"},\"zerolinecolor\":\"#E1E5ED\"},\"yaxis14\":{\"anchor\":\"x14\",\"domain\":[0.0,0.1975],\"gridcolor\":\"#E1E5ED\",\"showgrid\":false,\"tickfont\":{\"color\":\"#4D5663\"},\"title\":{\"font\":{\"color\":\"#4D5663\"},\"text\":\"\"},\"zerolinecolor\":\"#E1E5ED\"},\"xaxis15\":{\"anchor\":\"y15\",\"domain\":[0.525,0.7375],\"gridcolor\":\"#E1E5ED\",\"showgrid\":false,\"tickfont\":{\"color\":\"#4D5663\"},\"title\":{\"font\":{\"color\":\"#4D5663\"},\"text\":\"\"},\"zerolinecolor\":\"#E1E5ED\"},\"yaxis15\":{\"anchor\":\"x15\",\"domain\":[0.0,0.1975],\"gridcolor\":\"#E1E5ED\",\"showgrid\":false,\"tickfont\":{\"color\":\"#4D5663\"},\"title\":{\"font\":{\"color\":\"#4D5663\"},\"text\":\"\"},\"zerolinecolor\":\"#E1E5ED\"},\"xaxis16\":{\"anchor\":\"y16\",\"domain\":[0.7875,1.0],\"gridcolor\":\"#E1E5ED\",\"showgrid\":false,\"tickfont\":{\"color\":\"#4D5663\"},\"title\":{\"font\":{\"color\":\"#4D5663\"},\"text\":\"\"},\"zerolinecolor\":\"#E1E5ED\"},\"yaxis16\":{\"anchor\":\"x16\",\"domain\":[0.0,0.1975],\"gridcolor\":\"#E1E5ED\",\"showgrid\":false,\"tickfont\":{\"color\":\"#4D5663\"},\"title\":{\"font\":{\"color\":\"#4D5663\"},\"text\":\"\"},\"zerolinecolor\":\"#E1E5ED\"}},                        {\"showLink\": true, \"linkText\": \"Export to plot.ly\", \"plotlyServerURL\": \"https://plot.ly\", \"responsive\": true}                    ).then(function(){\n",
       "                            \n",
       "var gd = document.getElementById('813a3a3c-2957-456c-b48f-caaf195b53db');\n",
       "var x = new MutationObserver(function (mutations, observer) {{\n",
       "        var display = window.getComputedStyle(gd).display;\n",
       "        if (!display || display === 'none') {{\n",
       "            console.log([gd, 'removed!']);\n",
       "            Plotly.purge(gd);\n",
       "            observer.disconnect();\n",
       "        }}\n",
       "}});\n",
       "\n",
       "// Listen for the removal of the full notebook cells\n",
       "var notebookContainer = gd.closest('#notebook-container');\n",
       "if (notebookContainer) {{\n",
       "    x.observe(notebookContainer, {childList: true});\n",
       "}}\n",
       "\n",
       "// Listen for the clearing of the current output cell\n",
       "var outputEl = gd.closest('.output');\n",
       "if (outputEl) {{\n",
       "    x.observe(outputEl, {childList: true});\n",
       "}}\n",
       "\n",
       "                        })                };                });            </script>        </div>"
      ]
     },
     "metadata": {},
     "output_type": "display_data"
    }
   ],
   "source": [
    "df.scatter_matrix()"
   ]
  },
  {
   "cell_type": "markdown",
   "metadata": {
    "collapsed": true
   },
   "source": [
    "# Great Job!"
   ]
  }
 ],
 "metadata": {
  "kernelspec": {
   "display_name": "Python 3 (ipykernel)",
   "language": "python",
   "name": "python3"
  },
  "language_info": {
   "codemirror_mode": {
    "name": "ipython",
    "version": 3
   },
   "file_extension": ".py",
   "mimetype": "text/x-python",
   "name": "python",
   "nbconvert_exporter": "python",
   "pygments_lexer": "ipython3",
   "version": "3.9.6"
  }
 },
 "nbformat": 4,
 "nbformat_minor": 1
}
